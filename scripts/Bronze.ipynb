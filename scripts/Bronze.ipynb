{
 "cells": [
  {
   "cell_type": "markdown",
   "metadata": {
    "application/vnd.databricks.v1+cell": {
     "cellMetadata": {
      "byteLimit": 2048000,
      "rowLimit": 10000
     },
     "inputWidgets": {},
     "nuid": "1e233d75-fd2d-442a-a085-bb59f3edf995",
     "showTitle": false,
     "tableResultSettingsMap": {},
     "title": ""
    }
   },
   "source": [
    "### Definindo uma função para montar um ADLS com um ponto de montagem com ADLS SAS "
   ]
  },
  {
   "cell_type": "code",
   "execution_count": 0,
   "metadata": {
    "application/vnd.databricks.v1+cell": {
     "cellMetadata": {
      "byteLimit": 2048000,
      "rowLimit": 10000
     },
     "inputWidgets": {},
     "nuid": "058a3cc4-370c-4abf-8c60-39a7f3f302d1",
     "showTitle": false,
     "tableResultSettingsMap": {},
     "title": ""
    }
   },
   "outputs": [],
   "source": [
    "storageAccountName = \"datalake743814d9ce773418\"\n",
    "storageAccountAccessKey = \"\"\n",
    "sasToken = \"sv=2024-11-04&ss=bfqt&srt=sco&sp=rwdlacupyx&se=2025-06-27T02:09:12Z&st=2025-06-26T18:09:12Z&spr=https&sig=AopSgEzFJfMimUGeAgFFgqz7tLnHXWJhw37%2Bx2XRMY4%3D\"\n",
    "\n",
    "def mount_adls(blobContainerName):\n",
    "    try:\n",
    "      dbutils.fs.mount(\n",
    "        source = \"wasbs://{}@{}.blob.core.windows.net\".format(blobContainerName, storageAccountName),\n",
    "        mount_point = f\"/mnt/{storageAccountName}/{blobContainerName}\",\n",
    "        #extra_configs = {'fs.azure.account.key.' + storageAccountName + '.blob.core.windows.net': storageAccountAccessKey}\n",
    "        extra_configs = {'fs.azure.sas.' + blobContainerName + '.' + storageAccountName + '.blob.core.windows.net': sasToken}\n",
    "      )\n",
    "      print(\"OK!\")\n",
    "    except Exception as e:\n",
    "      print(\"Falha\", e)"
   ]
  },
  {
   "cell_type": "markdown",
   "metadata": {
    "application/vnd.databricks.v1+cell": {
     "cellMetadata": {
      "byteLimit": 2048000,
      "rowLimit": 10000
     },
     "inputWidgets": {},
     "nuid": "40a6dfa7-fb55-46c5-a3a8-44e9bee8f390",
     "showTitle": false,
     "tableResultSettingsMap": {},
     "title": ""
    }
   },
   "source": [
    "###Montando todos os containers"
   ]
  },
  {
   "cell_type": "code",
   "execution_count": 0,
   "metadata": {
    "application/vnd.databricks.v1+cell": {
     "cellMetadata": {
      "byteLimit": 2048000,
      "rowLimit": 10000
     },
     "inputWidgets": {},
     "nuid": "8d62fdfc-2dc8-4465-98fd-834ac8ae9404",
     "showTitle": false,
     "tableResultSettingsMap": {},
     "title": ""
    }
   },
   "outputs": [
    {
     "output_type": "stream",
     "name": "stdout",
     "output_type": "stream",
     "text": [
      "OK!\nOK!\nOK!\nOK!\n"
     ]
    }
   ],
   "source": [
    "''' if (len(dbutils.fs.mounts()) >= 1):\n",
    "    dbutils.fs.unmount(f'/mnt/{storageAccountName}/lading-zone')\n",
    "    dbutils.fs.unmount(f'/mnt/{storageAccountName}/bronze')\n",
    "    dbutils.fs.unmount(f'/mnt/{storageAccountName}/silver')\n",
    "    dbutils.fs.unmount(f'/mnt/{storageAccountName}/gold') '''\n",
    "\n",
    "mount_adls('landing-zone')\n",
    "mount_adls('bronze')\n",
    "mount_adls('silver')\n",
    "mount_adls('gold')"
   ]
  },
  {
   "cell_type": "markdown",
   "metadata": {
    "application/vnd.databricks.v1+cell": {
     "cellMetadata": {
      "byteLimit": 2048000,
      "rowLimit": 10000
     },
     "inputWidgets": {},
     "nuid": "fced822b-8bab-437b-8a58-add8a4acd24a",
     "showTitle": false,
     "tableResultSettingsMap": {},
     "title": ""
    }
   },
   "source": [
    "###Mostrando os pontos de montagem no cluster Databricks"
   ]
  },
  {
   "cell_type": "code",
   "execution_count": 0,
   "metadata": {
    "application/vnd.databricks.v1+cell": {
     "cellMetadata": {
      "byteLimit": 2048000,
      "rowLimit": 10000
     },
     "inputWidgets": {},
     "nuid": "d53984ff-8536-4a33-9e43-acfe34489ab1",
     "showTitle": false,
     "tableResultSettingsMap": {},
     "title": ""
    }
   },
   "outputs": [
    {
     "output_type": "display_data",
     "data": {
      "text/html": [
       "<style scoped>\n",
       "  .table-result-container {\n",
       "    max-height: 300px;\n",
       "    overflow: auto;\n",
       "  }\n",
       "  table, th, td {\n",
       "    border: 1px solid black;\n",
       "    border-collapse: collapse;\n",
       "  }\n",
       "  th, td {\n",
       "    padding: 5px;\n",
       "  }\n",
       "  th {\n",
       "    text-align: left;\n",
       "  }\n",
       "</style><div class='table-result-container'><table class='table-result'><thead style='background-color: white'><tr><th>mountPoint</th><th>source</th><th>encryptionType</th></tr></thead><tbody><tr><td>/mnt/datalake5ee525b259fdd7be/silver</td><td>wasbs://silver@datalake5ee525b259fdd7be.blob.core.windows.net</td><td></td></tr><tr><td>/databricks-datasets</td><td>databricks-datasets</td><td></td></tr><tr><td>/mnt/datalake56cea6a3510650a6/landing-zone</td><td>wasbs://landing-zone@datalake56cea6a3510650a6.blob.core.windows.net</td><td></td></tr><tr><td>/mnt/datalakebae112c35115d7e3/bronze</td><td>wasbs://bronze@datalakebae112c35115d7e3.blob.core.windows.net</td><td></td></tr><tr><td>/mnt/datalake56cea6a3510650a6/gold</td><td>wasbs://gold@datalake56cea6a3510650a6.blob.core.windows.net</td><td></td></tr><tr><td>/mnt/datalake2cf75e6bc0f14f1d/bronze</td><td>wasbs://bronze@datalake2cf75e6bc0f14f1d.blob.core.windows.net</td><td></td></tr><tr><td>/mnt/datalake9fc5ac43334b8d99/landing-zone</td><td>wasbs://landing-zone@datalake9fc5ac43334b8d99.blob.core.windows.net</td><td></td></tr><tr><td>/mnt/datalakecd63092f4c645dfd/lading-zone</td><td>wasbs://lading-zone@datalakecd63092f4c645dfd.blob.core.windows.net</td><td></td></tr><tr><td>/mnt/datalakebbac82fa728b1078/landing-zone</td><td>wasbs://landing-zone@datalakebbac82fa728b1078.blob.core.windows.net</td><td></td></tr><tr><td>/mnt/datalakea554ff8ebf909b7f/silver</td><td>wasbs://silver@datalakea554ff8ebf909b7f.blob.core.windows.net</td><td></td></tr><tr><td>/mnt/datalake5ee525b259fdd7be/gold</td><td>wasbs://gold@datalake5ee525b259fdd7be.blob.core.windows.net</td><td></td></tr><tr><td>/mnt/datalake56cea6a3510650a6/lading-zone</td><td>wasbs://lading-zone@datalake56cea6a3510650a6.blob.core.windows.net</td><td></td></tr><tr><td>/databricks/mlflow-tracking</td><td>databricks/mlflow-tracking</td><td>sse-s3</td></tr><tr><td>/mnt/datalake5ee525b259fdd7be/landing-zone</td><td>wasbs://landing-zone@datalake5ee525b259fdd7be.blob.core.windows.net</td><td></td></tr><tr><td>/databricks-results</td><td>databricks-results</td><td>sse-s3</td></tr><tr><td>/mnt/datalakebae112c35115d7e3/landing-zone</td><td>wasbs://landing-zone@datalakebae112c35115d7e3.blob.core.windows.net</td><td></td></tr><tr><td>/mnt/datalakebae112c35115d7e3/lading-zone</td><td>wasbs://lading-zone@datalakebae112c35115d7e3.blob.core.windows.net</td><td></td></tr><tr><td>/mnt/datalakebae112c35115d7e3/silver</td><td>wasbs://silver@datalakebae112c35115d7e3.blob.core.windows.net</td><td></td></tr><tr><td>/mnt/datalakebbac82fa728b1078/silver</td><td>wasbs://silver@datalakebbac82fa728b1078.blob.core.windows.net</td><td></td></tr><tr><td>/mnt/datalake7bda6b3f393108d9/gold</td><td>wasbs://gold@datalake7bda6b3f393108d9.blob.core.windows.net</td><td></td></tr><tr><td>/mnt/datalakecd63092f4c645dfd/silver</td><td>wasbs://silver@datalakecd63092f4c645dfd.blob.core.windows.net</td><td></td></tr><tr><td>/databricks/mlflow-registry</td><td>databricks/mlflow-registry</td><td>sse-s3</td></tr><tr><td>/mnt/datalake9fc5ac43334b8d99/bronze</td><td>wasbs://bronze@datalake9fc5ac43334b8d99.blob.core.windows.net</td><td></td></tr><tr><td>/mnt/datalake4f4de806e56e47cc/lading-zone</td><td>wasbs://lading-zone@datalake4f4de806e56e47cc.blob.core.windows.net</td><td></td></tr><tr><td>/mnt/datalake4f4de806e56e47cc/landing-zone</td><td>wasbs://landing-zone@datalake4f4de806e56e47cc.blob.core.windows.net</td><td></td></tr><tr><td>/mnt/datalakecd63092f4c645dfd/landing-zone</td><td>wasbs://landing-zone@datalakecd63092f4c645dfd.blob.core.windows.net</td><td></td></tr><tr><td>/mnt/datalake2cf75e6bc0f14f1d/silver</td><td>wasbs://silver@datalake2cf75e6bc0f14f1d.blob.core.windows.net</td><td></td></tr><tr><td>/mnt/datalake7bda6b3f393108d9/silver</td><td>wasbs://silver@datalake7bda6b3f393108d9.blob.core.windows.net</td><td></td></tr><tr><td>/mnt/datalake4f4de806e56e47cc/silver</td><td>wasbs://silver@datalake4f4de806e56e47cc.blob.core.windows.net</td><td></td></tr><tr><td>/mnt/datalakea554ff8ebf909b7f/bronze</td><td>wasbs://bronze@datalakea554ff8ebf909b7f.blob.core.windows.net</td><td></td></tr><tr><td>/mnt/datalake4f4de806e56e47cc/gold</td><td>wasbs://gold@datalake4f4de806e56e47cc.blob.core.windows.net</td><td></td></tr><tr><td>/mnt/datalake2cf75e6bc0f14f1d/landing-zone</td><td>wasbs://landing-zone@datalake2cf75e6bc0f14f1d.blob.core.windows.net</td><td></td></tr><tr><td>/mnt/datalakecd63092f4c645dfd/gold</td><td>wasbs://gold@datalakecd63092f4c645dfd.blob.core.windows.net</td><td></td></tr><tr><td>/mnt/datalake743814d9ce773418/landing-zone</td><td>wasbs://landing-zone@datalake743814d9ce773418.blob.core.windows.net</td><td></td></tr><tr><td>/mnt/datalake743814d9ce773418/gold</td><td>wasbs://gold@datalake743814d9ce773418.blob.core.windows.net</td><td></td></tr><tr><td>/mnt/datalakebbac82fa728b1078/gold</td><td>wasbs://gold@datalakebbac82fa728b1078.blob.core.windows.net</td><td></td></tr><tr><td>/mnt/datalakea554ff8ebf909b7f/landing-zone</td><td>wasbs://landing-zone@datalakea554ff8ebf909b7f.blob.core.windows.net</td><td></td></tr><tr><td>/mnt/datalakea554ff8ebf909b7f/gold</td><td>wasbs://gold@datalakea554ff8ebf909b7f.blob.core.windows.net</td><td></td></tr><tr><td>/mnt/datalake56cea6a3510650a6/bronze</td><td>wasbs://bronze@datalake56cea6a3510650a6.blob.core.windows.net</td><td></td></tr><tr><td>/mnt/datalake743814d9ce773418/silver</td><td>wasbs://silver@datalake743814d9ce773418.blob.core.windows.net</td><td></td></tr><tr><td>/mnt/datalakecd63092f4c645dfd/bronze</td><td>wasbs://bronze@datalakecd63092f4c645dfd.blob.core.windows.net</td><td></td></tr><tr><td>/mnt/datalake5ee525b259fdd7be/bronze</td><td>wasbs://bronze@datalake5ee525b259fdd7be.blob.core.windows.net</td><td></td></tr><tr><td>/mnt/datalake2cf75e6bc0f14f1d/gold</td><td>wasbs://gold@datalake2cf75e6bc0f14f1d.blob.core.windows.net</td><td></td></tr><tr><td>/mnt/datalake56cea6a3510650a6/silver</td><td>wasbs://silver@datalake56cea6a3510650a6.blob.core.windows.net</td><td></td></tr><tr><td>/mnt/datalake7bda6b3f393108d9/landing-zone</td><td>wasbs://landing-zone@datalake7bda6b3f393108d9.blob.core.windows.net</td><td></td></tr><tr><td>/mnt/datalake7bda6b3f393108d9/bronze</td><td>wasbs://bronze@datalake7bda6b3f393108d9.blob.core.windows.net</td><td></td></tr><tr><td>/mnt/datalake743814d9ce773418/bronze</td><td>wasbs://bronze@datalake743814d9ce773418.blob.core.windows.net</td><td></td></tr><tr><td>/</td><td>DatabricksRoot</td><td>sse-s3</td></tr><tr><td>/mnt/datalakebbac82fa728b1078/bronze</td><td>wasbs://bronze@datalakebbac82fa728b1078.blob.core.windows.net</td><td></td></tr><tr><td>/mnt/datalakebae112c35115d7e3/gold</td><td>wasbs://gold@datalakebae112c35115d7e3.blob.core.windows.net</td><td></td></tr><tr><td>/mnt/datalake4f4de806e56e47cc/bronze</td><td>wasbs://bronze@datalake4f4de806e56e47cc.blob.core.windows.net</td><td></td></tr></tbody></table></div>"
      ]
     },
     "metadata": {
      "application/vnd.databricks.v1+output": {
       "addedWidgets": {},
       "aggData": [],
       "aggError": "",
       "aggOverflow": false,
       "aggSchema": [],
       "aggSeriesLimitReached": false,
       "aggType": "",
       "arguments": {},
       "columnCustomDisplayInfos": {},
       "data": [
        [
         "/mnt/datalake5ee525b259fdd7be/silver",
         "wasbs://silver@datalake5ee525b259fdd7be.blob.core.windows.net",
         ""
        ],
        [
         "/databricks-datasets",
         "databricks-datasets",
         ""
        ],
        [
         "/mnt/datalake56cea6a3510650a6/landing-zone",
         "wasbs://landing-zone@datalake56cea6a3510650a6.blob.core.windows.net",
         ""
        ],
        [
         "/mnt/datalakebae112c35115d7e3/bronze",
         "wasbs://bronze@datalakebae112c35115d7e3.blob.core.windows.net",
         ""
        ],
        [
         "/mnt/datalake56cea6a3510650a6/gold",
         "wasbs://gold@datalake56cea6a3510650a6.blob.core.windows.net",
         ""
        ],
        [
         "/mnt/datalake2cf75e6bc0f14f1d/bronze",
         "wasbs://bronze@datalake2cf75e6bc0f14f1d.blob.core.windows.net",
         ""
        ],
        [
         "/mnt/datalake9fc5ac43334b8d99/landing-zone",
         "wasbs://landing-zone@datalake9fc5ac43334b8d99.blob.core.windows.net",
         ""
        ],
        [
         "/mnt/datalakecd63092f4c645dfd/lading-zone",
         "wasbs://lading-zone@datalakecd63092f4c645dfd.blob.core.windows.net",
         ""
        ],
        [
         "/mnt/datalakebbac82fa728b1078/landing-zone",
         "wasbs://landing-zone@datalakebbac82fa728b1078.blob.core.windows.net",
         ""
        ],
        [
         "/mnt/datalakea554ff8ebf909b7f/silver",
         "wasbs://silver@datalakea554ff8ebf909b7f.blob.core.windows.net",
         ""
        ],
        [
         "/mnt/datalake5ee525b259fdd7be/gold",
         "wasbs://gold@datalake5ee525b259fdd7be.blob.core.windows.net",
         ""
        ],
        [
         "/mnt/datalake56cea6a3510650a6/lading-zone",
         "wasbs://lading-zone@datalake56cea6a3510650a6.blob.core.windows.net",
         ""
        ],
        [
         "/databricks/mlflow-tracking",
         "databricks/mlflow-tracking",
         "sse-s3"
        ],
        [
         "/mnt/datalake5ee525b259fdd7be/landing-zone",
         "wasbs://landing-zone@datalake5ee525b259fdd7be.blob.core.windows.net",
         ""
        ],
        [
         "/databricks-results",
         "databricks-results",
         "sse-s3"
        ],
        [
         "/mnt/datalakebae112c35115d7e3/landing-zone",
         "wasbs://landing-zone@datalakebae112c35115d7e3.blob.core.windows.net",
         ""
        ],
        [
         "/mnt/datalakebae112c35115d7e3/lading-zone",
         "wasbs://lading-zone@datalakebae112c35115d7e3.blob.core.windows.net",
         ""
        ],
        [
         "/mnt/datalakebae112c35115d7e3/silver",
         "wasbs://silver@datalakebae112c35115d7e3.blob.core.windows.net",
         ""
        ],
        [
         "/mnt/datalakebbac82fa728b1078/silver",
         "wasbs://silver@datalakebbac82fa728b1078.blob.core.windows.net",
         ""
        ],
        [
         "/mnt/datalake7bda6b3f393108d9/gold",
         "wasbs://gold@datalake7bda6b3f393108d9.blob.core.windows.net",
         ""
        ],
        [
         "/mnt/datalakecd63092f4c645dfd/silver",
         "wasbs://silver@datalakecd63092f4c645dfd.blob.core.windows.net",
         ""
        ],
        [
         "/databricks/mlflow-registry",
         "databricks/mlflow-registry",
         "sse-s3"
        ],
        [
         "/mnt/datalake9fc5ac43334b8d99/bronze",
         "wasbs://bronze@datalake9fc5ac43334b8d99.blob.core.windows.net",
         ""
        ],
        [
         "/mnt/datalake4f4de806e56e47cc/lading-zone",
         "wasbs://lading-zone@datalake4f4de806e56e47cc.blob.core.windows.net",
         ""
        ],
        [
         "/mnt/datalake4f4de806e56e47cc/landing-zone",
         "wasbs://landing-zone@datalake4f4de806e56e47cc.blob.core.windows.net",
         ""
        ],
        [
         "/mnt/datalakecd63092f4c645dfd/landing-zone",
         "wasbs://landing-zone@datalakecd63092f4c645dfd.blob.core.windows.net",
         ""
        ],
        [
         "/mnt/datalake2cf75e6bc0f14f1d/silver",
         "wasbs://silver@datalake2cf75e6bc0f14f1d.blob.core.windows.net",
         ""
        ],
        [
         "/mnt/datalake7bda6b3f393108d9/silver",
         "wasbs://silver@datalake7bda6b3f393108d9.blob.core.windows.net",
         ""
        ],
        [
         "/mnt/datalake4f4de806e56e47cc/silver",
         "wasbs://silver@datalake4f4de806e56e47cc.blob.core.windows.net",
         ""
        ],
        [
         "/mnt/datalakea554ff8ebf909b7f/bronze",
         "wasbs://bronze@datalakea554ff8ebf909b7f.blob.core.windows.net",
         ""
        ],
        [
         "/mnt/datalake4f4de806e56e47cc/gold",
         "wasbs://gold@datalake4f4de806e56e47cc.blob.core.windows.net",
         ""
        ],
        [
         "/mnt/datalake2cf75e6bc0f14f1d/landing-zone",
         "wasbs://landing-zone@datalake2cf75e6bc0f14f1d.blob.core.windows.net",
         ""
        ],
        [
         "/mnt/datalakecd63092f4c645dfd/gold",
         "wasbs://gold@datalakecd63092f4c645dfd.blob.core.windows.net",
         ""
        ],
        [
         "/mnt/datalake743814d9ce773418/landing-zone",
         "wasbs://landing-zone@datalake743814d9ce773418.blob.core.windows.net",
         ""
        ],
        [
         "/mnt/datalake743814d9ce773418/gold",
         "wasbs://gold@datalake743814d9ce773418.blob.core.windows.net",
         ""
        ],
        [
         "/mnt/datalakebbac82fa728b1078/gold",
         "wasbs://gold@datalakebbac82fa728b1078.blob.core.windows.net",
         ""
        ],
        [
         "/mnt/datalakea554ff8ebf909b7f/landing-zone",
         "wasbs://landing-zone@datalakea554ff8ebf909b7f.blob.core.windows.net",
         ""
        ],
        [
         "/mnt/datalakea554ff8ebf909b7f/gold",
         "wasbs://gold@datalakea554ff8ebf909b7f.blob.core.windows.net",
         ""
        ],
        [
         "/mnt/datalake56cea6a3510650a6/bronze",
         "wasbs://bronze@datalake56cea6a3510650a6.blob.core.windows.net",
         ""
        ],
        [
         "/mnt/datalake743814d9ce773418/silver",
         "wasbs://silver@datalake743814d9ce773418.blob.core.windows.net",
         ""
        ],
        [
         "/mnt/datalakecd63092f4c645dfd/bronze",
         "wasbs://bronze@datalakecd63092f4c645dfd.blob.core.windows.net",
         ""
        ],
        [
         "/mnt/datalake5ee525b259fdd7be/bronze",
         "wasbs://bronze@datalake5ee525b259fdd7be.blob.core.windows.net",
         ""
        ],
        [
         "/mnt/datalake2cf75e6bc0f14f1d/gold",
         "wasbs://gold@datalake2cf75e6bc0f14f1d.blob.core.windows.net",
         ""
        ],
        [
         "/mnt/datalake56cea6a3510650a6/silver",
         "wasbs://silver@datalake56cea6a3510650a6.blob.core.windows.net",
         ""
        ],
        [
         "/mnt/datalake7bda6b3f393108d9/landing-zone",
         "wasbs://landing-zone@datalake7bda6b3f393108d9.blob.core.windows.net",
         ""
        ],
        [
         "/mnt/datalake7bda6b3f393108d9/bronze",
         "wasbs://bronze@datalake7bda6b3f393108d9.blob.core.windows.net",
         ""
        ],
        [
         "/mnt/datalake743814d9ce773418/bronze",
         "wasbs://bronze@datalake743814d9ce773418.blob.core.windows.net",
         ""
        ],
        [
         "/",
         "DatabricksRoot",
         "sse-s3"
        ],
        [
         "/mnt/datalakebbac82fa728b1078/bronze",
         "wasbs://bronze@datalakebbac82fa728b1078.blob.core.windows.net",
         ""
        ],
        [
         "/mnt/datalakebae112c35115d7e3/gold",
         "wasbs://gold@datalakebae112c35115d7e3.blob.core.windows.net",
         ""
        ],
        [
         "/mnt/datalake4f4de806e56e47cc/bronze",
         "wasbs://bronze@datalake4f4de806e56e47cc.blob.core.windows.net",
         ""
        ]
       ],
       "datasetInfos": [],
       "dbfsResultPath": null,
       "isJsonSchema": true,
       "metadata": {},
       "overflow": false,
       "plotOptions": {
        "customPlotOptions": {},
        "displayType": "table",
        "pivotAggregation": null,
        "pivotColumns": null,
        "xColumns": null,
        "yColumns": null
       },
       "removedWidgets": [],
       "schema": [
        {
         "metadata": "{}",
         "name": "mountPoint",
         "type": "\"string\""
        },
        {
         "metadata": "{}",
         "name": "source",
         "type": "\"string\""
        },
        {
         "metadata": "{}",
         "name": "encryptionType",
         "type": "\"string\""
        }
       ],
       "type": "table"
      }
     },
     "output_type": "display_data"
    }
   ],
   "source": [
    "display(dbutils.fs.mounts())"
   ]
  },
  {
   "cell_type": "markdown",
   "metadata": {
    "application/vnd.databricks.v1+cell": {
     "cellMetadata": {
      "byteLimit": 2048000,
      "rowLimit": 10000
     },
     "inputWidgets": {},
     "nuid": "1f6ec630-db65-41cb-9fdf-a941cfafe400",
     "showTitle": false,
     "tableResultSettingsMap": {},
     "title": ""
    }
   },
   "source": [
    "### Mostrando todos os arquivos da camada landing-zone"
   ]
  },
  {
   "cell_type": "code",
   "execution_count": 0,
   "metadata": {
    "application/vnd.databricks.v1+cell": {
     "cellMetadata": {
      "byteLimit": 2048000,
      "rowLimit": 10000
     },
     "inputWidgets": {},
     "nuid": "295f6535-5ab1-43af-a1d3-fadec36b766b",
     "showTitle": false,
     "tableResultSettingsMap": {},
     "title": ""
    }
   },
   "outputs": [
    {
     "output_type": "display_data",
     "data": {
      "text/html": [
       "<style scoped>\n",
       "  .table-result-container {\n",
       "    max-height: 300px;\n",
       "    overflow: auto;\n",
       "  }\n",
       "  table, th, td {\n",
       "    border: 1px solid black;\n",
       "    border-collapse: collapse;\n",
       "  }\n",
       "  th, td {\n",
       "    padding: 5px;\n",
       "  }\n",
       "  th {\n",
       "    text-align: left;\n",
       "  }\n",
       "</style><div class='table-result-container'><table class='table-result'><thead style='background-color: white'><tr><th>path</th><th>name</th><th>size</th><th>modificationTime</th></tr></thead><tbody><tr><td>dbfs:/mnt/datalake743814d9ce773418/landing-zone/Csvs/autor.csv</td><td>autor.csv</td><td>168447</td><td>1750961592000</td></tr><tr><td>dbfs:/mnt/datalake743814d9ce773418/landing-zone/Csvs/categoria.csv</td><td>categoria.csv</td><td>1208</td><td>1750961597000</td></tr><tr><td>dbfs:/mnt/datalake743814d9ce773418/landing-zone/Csvs/cliente.csv</td><td>cliente.csv</td><td>1593963</td><td>1750961591000</td></tr><tr><td>dbfs:/mnt/datalake743814d9ce773418/landing-zone/Csvs/editora.csv</td><td>editora.csv</td><td>41630</td><td>1750961593000</td></tr><tr><td>dbfs:/mnt/datalake743814d9ce773418/landing-zone/Csvs/endereco.csv</td><td>endereco.csv</td><td>1480115</td><td>1750961591000</td></tr><tr><td>dbfs:/mnt/datalake743814d9ce773418/landing-zone/Csvs/estoque.csv</td><td>estoque.csv</td><td>99067</td><td>1750961596000</td></tr><tr><td>dbfs:/mnt/datalake743814d9ce773418/landing-zone/Csvs/item_pedido.csv</td><td>item_pedido.csv</td><td>1322363</td><td>1750961595000</td></tr><tr><td>dbfs:/mnt/datalake743814d9ce773418/landing-zone/Csvs/livro.csv</td><td>livro.csv</td><td>2194700</td><td>1750961594000</td></tr><tr><td>dbfs:/mnt/datalake743814d9ce773418/landing-zone/Csvs/pagamento.csv</td><td>pagamento.csv</td><td>783326</td><td>1750961597000</td></tr><tr><td>dbfs:/mnt/datalake743814d9ce773418/landing-zone/Csvs/pedido.csv</td><td>pedido.csv</td><td>935951</td><td>1750961595000</td></tr><tr><td>dbfs:/mnt/datalake743814d9ce773418/landing-zone/Csvs/tipo_pagamento.csv</td><td>tipo_pagamento.csv</td><td>43</td><td>1750961598000</td></tr></tbody></table></div>"
      ]
     },
     "metadata": {
      "application/vnd.databricks.v1+output": {
       "addedWidgets": {},
       "aggData": [],
       "aggError": "",
       "aggOverflow": false,
       "aggSchema": [],
       "aggSeriesLimitReached": false,
       "aggType": "",
       "arguments": {},
       "columnCustomDisplayInfos": {},
       "data": [
        [
         "dbfs:/mnt/datalake743814d9ce773418/landing-zone/Csvs/autor.csv",
         "autor.csv",
         168447,
         1750961592000
        ],
        [
         "dbfs:/mnt/datalake743814d9ce773418/landing-zone/Csvs/categoria.csv",
         "categoria.csv",
         1208,
         1750961597000
        ],
        [
         "dbfs:/mnt/datalake743814d9ce773418/landing-zone/Csvs/cliente.csv",
         "cliente.csv",
         1593963,
         1750961591000
        ],
        [
         "dbfs:/mnt/datalake743814d9ce773418/landing-zone/Csvs/editora.csv",
         "editora.csv",
         41630,
         1750961593000
        ],
        [
         "dbfs:/mnt/datalake743814d9ce773418/landing-zone/Csvs/endereco.csv",
         "endereco.csv",
         1480115,
         1750961591000
        ],
        [
         "dbfs:/mnt/datalake743814d9ce773418/landing-zone/Csvs/estoque.csv",
         "estoque.csv",
         99067,
         1750961596000
        ],
        [
         "dbfs:/mnt/datalake743814d9ce773418/landing-zone/Csvs/item_pedido.csv",
         "item_pedido.csv",
         1322363,
         1750961595000
        ],
        [
         "dbfs:/mnt/datalake743814d9ce773418/landing-zone/Csvs/livro.csv",
         "livro.csv",
         2194700,
         1750961594000
        ],
        [
         "dbfs:/mnt/datalake743814d9ce773418/landing-zone/Csvs/pagamento.csv",
         "pagamento.csv",
         783326,
         1750961597000
        ],
        [
         "dbfs:/mnt/datalake743814d9ce773418/landing-zone/Csvs/pedido.csv",
         "pedido.csv",
         935951,
         1750961595000
        ],
        [
         "dbfs:/mnt/datalake743814d9ce773418/landing-zone/Csvs/tipo_pagamento.csv",
         "tipo_pagamento.csv",
         43,
         1750961598000
        ]
       ],
       "datasetInfos": [],
       "dbfsResultPath": null,
       "isJsonSchema": true,
       "metadata": {},
       "overflow": false,
       "plotOptions": {
        "customPlotOptions": {},
        "displayType": "table",
        "pivotAggregation": null,
        "pivotColumns": null,
        "xColumns": null,
        "yColumns": null
       },
       "removedWidgets": [],
       "schema": [
        {
         "metadata": "{}",
         "name": "path",
         "type": "\"string\""
        },
        {
         "metadata": "{}",
         "name": "name",
         "type": "\"string\""
        },
        {
         "metadata": "{}",
         "name": "size",
         "type": "\"long\""
        },
        {
         "metadata": "{}",
         "name": "modificationTime",
         "type": "\"long\""
        }
       ],
       "type": "table"
      }
     },
     "output_type": "display_data"
    }
   ],
   "source": [
    "display(dbutils.fs.ls(f\"/mnt/{storageAccountName}/landing-zone/Csvs\"))"
   ]
  },
  {
   "cell_type": "markdown",
   "metadata": {
    "application/vnd.databricks.v1+cell": {
     "cellMetadata": {
      "byteLimit": 2048000,
      "rowLimit": 10000
     },
     "inputWidgets": {},
     "nuid": "1ef3c883-3b0f-44cb-8917-49f1f1fd3819",
     "showTitle": false,
     "tableResultSettingsMap": {},
     "title": ""
    }
   },
   "source": [
    "###Gerando um dataframe para cada arquivo a partir dos arquivos CSV gravado no container landing-zone do Azure Data Lake Storage"
   ]
  },
  {
   "cell_type": "code",
   "execution_count": 0,
   "metadata": {
    "application/vnd.databricks.v1+cell": {
     "cellMetadata": {
      "byteLimit": 2048000,
      "rowLimit": 10000
     },
     "inputWidgets": {},
     "nuid": "37774595-e2cd-4ba0-92aa-4a6f239c0e7b",
     "showTitle": false,
     "tableResultSettingsMap": {},
     "title": ""
    }
   },
   "outputs": [],
   "source": [
    "df_autor   = spark.read.option(\"infeschema\", \"true\").option(\"header\", \"true\").csv(f\"/mnt/{storageAccountName}/landing-zone/Csvs/autor.csv\")\n",
    "df_cliente = spark.read.option(\"infeschema\", \"true\").option(\"header\", \"true\").csv(f\"/mnt/{storageAccountName}/landing-zone/Csvs/cliente.csv\")\n",
    "df_editora   = spark.read.option(\"infeschema\", \"true\").option(\"header\", \"true\").csv(f\"/mnt/{storageAccountName}/landing-zone/Csvs/editora.csv\")\n",
    "df_endereco = spark.read.option(\"infeschema\", \"true\").option(\"header\", \"true\").csv(f\"/mnt/{storageAccountName}/landing-zone/Csvs/endereco.csv\")\n",
    "df_estoque = spark.read.option(\"infeschema\", \"true\").option(\"header\", \"true\").csv(f\"/mnt/{storageAccountName}/landing-zone/Csvs/estoque.csv\")\n",
    "df_item_pedido = spark.read.option(\"infeschema\", \"true\").option(\"header\", \"true\").csv(f\"/mnt/{storageAccountName}/landing-zone/Csvs/item_pedido.csv\")\n",
    "df_livro = spark.read.option(\"infeschema\", \"true\").option(\"header\", \"true\").csv(f\"/mnt/{storageAccountName}/landing-zone/Csvs/livro.csv\")\n",
    "df_pagamento = spark.read.option(\"infeschema\", \"true\").option(\"header\", \"true\").csv(f\"/mnt/{storageAccountName}/landing-zone/Csvs/pagamento.csv\")\n",
    "df_pedido = spark.read.option(\"infeschema\", \"true\").option(\"header\", \"true\").csv(f\"/mnt/{storageAccountName}/landing-zone/Csvs/pedido.csv\")"
   ]
  },
  {
   "cell_type": "markdown",
   "metadata": {
    "application/vnd.databricks.v1+cell": {
     "cellMetadata": {
      "byteLimit": 2048000,
      "rowLimit": 10000
     },
     "inputWidgets": {},
     "nuid": "e4ffc23f-8add-4747-b572-b470a7e5eb8f",
     "showTitle": false,
     "tableResultSettingsMap": {},
     "title": ""
    }
   },
   "source": [
    "### Adicionando metadados de data e hora de processamento e nome do arquivo de origem"
   ]
  },
  {
   "cell_type": "code",
   "execution_count": 0,
   "metadata": {
    "application/vnd.databricks.v1+cell": {
     "cellMetadata": {
      "byteLimit": 2048000,
      "rowLimit": 10000
     },
     "inputWidgets": {},
     "nuid": "f278962e-c91a-4900-ba19-27d9b9e08947",
     "showTitle": false,
     "tableResultSettingsMap": {},
     "title": ""
    }
   },
   "outputs": [],
   "source": [
    "from pyspark.sql.functions import current_timestamp, lit\n",
    "\n",
    "df_autor   = df_autor.withColumn(\"data_hora_bronze\", current_timestamp()).withColumn(\"nome_arquivo\", lit(\"autor.csv\"))\n",
    "df_cliente     = df_cliente.withColumn(\"data_hora_bronze\", current_timestamp()).withColumn(\"nome_arquivo\", lit(\"cliente.csv\"))\n",
    "df_editora   = df_editora.withColumn(\"data_hora_bronze\", current_timestamp()).withColumn(\"nome_arquivo\", lit(\"editora.csv\"))\n",
    "df_endereco  = df_endereco.withColumn(\"data_hora_bronze\", current_timestamp()).withColumn(\"nome_arquivo\", lit(\"endereco.csv\"))\n",
    "df_estoque  = df_estoque.withColumn(\"data_hora_bronze\", current_timestamp()).withColumn(\"nome_arquivo\", lit(\"estoque.csv\"))\n",
    "df_item_pedido  = df_item_pedido.withColumn(\"data_hora_bronze\", current_timestamp()).withColumn(\"nome_arquivo\", lit(\"item_pedido.csv\"))\n",
    "df_livro  = df_livro.withColumn(\"data_hora_bronze\", current_timestamp()).withColumn(\"nome_arquivo\", lit(\"livro.csv\"))\n",
    "df_pagamento  = df_pagamento.withColumn(\"data_hora_bronze\", current_timestamp()).withColumn(\"nome_arquivo\", lit(\"pagamento.csv\"))\n",
    "df_pedido  = df_pedido.withColumn(\"data_hora_bronze\", current_timestamp()).withColumn(\"nome_arquivo\", lit(\"pedido.csv\"))\n"
   ]
  },
  {
   "cell_type": "markdown",
   "metadata": {
    "application/vnd.databricks.v1+cell": {
     "cellMetadata": {
      "byteLimit": 2048000,
      "rowLimit": 10000
     },
     "inputWidgets": {},
     "nuid": "8d908b82-ff93-4bb6-af69-ec5655308a8f",
     "showTitle": false,
     "tableResultSettingsMap": {},
     "title": ""
    }
   },
   "source": [
    "###Salvando os dataframes em delta lake (formato de arquivo) no data lake (repositorio cloud)"
   ]
  },
  {
   "cell_type": "code",
   "execution_count": 0,
   "metadata": {
    "application/vnd.databricks.v1+cell": {
     "cellMetadata": {
      "byteLimit": 2048000,
      "rowLimit": 10000
     },
     "inputWidgets": {},
     "nuid": "bb02cf44-9572-4ee1-8830-c3671012ec49",
     "showTitle": false,
     "tableResultSettingsMap": {},
     "title": ""
    }
   },
   "outputs": [],
   "source": [
    "df_autor.write.format('delta').mode(\"overwrite\").save(f\"/mnt/{storageAccountName}/bronze/autor\")\n",
    "df_cliente.write.format('delta').mode(\"overwrite\").save(f\"/mnt/{storageAccountName}/bronze/cliente\")\n",
    "df_editora.write.format('delta').mode(\"overwrite\").save(f\"/mnt/{storageAccountName}/bronze/editora\")\n",
    "df_endereco.write.format('delta').mode(\"overwrite\").save(f\"/mnt/{storageAccountName}/bronze/endereco\")\n",
    "df_estoque.write.format('delta').mode(\"overwrite\").save(f\"/mnt/{storageAccountName}/bronze/estoque\")\n",
    "df_item_pedido.write.format('delta').mode(\"overwrite\").save(f\"/mnt/{storageAccountName}/bronze/item_pedido\")\n",
    "df_livro.write.format('delta').mode(\"overwrite\").save(f\"/mnt/{storageAccountName}/bronze/livro\")\n",
    "df_pagamento.write.format('delta').mode(\"overwrite\").save(f\"/mnt/{storageAccountName}/bronze/pagamento\")\n",
    "df_pedido.write.format('delta').mode(\"overwrite\").save(f\"/mnt/{storageAccountName}/bronze/pedido\")"
   ]
  },
  {
   "cell_type": "markdown",
   "metadata": {
    "application/vnd.databricks.v1+cell": {
     "cellMetadata": {
      "byteLimit": 2048000,
      "rowLimit": 10000
     },
     "inputWidgets": {},
     "nuid": "511bb1d8-ea04-4a9c-93c4-6b8228f00830",
     "showTitle": false,
     "tableResultSettingsMap": {},
     "title": ""
    }
   },
   "source": [
    "###Verificando os dados gravados em delta na camada bronze"
   ]
  },
  {
   "cell_type": "code",
   "execution_count": 0,
   "metadata": {
    "application/vnd.databricks.v1+cell": {
     "cellMetadata": {
      "byteLimit": 2048000,
      "implicitDf": true,
      "rowLimit": 10000
     },
     "inputWidgets": {},
     "nuid": "6e8454d0-a9de-40dc-b55d-a8aa0156f93f",
     "showTitle": false,
     "tableResultSettingsMap": {},
     "title": ""
    }
   },
   "outputs": [
    {
     "output_type": "display_data",
     "data": {
      "text/html": [
       "<style scoped>\n",
       "  .table-result-container {\n",
       "    max-height: 300px;\n",
       "    overflow: auto;\n",
       "  }\n",
       "  table, th, td {\n",
       "    border: 1px solid black;\n",
       "    border-collapse: collapse;\n",
       "  }\n",
       "  th, td {\n",
       "    padding: 5px;\n",
       "  }\n",
       "  th {\n",
       "    text-align: left;\n",
       "  }\n",
       "</style><div class='table-result-container'><table class='table-result'><thead style='background-color: white'><tr><th>path</th><th>name</th><th>size</th><th>modificationTime</th></tr></thead><tbody><tr><td>dbfs:/mnt/datalake743814d9ce773418/bronze/autor/</td><td>autor/</td><td>0</td><td>0</td></tr><tr><td>dbfs:/mnt/datalake743814d9ce773418/bronze/cliente/</td><td>cliente/</td><td>0</td><td>0</td></tr><tr><td>dbfs:/mnt/datalake743814d9ce773418/bronze/editora/</td><td>editora/</td><td>0</td><td>0</td></tr><tr><td>dbfs:/mnt/datalake743814d9ce773418/bronze/endereco/</td><td>endereco/</td><td>0</td><td>0</td></tr><tr><td>dbfs:/mnt/datalake743814d9ce773418/bronze/estoque/</td><td>estoque/</td><td>0</td><td>0</td></tr><tr><td>dbfs:/mnt/datalake743814d9ce773418/bronze/item_pedido/</td><td>item_pedido/</td><td>0</td><td>0</td></tr><tr><td>dbfs:/mnt/datalake743814d9ce773418/bronze/livro/</td><td>livro/</td><td>0</td><td>0</td></tr><tr><td>dbfs:/mnt/datalake743814d9ce773418/bronze/pagamento/</td><td>pagamento/</td><td>0</td><td>0</td></tr><tr><td>dbfs:/mnt/datalake743814d9ce773418/bronze/pedido/</td><td>pedido/</td><td>0</td><td>0</td></tr></tbody></table></div>"
      ]
     },
     "metadata": {
      "application/vnd.databricks.v1+output": {
       "addedWidgets": {},
       "aggData": [],
       "aggError": "",
       "aggOverflow": false,
       "aggSchema": [],
       "aggSeriesLimitReached": false,
       "aggType": "",
       "arguments": {},
       "columnCustomDisplayInfos": {},
       "data": [
        [
         "dbfs:/mnt/datalake743814d9ce773418/bronze/autor/",
         "autor/",
         0,
         0
        ],
        [
         "dbfs:/mnt/datalake743814d9ce773418/bronze/cliente/",
         "cliente/",
         0,
         0
        ],
        [
         "dbfs:/mnt/datalake743814d9ce773418/bronze/editora/",
         "editora/",
         0,
         0
        ],
        [
         "dbfs:/mnt/datalake743814d9ce773418/bronze/endereco/",
         "endereco/",
         0,
         0
        ],
        [
         "dbfs:/mnt/datalake743814d9ce773418/bronze/estoque/",
         "estoque/",
         0,
         0
        ],
        [
         "dbfs:/mnt/datalake743814d9ce773418/bronze/item_pedido/",
         "item_pedido/",
         0,
         0
        ],
        [
         "dbfs:/mnt/datalake743814d9ce773418/bronze/livro/",
         "livro/",
         0,
         0
        ],
        [
         "dbfs:/mnt/datalake743814d9ce773418/bronze/pagamento/",
         "pagamento/",
         0,
         0
        ],
        [
         "dbfs:/mnt/datalake743814d9ce773418/bronze/pedido/",
         "pedido/",
         0,
         0
        ]
       ],
       "datasetInfos": [],
       "dbfsResultPath": null,
       "isJsonSchema": true,
       "metadata": {},
       "overflow": false,
       "plotOptions": {
        "customPlotOptions": {},
        "displayType": "table",
        "pivotAggregation": null,
        "pivotColumns": null,
        "xColumns": null,
        "yColumns": null
       },
       "removedWidgets": [],
       "schema": [
        {
         "metadata": "{}",
         "name": "path",
         "type": "\"string\""
        },
        {
         "metadata": "{}",
         "name": "name",
         "type": "\"string\""
        },
        {
         "metadata": "{}",
         "name": "size",
         "type": "\"long\""
        },
        {
         "metadata": "{}",
         "name": "modificationTime",
         "type": "\"long\""
        }
       ],
       "type": "table"
      }
     },
     "output_type": "display_data"
    }
   ],
   "source": [
    "display(dbutils.fs.ls(f\"/mnt/{storageAccountName}/bronze/\"))"
   ]
  },
  {
   "cell_type": "markdown",
   "metadata": {
    "application/vnd.databricks.v1+cell": {
     "cellMetadata": {
      "byteLimit": 2048000,
      "rowLimit": 10000
     },
     "inputWidgets": {},
     "nuid": "f6393fa5-64f2-4e8d-8358-617d0b55f035",
     "showTitle": false,
     "tableResultSettingsMap": {},
     "title": ""
    }
   },
   "source": [
    "### Lendo um exemplo de um delta lake para validar a existencia dos dados e das colunas do metadados"
   ]
  },
  {
   "cell_type": "code",
   "execution_count": 0,
   "metadata": {
    "application/vnd.databricks.v1+cell": {
     "cellMetadata": {
      "byteLimit": 2048000,
      "implicitDf": true,
      "rowLimit": 10000
     },
     "inputWidgets": {},
     "nuid": "84ef9829-3e0e-4807-bc1b-026324f6ed82",
     "showTitle": false,
     "tableResultSettingsMap": {},
     "title": ""
    }
   },
   "outputs": [
    {
     "output_type": "display_data",
     "data": {
      "text/html": [
       "<style scoped>\n",
       "  .table-result-container {\n",
       "    max-height: 300px;\n",
       "    overflow: auto;\n",
       "  }\n",
       "  table, th, td {\n",
       "    border: 1px solid black;\n",
       "    border-collapse: collapse;\n",
       "  }\n",
       "  th, td {\n",
       "    padding: 5px;\n",
       "  }\n",
       "  th {\n",
       "    text-align: left;\n",
       "  }\n",
       "</style><div class='table-result-container'><table class='table-result'><thead style='background-color: white'><tr><th>cod_cliente</th><th>nome</th><th>email</th><th>telefone</th><th>data_hora_bronze</th><th>nome_arquivo</th></tr></thead><tbody><tr><td>1</td><td>Maria Eduarda Cavalcanti</td><td>oliviamoraes@example.com</td><td>(021) 3020-1647</td><td>2025-06-26T18:16:29.600+0000</td><td>cliente.csv</td></tr><tr><td>2</td><td>Isabel Borges</td><td>da-costaenrico@example.net</td><td>+55 61 3669 9432</td><td>2025-06-26T18:16:29.600+0000</td><td>cliente.csv</td></tr><tr><td>3</td><td>Lorena Viana</td><td>casa-grandeasafe@example.com</td><td>+55 61 7181 9705</td><td>2025-06-26T18:16:29.600+0000</td><td>cliente.csv</td></tr><tr><td>4</td><td>João Rocha</td><td>luanavasconcelos@example.org</td><td>31 3847 2404</td><td>2025-06-26T18:16:29.600+0000</td><td>cliente.csv</td></tr><tr><td>5</td><td>Sra. Maria Liz Santos</td><td>ana-ceciliapacheco@example.com</td><td>+55 84 9959 5594</td><td>2025-06-26T18:16:29.600+0000</td><td>cliente.csv</td></tr><tr><td>6</td><td>Danilo Mendes</td><td>wnunes@example.com</td><td>+55 41 7877-8646</td><td>2025-06-26T18:16:29.600+0000</td><td>cliente.csv</td></tr><tr><td>7</td><td>Henrique Moraes</td><td>kamillysilveira@example.org</td><td>+55 21 2763-9266</td><td>2025-06-26T18:16:29.600+0000</td><td>cliente.csv</td></tr><tr><td>8</td><td>João Casa Grande</td><td>vpastor@example.net</td><td>+55 (084) 4311-8433</td><td>2025-06-26T18:16:29.600+0000</td><td>cliente.csv</td></tr><tr><td>9</td><td>Amanda Ramos</td><td>luisacasa-grande@example.org</td><td>0800 518 5404</td><td>2025-06-26T18:16:29.600+0000</td><td>cliente.csv</td></tr><tr><td>10</td><td>Ana Beatriz Teixeira</td><td>cavalcantigustavo@example.com</td><td>51 2966 7367</td><td>2025-06-26T18:16:29.600+0000</td><td>cliente.csv</td></tr></tbody></table></div>"
      ]
     },
     "metadata": {
      "application/vnd.databricks.v1+output": {
       "addedWidgets": {},
       "aggData": [],
       "aggError": "",
       "aggOverflow": false,
       "aggSchema": [],
       "aggSeriesLimitReached": false,
       "aggType": "",
       "arguments": {},
       "columnCustomDisplayInfos": {},
       "data": [
        [
         "1",
         "Maria Eduarda Cavalcanti",
         "oliviamoraes@example.com",
         "(021) 3020-1647",
         "2025-06-26T18:16:29.600+0000",
         "cliente.csv"
        ],
        [
         "2",
         "Isabel Borges",
         "da-costaenrico@example.net",
         "+55 61 3669 9432",
         "2025-06-26T18:16:29.600+0000",
         "cliente.csv"
        ],
        [
         "3",
         "Lorena Viana",
         "casa-grandeasafe@example.com",
         "+55 61 7181 9705",
         "2025-06-26T18:16:29.600+0000",
         "cliente.csv"
        ],
        [
         "4",
         "João Rocha",
         "luanavasconcelos@example.org",
         "31 3847 2404",
         "2025-06-26T18:16:29.600+0000",
         "cliente.csv"
        ],
        [
         "5",
         "Sra. Maria Liz Santos",
         "ana-ceciliapacheco@example.com",
         "+55 84 9959 5594",
         "2025-06-26T18:16:29.600+0000",
         "cliente.csv"
        ],
        [
         "6",
         "Danilo Mendes",
         "wnunes@example.com",
         "+55 41 7877-8646",
         "2025-06-26T18:16:29.600+0000",
         "cliente.csv"
        ],
        [
         "7",
         "Henrique Moraes",
         "kamillysilveira@example.org",
         "+55 21 2763-9266",
         "2025-06-26T18:16:29.600+0000",
         "cliente.csv"
        ],
        [
         "8",
         "João Casa Grande",
         "vpastor@example.net",
         "+55 (084) 4311-8433",
         "2025-06-26T18:16:29.600+0000",
         "cliente.csv"
        ],
        [
         "9",
         "Amanda Ramos",
         "luisacasa-grande@example.org",
         "0800 518 5404",
         "2025-06-26T18:16:29.600+0000",
         "cliente.csv"
        ],
        [
         "10",
         "Ana Beatriz Teixeira",
         "cavalcantigustavo@example.com",
         "51 2966 7367",
         "2025-06-26T18:16:29.600+0000",
         "cliente.csv"
        ]
       ],
       "datasetInfos": [],
       "dbfsResultPath": null,
       "isJsonSchema": true,
       "metadata": {},
       "overflow": false,
       "plotOptions": {
        "customPlotOptions": {},
        "displayType": "table",
        "pivotAggregation": null,
        "pivotColumns": null,
        "xColumns": null,
        "yColumns": null
       },
       "removedWidgets": [],
       "schema": [
        {
         "metadata": "{}",
         "name": "cod_cliente",
         "type": "\"string\""
        },
        {
         "metadata": "{}",
         "name": "nome",
         "type": "\"string\""
        },
        {
         "metadata": "{}",
         "name": "email",
         "type": "\"string\""
        },
        {
         "metadata": "{}",
         "name": "telefone",
         "type": "\"string\""
        },
        {
         "metadata": "{}",
         "name": "data_hora_bronze",
         "type": "\"timestamp\""
        },
        {
         "metadata": "{}",
         "name": "nome_arquivo",
         "type": "\"string\""
        }
       ],
       "type": "table"
      }
     },
     "output_type": "display_data"
    }
   ],
   "source": [
    "spark.read.format('delta').load(f'/mnt/{storageAccountName}/bronze/cliente').limit(10).display()"
   ]
  }
 ],
 "metadata": {
  "application/vnd.databricks.v1+notebook": {
   "computePreferences": null,
   "dashboards": [],
   "environmentMetadata": null,
   "inputWidgetPreferences": null,
   "language": "python",
   "notebookMetadata": {
    "mostRecentlyExecutedCommandWithImplicitDF": {
     "commandId": 3210653005600686,
     "dataframes": [
      "_sqldf"
     ]
    },
    "pythonIndentUnit": 4
   },
   "notebookName": "Bronze",
   "widgets": {}
  },
  "kernelspec": {
   "display_name": "Python 3",
   "language": "python",
   "name": "python3"
  },
  "language_info": {
   "codemirror_mode": {
    "name": "ipython",
    "version": 3
   },
   "file_extension": ".py",
   "mimetype": "text/x-python",
   "name": "python",
   "nbconvert_exporter": "python",
   "pygments_lexer": "ipython3",
   "version": "3.12.6"
  }
 },
 "nbformat": 4,
 "nbformat_minor": 0
}
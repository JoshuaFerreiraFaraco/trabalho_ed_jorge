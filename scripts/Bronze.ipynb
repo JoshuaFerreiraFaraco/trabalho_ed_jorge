{
 "cells": [
  {
   "cell_type": "markdown",
   "metadata": {
    "application/vnd.databricks.v1+cell": {
     "cellMetadata": {
      "byteLimit": 2048000,
      "rowLimit": 10000
     },
     "inputWidgets": {},
     "nuid": "1e233d75-fd2d-442a-a085-bb59f3edf995",
     "showTitle": false,
     "tableResultSettingsMap": {},
     "title": ""
    }
   },
   "source": [
    "### Definindo uma função para montar um ADLS com um ponto de montagem com ADLS SAS "
   ]
  },
  {
   "cell_type": "code",
   "execution_count": 0,
   "metadata": {
    "application/vnd.databricks.v1+cell": {
     "cellMetadata": {
      "byteLimit": 2048000,
      "rowLimit": 10000
     },
     "inputWidgets": {},
     "nuid": "058a3cc4-370c-4abf-8c60-39a7f3f302d1",
     "showTitle": false,
     "tableResultSettingsMap": {},
     "title": ""
    }
   },
   "outputs": [],
   "source": [
    "storageAccountName = \"datalakea554ff8ebf909b7f\"\n",
    "storageAccountAccessKey = \"\"\n",
    "sasToken = \"sv=2024-11-04&ss=bfqt&srt=sco&sp=rwdlacupyx&se=2025-06-21T08:52:06Z&st=2025-06-21T00:52:06Z&spr=https&sig=o8hXtkjAZe2AnVEy5dNqQl4LSl0Nkac98k6pJrV1NfI%3D\"\n",
    "\n",
    "def mount_adls(blobContainerName):\n",
    "    try:\n",
    "      dbutils.fs.mount(\n",
    "        source = \"wasbs://{}@{}.blob.core.windows.net\".format(blobContainerName, storageAccountName),\n",
    "        mount_point = f\"/mnt/{storageAccountName}/{blobContainerName}\",\n",
    "        #extra_configs = {'fs.azure.account.key.' + storageAccountName + '.blob.core.windows.net': storageAccountAccessKey}\n",
    "        extra_configs = {'fs.azure.sas.' + blobContainerName + '.' + storageAccountName + '.blob.core.windows.net': sasToken}\n",
    "      )\n",
    "      print(\"OK!\")\n",
    "    except Exception as e:\n",
    "      print(\"Falha\", e)"
   ]
  },
  {
   "cell_type": "markdown",
   "metadata": {
    "application/vnd.databricks.v1+cell": {
     "cellMetadata": {
      "byteLimit": 2048000,
      "rowLimit": 10000
     },
     "inputWidgets": {},
     "nuid": "40a6dfa7-fb55-46c5-a3a8-44e9bee8f390",
     "showTitle": false,
     "tableResultSettingsMap": {},
     "title": ""
    }
   },
   "source": [
    "###Montando todos os containers"
   ]
  },
  {
   "cell_type": "code",
   "execution_count": 0,
   "metadata": {
    "application/vnd.databricks.v1+cell": {
     "cellMetadata": {
      "byteLimit": 2048000,
      "rowLimit": 10000
     },
     "inputWidgets": {},
     "nuid": "8d62fdfc-2dc8-4465-98fd-834ac8ae9404",
     "showTitle": false,
     "tableResultSettingsMap": {},
     "title": ""
    }
   },
   "outputs": [
    {
     "name": "stdout",
     "output_type": "stream",
     "text": [
      "Falha An error occurred while calling o1893.mount.\n",
      ": java.rmi.RemoteException: java.lang.IllegalArgumentException: requirement failed: Directory already mounted: /mnt/datalakea554ff8ebf909b7f/landing-zone; nested exception is: \n",
      "\tjava.lang.IllegalArgumentException: requirement failed: Directory already mounted: /mnt/datalakea554ff8ebf909b7f/landing-zone\n",
      "\tat com.databricks.backend.daemon.data.client.DbfsClient.send0(DbfsClient.scala:135)\n",
      "\tat com.databricks.backend.daemon.data.client.DbfsClient.sendIdempotent(DbfsClient.scala:69)\n",
      "\tat com.databricks.backend.daemon.dbutils.DBUtilsCore.createOrUpdateMount(DBUtilsCore.scala:1053)\n",
      "\tat com.databricks.backend.daemon.dbutils.DBUtilsCore.$anonfun$mount$1(DBUtilsCore.scala:1079)\n",
      "\tat com.databricks.logging.UsageLogging.$anonfun$recordOperation$1(UsageLogging.scala:560)\n",
      "\tat com.databricks.logging.UsageLogging.executeThunkAndCaptureResultTags$1(UsageLogging.scala:657)\n",
      "\tat com.databricks.logging.UsageLogging.$anonfun$recordOperationWithResultTags$4(UsageLogging.scala:678)\n",
      "\tat com.databricks.logging.UsageLogging.$anonfun$withAttributionContext$1(UsageLogging.scala:414)\n",
      "\tat scala.util.DynamicVariable.withValue(DynamicVariable.scala:62)\n",
      "\tat com.databricks.logging.AttributionContext$.withValue(AttributionContext.scala:158)\n",
      "\tat com.databricks.logging.UsageLogging.withAttributionContext(UsageLogging.scala:412)\n",
      "\tat com.databricks.logging.UsageLogging.withAttributionContext$(UsageLogging.scala:409)\n",
      "\tat com.databricks.backend.daemon.dbutils.FSUtils.withAttributionContext(DBUtilsCore.scala:71)\n",
      "\tat com.databricks.logging.UsageLogging.withAttributionTags(UsageLogging.scala:457)\n",
      "\tat com.databricks.logging.UsageLogging.withAttributionTags$(UsageLogging.scala:442)\n",
      "\tat com.databricks.backend.daemon.dbutils.FSUtils.withAttributionTags(DBUtilsCore.scala:71)\n",
      "\tat com.databricks.logging.UsageLogging.recordOperationWithResultTags(UsageLogging.scala:652)\n",
      "\tat com.databricks.logging.UsageLogging.recordOperationWithResultTags$(UsageLogging.scala:569)\n",
      "\tat com.databricks.backend.daemon.dbutils.FSUtils.recordOperationWithResultTags(DBUtilsCore.scala:71)\n",
      "\tat com.databricks.logging.UsageLogging.recordOperation(UsageLogging.scala:560)\n",
      "\tat com.databricks.logging.UsageLogging.recordOperation$(UsageLogging.scala:528)\n",
      "\tat com.databricks.backend.daemon.dbutils.FSUtils.recordOperation(DBUtilsCore.scala:71)\n",
      "\tat com.databricks.backend.daemon.dbutils.FSUtils.recordDbutilsFsOp(DBUtilsCore.scala:135)\n",
      "\tat com.databricks.backend.daemon.dbutils.DBUtilsCore.mount(DBUtilsCore.scala:1073)\n",
      "\tat sun.reflect.GeneratedMethodAccessor328.invoke(Unknown Source)\n",
      "\tat sun.reflect.DelegatingMethodAccessorImpl.invoke(DelegatingMethodAccessorImpl.java:43)\n",
      "\tat java.lang.reflect.Method.invoke(Method.java:498)\n",
      "\tat py4j.reflection.MethodInvoker.invoke(MethodInvoker.java:244)\n",
      "\tat py4j.reflection.ReflectionEngine.invoke(ReflectionEngine.java:380)\n",
      "\tat py4j.Gateway.invoke(Gateway.java:306)\n",
      "\tat py4j.commands.AbstractCommand.invokeMethod(AbstractCommand.java:132)\n",
      "\tat py4j.commands.CallCommand.execute(CallCommand.java:79)\n",
      "\tat py4j.ClientServerConnection.waitForCommands(ClientServerConnection.java:195)\n",
      "\tat py4j.ClientServerConnection.run(ClientServerConnection.java:115)\n",
      "\tat java.lang.Thread.run(Thread.java:750)\n",
      "Caused by: java.lang.IllegalArgumentException: requirement failed: Directory already mounted: /mnt/datalakea554ff8ebf909b7f/landing-zone\n",
      "\tat scala.Predef$.require(Predef.scala:281)\n",
      "\tat com.databricks.backend.daemon.data.server.DefaultMetadataManager.$anonfun$insertMount$1(MetadataManager.scala:860)\n",
      "\tat com.databricks.backend.daemon.data.server.DefaultMetadataManager.$anonfun$modifyAndVerify$2(MetadataManager.scala:1242)\n",
      "\tat scala.runtime.java8.JFunction0$mcV$sp.apply(JFunction0$mcV$sp.java:23)\n",
      "\tat com.databricks.backend.daemon.data.server.DefaultMetadataManager.withRetries(MetadataManager.scala:1015)\n",
      "\tat com.databricks.backend.daemon.data.server.DefaultMetadataManager.modifyAndVerify(MetadataManager.scala:1231)\n",
      "\tat com.databricks.backend.daemon.data.server.DefaultMetadataManager.insertMount(MetadataManager.scala:868)\n",
      "\tat com.databricks.backend.daemon.data.server.handler.MountHandler.receive(MountHandler.scala:131)\n",
      "\tat com.databricks.backend.daemon.data.server.handler.CEMountHandler.receive(MountHandler.scala:175)\n",
      "\tat com.databricks.backend.daemon.data.server.handler.DbfsRequestHandler.receive(DbfsRequestHandler.scala:16)\n",
      "\tat com.databricks.backend.daemon.data.server.handler.DbfsRequestHandler.receive$(DbfsRequestHandler.scala:15)\n",
      "\tat com.databricks.backend.daemon.data.server.handler.MountHandler.receive(MountHandler.scala:39)\n",
      "\tat com.databricks.backend.daemon.data.server.session.SessionContext.$anonfun$queryHandlers$1(SessionContext.scala:54)\n",
      "\tat com.databricks.backend.daemon.data.server.session.SessionContext.$anonfun$queryHandlers$1$adapted(SessionContext.scala:53)\n",
      "\tat scala.collection.immutable.List.foreach(List.scala:431)\n",
      "\tat com.databricks.backend.daemon.data.server.session.SessionContext.queryHandlers(SessionContext.scala:53)\n",
      "\tat com.databricks.backend.daemon.data.server.DbfsServerBackend.$anonfun$handleOtherRpc$2(DbfsServerBackend.scala:599)\n",
      "\tat com.databricks.logging.AttributionContextTracing.$anonfun$withAttributionContext$1(AttributionContextTracing.scala:49)\n",
      "\tat com.databricks.logging.AttributionContext$.$anonfun$withValue$1(AttributionContext.scala:290)\n",
      "\tat scala.util.DynamicVariable.withValue(DynamicVariable.scala:62)\n",
      "\tat com.databricks.logging.AttributionContext$.withValue(AttributionContext.scala:286)\n",
      "\tat com.databricks.logging.AttributionContextTracing.withAttributionContext(AttributionContextTracing.scala:47)\n",
      "\tat com.databricks.logging.AttributionContextTracing.withAttributionContext$(AttributionContextTracing.scala:44)\n",
      "\tat com.databricks.rpc.ServerBackend.withAttributionContext(ServerBackend.scala:22)\n",
      "\tat com.databricks.logging.AttributionContextTracing.withAttributionTags(AttributionContextTracing.scala:96)\n",
      "\tat com.databricks.logging.AttributionContextTracing.withAttributionTags$(AttributionContextTracing.scala:77)\n",
      "\tat com.databricks.rpc.ServerBackend.withAttributionTags(ServerBackend.scala:22)\n",
      "\tat com.databricks.backend.daemon.data.server.DbfsServerBackend.com$databricks$backend$daemon$data$server$DbfsServerBackend$$handleOtherRpc(DbfsServerBackend.scala:599)\n",
      "\tat com.databricks.backend.daemon.data.server.DbfsServerBackend$$anonfun$receive$1.applyOrElse(DbfsServerBackend.scala:524)\n",
      "\tat com.databricks.backend.daemon.data.server.DbfsServerBackend$$anonfun$receive$1.applyOrElse(DbfsServerBackend.scala:431)\n",
      "\tat com.databricks.rpc.ServerBackend.$anonfun$internalReceive0$2(ServerBackend.scala:174)\n",
      "\tat com.databricks.rpc.ServerBackend$$anonfun$commonReceive$1.applyOrElse(ServerBackend.scala:200)\n",
      "\tat com.databricks.rpc.ServerBackend$$anonfun$commonReceive$1.applyOrElse(ServerBackend.scala:200)\n",
      "\tat com.databricks.rpc.ServerBackend.internalReceive0(ServerBackend.scala:171)\n",
      "\tat com.databricks.rpc.ServerBackend.$anonfun$internalReceive$1(ServerBackend.scala:147)\n",
      "\tat com.databricks.logging.UsageLogging.$anonfun$recordOperation$1(UsageLogging.scala:510)\n",
      "\tat com.databricks.logging.UsageLogging.executeThunkAndCaptureResultTags$1(UsageLogging.scala:616)\n",
      "\tat com.databricks.logging.UsageLogging.$anonfun$recordOperationWithResultTags$4(UsageLogging.scala:643)\n",
      "\tat com.databricks.logging.AttributionContextTracing.$anonfun$withAttributionContext$1(AttributionContextTracing.scala:49)\n",
      "\tat com.databricks.logging.AttributionContext$.$anonfun$withValue$1(AttributionContext.scala:290)\n",
      "\tat scala.util.DynamicVariable.withValue(DynamicVariable.scala:62)\n",
      "\tat com.databricks.logging.AttributionContext$.withValue(AttributionContext.scala:286)\n",
      "\tat com.databricks.logging.AttributionContextTracing.withAttributionContext(AttributionContextTracing.scala:47)\n",
      "\tat com.databricks.logging.AttributionContextTracing.withAttributionContext$(AttributionContextTracing.scala:44)\n",
      "\tat com.databricks.rpc.ServerBackend.withAttributionContext(ServerBackend.scala:22)\n",
      "\tat com.databricks.logging.AttributionContextTracing.withAttributionTags(AttributionContextTracing.scala:96)\n",
      "\tat com.databricks.logging.AttributionContextTracing.withAttributionTags$(AttributionContextTracing.scala:77)\n",
      "\tat com.databricks.rpc.ServerBackend.withAttributionTags(ServerBackend.scala:22)\n",
      "\tat com.databricks.logging.UsageLogging.recordOperationWithResultTags(UsageLogging.scala:611)\n",
      "\tat com.databricks.logging.UsageLogging.recordOperationWithResultTags$(UsageLogging.scala:519)\n",
      "\tat com.databricks.rpc.ServerBackend.recordOperationWithResultTags(ServerBackend.scala:22)\n",
      "\tat com.databricks.logging.UsageLogging.recordOperation(UsageLogging.scala:511)\n",
      "\tat com.databricks.logging.UsageLogging.recordOperation$(UsageLogging.scala:475)\n",
      "\tat com.databricks.rpc.ServerBackend.recordOperation(ServerBackend.scala:22)\n",
      "\tat com.databricks.rpc.ServerBackend.internalReceive(ServerBackend.scala:146)\n",
      "\tat com.databricks.rpc.JettyServer$RequestManager.handleRPC(JettyServer.scala:1033)\n",
      "\tat com.databricks.rpc.JettyServer$RequestManager.handleRequestAndRespond(JettyServer.scala:953)\n",
      "\tat com.databricks.rpc.JettyServer$RequestManager.$anonfun$handleHttp$5(JettyServer.scala:548)\n",
      "\tat com.databricks.rpc.JettyServer$RequestManager.$anonfun$handleHttp$5$adapted(JettyServer.scala:513)\n",
      "\tat com.databricks.logging.activity.ActivityContextFactory$.$anonfun$withActivityInternal$12(ActivityContextFactory.scala:883)\n",
      "\tat com.databricks.logging.AttributionContextTracing.$anonfun$withAttributionContext$1(AttributionContextTracing.scala:49)\n",
      "\tat com.databricks.logging.AttributionContext$.$anonfun$withValue$1(AttributionContext.scala:290)\n",
      "\tat scala.util.DynamicVariable.withValue(DynamicVariable.scala:62)\n",
      "\tat com.databricks.logging.AttributionContext$.withValue(AttributionContext.scala:286)\n",
      "\tat com.databricks.logging.AttributionContextTracing.withAttributionContext(AttributionContextTracing.scala:47)\n",
      "\tat com.databricks.logging.AttributionContextTracing.withAttributionContext$(AttributionContextTracing.scala:44)\n",
      "\tat com.databricks.logging.activity.ActivityContextFactory$.withAttributionContext(ActivityContextFactory.scala:58)\n",
      "\tat com.databricks.logging.activity.ActivityContextFactory$.$anonfun$withActivityInternal$2(ActivityContextFactory.scala:883)\n",
      "\tat com.databricks.context.integrity.IntegrityCheckContext$ThreadLocalStorage$.withValue(IntegrityCheckContext.scala:73)\n",
      "\tat com.databricks.logging.activity.ActivityContextFactory$.withActivityInternal(ActivityContextFactory.scala:846)\n",
      "\tat com.databricks.logging.activity.ActivityContextFactory$.withActivityInternal(ActivityContextFactory.scala:828)\n",
      "\tat com.databricks.logging.activity.ActivityContextFactory$.$anonfun$withServiceRequestActivity$25(ActivityContextFactory.scala:314)\n",
      "\tat com.databricks.logging.AttributionContextTracing.$anonfun$withAttributionContext$1(AttributionContextTracing.scala:49)\n",
      "\tat com.databricks.logging.AttributionContext$.$anonfun$withValue$1(AttributionContext.scala:290)\n",
      "\tat scala.util.DynamicVariable.withValue(DynamicVariable.scala:62)\n",
      "\tat com.databricks.logging.AttributionContext$.withValue(AttributionContext.scala:286)\n",
      "\tat com.databricks.logging.AttributionContextTracing.withAttributionContext(AttributionContextTracing.scala:47)\n",
      "\tat com.databricks.logging.AttributionContextTracing.withAttributionContext$(AttributionContextTracing.scala:44)\n",
      "\tat com.databricks.logging.activity.ActivityContextFactory$.withAttributionContext(ActivityContextFactory.scala:58)\n",
      "\tat com.databricks.logging.activity.ActivityContextFactory$.withServiceRequestActivity(ActivityContextFactory.scala:314)\n",
      "\tat com.databricks.rpc.JettyServer$RequestManager.handleHttp(JettyServer.scala:513)\n",
      "\tat com.databricks.rpc.JettyServer$RequestManager.doPost(JettyServer.scala:408)\n",
      "\tat javax.servlet.http.HttpServlet.service(HttpServlet.java:665)\n",
      "\tat com.databricks.rpc.HttpServletWithPatch.service(HttpServletWithPatch.scala:33)\n",
      "\tat javax.servlet.http.HttpServlet.service(HttpServlet.java:750)\n",
      "\tat org.eclipse.jetty.servlet.ServletHolder.handle(ServletHolder.java:799)\n",
      "\tat org.eclipse.jetty.servlet.ServletHandler.doHandle(ServletHandler.java:554)\n",
      "\tat org.eclipse.jetty.server.handler.ScopedHandler.nextScope(ScopedHandler.java:190)\n",
      "\tat org.eclipse.jetty.servlet.ServletHandler.doScope(ServletHandler.java:505)\n",
      "\tat org.eclipse.jetty.server.handler.ScopedHandler.handle(ScopedHandler.java:141)\n",
      "\tat org.eclipse.jetty.server.handler.HandlerWrapper.handle(HandlerWrapper.java:127)\n",
      "\tat org.eclipse.jetty.server.Server.handle(Server.java:516)\n",
      "\tat org.eclipse.jetty.server.HttpChannel.lambda$handle$1(HttpChannel.java:487)\n",
      "\tat org.eclipse.jetty.server.HttpChannel.dispatch(HttpChannel.java:732)\n",
      "\tat org.eclipse.jetty.server.HttpChannel.handle(HttpChannel.java:479)\n",
      "\tat org.eclipse.jetty.server.HttpConnection.onFillable(HttpConnection.java:277)\n",
      "\tat org.eclipse.jetty.io.AbstractConnection$ReadCallback.succeeded(AbstractConnection.java:311)\n",
      "\tat org.eclipse.jetty.io.FillInterest.fillable(FillInterest.java:105)\n",
      "\tat org.eclipse.jetty.io.ChannelEndPoint$1.run(ChannelEndPoint.java:104)\n",
      "\tat org.eclipse.jetty.util.thread.strategy.EatWhatYouKill.runTask(EatWhatYouKill.java:338)\n",
      "\tat org.eclipse.jetty.util.thread.strategy.EatWhatYouKill.doProduce(EatWhatYouKill.java:315)\n",
      "\tat org.eclipse.jetty.util.thread.strategy.EatWhatYouKill.tryProduce(EatWhatYouKill.java:173)\n",
      "\tat org.eclipse.jetty.util.thread.strategy.EatWhatYouKill.run(EatWhatYouKill.java:131)\n",
      "\tat org.eclipse.jetty.util.thread.ReservedThreadExecutor$ReservedThread.run(ReservedThreadExecutor.java:409)\n",
      "\tat com.databricks.rpc.InstrumentedQueuedThreadPool$$anon$1.$anonfun$run$2(InstrumentedQueuedThreadPool.scala:110)\n",
      "\tat scala.runtime.java8.JFunction0$mcV$sp.apply(JFunction0$mcV$sp.java:23)\n",
      "\tat com.databricks.logging.AttributionContextTracing.$anonfun$withAttributionContext$1(AttributionContextTracing.scala:49)\n",
      "\tat com.databricks.logging.AttributionContext$.$anonfun$withValue$1(AttributionContext.scala:290)\n",
      "\tat scala.util.DynamicVariable.withValue(DynamicVariable.scala:62)\n",
      "\tat com.databricks.logging.AttributionContext$.withValue(AttributionContext.scala:286)\n",
      "\tat com.databricks.logging.AttributionContextTracing.withAttributionContext(AttributionContextTracing.scala:47)\n",
      "\tat com.databricks.logging.AttributionContextTracing.withAttributionContext$(AttributionContextTracing.scala:44)\n",
      "\tat com.databricks.rpc.InstrumentedQueuedThreadPool.withAttributionContext(InstrumentedQueuedThreadPool.scala:45)\n",
      "\tat com.databricks.rpc.InstrumentedQueuedThreadPool$$anon$1.$anonfun$run$1(InstrumentedQueuedThreadPool.scala:110)\n",
      "\tat scala.runtime.java8.JFunction0$mcV$sp.apply(JFunction0$mcV$sp.java:23)\n",
      "\tat com.databricks.instrumentation.QueuedThreadPoolInstrumenter.trackActiveThreads(QueuedThreadPoolInstrumenter.scala:132)\n",
      "\tat com.databricks.instrumentation.QueuedThreadPoolInstrumenter.trackActiveThreads$(QueuedThreadPoolInstrumenter.scala:129)\n",
      "\tat com.databricks.rpc.InstrumentedQueuedThreadPool.trackActiveThreads(InstrumentedQueuedThreadPool.scala:45)\n",
      "\tat com.databricks.rpc.InstrumentedQueuedThreadPool$$anon$1.run(InstrumentedQueuedThreadPool.scala:92)\n",
      "\tat org.eclipse.jetty.util.thread.QueuedThreadPool.runJob(QueuedThreadPool.java:883)\n",
      "\tat org.eclipse.jetty.util.thread.QueuedThreadPool$Runner.run(QueuedThreadPool.java:1034)\n",
      "\tat java.lang.Thread.run(Thread.java:840)\n",
      "\n",
      "OK!\n",
      "OK!\n",
      "OK!\n"
     ]
    }
   ],
   "source": [
    "if (len(dbutils.fs.mounts()) >= 1):\n",
    "    dbutils.fs.unmount(f'/mnt/{storageAccountName}/lading-zone')\n",
    "    dbutils.fs.unmount(f'/mnt/{storageAccountName}/bronze')\n",
    "    dbutils.fs.unmount(f'/mnt/{storageAccountName}/silver')\n",
    "    dbutils.fs.unmount(f'/mnt/{storageAccountName}/gold')\n",
    "\n",
    "mount_adls('landing-zone')\n",
    "mount_adls('bronze')\n",
    "mount_adls('silver')\n",
    "mount_adls('gold')"
   ]
  },
  {
   "cell_type": "markdown",
   "metadata": {
    "application/vnd.databricks.v1+cell": {
     "cellMetadata": {
      "byteLimit": 2048000,
      "rowLimit": 10000
     },
     "inputWidgets": {},
     "nuid": "fced822b-8bab-437b-8a58-add8a4acd24a",
     "showTitle": false,
     "tableResultSettingsMap": {},
     "title": ""
    }
   },
   "source": [
    "###Mostrando os pontos de montagem no cluster Databricks"
   ]
  },
  {
   "cell_type": "code",
   "execution_count": 0,
   "metadata": {
    "application/vnd.databricks.v1+cell": {
     "cellMetadata": {
      "byteLimit": 2048000,
      "rowLimit": 10000
     },
     "inputWidgets": {},
     "nuid": "d53984ff-8536-4a33-9e43-acfe34489ab1",
     "showTitle": false,
     "tableResultSettingsMap": {},
     "title": ""
    }
   },
   "outputs": [
    {
     "data": {
      "text/html": [
       "<style scoped>\n",
       "  .table-result-container {\n",
       "    max-height: 300px;\n",
       "    overflow: auto;\n",
       "  }\n",
       "  table, th, td {\n",
       "    border: 1px solid black;\n",
       "    border-collapse: collapse;\n",
       "  }\n",
       "  th, td {\n",
       "    padding: 5px;\n",
       "  }\n",
       "  th {\n",
       "    text-align: left;\n",
       "  }\n",
       "</style><div class='table-result-container'><table class='table-result'><thead style='background-color: white'><tr><th>mountPoint</th><th>source</th><th>encryptionType</th></tr></thead><tbody><tr><td>/mnt/datalake5ee525b259fdd7be/silver</td><td>wasbs://silver@datalake5ee525b259fdd7be.blob.core.windows.net</td><td></td></tr><tr><td>/databricks-datasets</td><td>databricks-datasets</td><td></td></tr><tr><td>/mnt/datalake56cea6a3510650a6/landing-zone</td><td>wasbs://landing-zone@datalake56cea6a3510650a6.blob.core.windows.net</td><td></td></tr><tr><td>/mnt/datalakebae112c35115d7e3/bronze</td><td>wasbs://bronze@datalakebae112c35115d7e3.blob.core.windows.net</td><td></td></tr><tr><td>/mnt/datalake56cea6a3510650a6/gold</td><td>wasbs://gold@datalake56cea6a3510650a6.blob.core.windows.net</td><td></td></tr><tr><td>/mnt/datalake9fc5ac43334b8d99/landing-zone</td><td>wasbs://landing-zone@datalake9fc5ac43334b8d99.blob.core.windows.net</td><td></td></tr><tr><td>/mnt/datalakecd63092f4c645dfd/lading-zone</td><td>wasbs://lading-zone@datalakecd63092f4c645dfd.blob.core.windows.net</td><td></td></tr><tr><td>/mnt/datalakea554ff8ebf909b7f/silver</td><td>wasbs://silver@datalakea554ff8ebf909b7f.blob.core.windows.net</td><td></td></tr><tr><td>/mnt/datalake5ee525b259fdd7be/gold</td><td>wasbs://gold@datalake5ee525b259fdd7be.blob.core.windows.net</td><td></td></tr><tr><td>/mnt/datalake56cea6a3510650a6/lading-zone</td><td>wasbs://lading-zone@datalake56cea6a3510650a6.blob.core.windows.net</td><td></td></tr><tr><td>/databricks/mlflow-tracking</td><td>databricks/mlflow-tracking</td><td>sse-s3</td></tr><tr><td>/mnt/datalake5ee525b259fdd7be/landing-zone</td><td>wasbs://landing-zone@datalake5ee525b259fdd7be.blob.core.windows.net</td><td></td></tr><tr><td>/databricks-results</td><td>databricks-results</td><td>sse-s3</td></tr><tr><td>/mnt/datalakebae112c35115d7e3/landing-zone</td><td>wasbs://landing-zone@datalakebae112c35115d7e3.blob.core.windows.net</td><td></td></tr><tr><td>/mnt/datalakebae112c35115d7e3/lading-zone</td><td>wasbs://lading-zone@datalakebae112c35115d7e3.blob.core.windows.net</td><td></td></tr><tr><td>/mnt/datalakebae112c35115d7e3/silver</td><td>wasbs://silver@datalakebae112c35115d7e3.blob.core.windows.net</td><td></td></tr><tr><td>/mnt/datalake7bda6b3f393108d9/gold</td><td>wasbs://gold@datalake7bda6b3f393108d9.blob.core.windows.net</td><td></td></tr><tr><td>/mnt/datalakecd63092f4c645dfd/silver</td><td>wasbs://silver@datalakecd63092f4c645dfd.blob.core.windows.net</td><td></td></tr><tr><td>/databricks/mlflow-registry</td><td>databricks/mlflow-registry</td><td>sse-s3</td></tr><tr><td>/mnt/datalake9fc5ac43334b8d99/bronze</td><td>wasbs://bronze@datalake9fc5ac43334b8d99.blob.core.windows.net</td><td></td></tr><tr><td>/mnt/datalake4f4de806e56e47cc/lading-zone</td><td>wasbs://lading-zone@datalake4f4de806e56e47cc.blob.core.windows.net</td><td></td></tr><tr><td>/mnt/datalake4f4de806e56e47cc/landing-zone</td><td>wasbs://landing-zone@datalake4f4de806e56e47cc.blob.core.windows.net</td><td></td></tr><tr><td>/mnt/datalakecd63092f4c645dfd/landing-zone</td><td>wasbs://landing-zone@datalakecd63092f4c645dfd.blob.core.windows.net</td><td></td></tr><tr><td>/mnt/datalake7bda6b3f393108d9/silver</td><td>wasbs://silver@datalake7bda6b3f393108d9.blob.core.windows.net</td><td></td></tr><tr><td>/mnt/datalake4f4de806e56e47cc/silver</td><td>wasbs://silver@datalake4f4de806e56e47cc.blob.core.windows.net</td><td></td></tr><tr><td>/mnt/datalakea554ff8ebf909b7f/bronze</td><td>wasbs://bronze@datalakea554ff8ebf909b7f.blob.core.windows.net</td><td></td></tr><tr><td>/mnt/datalake4f4de806e56e47cc/gold</td><td>wasbs://gold@datalake4f4de806e56e47cc.blob.core.windows.net</td><td></td></tr><tr><td>/mnt/datalakecd63092f4c645dfd/gold</td><td>wasbs://gold@datalakecd63092f4c645dfd.blob.core.windows.net</td><td></td></tr><tr><td>/mnt/datalakea554ff8ebf909b7f/landing-zone</td><td>wasbs://landing-zone@datalakea554ff8ebf909b7f.blob.core.windows.net</td><td></td></tr><tr><td>/mnt/datalakea554ff8ebf909b7f/gold</td><td>wasbs://gold@datalakea554ff8ebf909b7f.blob.core.windows.net</td><td></td></tr><tr><td>/mnt/datalake56cea6a3510650a6/bronze</td><td>wasbs://bronze@datalake56cea6a3510650a6.blob.core.windows.net</td><td></td></tr><tr><td>/mnt/datalakecd63092f4c645dfd/bronze</td><td>wasbs://bronze@datalakecd63092f4c645dfd.blob.core.windows.net</td><td></td></tr><tr><td>/mnt/datalake5ee525b259fdd7be/bronze</td><td>wasbs://bronze@datalake5ee525b259fdd7be.blob.core.windows.net</td><td></td></tr><tr><td>/mnt/datalake56cea6a3510650a6/silver</td><td>wasbs://silver@datalake56cea6a3510650a6.blob.core.windows.net</td><td></td></tr><tr><td>/mnt/datalake7bda6b3f393108d9/landing-zone</td><td>wasbs://landing-zone@datalake7bda6b3f393108d9.blob.core.windows.net</td><td></td></tr><tr><td>/mnt/datalake7bda6b3f393108d9/bronze</td><td>wasbs://bronze@datalake7bda6b3f393108d9.blob.core.windows.net</td><td></td></tr><tr><td>/</td><td>DatabricksRoot</td><td>sse-s3</td></tr><tr><td>/mnt/datalakebae112c35115d7e3/gold</td><td>wasbs://gold@datalakebae112c35115d7e3.blob.core.windows.net</td><td></td></tr><tr><td>/mnt/datalake4f4de806e56e47cc/bronze</td><td>wasbs://bronze@datalake4f4de806e56e47cc.blob.core.windows.net</td><td></td></tr></tbody></table></div>"
      ]
     },
     "metadata": {
      "application/vnd.databricks.v1+output": {
       "addedWidgets": {},
       "aggData": [],
       "aggError": "",
       "aggOverflow": false,
       "aggSchema": [],
       "aggSeriesLimitReached": false,
       "aggType": "",
       "arguments": {},
       "columnCustomDisplayInfos": {},
       "data": [
        [
         "/mnt/datalake5ee525b259fdd7be/silver",
         "wasbs://silver@datalake5ee525b259fdd7be.blob.core.windows.net",
         ""
        ],
        [
         "/databricks-datasets",
         "databricks-datasets",
         ""
        ],
        [
         "/mnt/datalake56cea6a3510650a6/landing-zone",
         "wasbs://landing-zone@datalake56cea6a3510650a6.blob.core.windows.net",
         ""
        ],
        [
         "/mnt/datalakebae112c35115d7e3/bronze",
         "wasbs://bronze@datalakebae112c35115d7e3.blob.core.windows.net",
         ""
        ],
        [
         "/mnt/datalake56cea6a3510650a6/gold",
         "wasbs://gold@datalake56cea6a3510650a6.blob.core.windows.net",
         ""
        ],
        [
         "/mnt/datalake9fc5ac43334b8d99/landing-zone",
         "wasbs://landing-zone@datalake9fc5ac43334b8d99.blob.core.windows.net",
         ""
        ],
        [
         "/mnt/datalakecd63092f4c645dfd/lading-zone",
         "wasbs://lading-zone@datalakecd63092f4c645dfd.blob.core.windows.net",
         ""
        ],
        [
         "/mnt/datalakea554ff8ebf909b7f/silver",
         "wasbs://silver@datalakea554ff8ebf909b7f.blob.core.windows.net",
         ""
        ],
        [
         "/mnt/datalake5ee525b259fdd7be/gold",
         "wasbs://gold@datalake5ee525b259fdd7be.blob.core.windows.net",
         ""
        ],
        [
         "/mnt/datalake56cea6a3510650a6/lading-zone",
         "wasbs://lading-zone@datalake56cea6a3510650a6.blob.core.windows.net",
         ""
        ],
        [
         "/databricks/mlflow-tracking",
         "databricks/mlflow-tracking",
         "sse-s3"
        ],
        [
         "/mnt/datalake5ee525b259fdd7be/landing-zone",
         "wasbs://landing-zone@datalake5ee525b259fdd7be.blob.core.windows.net",
         ""
        ],
        [
         "/databricks-results",
         "databricks-results",
         "sse-s3"
        ],
        [
         "/mnt/datalakebae112c35115d7e3/landing-zone",
         "wasbs://landing-zone@datalakebae112c35115d7e3.blob.core.windows.net",
         ""
        ],
        [
         "/mnt/datalakebae112c35115d7e3/lading-zone",
         "wasbs://lading-zone@datalakebae112c35115d7e3.blob.core.windows.net",
         ""
        ],
        [
         "/mnt/datalakebae112c35115d7e3/silver",
         "wasbs://silver@datalakebae112c35115d7e3.blob.core.windows.net",
         ""
        ],
        [
         "/mnt/datalake7bda6b3f393108d9/gold",
         "wasbs://gold@datalake7bda6b3f393108d9.blob.core.windows.net",
         ""
        ],
        [
         "/mnt/datalakecd63092f4c645dfd/silver",
         "wasbs://silver@datalakecd63092f4c645dfd.blob.core.windows.net",
         ""
        ],
        [
         "/databricks/mlflow-registry",
         "databricks/mlflow-registry",
         "sse-s3"
        ],
        [
         "/mnt/datalake9fc5ac43334b8d99/bronze",
         "wasbs://bronze@datalake9fc5ac43334b8d99.blob.core.windows.net",
         ""
        ],
        [
         "/mnt/datalake4f4de806e56e47cc/lading-zone",
         "wasbs://lading-zone@datalake4f4de806e56e47cc.blob.core.windows.net",
         ""
        ],
        [
         "/mnt/datalake4f4de806e56e47cc/landing-zone",
         "wasbs://landing-zone@datalake4f4de806e56e47cc.blob.core.windows.net",
         ""
        ],
        [
         "/mnt/datalakecd63092f4c645dfd/landing-zone",
         "wasbs://landing-zone@datalakecd63092f4c645dfd.blob.core.windows.net",
         ""
        ],
        [
         "/mnt/datalake7bda6b3f393108d9/silver",
         "wasbs://silver@datalake7bda6b3f393108d9.blob.core.windows.net",
         ""
        ],
        [
         "/mnt/datalake4f4de806e56e47cc/silver",
         "wasbs://silver@datalake4f4de806e56e47cc.blob.core.windows.net",
         ""
        ],
        [
         "/mnt/datalakea554ff8ebf909b7f/bronze",
         "wasbs://bronze@datalakea554ff8ebf909b7f.blob.core.windows.net",
         ""
        ],
        [
         "/mnt/datalake4f4de806e56e47cc/gold",
         "wasbs://gold@datalake4f4de806e56e47cc.blob.core.windows.net",
         ""
        ],
        [
         "/mnt/datalakecd63092f4c645dfd/gold",
         "wasbs://gold@datalakecd63092f4c645dfd.blob.core.windows.net",
         ""
        ],
        [
         "/mnt/datalakea554ff8ebf909b7f/landing-zone",
         "wasbs://landing-zone@datalakea554ff8ebf909b7f.blob.core.windows.net",
         ""
        ],
        [
         "/mnt/datalakea554ff8ebf909b7f/gold",
         "wasbs://gold@datalakea554ff8ebf909b7f.blob.core.windows.net",
         ""
        ],
        [
         "/mnt/datalake56cea6a3510650a6/bronze",
         "wasbs://bronze@datalake56cea6a3510650a6.blob.core.windows.net",
         ""
        ],
        [
         "/mnt/datalakecd63092f4c645dfd/bronze",
         "wasbs://bronze@datalakecd63092f4c645dfd.blob.core.windows.net",
         ""
        ],
        [
         "/mnt/datalake5ee525b259fdd7be/bronze",
         "wasbs://bronze@datalake5ee525b259fdd7be.blob.core.windows.net",
         ""
        ],
        [
         "/mnt/datalake56cea6a3510650a6/silver",
         "wasbs://silver@datalake56cea6a3510650a6.blob.core.windows.net",
         ""
        ],
        [
         "/mnt/datalake7bda6b3f393108d9/landing-zone",
         "wasbs://landing-zone@datalake7bda6b3f393108d9.blob.core.windows.net",
         ""
        ],
        [
         "/mnt/datalake7bda6b3f393108d9/bronze",
         "wasbs://bronze@datalake7bda6b3f393108d9.blob.core.windows.net",
         ""
        ],
        [
         "/",
         "DatabricksRoot",
         "sse-s3"
        ],
        [
         "/mnt/datalakebae112c35115d7e3/gold",
         "wasbs://gold@datalakebae112c35115d7e3.blob.core.windows.net",
         ""
        ],
        [
         "/mnt/datalake4f4de806e56e47cc/bronze",
         "wasbs://bronze@datalake4f4de806e56e47cc.blob.core.windows.net",
         ""
        ]
       ],
       "datasetInfos": [],
       "dbfsResultPath": null,
       "isJsonSchema": true,
       "metadata": {},
       "overflow": false,
       "plotOptions": {
        "customPlotOptions": {},
        "displayType": "table",
        "pivotAggregation": null,
        "pivotColumns": null,
        "xColumns": null,
        "yColumns": null
       },
       "removedWidgets": [],
       "schema": [
        {
         "metadata": "{}",
         "name": "mountPoint",
         "type": "\"string\""
        },
        {
         "metadata": "{}",
         "name": "source",
         "type": "\"string\""
        },
        {
         "metadata": "{}",
         "name": "encryptionType",
         "type": "\"string\""
        }
       ],
       "type": "table"
      }
     },
     "output_type": "display_data"
    }
   ],
   "source": [
    "display(dbutils.fs.mounts())"
   ]
  },
  {
   "cell_type": "markdown",
   "metadata": {
    "application/vnd.databricks.v1+cell": {
     "cellMetadata": {
      "byteLimit": 2048000,
      "rowLimit": 10000
     },
     "inputWidgets": {},
     "nuid": "1f6ec630-db65-41cb-9fdf-a941cfafe400",
     "showTitle": false,
     "tableResultSettingsMap": {},
     "title": ""
    }
   },
   "source": [
    "### Mostrando todos os arquivos da camada landing-zone"
   ]
  },
  {
   "cell_type": "code",
   "execution_count": 0,
   "metadata": {
    "application/vnd.databricks.v1+cell": {
     "cellMetadata": {
      "byteLimit": 2048000,
      "rowLimit": 10000
     },
     "inputWidgets": {},
     "nuid": "295f6535-5ab1-43af-a1d3-fadec36b766b",
     "showTitle": false,
     "tableResultSettingsMap": {},
     "title": ""
    }
   },
   "outputs": [
    {
     "data": {
      "text/html": [
       "<style scoped>\n",
       "  .table-result-container {\n",
       "    max-height: 300px;\n",
       "    overflow: auto;\n",
       "  }\n",
       "  table, th, td {\n",
       "    border: 1px solid black;\n",
       "    border-collapse: collapse;\n",
       "  }\n",
       "  th, td {\n",
       "    padding: 5px;\n",
       "  }\n",
       "  th {\n",
       "    text-align: left;\n",
       "  }\n",
       "</style><div class='table-result-container'><table class='table-result'><thead style='background-color: white'><tr><th>path</th><th>name</th><th>size</th><th>modificationTime</th></tr></thead><tbody><tr><td>dbfs:/mnt/datalakea554ff8ebf909b7f/landing-zone/Csvs/autor.csv</td><td>autor.csv</td><td>168104</td><td>1750467306000</td></tr><tr><td>dbfs:/mnt/datalakea554ff8ebf909b7f/landing-zone/Csvs/cliente.csv</td><td>cliente.csv</td><td>1594285</td><td>1750467307000</td></tr><tr><td>dbfs:/mnt/datalakea554ff8ebf909b7f/landing-zone/Csvs/editora.csv</td><td>editora.csv</td><td>41240</td><td>1750467308000</td></tr><tr><td>dbfs:/mnt/datalakea554ff8ebf909b7f/landing-zone/Csvs/endereco.csv</td><td>endereco.csv</td><td>1479732</td><td>1750467309000</td></tr><tr><td>dbfs:/mnt/datalakea554ff8ebf909b7f/landing-zone/Csvs/estoque.csv</td><td>estoque.csv</td><td>144324</td><td>1750467309000</td></tr><tr><td>dbfs:/mnt/datalakea554ff8ebf909b7f/landing-zone/Csvs/funcionario.csv</td><td>funcionario.csv</td><td>109667</td><td>1750467310000</td></tr><tr><td>dbfs:/mnt/datalakea554ff8ebf909b7f/landing-zone/Csvs/item_pedido.csv</td><td>item_pedido.csv</td><td>1324478</td><td>1750467311000</td></tr><tr><td>dbfs:/mnt/datalakea554ff8ebf909b7f/landing-zone/Csvs/livro.csv</td><td>livro.csv</td><td>1912213</td><td>1750467312000</td></tr><tr><td>dbfs:/mnt/datalakea554ff8ebf909b7f/landing-zone/Csvs/pagamento.csv</td><td>pagamento.csv</td><td>796640</td><td>1750467313000</td></tr><tr><td>dbfs:/mnt/datalakea554ff8ebf909b7f/landing-zone/Csvs/pedido.csv</td><td>pedido.csv</td><td>935650</td><td>1750467314000</td></tr></tbody></table></div>"
      ]
     },
     "metadata": {
      "application/vnd.databricks.v1+output": {
       "addedWidgets": {},
       "aggData": [],
       "aggError": "",
       "aggOverflow": false,
       "aggSchema": [],
       "aggSeriesLimitReached": false,
       "aggType": "",
       "arguments": {},
       "columnCustomDisplayInfos": {},
       "data": [
        [
         "dbfs:/mnt/datalakea554ff8ebf909b7f/landing-zone/Csvs/autor.csv",
         "autor.csv",
         168104,
         1750467306000
        ],
        [
         "dbfs:/mnt/datalakea554ff8ebf909b7f/landing-zone/Csvs/cliente.csv",
         "cliente.csv",
         1594285,
         1750467307000
        ],
        [
         "dbfs:/mnt/datalakea554ff8ebf909b7f/landing-zone/Csvs/editora.csv",
         "editora.csv",
         41240,
         1750467308000
        ],
        [
         "dbfs:/mnt/datalakea554ff8ebf909b7f/landing-zone/Csvs/endereco.csv",
         "endereco.csv",
         1479732,
         1750467309000
        ],
        [
         "dbfs:/mnt/datalakea554ff8ebf909b7f/landing-zone/Csvs/estoque.csv",
         "estoque.csv",
         144324,
         1750467309000
        ],
        [
         "dbfs:/mnt/datalakea554ff8ebf909b7f/landing-zone/Csvs/funcionario.csv",
         "funcionario.csv",
         109667,
         1750467310000
        ],
        [
         "dbfs:/mnt/datalakea554ff8ebf909b7f/landing-zone/Csvs/item_pedido.csv",
         "item_pedido.csv",
         1324478,
         1750467311000
        ],
        [
         "dbfs:/mnt/datalakea554ff8ebf909b7f/landing-zone/Csvs/livro.csv",
         "livro.csv",
         1912213,
         1750467312000
        ],
        [
         "dbfs:/mnt/datalakea554ff8ebf909b7f/landing-zone/Csvs/pagamento.csv",
         "pagamento.csv",
         796640,
         1750467313000
        ],
        [
         "dbfs:/mnt/datalakea554ff8ebf909b7f/landing-zone/Csvs/pedido.csv",
         "pedido.csv",
         935650,
         1750467314000
        ]
       ],
       "datasetInfos": [],
       "dbfsResultPath": null,
       "isJsonSchema": true,
       "metadata": {},
       "overflow": false,
       "plotOptions": {
        "customPlotOptions": {},
        "displayType": "table",
        "pivotAggregation": null,
        "pivotColumns": null,
        "xColumns": null,
        "yColumns": null
       },
       "removedWidgets": [],
       "schema": [
        {
         "metadata": "{}",
         "name": "path",
         "type": "\"string\""
        },
        {
         "metadata": "{}",
         "name": "name",
         "type": "\"string\""
        },
        {
         "metadata": "{}",
         "name": "size",
         "type": "\"long\""
        },
        {
         "metadata": "{}",
         "name": "modificationTime",
         "type": "\"long\""
        }
       ],
       "type": "table"
      }
     },
     "output_type": "display_data"
    }
   ],
   "source": [
    "display(dbutils.fs.ls(f\"/mnt/{storageAccountName}/landing-zone/Csvs\"))"
   ]
  },
  {
   "cell_type": "markdown",
   "metadata": {
    "application/vnd.databricks.v1+cell": {
     "cellMetadata": {
      "byteLimit": 2048000,
      "rowLimit": 10000
     },
     "inputWidgets": {},
     "nuid": "1ef3c883-3b0f-44cb-8917-49f1f1fd3819",
     "showTitle": false,
     "tableResultSettingsMap": {},
     "title": ""
    }
   },
   "source": [
    "###Gerando um dataframe para cada arquivo a partir dos arquivos CSV gravado no container landing-zone do Azure Data Lake Storage"
   ]
  },
  {
   "cell_type": "code",
   "execution_count": 0,
   "metadata": {
    "application/vnd.databricks.v1+cell": {
     "cellMetadata": {
      "byteLimit": 2048000,
      "rowLimit": 10000
     },
     "inputWidgets": {},
     "nuid": "37774595-e2cd-4ba0-92aa-4a6f239c0e7b",
     "showTitle": false,
     "tableResultSettingsMap": {},
     "title": ""
    }
   },
   "outputs": [],
   "source": [
    "df_autor   = spark.read.option(\"infeschema\", \"true\").option(\"header\", \"true\").csv(f\"/mnt/{storageAccountName}/landing-zone/Csvs/autor.csv\")\n",
    "df_cliente = spark.read.option(\"infeschema\", \"true\").option(\"header\", \"true\").csv(f\"/mnt/{storageAccountName}/landing-zone/Csvs/cliente.csv\")\n",
    "df_editora   = spark.read.option(\"infeschema\", \"true\").option(\"header\", \"true\").csv(f\"/mnt/{storageAccountName}/landing-zone/Csvs/editora.csv\")\n",
    "df_endereco = spark.read.option(\"infeschema\", \"true\").option(\"header\", \"true\").csv(f\"/mnt/{storageAccountName}/landing-zone/Csvs/endereco.csv\")\n",
    "df_estoque = spark.read.option(\"infeschema\", \"true\").option(\"header\", \"true\").csv(f\"/mnt/{storageAccountName}/landing-zone/Csvs/estoque.csv\")\n",
    "df_funcionario = spark.read.option(\"infeschema\", \"true\").option(\"header\", \"true\").csv(f\"/mnt/{storageAccountName}/landing-zone/Csvs/funcionario.csv\")\n",
    "df_item_pedido = spark.read.option(\"infeschema\", \"true\").option(\"header\", \"true\").csv(f\"/mnt/{storageAccountName}/landing-zone/Csvs/item_pedido.csv\")\n",
    "df_livro = spark.read.option(\"infeschema\", \"true\").option(\"header\", \"true\").csv(f\"/mnt/{storageAccountName}/landing-zone/Csvs/livro.csv\")\n",
    "df_pagamento = spark.read.option(\"infeschema\", \"true\").option(\"header\", \"true\").csv(f\"/mnt/{storageAccountName}/landing-zone/Csvs/pagamento.csv\")\n",
    "df_pedido = spark.read.option(\"infeschema\", \"true\").option(\"header\", \"true\").csv(f\"/mnt/{storageAccountName}/landing-zone/Csvs/pedido.csv\")"
   ]
  },
  {
   "cell_type": "markdown",
   "metadata": {
    "application/vnd.databricks.v1+cell": {
     "cellMetadata": {
      "byteLimit": 2048000,
      "rowLimit": 10000
     },
     "inputWidgets": {},
     "nuid": "e4ffc23f-8add-4747-b572-b470a7e5eb8f",
     "showTitle": false,
     "tableResultSettingsMap": {},
     "title": ""
    }
   },
   "source": [
    "### Adicionando metadados de data e hora de processamento e nome do arquivo de origem"
   ]
  },
  {
   "cell_type": "code",
   "execution_count": 0,
   "metadata": {
    "application/vnd.databricks.v1+cell": {
     "cellMetadata": {
      "byteLimit": 2048000,
      "rowLimit": 10000
     },
     "inputWidgets": {},
     "nuid": "f278962e-c91a-4900-ba19-27d9b9e08947",
     "showTitle": false,
     "tableResultSettingsMap": {},
     "title": ""
    }
   },
   "outputs": [],
   "source": [
    "from pyspark.sql.functions import current_timestamp, lit\n",
    "\n",
    "df_autor   = df_autor.withColumn(\"data_hora_bronze\", current_timestamp()).withColumn(\"nome_arquivo\", lit(\"autor.csv\"))\n",
    "df_cliente     = df_cliente.withColumn(\"data_hora_bronze\", current_timestamp()).withColumn(\"nome_arquivo\", lit(\"cliente.csv\"))\n",
    "df_editora   = df_editora.withColumn(\"data_hora_bronze\", current_timestamp()).withColumn(\"nome_arquivo\", lit(\"editora.csv\"))\n",
    "df_endereco  = df_endereco.withColumn(\"data_hora_bronze\", current_timestamp()).withColumn(\"nome_arquivo\", lit(\"endereco.csv\"))\n",
    "df_estoque  = df_estoque.withColumn(\"data_hora_bronze\", current_timestamp()).withColumn(\"nome_arquivo\", lit(\"estoque.csv\"))\n",
    "df_funcionario  = df_funcionario.withColumn(\"data_hora_bronze\", current_timestamp()).withColumn(\"nome_arquivo\", lit(\"funcionario.csv\"))\n",
    "df_item_pedido  = df_item_pedido.withColumn(\"data_hora_bronze\", current_timestamp()).withColumn(\"nome_arquivo\", lit(\"item_pedido.csv\"))\n",
    "df_livro  = df_livro.withColumn(\"data_hora_bronze\", current_timestamp()).withColumn(\"nome_arquivo\", lit(\"livro.csv\"))\n",
    "df_pagamento  = df_pagamento.withColumn(\"data_hora_bronze\", current_timestamp()).withColumn(\"nome_arquivo\", lit(\"pagamento.csv\"))\n",
    "df_pedido  = df_pedido.withColumn(\"data_hora_bronze\", current_timestamp()).withColumn(\"nome_arquivo\", lit(\"pedido.csv\"))\n"
   ]
  },
  {
   "cell_type": "markdown",
   "metadata": {
    "application/vnd.databricks.v1+cell": {
     "cellMetadata": {
      "byteLimit": 2048000,
      "rowLimit": 10000
     },
     "inputWidgets": {},
     "nuid": "8d908b82-ff93-4bb6-af69-ec5655308a8f",
     "showTitle": false,
     "tableResultSettingsMap": {},
     "title": ""
    }
   },
   "source": [
    "###Salvando os dataframes em delta lake (formato de arquivo) no data lake (repositorio cloud)"
   ]
  },
  {
   "cell_type": "code",
   "execution_count": 0,
   "metadata": {
    "application/vnd.databricks.v1+cell": {
     "cellMetadata": {
      "byteLimit": 2048000,
      "rowLimit": 10000
     },
     "inputWidgets": {},
     "nuid": "bb02cf44-9572-4ee1-8830-c3671012ec49",
     "showTitle": false,
     "tableResultSettingsMap": {},
     "title": ""
    }
   },
   "outputs": [],
   "source": [
    "df_autor.write.format('delta').mode(\"overwrite\").save(f\"/mnt/{storageAccountName}/bronze/autor\")\n",
    "df_cliente.write.format('delta').mode(\"overwrite\").save(f\"/mnt/{storageAccountName}/bronze/cliente\")\n",
    "df_editora.write.format('delta').mode(\"overwrite\").save(f\"/mnt/{storageAccountName}/bronze/editora\")\n",
    "df_endereco.write.format('delta').mode(\"overwrite\").save(f\"/mnt/{storageAccountName}/bronze/endereco\")\n",
    "df_estoque.write.format('delta').mode(\"overwrite\").save(f\"/mnt/{storageAccountName}/bronze/estoque\")\n",
    "df_funcionario.write.format('delta').mode(\"overwrite\").save(f\"/mnt/{storageAccountName}/bronze/funcionario\")\n",
    "df_item_pedido.write.format('delta').mode(\"overwrite\").save(f\"/mnt/{storageAccountName}/bronze/item_pedido\")\n",
    "df_livro.write.format('delta').mode(\"overwrite\").save(f\"/mnt/{storageAccountName}/bronze/livro\")\n",
    "df_pagamento.write.format('delta').mode(\"overwrite\").save(f\"/mnt/{storageAccountName}/bronze/pagamento\")\n",
    "df_pedido.write.format('delta').mode(\"overwrite\").save(f\"/mnt/{storageAccountName}/bronze/pedido\")"
   ]
  },
  {
   "cell_type": "markdown",
   "metadata": {
    "application/vnd.databricks.v1+cell": {
     "cellMetadata": {
      "byteLimit": 2048000,
      "rowLimit": 10000
     },
     "inputWidgets": {},
     "nuid": "511bb1d8-ea04-4a9c-93c4-6b8228f00830",
     "showTitle": false,
     "tableResultSettingsMap": {},
     "title": ""
    }
   },
   "source": [
    "###Verificando os dados gravados em delta na camada bronze"
   ]
  },
  {
   "cell_type": "code",
   "execution_count": 0,
   "metadata": {
    "application/vnd.databricks.v1+cell": {
     "cellMetadata": {
      "byteLimit": 2048000,
      "implicitDf": true,
      "rowLimit": 10000
     },
     "inputWidgets": {},
     "nuid": "6e8454d0-a9de-40dc-b55d-a8aa0156f93f",
     "showTitle": false,
     "tableResultSettingsMap": {},
     "title": ""
    }
   },
   "outputs": [
    {
     "data": {
      "text/html": [
       "<style scoped>\n",
       "  .table-result-container {\n",
       "    max-height: 300px;\n",
       "    overflow: auto;\n",
       "  }\n",
       "  table, th, td {\n",
       "    border: 1px solid black;\n",
       "    border-collapse: collapse;\n",
       "  }\n",
       "  th, td {\n",
       "    padding: 5px;\n",
       "  }\n",
       "  th {\n",
       "    text-align: left;\n",
       "  }\n",
       "</style><div class='table-result-container'><table class='table-result'><thead style='background-color: white'><tr><th>path</th><th>name</th><th>size</th><th>modificationTime</th></tr></thead><tbody><tr><td>dbfs:/mnt/datalakea554ff8ebf909b7f/bronze/autor/</td><td>autor/</td><td>0</td><td>0</td></tr><tr><td>dbfs:/mnt/datalakea554ff8ebf909b7f/bronze/cliente/</td><td>cliente/</td><td>0</td><td>0</td></tr><tr><td>dbfs:/mnt/datalakea554ff8ebf909b7f/bronze/editora/</td><td>editora/</td><td>0</td><td>0</td></tr><tr><td>dbfs:/mnt/datalakea554ff8ebf909b7f/bronze/endereco/</td><td>endereco/</td><td>0</td><td>0</td></tr><tr><td>dbfs:/mnt/datalakea554ff8ebf909b7f/bronze/estoque/</td><td>estoque/</td><td>0</td><td>0</td></tr><tr><td>dbfs:/mnt/datalakea554ff8ebf909b7f/bronze/funcionario/</td><td>funcionario/</td><td>0</td><td>0</td></tr><tr><td>dbfs:/mnt/datalakea554ff8ebf909b7f/bronze/item_pedido/</td><td>item_pedido/</td><td>0</td><td>0</td></tr><tr><td>dbfs:/mnt/datalakea554ff8ebf909b7f/bronze/livro/</td><td>livro/</td><td>0</td><td>0</td></tr><tr><td>dbfs:/mnt/datalakea554ff8ebf909b7f/bronze/pagamento/</td><td>pagamento/</td><td>0</td><td>0</td></tr><tr><td>dbfs:/mnt/datalakea554ff8ebf909b7f/bronze/pedido/</td><td>pedido/</td><td>0</td><td>0</td></tr></tbody></table></div>"
      ]
     },
     "metadata": {
      "application/vnd.databricks.v1+output": {
       "addedWidgets": {},
       "aggData": [],
       "aggError": "",
       "aggOverflow": false,
       "aggSchema": [],
       "aggSeriesLimitReached": false,
       "aggType": "",
       "arguments": {},
       "columnCustomDisplayInfos": {},
       "data": [
        [
         "dbfs:/mnt/datalakea554ff8ebf909b7f/bronze/autor/",
         "autor/",
         0,
         0
        ],
        [
         "dbfs:/mnt/datalakea554ff8ebf909b7f/bronze/cliente/",
         "cliente/",
         0,
         0
        ],
        [
         "dbfs:/mnt/datalakea554ff8ebf909b7f/bronze/editora/",
         "editora/",
         0,
         0
        ],
        [
         "dbfs:/mnt/datalakea554ff8ebf909b7f/bronze/endereco/",
         "endereco/",
         0,
         0
        ],
        [
         "dbfs:/mnt/datalakea554ff8ebf909b7f/bronze/estoque/",
         "estoque/",
         0,
         0
        ],
        [
         "dbfs:/mnt/datalakea554ff8ebf909b7f/bronze/funcionario/",
         "funcionario/",
         0,
         0
        ],
        [
         "dbfs:/mnt/datalakea554ff8ebf909b7f/bronze/item_pedido/",
         "item_pedido/",
         0,
         0
        ],
        [
         "dbfs:/mnt/datalakea554ff8ebf909b7f/bronze/livro/",
         "livro/",
         0,
         0
        ],
        [
         "dbfs:/mnt/datalakea554ff8ebf909b7f/bronze/pagamento/",
         "pagamento/",
         0,
         0
        ],
        [
         "dbfs:/mnt/datalakea554ff8ebf909b7f/bronze/pedido/",
         "pedido/",
         0,
         0
        ]
       ],
       "datasetInfos": [],
       "dbfsResultPath": null,
       "isJsonSchema": true,
       "metadata": {},
       "overflow": false,
       "plotOptions": {
        "customPlotOptions": {},
        "displayType": "table",
        "pivotAggregation": null,
        "pivotColumns": null,
        "xColumns": null,
        "yColumns": null
       },
       "removedWidgets": [],
       "schema": [
        {
         "metadata": "{}",
         "name": "path",
         "type": "\"string\""
        },
        {
         "metadata": "{}",
         "name": "name",
         "type": "\"string\""
        },
        {
         "metadata": "{}",
         "name": "size",
         "type": "\"long\""
        },
        {
         "metadata": "{}",
         "name": "modificationTime",
         "type": "\"long\""
        }
       ],
       "type": "table"
      }
     },
     "output_type": "display_data"
    }
   ],
   "source": [
    "display(dbutils.fs.ls(f\"/mnt/{storageAccountName}/bronze/\"))"
   ]
  },
  {
   "cell_type": "markdown",
   "metadata": {
    "application/vnd.databricks.v1+cell": {
     "cellMetadata": {
      "byteLimit": 2048000,
      "rowLimit": 10000
     },
     "inputWidgets": {},
     "nuid": "f6393fa5-64f2-4e8d-8358-617d0b55f035",
     "showTitle": false,
     "tableResultSettingsMap": {},
     "title": ""
    }
   },
   "source": [
    "### Lendo um exemplo de um delta lake para validar a existencia dos dados e das colunas do metadados"
   ]
  },
  {
   "cell_type": "code",
   "execution_count": 0,
   "metadata": {
    "application/vnd.databricks.v1+cell": {
     "cellMetadata": {
      "byteLimit": 2048000,
      "implicitDf": true,
      "rowLimit": 10000
     },
     "inputWidgets": {},
     "nuid": "84ef9829-3e0e-4807-bc1b-026324f6ed82",
     "showTitle": false,
     "tableResultSettingsMap": {},
     "title": ""
    }
   },
   "outputs": [
    {
     "data": {
      "text/html": [
       "<style scoped>\n",
       "  .table-result-container {\n",
       "    max-height: 300px;\n",
       "    overflow: auto;\n",
       "  }\n",
       "  table, th, td {\n",
       "    border: 1px solid black;\n",
       "    border-collapse: collapse;\n",
       "  }\n",
       "  th, td {\n",
       "    padding: 5px;\n",
       "  }\n",
       "  th {\n",
       "    text-align: left;\n",
       "  }\n",
       "</style><div class='table-result-container'><table class='table-result'><thead style='background-color: white'><tr><th>id_cliente</th><th>nome</th><th>email</th><th>telefone</th><th>data_hora_bronze</th><th>nome_arquivo</th></tr></thead><tbody><tr><td>1</td><td>Lorenzo Abreu</td><td>thomaspastor@example.org</td><td>0900-233-9770</td><td>2025-06-21T01:35:54.830+0000</td><td>cliente.csv</td></tr><tr><td>2</td><td>Dr. Luiz Felipe Machado</td><td>qabreu@example.com</td><td>84 1196 5883</td><td>2025-06-21T01:35:54.830+0000</td><td>cliente.csv</td></tr><tr><td>3</td><td>Marina Porto</td><td>da-rochaheloisa@example.net</td><td>+55 (084) 5286 5400</td><td>2025-06-21T01:35:54.830+0000</td><td>cliente.csv</td></tr><tr><td>4</td><td>Luara Teixeira</td><td>jrodrigues@example.com</td><td>31 2669 8609</td><td>2025-06-21T01:35:54.830+0000</td><td>cliente.csv</td></tr><tr><td>5</td><td>Alícia Dias</td><td>nvargas@example.org</td><td>(084) 0625 9684</td><td>2025-06-21T01:35:54.830+0000</td><td>cliente.csv</td></tr><tr><td>6</td><td>Lucas da Paz</td><td>joaquim18@example.org</td><td>(041) 4128 0016</td><td>2025-06-21T01:35:54.830+0000</td><td>cliente.csv</td></tr><tr><td>7</td><td>Maria Alice Nascimento</td><td>ealbuquerque@example.org</td><td>51 3360 1709</td><td>2025-06-21T01:35:54.830+0000</td><td>cliente.csv</td></tr><tr><td>8</td><td>Heloísa Gomes</td><td>rnovaes@example.com</td><td>+55 (061) 2997-1192</td><td>2025-06-21T01:35:54.830+0000</td><td>cliente.csv</td></tr><tr><td>9</td><td>Cauã Machado</td><td>joao-pedro59@example.org</td><td>31 8603-3454</td><td>2025-06-21T01:35:54.830+0000</td><td>cliente.csv</td></tr><tr><td>10</td><td>Enzo Costa</td><td>mvieira@example.net</td><td>0900 564 1020</td><td>2025-06-21T01:35:54.830+0000</td><td>cliente.csv</td></tr></tbody></table></div>"
      ]
     },
     "metadata": {
      "application/vnd.databricks.v1+output": {
       "addedWidgets": {},
       "aggData": [],
       "aggError": "",
       "aggOverflow": false,
       "aggSchema": [],
       "aggSeriesLimitReached": false,
       "aggType": "",
       "arguments": {},
       "columnCustomDisplayInfos": {},
       "data": [
        [
         "1",
         "Lorenzo Abreu",
         "thomaspastor@example.org",
         "0900-233-9770",
         "2025-06-21T01:35:54.830+0000",
         "cliente.csv"
        ],
        [
         "2",
         "Dr. Luiz Felipe Machado",
         "qabreu@example.com",
         "84 1196 5883",
         "2025-06-21T01:35:54.830+0000",
         "cliente.csv"
        ],
        [
         "3",
         "Marina Porto",
         "da-rochaheloisa@example.net",
         "+55 (084) 5286 5400",
         "2025-06-21T01:35:54.830+0000",
         "cliente.csv"
        ],
        [
         "4",
         "Luara Teixeira",
         "jrodrigues@example.com",
         "31 2669 8609",
         "2025-06-21T01:35:54.830+0000",
         "cliente.csv"
        ],
        [
         "5",
         "Alícia Dias",
         "nvargas@example.org",
         "(084) 0625 9684",
         "2025-06-21T01:35:54.830+0000",
         "cliente.csv"
        ],
        [
         "6",
         "Lucas da Paz",
         "joaquim18@example.org",
         "(041) 4128 0016",
         "2025-06-21T01:35:54.830+0000",
         "cliente.csv"
        ],
        [
         "7",
         "Maria Alice Nascimento",
         "ealbuquerque@example.org",
         "51 3360 1709",
         "2025-06-21T01:35:54.830+0000",
         "cliente.csv"
        ],
        [
         "8",
         "Heloísa Gomes",
         "rnovaes@example.com",
         "+55 (061) 2997-1192",
         "2025-06-21T01:35:54.830+0000",
         "cliente.csv"
        ],
        [
         "9",
         "Cauã Machado",
         "joao-pedro59@example.org",
         "31 8603-3454",
         "2025-06-21T01:35:54.830+0000",
         "cliente.csv"
        ],
        [
         "10",
         "Enzo Costa",
         "mvieira@example.net",
         "0900 564 1020",
         "2025-06-21T01:35:54.830+0000",
         "cliente.csv"
        ]
       ],
       "datasetInfos": [],
       "dbfsResultPath": null,
       "isJsonSchema": true,
       "metadata": {},
       "overflow": false,
       "plotOptions": {
        "customPlotOptions": {},
        "displayType": "table",
        "pivotAggregation": null,
        "pivotColumns": null,
        "xColumns": null,
        "yColumns": null
       },
       "removedWidgets": [],
       "schema": [
        {
         "metadata": "{}",
         "name": "id_cliente",
         "type": "\"string\""
        },
        {
         "metadata": "{}",
         "name": "nome",
         "type": "\"string\""
        },
        {
         "metadata": "{}",
         "name": "email",
         "type": "\"string\""
        },
        {
         "metadata": "{}",
         "name": "telefone",
         "type": "\"string\""
        },
        {
         "metadata": "{}",
         "name": "data_hora_bronze",
         "type": "\"timestamp\""
        },
        {
         "metadata": "{}",
         "name": "nome_arquivo",
         "type": "\"string\""
        }
       ],
       "type": "table"
      }
     },
     "output_type": "display_data"
    }
   ],
   "source": [
    "spark.read.format('delta').load(f'/mnt/{storageAccountName}/bronze/cliente').limit(10).display()"
   ]
  }
 ],
 "metadata": {
  "application/vnd.databricks.v1+notebook": {
   "computePreferences": null,
   "dashboards": [],
   "environmentMetadata": null,
   "inputWidgetPreferences": null,
   "language": "python",
   "notebookMetadata": {
    "mostRecentlyExecutedCommandWithImplicitDF": {
     "commandId": 3210653005600686,
     "dataframes": [
      "_sqldf"
     ]
    },
    "pythonIndentUnit": 4
   },
   "notebookName": "Bronze",
   "widgets": {}
  },
  "kernelspec": {
   "display_name": "Python 3",
   "language": "python",
   "name": "python3"
  },
  "language_info": {
   "codemirror_mode": {
    "name": "ipython",
    "version": 3
   },
   "file_extension": ".py",
   "mimetype": "text/x-python",
   "name": "python",
   "nbconvert_exporter": "python",
   "pygments_lexer": "ipython3",
   "version": "3.12.6"
  }
 },
 "nbformat": 4,
 "nbformat_minor": 0
}

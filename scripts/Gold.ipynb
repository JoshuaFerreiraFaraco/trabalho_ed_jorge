{
 "cells": [
  {
   "cell_type": "markdown",
   "metadata": {
    "application/vnd.databricks.v1+cell": {
     "cellMetadata": {
      "byteLimit": 2048000,
      "rowLimit": 10000
     },
     "inputWidgets": {},
     "nuid": "bb012007-ab33-41c9-96fe-0d8d29fce69d",
     "showTitle": false,
     "tableResultSettingsMap": {},
     "title": ""
    }
   },
   "source": [
    "##Atualizando os Pontos de Montagem"
   ]
  },
  {
   "cell_type": "code",
   "execution_count": 0,
   "metadata": {
    "application/vnd.databricks.v1+cell": {
     "cellMetadata": {
      "byteLimit": 2048000,
      "rowLimit": 10000
     },
     "inputWidgets": {},
     "nuid": "9f47e85e-40ed-4af3-8f0a-62d799379710",
     "showTitle": false,
     "tableResultSettingsMap": {},
     "title": ""
    }
   },
   "outputs": [
    {
     "data": {
      "text/html": [
       "\n",
       "            <div>\n",
       "                <p><b>SparkSession - hive</b></p>\n",
       "                \n",
       "        <div>\n",
       "            <p><b>SparkContext</b></p>\n",
       "\n",
       "            <p><a href=\"/?o=2546323010824681#setting/sparkui/0514-003255-jx8juwi5/driver-8937015286951149498\">Spark UI</a></p>\n",
       "\n",
       "            <dl>\n",
       "              <dt>Version</dt>\n",
       "                <dd><code>v3.3.2</code></dd>\n",
       "              <dt>Master</dt>\n",
       "                <dd><code>local[8]</code></dd>\n",
       "              <dt>AppName</dt>\n",
       "                <dd><code>Databricks Shell</code></dd>\n",
       "            </dl>\n",
       "        </div>\n",
       "        \n",
       "            </div>\n",
       "        "
      ]
     },
     "metadata": {
      "application/vnd.databricks.v1+output": {
       "addedWidgets": {},
       "arguments": {},
       "data": "\n            <div>\n                <p><b>SparkSession - hive</b></p>\n                \n        <div>\n            <p><b>SparkContext</b></p>\n\n            <p><a href=\"/?o=2546323010824681#setting/sparkui/0514-003255-jx8juwi5/driver-8937015286951149498\">Spark UI</a></p>\n\n            <dl>\n              <dt>Version</dt>\n                <dd><code>v3.3.2</code></dd>\n              <dt>Master</dt>\n                <dd><code>local[8]</code></dd>\n              <dt>AppName</dt>\n                <dd><code>Databricks Shell</code></dd>\n            </dl>\n        </div>\n        \n            </div>\n        ",
       "datasetInfos": [],
       "metadata": {},
       "removedWidgets": [],
       "textData": null,
       "type": "htmlSandbox"
      }
     },
     "output_type": "display_data"
    }
   ],
   "source": [
    "dbutils.fs.refreshMounts()"
   ]
  },
  {
   "cell_type": "markdown",
   "metadata": {
    "application/vnd.databricks.v1+cell": {
     "cellMetadata": {
      "byteLimit": 2048000,
      "rowLimit": 10000
     },
     "inputWidgets": {},
     "nuid": "1e233d75-fd2d-442a-a085-bb59f3edf995",
     "showTitle": false,
     "tableResultSettingsMap": {},
     "title": ""
    }
   },
   "source": [
    "### Definindo uma função para montar um ADLS com um ponto de montagem com ADLS SAS "
   ]
  },
  {
   "cell_type": "code",
   "execution_count": 0,
   "metadata": {
    "application/vnd.databricks.v1+cell": {
     "cellMetadata": {
      "byteLimit": 2048000,
      "rowLimit": 10000
     },
     "inputWidgets": {},
     "nuid": "058a3cc4-370c-4abf-8c60-39a7f3f302d1",
     "showTitle": false,
     "tableResultSettingsMap": {},
     "title": ""
    }
   },
   "outputs": [],
   "source": [
    "storageAccountName = \"datalakea554ff8ebf909b7f\"\n",
    "storageAccountAccessKey = \"\"\n",
    "sasToken = \"sv=2024-11-04&ss=bfqt&srt=sco&sp=rwdlacupyx&se=2025-06-21T08:52:06Z&st=2025-06-21T00:52:06Z&spr=https&sig=o8hXtkjAZe2AnVEy5dNqQl4LSl0Nkac98k6pJrV1NfI%3D\"\n",
    "\n",
    "def mount_adls(blobContainerName):\n",
    "    try:\n",
    "      dbutils.fs.mount(\n",
    "        source = \"wasbs://{}@{}.blob.core.windows.net\".format(blobContainerName, storageAccountName),\n",
    "        mount_point = f\"/mnt/{storageAccountName}/{blobContainerName}\",\n",
    "        #extra_configs = {'fs.azure.account.key.' + storageAccountName + '.blob.core.windows.net': storageAccountAccessKey}\n",
    "        extra_configs = {'fs.azure.sas.' + blobContainerName + '.' + storageAccountName + '.blob.core.windows.net': sasToken}\n",
    "      )\n",
    "      print(\"OK!\")\n",
    "    except Exception as e:\n",
    "      print(\"Falha\", e)"
   ]
  },
  {
   "cell_type": "markdown",
   "metadata": {
    "application/vnd.databricks.v1+cell": {
     "cellMetadata": {
      "byteLimit": 2048000,
      "rowLimit": 10000
     },
     "inputWidgets": {},
     "nuid": "fced822b-8bab-437b-8a58-add8a4acd24a",
     "showTitle": false,
     "tableResultSettingsMap": {},
     "title": ""
    }
   },
   "source": [
    "###Mostrando os pontos de montagem no cluster Databricks"
   ]
  },
  {
   "cell_type": "code",
   "execution_count": 0,
   "metadata": {
    "application/vnd.databricks.v1+cell": {
     "cellMetadata": {
      "byteLimit": 2048000,
      "rowLimit": 10000
     },
     "inputWidgets": {},
     "nuid": "d53984ff-8536-4a33-9e43-acfe34489ab1",
     "showTitle": false,
     "tableResultSettingsMap": {},
     "title": ""
    }
   },
   "outputs": [],
   "source": [
    "display(dbutils.fs.mounts())"
   ]
  },
  {
   "cell_type": "markdown",
   "metadata": {
    "application/vnd.databricks.v1+cell": {
     "cellMetadata": {
      "byteLimit": 2048000,
      "rowLimit": 10000
     },
     "inputWidgets": {},
     "nuid": "1f6ec630-db65-41cb-9fdf-a941cfafe400",
     "showTitle": false,
     "tableResultSettingsMap": {},
     "title": ""
    }
   },
   "source": [
    "### Mostrando todos os arquivos da camada silver"
   ]
  },
  {
   "cell_type": "code",
   "execution_count": 0,
   "metadata": {
    "application/vnd.databricks.v1+cell": {
     "cellMetadata": {
      "byteLimit": 2048000,
      "rowLimit": 10000
     },
     "inputWidgets": {},
     "nuid": "295f6535-5ab1-43af-a1d3-fadec36b766b",
     "showTitle": false,
     "tableResultSettingsMap": {},
     "title": ""
    }
   },
   "outputs": [],
   "source": [
    "display(dbutils.fs.ls(f\"/mnt/{storageAccountName}/silver\"))"
   ]
  },
  {
   "cell_type": "markdown",
   "metadata": {
    "application/vnd.databricks.v1+cell": {
     "cellMetadata": {
      "byteLimit": 2048000,
      "rowLimit": 10000
     },
     "inputWidgets": {},
     "nuid": "1ef3c883-3b0f-44cb-8917-49f1f1fd3819",
     "showTitle": false,
     "tableResultSettingsMap": {},
     "title": ""
    }
   },
   "source": [
    "###Gerando um dataframe dos delta lake no container silver do Azure Data Lake Storage"
   ]
  },
  {
   "cell_type": "code",
   "execution_count": 0,
   "metadata": {
    "application/vnd.databricks.v1+cell": {
     "cellMetadata": {
      "byteLimit": 2048000,
      "rowLimit": 10000
     },
     "inputWidgets": {},
     "nuid": "37774595-e2cd-4ba0-92aa-4a6f239c0e7b",
     "showTitle": false,
     "tableResultSettingsMap": {},
     "title": ""
    }
   },
   "outputs": [],
   "source": [
    "df_autor   = spark.read.format('delta').load(f\"/mnt/{storageAccountName}/silver/autor\")\n",
    "df_cliente   = spark.read.format('delta').load(f\"/mnt/{storageAccountName}/silver/cliente\")\n",
    "df_editora   = spark.read.format('delta').load(f\"/mnt/{storageAccountName}/silver/editora\")\n",
    "df_endereco   = spark.read.format('delta').load(f\"/mnt/{storageAccountName}/silver/endereco\")\n",
    "df_estoque   = spark.read.format('delta').load(f\"/mnt/{storageAccountName}/silver/estoque\")\n",
    "df_item_pedido   = spark.read.format('delta').load(f\"/mnt/{storageAccountName}/silver/item_pedido\")\n",
    "df_livro  = spark.read.format('delta').load(f\"/mnt/{storageAccountName}/silver/livro\")\n",
    "df_pagamento  = spark.read.format('delta').load(f\"/mnt/{storageAccountName}/silver/pagamento\")\n",
    "df_pedido  = spark.read.format('delta').load(f\"/mnt/{storageAccountName}/silver/pedido\")"
   ]
  },
  {
   "cell_type": "markdown",
   "metadata": {},
   "source": [
    "### DIM TEMPO"
   ]
  },
  {
   "cell_type": "code",
   "execution_count": null,
   "metadata": {},
   "outputs": [],
   "source": [
    "%sql\n",
    "CREATE TABLE dim_tempo (\n",
    "    sk_tempo BIGINT GENERATED BY DEFAULT AS IDENTITY,\n",
    "    id_tempo INT,\n",
    "    data DATE,\n",
    "    dia INT,\n",
    "    mes INT,\n",
    "    ano INT,\n",
    "    trimestre INT,\n",
    "    semestre INT,\n",
    "    dia_semana VARCHAR(15),\n",
    "    flag_feriado BOOLEAN,\n",
    "    descricao_feriado VARCHAR(100)\n",
    ")\n",
    "USING delta\n",
    "LOCATION '/mnt/{storageAccountName}/gold/dim_tempo';"
   ]
  },
  {
   "cell_type": "code",
   "execution_count": null,
   "metadata": {},
   "outputs": [],
   "source": [
    "from pyspark.sql.functions import col, dayofmonth, month, year, quarter, date_format, lit, when\n",
    "from pyspark.sql import SparkSession\n",
    "import pandas as pd\n",
    "\n",
    "# Exemplo de feriados nacionais fixos (pode expandir com mais datas se quiser)\n",
    "feriados = {\n",
    "    \"01-01\": \"Ano Novo\",\n",
    "    \"04-21\": \"Tiradentes\",\n",
    "    \"05-01\": \"Dia do Trabalho\",\n",
    "    \"09-07\": \"Independência\",\n",
    "    \"10-12\": \"Nossa Senhora Aparecida\",\n",
    "    \"11-02\": \"Finados\",\n",
    "    \"11-15\": \"Proclamação da República\",\n",
    "    \"12-25\": \"Natal\"\n",
    "}\n",
    "\n",
    "# Criar um DataFrame pandas com todas as datas do período\n",
    "datas = pd.date_range(start=\"2022-01-01\", end=\"2024-12-31\")\n",
    "df_tempo_pd = pd.DataFrame({\"data\": datas})\n",
    "\n",
    "# Adicionar campos derivados\n",
    "df_tempo_pd[\"id_tempo\"] = df_tempo_pd.index + 1\n",
    "df_tempo_pd[\"dia\"] = df_tempo_pd[\"data\"].dt.day\n",
    "df_tempo_pd[\"mes\"] = df_tempo_pd[\"data\"].dt.month\n",
    "df_tempo_pd[\"ano\"] = df_tempo_pd[\"data\"].dt.year\n",
    "df_tempo_pd[\"trimestre\"] = df_tempo_pd[\"data\"].dt.quarter\n",
    "df_tempo_pd[\"semestre\"] = df_tempo_pd[\"mes\"].apply(lambda m: 1 if m <= 6 else 2)\n",
    "df_tempo_pd[\"dia_semana\"] = df_tempo_pd[\"data\"].dt.day_name()\n",
    "df_tempo_pd[\"flag_feriado\"] = df_tempo_pd[\"data\"].dt.strftime(\"%m-%d\").isin(feriados.keys())\n",
    "df_tempo_pd[\"descricao_feriado\"] = df_tempo_pd[\"data\"].dt.strftime(\"%m-%d\").map(feriados).fillna(\"\")\n",
    "\n",
    "# Converter para Spark DataFrame\n",
    "df_tempo = spark.createDataFrame(df_tempo_pd)\n",
    "\n",
    "# Criar view temporária para MERGE\n",
    "df_tempo.createOrReplaceTempView(\"tempo_relacional\")"
   ]
  },
  {
   "cell_type": "code",
   "execution_count": null,
   "metadata": {},
   "outputs": [],
   "source": [
    "%sql\n",
    "MERGE INTO dim_tempo AS dt\n",
    "USING tempo_relacional AS tr\n",
    "ON dt.data = tr.data\n",
    "\n",
    "WHEN MATCHED AND (\n",
    "    dt.dia <> tr.dia OR\n",
    "    dt.mes <> tr.mes OR\n",
    "    dt.ano <> tr.ano OR\n",
    "    dt.trimestre <> tr.trimestre OR\n",
    "    dt.semestre <> tr.semestre OR\n",
    "    dt.dia_semana <> tr.dia_semana OR\n",
    "    dt.flag_feriado <> tr.flag_feriado OR\n",
    "    dt.descricao_feriado <> tr.descricao_feriado\n",
    ") THEN\n",
    "    UPDATE SET\n",
    "        id_tempo = tr.id_tempo,\n",
    "        dia = tr.dia,\n",
    "        mes = tr.mes,\n",
    "        ano = tr.ano,\n",
    "        trimestre = tr.trimestre,\n",
    "        semestre = tr.semestre,\n",
    "        dia_semana = tr.dia_semana,\n",
    "        flag_feriado = tr.flag_feriado,\n",
    "        descricao_feriado = tr.descricao_feriado\n",
    "\n",
    "WHEN NOT MATCHED THEN\n",
    "    INSERT (\n",
    "        id_tempo, data, dia, mes, ano, trimestre, semestre,\n",
    "        dia_semana, flag_feriado, descricao_feriado\n",
    "    )\n",
    "    VALUES (\n",
    "        tr.id_tempo, tr.data, tr.dia, tr.mes, tr.ano, tr.trimestre, tr.semestre,\n",
    "        tr.dia_semana, tr.flag_feriado, tr.descricao_feriado\n",
    "    );"
   ]
  },
  {
   "cell_type": "markdown",
   "metadata": {},
   "source": [
    "### DIM CLIENTE"
   ]
  },
  {
   "cell_type": "code",
   "execution_count": 0,
   "metadata": {
    "application/vnd.databricks.v1+cell": {
     "cellMetadata": {
      "byteLimit": 2048000,
      "implicitDf": true,
      "rowLimit": 10000
     },
     "inputWidgets": {},
     "nuid": "0fa2081d-bfb4-46df-9c28-be8568da4856",
     "showTitle": false,
     "tableResultSettingsMap": {},
     "title": ""
    }
   },
   "outputs": [
    {
     "data": {
      "text/html": [
       "<style scoped>\n",
       "  .table-result-container {\n",
       "    max-height: 300px;\n",
       "    overflow: auto;\n",
       "  }\n",
       "  table, th, td {\n",
       "    border: 1px solid black;\n",
       "    border-collapse: collapse;\n",
       "  }\n",
       "  th, td {\n",
       "    padding: 5px;\n",
       "  }\n",
       "  th {\n",
       "    text-align: left;\n",
       "  }\n",
       "</style><div class='table-result-container'><table class='table-result'><thead style='background-color: white'><tr></tr></thead><tbody></tbody></table></div>"
      ]
     },
     "metadata": {
      "application/vnd.databricks.v1+output": {
       "addedWidgets": {},
       "aggData": [],
       "aggError": "",
       "aggOverflow": false,
       "aggSchema": [],
       "aggSeriesLimitReached": false,
       "aggType": "",
       "arguments": {},
       "columnCustomDisplayInfos": {},
       "data": [],
       "datasetInfos": [],
       "dbfsResultPath": null,
       "isJsonSchema": true,
       "metadata": {},
       "overflow": false,
       "plotOptions": {
        "customPlotOptions": {},
        "displayType": "table",
        "pivotAggregation": null,
        "pivotColumns": null,
        "xColumns": null,
        "yColumns": null
       },
       "removedWidgets": [],
       "schema": [],
       "type": "table"
      }
     },
     "output_type": "display_data"
    }
   ],
   "source": [
    "%sql\n",
    "drop table if exists dim_cliente"
   ]
  },
  {
   "cell_type": "code",
   "execution_count": 0,
   "metadata": {
    "application/vnd.databricks.v1+cell": {
     "cellMetadata": {
      "byteLimit": 2048000,
      "implicitDf": true,
      "rowLimit": 10000
     },
     "inputWidgets": {},
     "nuid": "dd47b378-23e5-46a7-a90e-043ade6c47ab",
     "showTitle": false,
     "tableResultSettingsMap": {},
     "title": ""
    }
   },
   "outputs": [
    {
     "data": {
      "text/html": [
       "<style scoped>\n",
       "  .table-result-container {\n",
       "    max-height: 300px;\n",
       "    overflow: auto;\n",
       "  }\n",
       "  table, th, td {\n",
       "    border: 1px solid black;\n",
       "    border-collapse: collapse;\n",
       "  }\n",
       "  th, td {\n",
       "    padding: 5px;\n",
       "  }\n",
       "  th {\n",
       "    text-align: left;\n",
       "  }\n",
       "</style><div class='table-result-container'><table class='table-result'><thead style='background-color: white'><tr></tr></thead><tbody></tbody></table></div>"
      ]
     },
     "metadata": {
      "application/vnd.databricks.v1+output": {
       "addedWidgets": {},
       "aggData": [],
       "aggError": "",
       "aggOverflow": false,
       "aggSchema": [],
       "aggSeriesLimitReached": false,
       "aggType": "",
       "arguments": {},
       "columnCustomDisplayInfos": {},
       "data": [],
       "datasetInfos": [],
       "dbfsResultPath": null,
       "isJsonSchema": true,
       "metadata": {},
       "overflow": false,
       "plotOptions": {
        "customPlotOptions": {},
        "displayType": "table",
        "pivotAggregation": null,
        "pivotColumns": null,
        "xColumns": null,
        "yColumns": null
       },
       "removedWidgets": [],
       "schema": [],
       "type": "table"
      }
     },
     "output_type": "display_data"
    }
   ],
   "source": [
    "%sql\n",
    "create table dim_cliente (\n",
    "  SK_CARRO             bigint generated by default as identity,\n",
    "  CODIGO_CLIENTE       int,\n",
    "  NOME                 varchar(100),\n",
    "  EMAIL                varchar(100),\n",
    "  TELEFONE             varchar(20),\n",
    "  CIDADE               varchar(100),\n",
    "  ESTADO               varchar(50),\n",
    "  CEP                  varchar(20)\n",
    ")\n",
    "USING delta\n",
    "LOCATION '/mnt/{storageAccountName}/gold/dim_cliente'"
   ]
  },
  {
   "cell_type": "code",
   "execution_count": 0,
   "metadata": {
    "application/vnd.databricks.v1+cell": {
     "cellMetadata": {
      "byteLimit": 2048000,
      "implicitDf": true,
      "rowLimit": 10000
     },
     "inputWidgets": {},
     "nuid": "dea5441c-5dff-440b-b0dd-86a3afbdbfe3",
     "showTitle": false,
     "tableResultSettingsMap": {},
     "title": ""
    }
   },
   "outputs": [],
   "source": [
    "%sql\n",
    "DESCRIBE TABLE EXTENDED dim_cliente"
   ]
  },
  {
   "cell_type": "code",
   "execution_count": 0,
   "metadata": {
    "application/vnd.databricks.v1+cell": {
     "cellMetadata": {
      "byteLimit": 2048000,
      "rowLimit": 10000
     },
     "inputWidgets": {},
     "nuid": "0c73cef7-1d9d-48e3-98a5-7d0851fc6368",
     "showTitle": false,
     "tableResultSettingsMap": {},
     "title": ""
    }
   },
   "outputs": [],
   "source": [
    "df_cliente.createOrReplaceTempView(\"cliente\")\n",
    "df_endereco.createOrReplaceTempView(\"endereco\")"
   ]
  },
  {
   "cell_type": "code",
   "execution_count": 0,
   "metadata": {
    "application/vnd.databricks.v1+cell": {
     "cellMetadata": {
      "byteLimit": 2048000,
      "implicitDf": true,
      "rowLimit": 10000
     },
     "inputWidgets": {},
     "nuid": "12a40246-3593-45ab-9c54-b05e6f441868",
     "showTitle": false,
     "tableResultSettingsMap": {},
     "title": ""
    }
   },
   "outputs": [],
   "source": [
    "%sql\n",
    "\n",
    "WITH cliente_relacional AS (\n",
    "\tSELECT a.codigo_cliente\n",
    "\t\t , a.nome\n",
    "\t\t , a.email\n",
    "\t\t , a.telefone\n",
    "\t\t , b.cidade\n",
    "\t\t , b.estado\n",
    "\t\t , b.cep\n",
    "\t  FROM cliente AS a\n",
    "\t  LEFT JOIN endereco AS b ON b.codigo_cliente = a.codigo_cliente \n",
    ")\n",
    "MERGE INTO\n",
    "\tdim_cliente AS dc\n",
    "USING\n",
    "\tcliente_relacional AS cr\n",
    "ON dc.codigo_cliente = cr.codigo_cliente   \n",
    "\n",
    "WHEN MATCHED AND (dc.codigo_cliente <> cr.codigo_cliente OR dc.nome <> cr.nome OR dc.email <> cr.email OR dc.telefone <> cr.telefone OR dc.cidade <> cr.cidade OR dc.estado <> cr.estado OR dc.cep <> cr.cep) THEN\n",
    "\n",
    "\tUPDATE SET codigo_cliente = cr.codigo_cliente,\n",
    "\t\t\t   nome = cr.nome,\n",
    "\t\t\t   email = cr.email,\n",
    "\t\t\t   telefone = cr.telefone,\n",
    "\t\t\t   cidade = cr.cidade,\n",
    "\t\t\t   estado = cr.estado,\n",
    "\t\t\t   cep = cr.cep\n",
    "\n",
    "WHEN NOT MATCHED THEN\n",
    "\tINSERT (codigo_cliente, nome, email, telefone, cidade, estado, cep)\n",
    "\tVALUES (cr.codigo_cliente, cr.nome, cr.email, cr.telefone, cr.cidade, cr.estado, cr.cep)"
   ]
  },
  {
   "cell_type": "code",
   "execution_count": 0,
   "metadata": {
    "application/vnd.databricks.v1+cell": {
     "cellMetadata": {
      "byteLimit": 2048000,
      "implicitDf": true,
      "rowLimit": 10000
     },
     "inputWidgets": {},
     "nuid": "f79146bf-e216-485f-ab96-c8be7e1aa7d3",
     "showTitle": false,
     "tableResultSettingsMap": {},
     "title": ""
    }
   },
   "outputs": [],
   "source": [
    "%sql\n",
    "select * from dim_cliente"
   ]
  },
  {
   "cell_type": "markdown",
   "metadata": {},
   "source": [
    "### DIM LIVRO"
   ]
  },
  {
   "cell_type": "code",
   "execution_count": 0,
   "metadata": {
    "application/vnd.databricks.v1+cell": {
     "cellMetadata": {
      "byteLimit": 2048000,
      "implicitDf": true,
      "rowLimit": 10000
     },
     "inputWidgets": {},
     "nuid": "5aa08765-a29e-4638-9323-fb8c87759f78",
     "showTitle": false,
     "tableResultSettingsMap": {},
     "title": ""
    }
   },
   "outputs": [
    {
     "data": {
      "text/html": [
       "<style scoped>\n",
       "  .table-result-container {\n",
       "    max-height: 300px;\n",
       "    overflow: auto;\n",
       "  }\n",
       "  table, th, td {\n",
       "    border: 1px solid black;\n",
       "    border-collapse: collapse;\n",
       "  }\n",
       "  th, td {\n",
       "    padding: 5px;\n",
       "  }\n",
       "  th {\n",
       "    text-align: left;\n",
       "  }\n",
       "</style><div class='table-result-container'><table class='table-result'><thead style='background-color: white'><tr></tr></thead><tbody></tbody></table></div>"
      ]
     },
     "metadata": {
      "application/vnd.databricks.v1+output": {
       "addedWidgets": {},
       "aggData": [],
       "aggError": "",
       "aggOverflow": false,
       "aggSchema": [],
       "aggSeriesLimitReached": false,
       "aggType": "",
       "arguments": {},
       "columnCustomDisplayInfos": {},
       "data": [],
       "datasetInfos": [],
       "dbfsResultPath": null,
       "isJsonSchema": true,
       "metadata": {},
       "overflow": false,
       "plotOptions": {
        "customPlotOptions": {},
        "displayType": "table",
        "pivotAggregation": null,
        "pivotColumns": null,
        "xColumns": null,
        "yColumns": null
       },
       "removedWidgets": [],
       "schema": [],
       "type": "table"
      }
     },
     "output_type": "display_data"
    }
   ],
   "source": [
    "%sql\n",
    "drop table if exists dim_livro"
   ]
  },
  {
   "cell_type": "code",
   "execution_count": 0,
   "metadata": {
    "application/vnd.databricks.v1+cell": {
     "cellMetadata": {
      "byteLimit": 2048000,
      "implicitDf": true,
      "rowLimit": 10000
     },
     "inputWidgets": {},
     "nuid": "2268db73-c13f-472f-a329-cf8aeface5a7",
     "showTitle": false,
     "tableResultSettingsMap": {},
     "title": ""
    }
   },
   "outputs": [
    {
     "data": {
      "text/html": [
       "<style scoped>\n",
       "  .table-result-container {\n",
       "    max-height: 300px;\n",
       "    overflow: auto;\n",
       "  }\n",
       "  table, th, td {\n",
       "    border: 1px solid black;\n",
       "    border-collapse: collapse;\n",
       "  }\n",
       "  th, td {\n",
       "    padding: 5px;\n",
       "  }\n",
       "  th {\n",
       "    text-align: left;\n",
       "  }\n",
       "</style><div class='table-result-container'><table class='table-result'><thead style='background-color: white'><tr></tr></thead><tbody></tbody></table></div>"
      ]
     },
     "metadata": {
      "application/vnd.databricks.v1+output": {
       "addedWidgets": {},
       "aggData": [],
       "aggError": "",
       "aggOverflow": false,
       "aggSchema": [],
       "aggSeriesLimitReached": false,
       "aggType": "",
       "arguments": {},
       "columnCustomDisplayInfos": {},
       "data": [],
       "datasetInfos": [],
       "dbfsResultPath": null,
       "isJsonSchema": true,
       "metadata": {},
       "overflow": false,
       "plotOptions": {
        "customPlotOptions": {},
        "displayType": "table",
        "pivotAggregation": null,
        "pivotColumns": null,
        "xColumns": null,
        "yColumns": null
       },
       "removedWidgets": [],
       "schema": [],
       "type": "table"
      }
     },
     "output_type": "display_data"
    }
   ],
   "source": [
    "%sql\n",
    "create table dim_livro (\n",
    "   SK_LIVRO                bigint generated by default as identity,\n",
    "   CODIGO_LIVRO            int,\n",
    "   CODIGO_AUTOR            int,\n",
    "   CODIGO_EDITORA          int,\n",
    "   TITULO                  varchar(150),\n",
    "   NOME_AUTOR              varchar(100),\n",
    "   NACIONALIDADE_AUTOR     varchar(100),\n",
    "   NOME_EDITORA            varchar(100),\n",
    "   CONTATO_EDITORA         varchar(100),\n",
    "   ANO_PUBLICACAO          int,\n",
    "   PRECO                   float,\n",
    ")\n",
    "USING delta\n",
    "LOCATION '/mnt/{storageAccountName}/gold/dim_livro'\n"
   ]
  },
  {
   "cell_type": "code",
   "execution_count": 0,
   "metadata": {
    "application/vnd.databricks.v1+cell": {
     "cellMetadata": {
      "byteLimit": 2048000,
      "rowLimit": 10000
     },
     "inputWidgets": {},
     "nuid": "6773906a-0b5e-4f2b-bd31-2b7f15f4ea4e",
     "showTitle": false,
     "tableResultSettingsMap": {},
     "title": ""
    }
   },
   "outputs": [],
   "source": [
    "df_livro.createOrReplaceTempView(\"livro\")\n",
    "df_autor.createOrReplaceTempView(\"autor\")\n",
    "df_editora.createOrReplaceTempView(\"editora\")"
   ]
  },
  {
   "cell_type": "code",
   "execution_count": 0,
   "metadata": {
    "application/vnd.databricks.v1+cell": {
     "cellMetadata": {
      "byteLimit": 2048000,
      "implicitDf": true,
      "rowLimit": 10000
     },
     "inputWidgets": {},
     "nuid": "72183b46-5401-4e61-b135-c242c32e380f",
     "showTitle": false,
     "tableResultSettingsMap": {},
     "title": ""
    }
   },
   "outputs": [],
   "source": [
    "%sql\n",
    "\n",
    "WITH livro_relacional AS (\n",
    "\tSELECT l.codigo_livro\n",
    "\t\t , l.codigo_autor\n",
    "\t\t , l.codigo_editora\n",
    "\t\t , l.titulo\n",
    "\t\t , a.nome AS nome_autor\n",
    "\t\t , a.nacionalidade AS nacionalidade_autor\n",
    "\t\t , e.nome AS nome_editora\n",
    "\t\t , e.contato AS contato_editora\n",
    "\t\t , l.ano_publicacao\n",
    "\t\t , l.preco\n",
    "\tFROM livro AS l\n",
    "\tLEFT JOIN autor AS a ON a.codigo_autor = l.codigo_autor\n",
    "\tLEFT JOIN editora AS e ON e.codigo_editora = l.codigo_editora\n",
    ")\n",
    "MERGE INTO\n",
    "\tdim_livro AS dl\n",
    "USING\n",
    "\tlivro_relacional AS lr\n",
    "ON lr.codigo_livro = dl.codigo_livro   \n",
    "\n",
    "WHEN MATCHED AND (dl.codigo_livro <> lr.codigo_livro OR\n",
    "\t\t\t\t  dl.codigo_autor <> lr.codigo_autor OR\n",
    "\t\t\t\t  dl.codigo_editora <> lr.codigo_editora OR\n",
    "\t\t\t\t  dl.titulo <> lr.titulo OR\n",
    "\t\t\t\t  dl.nome_autor <> lr.nome_autor OR\n",
    "\t\t\t\t  dl.nacionalidade_autor <> lr.nacionalidade_autor OR\n",
    "\t\t\t\t  dl.nome_editora <> lr.nome_editora OR\n",
    "\t\t\t\t  dl.contato_editora <> lr.contato_editora OR\n",
    "\t\t\t\t  dl.ano_publicacao <> lr.ano_publicacao OR\n",
    "\t\t\t\t  dl.preco <> lr.preco) THEN\n",
    "\n",
    "\tUPDATE SET codigo_livro = lr.codigo_livro,\n",
    "\t\t\t   codigo_autor = lr.codigo_autor,\n",
    "\t\t\t   codigo_editora = lr.codigo_editora,\n",
    "\t\t\t   titulo = lr.titulo,\n",
    "\t\t\t   nome_autor = lr.nome_autor,\n",
    "\t\t\t   nacionalidade_autor = lr.nacionalidade_autor,\n",
    "\t\t\t   nome_editora = lr.nome_editora,\n",
    "\t\t\t   contato_editora = lr.contato_editora,\n",
    "\t\t\t   ano_publicacao = lr.ano_publicacao,\n",
    "\t\t\t   preco = lr.preco,\n",
    "\n",
    "WHEN NOT MATCHED THEN\n",
    "\n",
    "\tINSERT (codigo_livro, codigo_autor, codigo_editora, titulo, nome_autor, nacionalidade_autor, nome_editora, contato_editora, ano_publicacao, preco)\n",
    "\tVALUES (lr.codigo_livro, lr.codigo_autor, lr.codigo_editora, lr.titulo, lr.nome_autor, lr.nacionalidade_autor, lr.nome_editora, lr.contato_editora, lr.ano_publicacao, lr.preco)"
   ]
  },
  {
   "cell_type": "code",
   "execution_count": 0,
   "metadata": {
    "application/vnd.databricks.v1+cell": {
     "cellMetadata": {
      "byteLimit": 2048000,
      "implicitDf": true,
      "rowLimit": 10000
     },
     "inputWidgets": {},
     "nuid": "3e0422aa-4f44-434d-865f-b7f78c3766c4",
     "showTitle": false,
     "tableResultSettingsMap": {},
     "title": ""
    }
   },
   "outputs": [],
   "source": [
    "%sql\n",
    "select * from dim_livro"
   ]
  },
  {
   "cell_type": "markdown",
   "metadata": {},
   "source": [
    "### DIM STATUS PEDIDO"
   ]
  },
  {
   "cell_type": "code",
   "execution_count": null,
   "metadata": {},
   "outputs": [],
   "source": [
    "%sql\n",
    "DROP TABLE IF EXISTS dim_status_pedido"
   ]
  },
  {
   "cell_type": "code",
   "execution_count": null,
   "metadata": {},
   "outputs": [],
   "source": [
    "%sql\n",
    "CREATE TABLE dim_status_pedido (\n",
    "    SK_STATUS_PEDIDO   BIGINT GENERATED BY DEFAULT AS IDENTITY,\n",
    "    ID_STATUS          INT,\n",
    "    STATUS             VARCHAR(50),\n",
    "    DESCRICAO          VARCHAR(100)\n",
    ")\n",
    "USING delta\n",
    "LOCATION '/mnt/{storageAccountName}/gold/dim_status_pedido';"
   ]
  },
  {
   "cell_type": "code",
   "execution_count": null,
   "metadata": {},
   "outputs": [],
   "source": [
    "df_pedido.createOrReplaceTempView(\"pedido\")"
   ]
  },
  {
   "cell_type": "code",
   "execution_count": null,
   "metadata": {},
   "outputs": [],
   "source": [
    "%sql\n",
    "WITH status_relacional AS (\n",
    "    SELECT DISTINCT\n",
    "        CAST(MONOTONICALLY_INCREASING_ID() AS INT) AS id_status,\n",
    "        status,\n",
    "        CASE\n",
    "            WHEN LOWER(status) = 'Pago' THEN 'Pedido pago ao cliente'\n",
    "            WHEN LOWER(status) = 'Pendente' THEN 'Aguardando pagamento'\n",
    "            WHEN LOWER(status) = 'Cancelado' THEN 'Pedido cancelado'\n",
    "            ELSE 'Outro status'\n",
    "        END AS descricao\n",
    "    FROM pedido\n",
    ")\n",
    "\n",
    "MERGE INTO dim_status_pedido AS dsp\n",
    "USING status_relacional AS sr\n",
    "ON dsp.status = sr.status\n",
    "\n",
    "WHEN MATCHED AND (\n",
    "    dsp.descricao <> sr.descricao\n",
    ") THEN\n",
    "    UPDATE SET\n",
    "        descricao = sr.descricao\n",
    "\n",
    "WHEN NOT MATCHED THEN\n",
    "    INSERT (id_status, status, descricao)\n",
    "    VALUES (sr.id_status, sr.status, sr.descricao)"
   ]
  },
  {
   "cell_type": "code",
   "execution_count": null,
   "metadata": {},
   "outputs": [],
   "source": [
    "%sql\n",
    "SELECT * FROM dim_status_pedido;"
   ]
  },
  {
   "cell_type": "markdown",
   "metadata": {},
   "source": [
    "### DIM FORMA DE PAGAMENTO"
   ]
  },
  {
   "cell_type": "code",
   "execution_count": null,
   "metadata": {},
   "outputs": [],
   "source": [
    "%sql\n",
    "DROP TABLE IF EXISTS dim_forma_pagamento"
   ]
  },
  {
   "cell_type": "code",
   "execution_count": null,
   "metadata": {},
   "outputs": [],
   "source": [
    "%sql\n",
    "CREATE TABLE dim_forma_pagamento (\n",
    "    SK_FORMA_PAGAMENTO     BIGINT GENERATED BY DEFAULT AS IDENTITY,\n",
    "    ID_FORMA_PAGAMENTO     INT,\n",
    "    FORMA_PAGAMENTO        VARCHAR(50)\n",
    ")\n",
    "USING DELTA\n",
    "LOCATION '/mnt/{storageAccountName}/gold/dim_forma_pagamento';"
   ]
  },
  {
   "cell_type": "code",
   "execution_count": null,
   "metadata": {},
   "outputs": [],
   "source": [
    "df_pagamento.createOrReplaceTempView(\"forma_pagamento\")"
   ]
  },
  {
   "cell_type": "code",
   "execution_count": null,
   "metadata": {},
   "outputs": [],
   "source": [
    "%sql\n",
    "MERGE INTO dim_forma_pagamento AS d\n",
    "USING (\n",
    "    SELECT cod_tipo\n",
    "         , CASE\n",
    "            WHEN cod_tipo = 1 THEN 'Cartão'\n",
    "            WHEN cod_tipo = 2 THEN 'Boleto'\n",
    "            WHEN cod_tipo = 3 'Cancelado' THEN 'Pix'\n",
    "            ELSE 'Outro status'\n",
    "           END AS nome\n",
    "    FROM forma_pagamento\n",
    ") AS r\n",
    "ON d.id_forma_pagamento = r.id_forma_pagamento\n",
    "\n",
    "WHEN MATCHED AND (\n",
    "    d.forma_pagamento <> r.forma_pagamento\n",
    ") THEN\n",
    "    UPDATE SET\n",
    "        forma_pagamento = r.forma_pagamento\n",
    "\n",
    "WHEN NOT MATCHED THEN\n",
    "    INSERT (id_forma_pagamento, forma_pagamento)\n",
    "    VALUES (r.id_forma_pagamento, r.forma_pagamento);"
   ]
  },
  {
   "cell_type": "code",
   "execution_count": null,
   "metadata": {},
   "outputs": [],
   "source": [
    "%sql\n",
    "SELECT * FROM dim_forma_pagamento;"
   ]
  },
  {
   "cell_type": "markdown",
   "metadata": {},
   "source": [
    "### FATO PEDIDOS"
   ]
  },
  {
   "cell_type": "code",
   "execution_count": 0,
   "metadata": {
    "application/vnd.databricks.v1+cell": {
     "cellMetadata": {
      "byteLimit": 2048000,
      "implicitDf": true,
      "rowLimit": 10000
     },
     "inputWidgets": {},
     "nuid": "c5d5d55d-8d15-4081-9b7d-4e7503f9b017",
     "showTitle": false,
     "tableResultSettingsMap": {},
     "title": ""
    }
   },
   "outputs": [
    {
     "data": {
      "text/html": [
       "<style scoped>\n",
       "  .table-result-container {\n",
       "    max-height: 300px;\n",
       "    overflow: auto;\n",
       "  }\n",
       "  table, th, td {\n",
       "    border: 1px solid black;\n",
       "    border-collapse: collapse;\n",
       "  }\n",
       "  th, td {\n",
       "    padding: 5px;\n",
       "  }\n",
       "  th {\n",
       "    text-align: left;\n",
       "  }\n",
       "</style><div class='table-result-container'><table class='table-result'><thead style='background-color: white'><tr></tr></thead><tbody></tbody></table></div>"
      ]
     },
     "metadata": {
      "application/vnd.databricks.v1+output": {
       "addedWidgets": {},
       "aggData": [],
       "aggError": "",
       "aggOverflow": false,
       "aggSchema": [],
       "aggSeriesLimitReached": false,
       "aggType": "",
       "arguments": {},
       "columnCustomDisplayInfos": {},
       "data": [],
       "datasetInfos": [],
       "dbfsResultPath": null,
       "isJsonSchema": true,
       "metadata": {},
       "overflow": false,
       "plotOptions": {
        "customPlotOptions": {},
        "displayType": "table",
        "pivotAggregation": null,
        "pivotColumns": null,
        "xColumns": null,
        "yColumns": null
       },
       "removedWidgets": [],
       "schema": [],
       "type": "table"
      }
     },
     "output_type": "display_data"
    }
   ],
   "source": [
    "%sql\n",
    "drop table if exists fato_pedidos"
   ]
  },
  {
   "cell_type": "code",
   "execution_count": 0,
   "metadata": {
    "application/vnd.databricks.v1+cell": {
     "cellMetadata": {
      "byteLimit": 2048000,
      "implicitDf": true,
      "rowLimit": 10000
     },
     "inputWidgets": {},
     "nuid": "635b9633-3663-414a-92f1-128e76404325",
     "showTitle": false,
     "tableResultSettingsMap": {},
     "title": ""
    }
   },
   "outputs": [
    {
     "data": {
      "text/html": [
       "<style scoped>\n",
       "  .table-result-container {\n",
       "    max-height: 300px;\n",
       "    overflow: auto;\n",
       "  }\n",
       "  table, th, td {\n",
       "    border: 1px solid black;\n",
       "    border-collapse: collapse;\n",
       "  }\n",
       "  th, td {\n",
       "    padding: 5px;\n",
       "  }\n",
       "  th {\n",
       "    text-align: left;\n",
       "  }\n",
       "</style><div class='table-result-container'><table class='table-result'><thead style='background-color: white'><tr></tr></thead><tbody></tbody></table></div>"
      ]
     },
     "metadata": {
      "application/vnd.databricks.v1+output": {
       "addedWidgets": {},
       "aggData": [],
       "aggError": "",
       "aggOverflow": false,
       "aggSchema": [],
       "aggSeriesLimitReached": false,
       "aggType": "",
       "arguments": {},
       "columnCustomDisplayInfos": {},
       "data": [],
       "datasetInfos": [],
       "dbfsResultPath": null,
       "isJsonSchema": true,
       "metadata": {},
       "overflow": false,
       "plotOptions": {
        "customPlotOptions": {},
        "displayType": "table",
        "pivotAggregation": null,
        "pivotColumns": null,
        "xColumns": null,
        "yColumns": null
       },
       "removedWidgets": [],
       "schema": [],
       "type": "table"
      }
     },
     "output_type": "display_data"
    }
   ],
   "source": [
    "%sql\n",
    "CREATE TABLE IF NOT EXISTS fato_pedidos (\n",
    "    sk_fato_pedido BIGINT GENERATED BY DEFAULT AS IDENTITY,\n",
    "    codigo_pedido INT,\n",
    "    id_tempo INT,\n",
    "    CODIGO_CLIENTE INT,\n",
    "    codigo_livro INT,\n",
    "    id_forma_pagamento INT,\n",
    "    id_status INT,\n",
    "    quantidade INT,\n",
    "    preco_unitario DECIMAL(10,2),\n",
    "    valor_total DECIMAL(10,2),\n",
    "    custo_unitario DECIMAL(10,2),\n",
    "    custo_total DECIMAL(10,2),\n",
    "    margem_lucro DECIMAL(10,2)\n",
    ")\n",
    "USING delta\n",
    "LOCATION '/mnt/${storageAccountName}/gold/fato_pedidos';"
   ]
  },
  {
   "cell_type": "code",
   "execution_count": null,
   "metadata": {},
   "outputs": [],
   "source": [
    "df_item_pedido.createOrReplaceTempView(\"item_pedido\")"
   ]
  },
  {
   "cell_type": "code",
   "execution_count": 0,
   "metadata": {
    "application/vnd.databricks.v1+cell": {
     "cellMetadata": {
      "byteLimit": 2048000,
      "implicitDf": true,
      "rowLimit": 10000
     },
     "inputWidgets": {},
     "nuid": "7d6c2471-4f9e-4532-aeab-a873a72f453e",
     "showTitle": false,
     "tableResultSettingsMap": {},
     "title": ""
    }
   },
   "outputs": [],
   "source": [
    "%sql\n",
    " WITH fato_stage AS (\n",
    "  SELECT \n",
    "    p.codigo_pedido,\n",
    "    t.id_tempo,\n",
    "    p.CODIGO_CLIENTE,\n",
    "    ip.codigo_livro,\n",
    "    fp.id_forma_pagamento,\n",
    "    s.id_status,\n",
    "    ip.quantidade,\n",
    "    ip.preco_unitario,\n",
    "    pag.valor_total,\n",
    "    ip.preco_unitario AS custo_unitario,\n",
    "    ip.quantidade * ip.preco_unitario AS custo_total,\n",
    "    (ip.quantidade * ip.preco_unitario) - pag.valor_pago AS margem_lucro\n",
    "  FROM pedido p\n",
    "  JOIN item_pedido ip ON ip.codigo_pedido = p.codigo_pedido\n",
    "  JOIN forma_pagamento pag ON pag.codigo_pedido = p.codigo_pedido\n",
    "  JOIN dim_tempo t ON t.data = p.data\n",
    "  JOIN dim_cliente c ON c.CODIGO_CLIENTE = p.CODIGO_CLIENTE\n",
    "  JOIN dim_livro l ON l.codigo_livro = ip.codigo_livro\n",
    "  LEFT JOIN dim_forma_pagamento fp ON fp.id_forma_pagamento = pag.cod_tipo\n",
    "  LEFT JOIN dim_status_pedido s ON s.status = p.status\n",
    ")\n",
    "\n",
    "MERGE INTO fato_pedidos AS f\n",
    "USING fato_stage AS s\n",
    "ON f.codigo_pedido = s.codigo_pedido AND f.codigo_livro = s.codigo_livro\n",
    "\n",
    "WHEN MATCHED THEN UPDATE SET\n",
    "  f.id_tempo = s.id_tempo,\n",
    "  f.codigo_livro = s.codigo_livro,\n",
    "  f.id_forma_pagamento = s.id_forma_pagamento,\n",
    "  f.id_status = s.id_status,\n",
    "  f.quantidade = s.quantidade,\n",
    "  f.preco_unitario = s.preco_unitario,\n",
    "  f.valor_total = s.valor_total,\n",
    "  f.custo_unitario = s.custo_unitario,\n",
    "  f.custo_total = s.custo_total,\n",
    "  f.margem_lucro = s.margem_lucro,\n",
    "  f.desconto_aplicado = s.desconto_aplicado\n",
    "\n",
    "WHEN NOT MATCHED THEN INSERT (\n",
    "  codigo_pedido, id_tempo, codigo_livro, id_forma_pagamento, id_status,\n",
    "  quantidade, preco_unitario, valor_total, custo_unitario, custo_total, margem_lucro, desconto_aplicado\n",
    ") VALUES (\n",
    "  s.codigo_pedido, s.id_tempo, s.codigo_livro, s.id_forma_pagamento, s.id_status,\n",
    "  s.quantidade, s.preco_unitario, s.valor_total, s.custo_unitario, s.custo_total, s.margem_lucro, s.desconto_aplicado\n",
    ");"
   ]
  },
  {
   "cell_type": "code",
   "execution_count": 0,
   "metadata": {
    "application/vnd.databricks.v1+cell": {
     "cellMetadata": {
      "byteLimit": 2048000,
      "implicitDf": true,
      "rowLimit": 10000
     },
     "inputWidgets": {},
     "nuid": "832452b9-6e01-4d6f-9275-74a50f7fe79a",
     "showTitle": false,
     "tableResultSettingsMap": {},
     "title": ""
    }
   },
   "outputs": [],
   "source": [
    "%sql\n",
    "select * from fato_pedidos"
   ]
  }
 ],
 "metadata": {
  "application/vnd.databricks.v1+notebook": {
   "computePreferences": null,
   "dashboards": [],
   "environmentMetadata": null,
   "inputWidgetPreferences": null,
   "language": "python",
   "notebookMetadata": {
    "mostRecentlyExecutedCommandWithImplicitDF": {
     "commandId": 2362898230313057,
     "dataframes": [
      "_sqldf"
     ]
    },
    "pythonIndentUnit": 4
   },
   "notebookName": "Gold",
   "widgets": {}
  },
  "language_info": {
   "name": "python"
  }
 },
 "nbformat": 4,
 "nbformat_minor": 0
}

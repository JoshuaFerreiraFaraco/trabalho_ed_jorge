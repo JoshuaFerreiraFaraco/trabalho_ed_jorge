{
 "cells": [
  {
   "cell_type": "markdown",
   "metadata": {
    "application/vnd.databricks.v1+cell": {
     "cellMetadata": {
      "byteLimit": 2048000,
      "rowLimit": 10000
     },
     "inputWidgets": {},
     "nuid": "bb012007-ab33-41c9-96fe-0d8d29fce69d",
     "showTitle": false,
     "tableResultSettingsMap": {},
     "title": ""
    }
   },
   "source": [
    "##Atualizando os Pontos de Montagem"
   ]
  },
  {
   "cell_type": "code",
   "execution_count": 0,
   "metadata": {
    "application/vnd.databricks.v1+cell": {
     "cellMetadata": {
      "byteLimit": 2048000,
      "rowLimit": 10000
     },
     "inputWidgets": {},
     "nuid": "9f47e85e-40ed-4af3-8f0a-62d799379710",
     "showTitle": false,
     "tableResultSettingsMap": {},
     "title": ""
    }
   },
   "outputs": [
    {
     "data": {
      "text/html": [
       "\n",
       "            <div>\n",
       "                <p><b>SparkSession - hive</b></p>\n",
       "                \n",
       "        <div>\n",
       "            <p><b>SparkContext</b></p>\n",
       "\n",
       "            <p><a href=\"/?o=2546323010824681#setting/sparkui/0514-003255-jx8juwi5/driver-8937015286951149498\">Spark UI</a></p>\n",
       "\n",
       "            <dl>\n",
       "              <dt>Version</dt>\n",
       "                <dd><code>v3.3.2</code></dd>\n",
       "              <dt>Master</dt>\n",
       "                <dd><code>local[8]</code></dd>\n",
       "              <dt>AppName</dt>\n",
       "                <dd><code>Databricks Shell</code></dd>\n",
       "            </dl>\n",
       "        </div>\n",
       "        \n",
       "            </div>\n",
       "        "
      ]
     },
     "metadata": {
      "application/vnd.databricks.v1+output": {
       "addedWidgets": {},
       "arguments": {},
       "data": "\n            <div>\n                <p><b>SparkSession - hive</b></p>\n                \n        <div>\n            <p><b>SparkContext</b></p>\n\n            <p><a href=\"/?o=2546323010824681#setting/sparkui/0514-003255-jx8juwi5/driver-8937015286951149498\">Spark UI</a></p>\n\n            <dl>\n              <dt>Version</dt>\n                <dd><code>v3.3.2</code></dd>\n              <dt>Master</dt>\n                <dd><code>local[8]</code></dd>\n              <dt>AppName</dt>\n                <dd><code>Databricks Shell</code></dd>\n            </dl>\n        </div>\n        \n            </div>\n        ",
       "datasetInfos": [],
       "metadata": {},
       "removedWidgets": [],
       "textData": null,
       "type": "htmlSandbox"
      }
     },
     "output_type": "display_data"
    }
   ],
   "source": [
    "dbutils.fs.refreshMounts()"
   ]
  },
  {
   "cell_type": "markdown",
   "metadata": {
    "application/vnd.databricks.v1+cell": {
     "cellMetadata": {
      "byteLimit": 2048000,
      "rowLimit": 10000
     },
     "inputWidgets": {},
     "nuid": "1e233d75-fd2d-442a-a085-bb59f3edf995",
     "showTitle": false,
     "tableResultSettingsMap": {},
     "title": ""
    }
   },
   "source": [
    "### Definindo uma função para montar um ADLS com um ponto de montagem com ADLS SAS "
   ]
  },
  {
   "cell_type": "code",
   "execution_count": 0,
   "metadata": {
    "application/vnd.databricks.v1+cell": {
     "cellMetadata": {
      "byteLimit": 2048000,
      "rowLimit": 10000
     },
     "inputWidgets": {},
     "nuid": "058a3cc4-370c-4abf-8c60-39a7f3f302d1",
     "showTitle": false,
     "tableResultSettingsMap": {},
     "title": ""
    }
   },
   "outputs": [],
   "source": [
    "storageAccountName = \"datalakea554ff8ebf909b7f\"\n",
    "storageAccountAccessKey = \"\"\n",
    "sasToken = \"sv=2024-11-04&ss=bfqt&srt=sco&sp=rwdlacupyx&se=2025-06-21T08:52:06Z&st=2025-06-21T00:52:06Z&spr=https&sig=o8hXtkjAZe2AnVEy5dNqQl4LSl0Nkac98k6pJrV1NfI%3D\"\n",
    "\n",
    "def mount_adls(blobContainerName):\n",
    "    try:\n",
    "      dbutils.fs.mount(\n",
    "        source = \"wasbs://{}@{}.blob.core.windows.net\".format(blobContainerName, storageAccountName),\n",
    "        mount_point = f\"/mnt/{storageAccountName}/{blobContainerName}\",\n",
    "        #extra_configs = {'fs.azure.account.key.' + storageAccountName + '.blob.core.windows.net': storageAccountAccessKey}\n",
    "        extra_configs = {'fs.azure.sas.' + blobContainerName + '.' + storageAccountName + '.blob.core.windows.net': sasToken}\n",
    "      )\n",
    "      print(\"OK!\")\n",
    "    except Exception as e:\n",
    "      print(\"Falha\", e)"
   ]
  },
  {
   "cell_type": "markdown",
   "metadata": {
    "application/vnd.databricks.v1+cell": {
     "cellMetadata": {
      "byteLimit": 2048000,
      "rowLimit": 10000
     },
     "inputWidgets": {},
     "nuid": "fced822b-8bab-437b-8a58-add8a4acd24a",
     "showTitle": false,
     "tableResultSettingsMap": {},
     "title": ""
    }
   },
   "source": [
    "###Mostrando os pontos de montagem no cluster Databricks"
   ]
  },
  {
   "cell_type": "code",
   "execution_count": 0,
   "metadata": {
    "application/vnd.databricks.v1+cell": {
     "cellMetadata": {
      "byteLimit": 2048000,
      "rowLimit": 10000
     },
     "inputWidgets": {},
     "nuid": "d53984ff-8536-4a33-9e43-acfe34489ab1",
     "showTitle": false,
     "tableResultSettingsMap": {},
     "title": ""
    }
   },
   "outputs": [
    {
     "data": {
      "text/html": [
       "<style scoped>\n",
       "  .table-result-container {\n",
       "    max-height: 300px;\n",
       "    overflow: auto;\n",
       "  }\n",
       "  table, th, td {\n",
       "    border: 1px solid black;\n",
       "    border-collapse: collapse;\n",
       "  }\n",
       "  th, td {\n",
       "    padding: 5px;\n",
       "  }\n",
       "  th {\n",
       "    text-align: left;\n",
       "  }\n",
       "</style><div class='table-result-container'><table class='table-result'><thead style='background-color: white'><tr><th>mountPoint</th><th>source</th><th>encryptionType</th></tr></thead><tbody><tr><td>/mnt/datalake5ee525b259fdd7be/silver</td><td>wasbs://silver@datalake5ee525b259fdd7be.blob.core.windows.net</td><td></td></tr><tr><td>/databricks-datasets</td><td>databricks-datasets</td><td></td></tr><tr><td>/mnt/datalake56cea6a3510650a6/landing-zone</td><td>wasbs://landing-zone@datalake56cea6a3510650a6.blob.core.windows.net</td><td></td></tr><tr><td>/mnt/datalakebae112c35115d7e3/bronze</td><td>wasbs://bronze@datalakebae112c35115d7e3.blob.core.windows.net</td><td></td></tr><tr><td>/mnt/datalake56cea6a3510650a6/gold</td><td>wasbs://gold@datalake56cea6a3510650a6.blob.core.windows.net</td><td></td></tr><tr><td>/mnt/datalake9fc5ac43334b8d99/landing-zone</td><td>wasbs://landing-zone@datalake9fc5ac43334b8d99.blob.core.windows.net</td><td></td></tr><tr><td>/mnt/datalakecd63092f4c645dfd/lading-zone</td><td>wasbs://lading-zone@datalakecd63092f4c645dfd.blob.core.windows.net</td><td></td></tr><tr><td>/mnt/datalake5ee525b259fdd7be/gold</td><td>wasbs://gold@datalake5ee525b259fdd7be.blob.core.windows.net</td><td></td></tr><tr><td>/mnt/datalake56cea6a3510650a6/lading-zone</td><td>wasbs://lading-zone@datalake56cea6a3510650a6.blob.core.windows.net</td><td></td></tr><tr><td>/databricks/mlflow-tracking</td><td>databricks/mlflow-tracking</td><td>sse-s3</td></tr><tr><td>/mnt/datalake5ee525b259fdd7be/landing-zone</td><td>wasbs://landing-zone@datalake5ee525b259fdd7be.blob.core.windows.net</td><td></td></tr><tr><td>/databricks-results</td><td>databricks-results</td><td>sse-s3</td></tr><tr><td>/mnt/datalakebae112c35115d7e3/landing-zone</td><td>wasbs://landing-zone@datalakebae112c35115d7e3.blob.core.windows.net</td><td></td></tr><tr><td>/mnt/datalakebae112c35115d7e3/lading-zone</td><td>wasbs://lading-zone@datalakebae112c35115d7e3.blob.core.windows.net</td><td></td></tr><tr><td>/mnt/datalakebae112c35115d7e3/silver</td><td>wasbs://silver@datalakebae112c35115d7e3.blob.core.windows.net</td><td></td></tr><tr><td>/mnt/datalake7bda6b3f393108d9/gold</td><td>wasbs://gold@datalake7bda6b3f393108d9.blob.core.windows.net</td><td></td></tr><tr><td>/mnt/datalakecd63092f4c645dfd/silver</td><td>wasbs://silver@datalakecd63092f4c645dfd.blob.core.windows.net</td><td></td></tr><tr><td>/databricks/mlflow-registry</td><td>databricks/mlflow-registry</td><td>sse-s3</td></tr><tr><td>/mnt/datalake9fc5ac43334b8d99/bronze</td><td>wasbs://bronze@datalake9fc5ac43334b8d99.blob.core.windows.net</td><td></td></tr><tr><td>/mnt/datalake4f4de806e56e47cc/lading-zone</td><td>wasbs://lading-zone@datalake4f4de806e56e47cc.blob.core.windows.net</td><td></td></tr><tr><td>/mnt/datalake4f4de806e56e47cc/landing-zone</td><td>wasbs://landing-zone@datalake4f4de806e56e47cc.blob.core.windows.net</td><td></td></tr><tr><td>/mnt/datalakecd63092f4c645dfd/landing-zone</td><td>wasbs://landing-zone@datalakecd63092f4c645dfd.blob.core.windows.net</td><td></td></tr><tr><td>/mnt/datalake7bda6b3f393108d9/silver</td><td>wasbs://silver@datalake7bda6b3f393108d9.blob.core.windows.net</td><td></td></tr><tr><td>/mnt/datalake4f4de806e56e47cc/silver</td><td>wasbs://silver@datalake4f4de806e56e47cc.blob.core.windows.net</td><td></td></tr><tr><td>/mnt/datalake4f4de806e56e47cc/gold</td><td>wasbs://gold@datalake4f4de806e56e47cc.blob.core.windows.net</td><td></td></tr><tr><td>/mnt/datalakecd63092f4c645dfd/gold</td><td>wasbs://gold@datalakecd63092f4c645dfd.blob.core.windows.net</td><td></td></tr><tr><td>/mnt/datalake56cea6a3510650a6/bronze</td><td>wasbs://bronze@datalake56cea6a3510650a6.blob.core.windows.net</td><td></td></tr><tr><td>/mnt/datalakecd63092f4c645dfd/bronze</td><td>wasbs://bronze@datalakecd63092f4c645dfd.blob.core.windows.net</td><td></td></tr><tr><td>/mnt/datalake5ee525b259fdd7be/bronze</td><td>wasbs://bronze@datalake5ee525b259fdd7be.blob.core.windows.net</td><td></td></tr><tr><td>/mnt/datalake56cea6a3510650a6/silver</td><td>wasbs://silver@datalake56cea6a3510650a6.blob.core.windows.net</td><td></td></tr><tr><td>/mnt/datalake7bda6b3f393108d9/landing-zone</td><td>wasbs://landing-zone@datalake7bda6b3f393108d9.blob.core.windows.net</td><td></td></tr><tr><td>/mnt/datalake7bda6b3f393108d9/bronze</td><td>wasbs://bronze@datalake7bda6b3f393108d9.blob.core.windows.net</td><td></td></tr><tr><td>/</td><td>DatabricksRoot</td><td>sse-s3</td></tr><tr><td>/mnt/datalakebae112c35115d7e3/gold</td><td>wasbs://gold@datalakebae112c35115d7e3.blob.core.windows.net</td><td></td></tr><tr><td>/mnt/datalake4f4de806e56e47cc/bronze</td><td>wasbs://bronze@datalake4f4de806e56e47cc.blob.core.windows.net</td><td></td></tr></tbody></table></div>"
      ]
     },
     "metadata": {
      "application/vnd.databricks.v1+output": {
       "addedWidgets": {},
       "aggData": [],
       "aggError": "",
       "aggOverflow": false,
       "aggSchema": [],
       "aggSeriesLimitReached": false,
       "aggType": "",
       "arguments": {},
       "columnCustomDisplayInfos": {},
       "data": [
        [
         "/mnt/datalake5ee525b259fdd7be/silver",
         "wasbs://silver@datalake5ee525b259fdd7be.blob.core.windows.net",
         ""
        ],
        [
         "/databricks-datasets",
         "databricks-datasets",
         ""
        ],
        [
         "/mnt/datalake56cea6a3510650a6/landing-zone",
         "wasbs://landing-zone@datalake56cea6a3510650a6.blob.core.windows.net",
         ""
        ],
        [
         "/mnt/datalakebae112c35115d7e3/bronze",
         "wasbs://bronze@datalakebae112c35115d7e3.blob.core.windows.net",
         ""
        ],
        [
         "/mnt/datalake56cea6a3510650a6/gold",
         "wasbs://gold@datalake56cea6a3510650a6.blob.core.windows.net",
         ""
        ],
        [
         "/mnt/datalake9fc5ac43334b8d99/landing-zone",
         "wasbs://landing-zone@datalake9fc5ac43334b8d99.blob.core.windows.net",
         ""
        ],
        [
         "/mnt/datalakecd63092f4c645dfd/lading-zone",
         "wasbs://lading-zone@datalakecd63092f4c645dfd.blob.core.windows.net",
         ""
        ],
        [
         "/mnt/datalake5ee525b259fdd7be/gold",
         "wasbs://gold@datalake5ee525b259fdd7be.blob.core.windows.net",
         ""
        ],
        [
         "/mnt/datalake56cea6a3510650a6/lading-zone",
         "wasbs://lading-zone@datalake56cea6a3510650a6.blob.core.windows.net",
         ""
        ],
        [
         "/databricks/mlflow-tracking",
         "databricks/mlflow-tracking",
         "sse-s3"
        ],
        [
         "/mnt/datalake5ee525b259fdd7be/landing-zone",
         "wasbs://landing-zone@datalake5ee525b259fdd7be.blob.core.windows.net",
         ""
        ],
        [
         "/databricks-results",
         "databricks-results",
         "sse-s3"
        ],
        [
         "/mnt/datalakebae112c35115d7e3/landing-zone",
         "wasbs://landing-zone@datalakebae112c35115d7e3.blob.core.windows.net",
         ""
        ],
        [
         "/mnt/datalakebae112c35115d7e3/lading-zone",
         "wasbs://lading-zone@datalakebae112c35115d7e3.blob.core.windows.net",
         ""
        ],
        [
         "/mnt/datalakebae112c35115d7e3/silver",
         "wasbs://silver@datalakebae112c35115d7e3.blob.core.windows.net",
         ""
        ],
        [
         "/mnt/datalake7bda6b3f393108d9/gold",
         "wasbs://gold@datalake7bda6b3f393108d9.blob.core.windows.net",
         ""
        ],
        [
         "/mnt/datalakecd63092f4c645dfd/silver",
         "wasbs://silver@datalakecd63092f4c645dfd.blob.core.windows.net",
         ""
        ],
        [
         "/databricks/mlflow-registry",
         "databricks/mlflow-registry",
         "sse-s3"
        ],
        [
         "/mnt/datalake9fc5ac43334b8d99/bronze",
         "wasbs://bronze@datalake9fc5ac43334b8d99.blob.core.windows.net",
         ""
        ],
        [
         "/mnt/datalake4f4de806e56e47cc/lading-zone",
         "wasbs://lading-zone@datalake4f4de806e56e47cc.blob.core.windows.net",
         ""
        ],
        [
         "/mnt/datalake4f4de806e56e47cc/landing-zone",
         "wasbs://landing-zone@datalake4f4de806e56e47cc.blob.core.windows.net",
         ""
        ],
        [
         "/mnt/datalakecd63092f4c645dfd/landing-zone",
         "wasbs://landing-zone@datalakecd63092f4c645dfd.blob.core.windows.net",
         ""
        ],
        [
         "/mnt/datalake7bda6b3f393108d9/silver",
         "wasbs://silver@datalake7bda6b3f393108d9.blob.core.windows.net",
         ""
        ],
        [
         "/mnt/datalake4f4de806e56e47cc/silver",
         "wasbs://silver@datalake4f4de806e56e47cc.blob.core.windows.net",
         ""
        ],
        [
         "/mnt/datalake4f4de806e56e47cc/gold",
         "wasbs://gold@datalake4f4de806e56e47cc.blob.core.windows.net",
         ""
        ],
        [
         "/mnt/datalakecd63092f4c645dfd/gold",
         "wasbs://gold@datalakecd63092f4c645dfd.blob.core.windows.net",
         ""
        ],
        [
         "/mnt/datalake56cea6a3510650a6/bronze",
         "wasbs://bronze@datalake56cea6a3510650a6.blob.core.windows.net",
         ""
        ],
        [
         "/mnt/datalakecd63092f4c645dfd/bronze",
         "wasbs://bronze@datalakecd63092f4c645dfd.blob.core.windows.net",
         ""
        ],
        [
         "/mnt/datalake5ee525b259fdd7be/bronze",
         "wasbs://bronze@datalake5ee525b259fdd7be.blob.core.windows.net",
         ""
        ],
        [
         "/mnt/datalake56cea6a3510650a6/silver",
         "wasbs://silver@datalake56cea6a3510650a6.blob.core.windows.net",
         ""
        ],
        [
         "/mnt/datalake7bda6b3f393108d9/landing-zone",
         "wasbs://landing-zone@datalake7bda6b3f393108d9.blob.core.windows.net",
         ""
        ],
        [
         "/mnt/datalake7bda6b3f393108d9/bronze",
         "wasbs://bronze@datalake7bda6b3f393108d9.blob.core.windows.net",
         ""
        ],
        [
         "/",
         "DatabricksRoot",
         "sse-s3"
        ],
        [
         "/mnt/datalakebae112c35115d7e3/gold",
         "wasbs://gold@datalakebae112c35115d7e3.blob.core.windows.net",
         ""
        ],
        [
         "/mnt/datalake4f4de806e56e47cc/bronze",
         "wasbs://bronze@datalake4f4de806e56e47cc.blob.core.windows.net",
         ""
        ]
       ],
       "datasetInfos": [],
       "dbfsResultPath": null,
       "isJsonSchema": true,
       "metadata": {},
       "overflow": false,
       "plotOptions": {
        "customPlotOptions": {},
        "displayType": "table",
        "pivotAggregation": null,
        "pivotColumns": null,
        "xColumns": null,
        "yColumns": null
       },
       "removedWidgets": [],
       "schema": [
        {
         "metadata": "{}",
         "name": "mountPoint",
         "type": "\"string\""
        },
        {
         "metadata": "{}",
         "name": "source",
         "type": "\"string\""
        },
        {
         "metadata": "{}",
         "name": "encryptionType",
         "type": "\"string\""
        }
       ],
       "type": "table"
      }
     },
     "output_type": "display_data"
    }
   ],
   "source": [
    "display(dbutils.fs.mounts())"
   ]
  },
  {
   "cell_type": "markdown",
   "metadata": {
    "application/vnd.databricks.v1+cell": {
     "cellMetadata": {
      "byteLimit": 2048000,
      "rowLimit": 10000
     },
     "inputWidgets": {},
     "nuid": "1f6ec630-db65-41cb-9fdf-a941cfafe400",
     "showTitle": false,
     "tableResultSettingsMap": {},
     "title": ""
    }
   },
   "source": [
    "### Mostrando todos os arquivos da camada silver"
   ]
  },
  {
   "cell_type": "code",
   "execution_count": 0,
   "metadata": {
    "application/vnd.databricks.v1+cell": {
     "cellMetadata": {
      "byteLimit": 2048000,
      "rowLimit": 10000
     },
     "inputWidgets": {},
     "nuid": "295f6535-5ab1-43af-a1d3-fadec36b766b",
     "showTitle": false,
     "tableResultSettingsMap": {},
     "title": ""
    }
   },
   "outputs": [
    {
     "data": {
      "text/html": [
       "<style scoped>\n",
       "  .table-result-container {\n",
       "    max-height: 300px;\n",
       "    overflow: auto;\n",
       "  }\n",
       "  table, th, td {\n",
       "    border: 1px solid black;\n",
       "    border-collapse: collapse;\n",
       "  }\n",
       "  th, td {\n",
       "    padding: 5px;\n",
       "  }\n",
       "  th {\n",
       "    text-align: left;\n",
       "  }\n",
       "</style><div class='table-result-container'><table class='table-result'><thead style='background-color: white'><tr><th>path</th><th>name</th><th>size</th><th>modificationTime</th></tr></thead><tbody><tr><td>dbfs:/mnt/datalake4f4de806e56e47cc/silver/apolice/</td><td>apolice/</td><td>0</td><td>0</td></tr><tr><td>dbfs:/mnt/datalake4f4de806e56e47cc/silver/carro/</td><td>carro/</td><td>0</td><td>0</td></tr><tr><td>dbfs:/mnt/datalake4f4de806e56e47cc/silver/cliente/</td><td>cliente/</td><td>0</td><td>0</td></tr><tr><td>dbfs:/mnt/datalake4f4de806e56e47cc/silver/sinistro/</td><td>sinistro/</td><td>0</td><td>0</td></tr></tbody></table></div>"
      ]
     },
     "metadata": {
      "application/vnd.databricks.v1+output": {
       "addedWidgets": {},
       "aggData": [],
       "aggError": "",
       "aggOverflow": false,
       "aggSchema": [],
       "aggSeriesLimitReached": false,
       "aggType": "",
       "arguments": {},
       "columnCustomDisplayInfos": {},
       "data": [
        [
         "dbfs:/mnt/datalake4f4de806e56e47cc/silver/apolice/",
         "apolice/",
         0,
         0
        ],
        [
         "dbfs:/mnt/datalake4f4de806e56e47cc/silver/carro/",
         "carro/",
         0,
         0
        ],
        [
         "dbfs:/mnt/datalake4f4de806e56e47cc/silver/cliente/",
         "cliente/",
         0,
         0
        ],
        [
         "dbfs:/mnt/datalake4f4de806e56e47cc/silver/sinistro/",
         "sinistro/",
         0,
         0
        ]
       ],
       "datasetInfos": [],
       "dbfsResultPath": null,
       "isJsonSchema": true,
       "metadata": {},
       "overflow": false,
       "plotOptions": {
        "customPlotOptions": {},
        "displayType": "table",
        "pivotAggregation": null,
        "pivotColumns": null,
        "xColumns": null,
        "yColumns": null
       },
       "removedWidgets": [],
       "schema": [
        {
         "metadata": "{}",
         "name": "path",
         "type": "\"string\""
        },
        {
         "metadata": "{}",
         "name": "name",
         "type": "\"string\""
        },
        {
         "metadata": "{}",
         "name": "size",
         "type": "\"long\""
        },
        {
         "metadata": "{}",
         "name": "modificationTime",
         "type": "\"long\""
        }
       ],
       "type": "table"
      }
     },
     "output_type": "display_data"
    }
   ],
   "source": [
    "display(dbutils.fs.ls(f\"/mnt/{storageAccountName}/silver\"))"
   ]
  },
  {
   "cell_type": "markdown",
   "metadata": {
    "application/vnd.databricks.v1+cell": {
     "cellMetadata": {
      "byteLimit": 2048000,
      "rowLimit": 10000
     },
     "inputWidgets": {},
     "nuid": "1ef3c883-3b0f-44cb-8917-49f1f1fd3819",
     "showTitle": false,
     "tableResultSettingsMap": {},
     "title": ""
    }
   },
   "source": [
    "###Gerando um dataframe dos delta lake no container silver do Azure Data Lake Storage"
   ]
  },
  {
   "cell_type": "code",
   "execution_count": 0,
   "metadata": {
    "application/vnd.databricks.v1+cell": {
     "cellMetadata": {
      "byteLimit": 2048000,
      "rowLimit": 10000
     },
     "inputWidgets": {},
     "nuid": "37774595-e2cd-4ba0-92aa-4a6f239c0e7b",
     "showTitle": false,
     "tableResultSettingsMap": {},
     "title": ""
    }
   },
   "outputs": [],
   "source": [
    "df_autor   = spark.read.format('delta').load(f\"/mnt/{storageAccountName}/silver/autor\")\n",
    "df_cliente   = spark.read.format('delta').load(f\"/mnt/{storageAccountName}/silver/cliente\")\n",
    "df_editora   = spark.read.format('delta').load(f\"/mnt/{storageAccountName}/silver/editora\")\n",
    "df_endereco   = spark.read.format('delta').load(f\"/mnt/{storageAccountName}/silver/endereco\")\n",
    "df_estoque   = spark.read.format('delta').load(f\"/mnt/{storageAccountName}/silver/estoque\")\n",
    "df_funcionario   = spark.read.format('delta').load(f\"/mnt/{storageAccountName}/silver/funcionario\")\n",
    "df_item_pedido   = spark.read.format('delta').load(f\"/mnt/{storageAccountName}/silver/item_pedido\")\n",
    "df_livro  = spark.read.format('delta').load(f\"/mnt/{storageAccountName}/silver/livro\")\n",
    "df_pagamento  = spark.read.format('delta').load(f\"/mnt/{storageAccountName}/silver/pagamento\")\n",
    "df_pedido  = spark.read.format('delta').load(f\"/mnt/{storageAccountName}/silver/pedido\")"
   ]
  },
  {
   "cell_type": "markdown",
   "metadata": {
    "application/vnd.databricks.v1+cell": {
     "cellMetadata": {
      "byteLimit": 2048000,
      "rowLimit": 10000
     },
     "inputWidgets": {},
     "nuid": "e4ffc23f-8add-4747-b572-b470a7e5eb8f",
     "showTitle": false,
     "tableResultSettingsMap": {},
     "title": ""
    }
   },
   "source": [
    "### Adicionando metadados de data e hora de processamento e nome do arquivo de origem"
   ]
  },
  {
   "cell_type": "code",
   "execution_count": 0,
   "metadata": {
    "application/vnd.databricks.v1+cell": {
     "cellMetadata": {
      "byteLimit": 2048000,
      "implicitDf": true,
      "rowLimit": 10000
     },
     "inputWidgets": {},
     "nuid": "0fa2081d-bfb4-46df-9c28-be8568da4856",
     "showTitle": false,
     "tableResultSettingsMap": {},
     "title": ""
    }
   },
   "outputs": [
    {
     "data": {
      "text/html": [
       "<style scoped>\n",
       "  .table-result-container {\n",
       "    max-height: 300px;\n",
       "    overflow: auto;\n",
       "  }\n",
       "  table, th, td {\n",
       "    border: 1px solid black;\n",
       "    border-collapse: collapse;\n",
       "  }\n",
       "  th, td {\n",
       "    padding: 5px;\n",
       "  }\n",
       "  th {\n",
       "    text-align: left;\n",
       "  }\n",
       "</style><div class='table-result-container'><table class='table-result'><thead style='background-color: white'><tr></tr></thead><tbody></tbody></table></div>"
      ]
     },
     "metadata": {
      "application/vnd.databricks.v1+output": {
       "addedWidgets": {},
       "aggData": [],
       "aggError": "",
       "aggOverflow": false,
       "aggSchema": [],
       "aggSeriesLimitReached": false,
       "aggType": "",
       "arguments": {},
       "columnCustomDisplayInfos": {},
       "data": [],
       "datasetInfos": [],
       "dbfsResultPath": null,
       "isJsonSchema": true,
       "metadata": {},
       "overflow": false,
       "plotOptions": {
        "customPlotOptions": {},
        "displayType": "table",
        "pivotAggregation": null,
        "pivotColumns": null,
        "xColumns": null,
        "yColumns": null
       },
       "removedWidgets": [],
       "schema": [],
       "type": "table"
      }
     },
     "output_type": "display_data"
    }
   ],
   "source": [
    "%sql\n",
    "drop table if exists dim_autor"
   ]
  },
  {
   "cell_type": "code",
   "execution_count": 0,
   "metadata": {
    "application/vnd.databricks.v1+cell": {
     "cellMetadata": {
      "byteLimit": 2048000,
      "implicitDf": true,
      "rowLimit": 10000
     },
     "inputWidgets": {},
     "nuid": "dd47b378-23e5-46a7-a90e-043ade6c47ab",
     "showTitle": false,
     "tableResultSettingsMap": {},
     "title": ""
    }
   },
   "outputs": [
    {
     "data": {
      "text/html": [
       "<style scoped>\n",
       "  .table-result-container {\n",
       "    max-height: 300px;\n",
       "    overflow: auto;\n",
       "  }\n",
       "  table, th, td {\n",
       "    border: 1px solid black;\n",
       "    border-collapse: collapse;\n",
       "  }\n",
       "  th, td {\n",
       "    padding: 5px;\n",
       "  }\n",
       "  th {\n",
       "    text-align: left;\n",
       "  }\n",
       "</style><div class='table-result-container'><table class='table-result'><thead style='background-color: white'><tr></tr></thead><tbody></tbody></table></div>"
      ]
     },
     "metadata": {
      "application/vnd.databricks.v1+output": {
       "addedWidgets": {},
       "aggData": [],
       "aggError": "",
       "aggOverflow": false,
       "aggSchema": [],
       "aggSeriesLimitReached": false,
       "aggType": "",
       "arguments": {},
       "columnCustomDisplayInfos": {},
       "data": [],
       "datasetInfos": [],
       "dbfsResultPath": null,
       "isJsonSchema": true,
       "metadata": {},
       "overflow": false,
       "plotOptions": {
        "customPlotOptions": {},
        "displayType": "table",
        "pivotAggregation": null,
        "pivotColumns": null,
        "xColumns": null,
        "yColumns": null
       },
       "removedWidgets": [],
       "schema": [],
       "type": "table"
      }
     },
     "output_type": "display_data"
    }
   ],
   "source": [
    "%sql\n",
    "create table dim_autor (\n",
    "  SK_CARRO             bigint generated by default as identity,\n",
    "  PLACA                varchar(10),\n",
    "  MARCA                varchar(100),\n",
    "  MODELO               varchar(100),\n",
    "  COR                  varchar(10),\n",
    "  ANO                  int,\n",
    "  CHASSI               varchar(20)\n",
    ")\n",
    "USING delta\n",
    "LOCATION '/mnt/datalakea554ff8ebf909b7f/gold/dim_autor'"
   ]
  },
  {
   "cell_type": "code",
   "execution_count": 0,
   "metadata": {
    "application/vnd.databricks.v1+cell": {
     "cellMetadata": {
      "byteLimit": 2048000,
      "implicitDf": true,
      "rowLimit": 10000
     },
     "inputWidgets": {},
     "nuid": "dea5441c-5dff-440b-b0dd-86a3afbdbfe3",
     "showTitle": false,
     "tableResultSettingsMap": {},
     "title": ""
    }
   },
   "outputs": [
    {
     "data": {
      "text/html": [
       "<style scoped>\n",
       "  .table-result-container {\n",
       "    max-height: 300px;\n",
       "    overflow: auto;\n",
       "  }\n",
       "  table, th, td {\n",
       "    border: 1px solid black;\n",
       "    border-collapse: collapse;\n",
       "  }\n",
       "  th, td {\n",
       "    padding: 5px;\n",
       "  }\n",
       "  th {\n",
       "    text-align: left;\n",
       "  }\n",
       "</style><div class='table-result-container'><table class='table-result'><thead style='background-color: white'><tr><th>col_name</th><th>data_type</th><th>comment</th></tr></thead><tbody><tr><td>SK_CARRO</td><td>bigint</td><td>null</td></tr><tr><td>PLACA</td><td>varchar(10)</td><td>null</td></tr><tr><td>MARCA</td><td>varchar(100)</td><td>null</td></tr><tr><td>MODELO</td><td>varchar(100)</td><td>null</td></tr><tr><td>COR</td><td>varchar(10)</td><td>null</td></tr><tr><td>ANO</td><td>int</td><td>null</td></tr><tr><td>CHASSI</td><td>varchar(20)</td><td>null</td></tr><tr><td></td><td></td><td></td></tr><tr><td># Detailed Table Information</td><td></td><td></td></tr><tr><td>Catalog</td><td>spark_catalog</td><td></td></tr><tr><td>Database</td><td>default</td><td></td></tr><tr><td>Table</td><td>dim_carro</td><td></td></tr><tr><td>Created Time</td><td>Wed May 14 00:59:23 UTC 2025</td><td></td></tr><tr><td>Last Access</td><td>UNKNOWN</td><td></td></tr><tr><td>Created By</td><td>Spark 3.3.2</td><td></td></tr><tr><td>Type</td><td>EXTERNAL</td><td></td></tr><tr><td>Location</td><td>dbfs:/mnt/datalake4f4de806e56e47cc/gold/dim_carro</td><td></td></tr><tr><td>Provider</td><td>delta</td><td></td></tr><tr><td>Owner</td><td>root</td><td></td></tr><tr><td>Table Properties</td><td>[delta.minReaderVersion=1,delta.minWriterVersion=6]</td><td></td></tr></tbody></table></div>"
      ]
     },
     "metadata": {
      "application/vnd.databricks.v1+output": {
       "addedWidgets": {},
       "aggData": [],
       "aggError": "",
       "aggOverflow": false,
       "aggSchema": [],
       "aggSeriesLimitReached": false,
       "aggType": "",
       "arguments": {},
       "columnCustomDisplayInfos": {},
       "data": [
        [
         "SK_CARRO",
         "bigint",
         null
        ],
        [
         "PLACA",
         "varchar(10)",
         null
        ],
        [
         "MARCA",
         "varchar(100)",
         null
        ],
        [
         "MODELO",
         "varchar(100)",
         null
        ],
        [
         "COR",
         "varchar(10)",
         null
        ],
        [
         "ANO",
         "int",
         null
        ],
        [
         "CHASSI",
         "varchar(20)",
         null
        ],
        [
         "",
         "",
         ""
        ],
        [
         "# Detailed Table Information",
         "",
         ""
        ],
        [
         "Catalog",
         "spark_catalog",
         ""
        ],
        [
         "Database",
         "default",
         ""
        ],
        [
         "Table",
         "dim_carro",
         ""
        ],
        [
         "Created Time",
         "Wed May 14 00:59:23 UTC 2025",
         ""
        ],
        [
         "Last Access",
         "UNKNOWN",
         ""
        ],
        [
         "Created By",
         "Spark 3.3.2",
         ""
        ],
        [
         "Type",
         "EXTERNAL",
         ""
        ],
        [
         "Location",
         "dbfs:/mnt/datalake4f4de806e56e47cc/gold/dim_carro",
         ""
        ],
        [
         "Provider",
         "delta",
         ""
        ],
        [
         "Owner",
         "root",
         ""
        ],
        [
         "Table Properties",
         "[delta.minReaderVersion=1,delta.minWriterVersion=6]",
         ""
        ]
       ],
       "datasetInfos": [],
       "dbfsResultPath": null,
       "isJsonSchema": true,
       "metadata": {},
       "overflow": false,
       "plotOptions": {
        "customPlotOptions": {},
        "displayType": "table",
        "pivotAggregation": null,
        "pivotColumns": null,
        "xColumns": null,
        "yColumns": null
       },
       "removedWidgets": [],
       "schema": [
        {
         "metadata": "{\"comment\":\"name of the column\"}",
         "name": "col_name",
         "type": "\"string\""
        },
        {
         "metadata": "{\"comment\":\"data type of the column\"}",
         "name": "data_type",
         "type": "\"string\""
        },
        {
         "metadata": "{\"comment\":\"comment of the column\"}",
         "name": "comment",
         "type": "\"string\""
        }
       ],
       "type": "table"
      }
     },
     "output_type": "display_data"
    }
   ],
   "source": [
    "%sql\n",
    "DESCRIBE TABLE EXTENDED dim_carro"
   ]
  },
  {
   "cell_type": "code",
   "execution_count": 0,
   "metadata": {
    "application/vnd.databricks.v1+cell": {
     "cellMetadata": {
      "byteLimit": 2048000,
      "rowLimit": 10000
     },
     "inputWidgets": {},
     "nuid": "0c73cef7-1d9d-48e3-98a5-7d0851fc6368",
     "showTitle": false,
     "tableResultSettingsMap": {},
     "title": ""
    }
   },
   "outputs": [],
   "source": [
    "df_carro.createOrReplaceTempView(\"carro\")"
   ]
  },
  {
   "cell_type": "code",
   "execution_count": 0,
   "metadata": {
    "application/vnd.databricks.v1+cell": {
     "cellMetadata": {
      "byteLimit": 2048000,
      "implicitDf": true,
      "rowLimit": 10000
     },
     "inputWidgets": {},
     "nuid": "12a40246-3593-45ab-9c54-b05e6f441868",
     "showTitle": false,
     "tableResultSettingsMap": {},
     "title": ""
    }
   },
   "outputs": [
    {
     "data": {
      "text/html": [
       "<style scoped>\n",
       "  .table-result-container {\n",
       "    max-height: 300px;\n",
       "    overflow: auto;\n",
       "  }\n",
       "  table, th, td {\n",
       "    border: 1px solid black;\n",
       "    border-collapse: collapse;\n",
       "  }\n",
       "  th, td {\n",
       "    padding: 5px;\n",
       "  }\n",
       "  th {\n",
       "    text-align: left;\n",
       "  }\n",
       "</style><div class='table-result-container'><table class='table-result'><thead style='background-color: white'><tr><th>num_affected_rows</th><th>num_updated_rows</th><th>num_deleted_rows</th><th>num_inserted_rows</th></tr></thead><tbody><tr><td>15</td><td>0</td><td>0</td><td>15</td></tr></tbody></table></div>"
      ]
     },
     "metadata": {
      "application/vnd.databricks.v1+output": {
       "addedWidgets": {},
       "aggData": [],
       "aggError": "",
       "aggOverflow": false,
       "aggSchema": [],
       "aggSeriesLimitReached": false,
       "aggType": "",
       "arguments": {},
       "columnCustomDisplayInfos": {},
       "data": [
        [
         15,
         0,
         0,
         15
        ]
       ],
       "datasetInfos": [],
       "dbfsResultPath": null,
       "isJsonSchema": true,
       "metadata": {},
       "overflow": false,
       "plotOptions": {
        "customPlotOptions": {},
        "displayType": "table",
        "pivotAggregation": null,
        "pivotColumns": null,
        "xColumns": null,
        "yColumns": null
       },
       "removedWidgets": [],
       "schema": [
        {
         "metadata": "{}",
         "name": "num_affected_rows",
         "type": "\"long\""
        },
        {
         "metadata": "{}",
         "name": "num_updated_rows",
         "type": "\"long\""
        },
        {
         "metadata": "{}",
         "name": "num_deleted_rows",
         "type": "\"long\""
        },
        {
         "metadata": "{}",
         "name": "num_inserted_rows",
         "type": "\"long\""
        }
       ],
       "type": "table"
      }
     },
     "output_type": "display_data"
    }
   ],
   "source": [
    "%sql\n",
    "\n",
    "WITH carros_relacional AS (\n",
    "\tSELECT placa,\n",
    "\t\t   modelo,\n",
    "\t\t   marca,\n",
    "\t\t   cor,\n",
    "\t\t   ano,\n",
    "\t\t   chassi \n",
    "\t  FROM carro \n",
    ")\n",
    "MERGE INTO\n",
    "\tdim_carro AS c\n",
    "USING\n",
    "\tcarros_relacional AS cc\n",
    "ON c.placa = cc.placa   \n",
    "\n",
    "WHEN MATCHED AND (c.marca <> cc.marca OR c.modelo <> cc.modelo OR c.cor <> cc.cor OR c.ano <> cc.ano OR c.chassi <> cc.chassi) THEN\n",
    "\n",
    "\tUPDATE SET placa  = cc.placa,\n",
    "\t           marca  = cc.marca,\n",
    "\t\t\t   modelo = cc.modelo,\n",
    "\t\t\t   cor    = cc.cor,\n",
    "\t\t\t   ano    = cc.ano,\n",
    "\t\t\t   chassi = cc.chassi\n",
    "\n",
    "WHEN NOT MATCHED THEN\n",
    "\tINSERT (placa, marca, modelo, cor, ano, chassi)\n",
    "\tVALUES (cc.placa, cc.marca, cc.modelo, cc.cor, cc.ano, cc.chassi)"
   ]
  },
  {
   "cell_type": "code",
   "execution_count": 0,
   "metadata": {
    "application/vnd.databricks.v1+cell": {
     "cellMetadata": {
      "byteLimit": 2048000,
      "implicitDf": true,
      "rowLimit": 10000
     },
     "inputWidgets": {},
     "nuid": "f79146bf-e216-485f-ab96-c8be7e1aa7d3",
     "showTitle": false,
     "tableResultSettingsMap": {},
     "title": ""
    }
   },
   "outputs": [
    {
     "data": {
      "text/html": [
       "<style scoped>\n",
       "  .table-result-container {\n",
       "    max-height: 300px;\n",
       "    overflow: auto;\n",
       "  }\n",
       "  table, th, td {\n",
       "    border: 1px solid black;\n",
       "    border-collapse: collapse;\n",
       "  }\n",
       "  th, td {\n",
       "    padding: 5px;\n",
       "  }\n",
       "  th {\n",
       "    text-align: left;\n",
       "  }\n",
       "</style><div class='table-result-container'><table class='table-result'><thead style='background-color: white'><tr><th>SK_CARRO</th><th>PLACA</th><th>MARCA</th><th>MODELO</th><th>COR</th><th>ANO</th><th>CHASSI</th></tr></thead><tbody><tr><td>1</td><td>ALD3834</td><td>RENAULT</td><td>CLIO</td><td>BRANCO</td><td>2011</td><td>34574215969</td></tr><tr><td>2</td><td>CCR8096</td><td>HYUNDAI</td><td>CRETA</td><td>BRANCO</td><td>2020</td><td>88547875547</td></tr><tr><td>3</td><td>DLA3438</td><td>FIAT</td><td>PUNTO</td><td>PRETO</td><td>2013</td><td>98823483434</td></tr><tr><td>4</td><td>EEE1056</td><td>FORD</td><td>ECO SPORT</td><td>AZUL</td><td>2020</td><td>56753453455</td></tr><tr><td>5</td><td>FFR1234</td><td>FIAT</td><td>PALIO</td><td>AMARELO</td><td>2009</td><td>32383478747</td></tr><tr><td>6</td><td>GQY6753</td><td>GM</td><td>S10</td><td>PRETO</td><td>2015</td><td>72004160549</td></tr><tr><td>7</td><td>IAC8974</td><td>VOLKSWAGEN</td><td>TIGUAN</td><td>AZUL</td><td>2022</td><td>77130757746</td></tr><tr><td>8</td><td>JIE0952</td><td>VOLKSWAGEN</td><td>PASSAT</td><td>CINZA</td><td>2016</td><td>87493270405</td></tr><tr><td>9</td><td>JNU7898</td><td>FORD</td><td>2020</td><td>VERDE</td><td>2020</td><td>87628347687</td></tr><tr><td>10</td><td>LVX7086</td><td>RENAULT</td><td>SANDERO</td><td>VERMELHO</td><td>1999</td><td>00025131958</td></tr><tr><td>11</td><td>LWJ9156</td><td>GM</td><td>ONIX</td><td>AZUL</td><td>2015</td><td>40991078801</td></tr><tr><td>12</td><td>MZT1826</td><td>VOLKSWAGEN</td><td>GOL</td><td>AMARELO</td><td>1998</td><td>41150439528</td></tr><tr><td>13</td><td>NAP5760</td><td>JEEP</td><td>COMPASS</td><td>PRETO</td><td>2017</td><td>40364369549</td></tr><tr><td>14</td><td>NEM5116</td><td>PEUGEOT</td><td>2008</td><td>PRETO</td><td>2018</td><td>69469771523</td></tr><tr><td>15</td><td>NFT2212</td><td>RENAULT</td><td>KWID</td><td>BRANCO</td><td>2023</td><td>12344343433</td></tr></tbody></table></div>"
      ]
     },
     "metadata": {
      "application/vnd.databricks.v1+output": {
       "addedWidgets": {},
       "aggData": [],
       "aggError": "",
       "aggOverflow": false,
       "aggSchema": [],
       "aggSeriesLimitReached": false,
       "aggType": "",
       "arguments": {},
       "columnCustomDisplayInfos": {},
       "data": [
        [
         1,
         "ALD3834",
         "RENAULT",
         "CLIO",
         "BRANCO",
         2011,
         "34574215969"
        ],
        [
         2,
         "CCR8096",
         "HYUNDAI",
         "CRETA",
         "BRANCO",
         2020,
         "88547875547"
        ],
        [
         3,
         "DLA3438",
         "FIAT",
         "PUNTO",
         "PRETO",
         2013,
         "98823483434"
        ],
        [
         4,
         "EEE1056",
         "FORD",
         "ECO SPORT",
         "AZUL",
         2020,
         "56753453455"
        ],
        [
         5,
         "FFR1234",
         "FIAT",
         "PALIO",
         "AMARELO",
         2009,
         "32383478747"
        ],
        [
         6,
         "GQY6753",
         "GM",
         "S10",
         "PRETO",
         2015,
         "72004160549"
        ],
        [
         7,
         "IAC8974",
         "VOLKSWAGEN",
         "TIGUAN",
         "AZUL",
         2022,
         "77130757746"
        ],
        [
         8,
         "JIE0952",
         "VOLKSWAGEN",
         "PASSAT",
         "CINZA",
         2016,
         "87493270405"
        ],
        [
         9,
         "JNU7898",
         "FORD",
         "2020",
         "VERDE",
         2020,
         "87628347687"
        ],
        [
         10,
         "LVX7086",
         "RENAULT",
         "SANDERO",
         "VERMELHO",
         1999,
         "00025131958"
        ],
        [
         11,
         "LWJ9156",
         "GM",
         "ONIX",
         "AZUL",
         2015,
         "40991078801"
        ],
        [
         12,
         "MZT1826",
         "VOLKSWAGEN",
         "GOL",
         "AMARELO",
         1998,
         "41150439528"
        ],
        [
         13,
         "NAP5760",
         "JEEP",
         "COMPASS",
         "PRETO",
         2017,
         "40364369549"
        ],
        [
         14,
         "NEM5116",
         "PEUGEOT",
         "2008",
         "PRETO",
         2018,
         "69469771523"
        ],
        [
         15,
         "NFT2212",
         "RENAULT",
         "KWID",
         "BRANCO",
         2023,
         "12344343433"
        ]
       ],
       "datasetInfos": [],
       "dbfsResultPath": null,
       "isJsonSchema": true,
       "metadata": {},
       "overflow": false,
       "plotOptions": {
        "customPlotOptions": {},
        "displayType": "table",
        "pivotAggregation": null,
        "pivotColumns": null,
        "xColumns": null,
        "yColumns": null
       },
       "removedWidgets": [],
       "schema": [
        {
         "metadata": "{}",
         "name": "SK_CARRO",
         "type": "\"long\""
        },
        {
         "metadata": "{\"__CHAR_VARCHAR_TYPE_STRING\":\"varchar(10)\"}",
         "name": "PLACA",
         "type": "\"string\""
        },
        {
         "metadata": "{\"__CHAR_VARCHAR_TYPE_STRING\":\"varchar(100)\"}",
         "name": "MARCA",
         "type": "\"string\""
        },
        {
         "metadata": "{\"__CHAR_VARCHAR_TYPE_STRING\":\"varchar(100)\"}",
         "name": "MODELO",
         "type": "\"string\""
        },
        {
         "metadata": "{\"__CHAR_VARCHAR_TYPE_STRING\":\"varchar(10)\"}",
         "name": "COR",
         "type": "\"string\""
        },
        {
         "metadata": "{}",
         "name": "ANO",
         "type": "\"integer\""
        },
        {
         "metadata": "{\"__CHAR_VARCHAR_TYPE_STRING\":\"varchar(20)\"}",
         "name": "CHASSI",
         "type": "\"string\""
        }
       ],
       "type": "table"
      }
     },
     "output_type": "display_data"
    }
   ],
   "source": [
    "%sql\n",
    "select * from dim_carro"
   ]
  },
  {
   "cell_type": "code",
   "execution_count": 0,
   "metadata": {
    "application/vnd.databricks.v1+cell": {
     "cellMetadata": {
      "byteLimit": 2048000,
      "implicitDf": true,
      "rowLimit": 10000
     },
     "inputWidgets": {},
     "nuid": "2e30bad1-b25f-4d99-b953-0a9dcc68e70d",
     "showTitle": false,
     "tableResultSettingsMap": {},
     "title": ""
    }
   },
   "outputs": [
    {
     "data": {
      "text/html": [
       "<style scoped>\n",
       "  .table-result-container {\n",
       "    max-height: 300px;\n",
       "    overflow: auto;\n",
       "  }\n",
       "  table, th, td {\n",
       "    border: 1px solid black;\n",
       "    border-collapse: collapse;\n",
       "  }\n",
       "  th, td {\n",
       "    padding: 5px;\n",
       "  }\n",
       "  th {\n",
       "    text-align: left;\n",
       "  }\n",
       "</style><div class='table-result-container'><table class='table-result'><thead style='background-color: white'><tr></tr></thead><tbody></tbody></table></div>"
      ]
     },
     "metadata": {
      "application/vnd.databricks.v1+output": {
       "addedWidgets": {},
       "aggData": [],
       "aggError": "",
       "aggOverflow": false,
       "aggSchema": [],
       "aggSeriesLimitReached": false,
       "aggType": "",
       "arguments": {},
       "columnCustomDisplayInfos": {},
       "data": [],
       "datasetInfos": [],
       "dbfsResultPath": null,
       "isJsonSchema": true,
       "metadata": {},
       "overflow": false,
       "plotOptions": {
        "customPlotOptions": {},
        "displayType": "table",
        "pivotAggregation": null,
        "pivotColumns": null,
        "xColumns": null,
        "yColumns": null
       },
       "removedWidgets": [],
       "schema": [],
       "type": "table"
      }
     },
     "output_type": "display_data"
    }
   ],
   "source": [
    "%sql\n",
    "drop table if exists dim_tempo"
   ]
  },
  {
   "cell_type": "code",
   "execution_count": 0,
   "metadata": {
    "application/vnd.databricks.v1+cell": {
     "cellMetadata": {
      "byteLimit": 2048000,
      "rowLimit": 10000
     },
     "inputWidgets": {},
     "nuid": "98297f43-59ec-445c-887e-ee045d3bd22f",
     "showTitle": false,
     "tableResultSettingsMap": {},
     "title": ""
    }
   },
   "outputs": [
    {
     "data": {
      "text/html": [
       "<style scoped>\n",
       "  .table-result-container {\n",
       "    max-height: 300px;\n",
       "    overflow: auto;\n",
       "  }\n",
       "  table, th, td {\n",
       "    border: 1px solid black;\n",
       "    border-collapse: collapse;\n",
       "  }\n",
       "  th, td {\n",
       "    padding: 5px;\n",
       "  }\n",
       "  th {\n",
       "    text-align: left;\n",
       "  }\n",
       "</style><div class='table-result-container'><table class='table-result'><thead style='background-color: white'><tr><th>Data</th><th>Ano</th><th>Mes</th><th>NomeMes</th><th>Dia</th><th>NomeDiaSemana</th><th>NumeroDiaSemana</th></tr></thead><tbody><tr><td>2023-01-01</td><td>2023</td><td>1</td><td>JANEIRO</td><td>1</td><td>DOMINGO</td><td>1</td></tr><tr><td>2023-01-02</td><td>2023</td><td>1</td><td>JANEIRO</td><td>2</td><td>SEGUNDA-FEIRA</td><td>2</td></tr><tr><td>2023-01-03</td><td>2023</td><td>1</td><td>JANEIRO</td><td>3</td><td>TERCA-FEIRA</td><td>3</td></tr><tr><td>2023-01-04</td><td>2023</td><td>1</td><td>JANEIRO</td><td>4</td><td>QUARTA-FEIRA</td><td>4</td></tr><tr><td>2023-01-05</td><td>2023</td><td>1</td><td>JANEIRO</td><td>5</td><td>QUINTA-FEIRA</td><td>5</td></tr><tr><td>2023-01-06</td><td>2023</td><td>1</td><td>JANEIRO</td><td>6</td><td>SEXTA-FEIRA</td><td>6</td></tr><tr><td>2023-01-07</td><td>2023</td><td>1</td><td>JANEIRO</td><td>7</td><td>SABADO</td><td>7</td></tr><tr><td>2023-01-08</td><td>2023</td><td>1</td><td>JANEIRO</td><td>8</td><td>DOMINGO</td><td>1</td></tr><tr><td>2023-01-09</td><td>2023</td><td>1</td><td>JANEIRO</td><td>9</td><td>SEGUNDA-FEIRA</td><td>2</td></tr><tr><td>2023-01-10</td><td>2023</td><td>1</td><td>JANEIRO</td><td>10</td><td>TERCA-FEIRA</td><td>3</td></tr><tr><td>2023-01-11</td><td>2023</td><td>1</td><td>JANEIRO</td><td>11</td><td>QUARTA-FEIRA</td><td>4</td></tr><tr><td>2023-01-12</td><td>2023</td><td>1</td><td>JANEIRO</td><td>12</td><td>QUINTA-FEIRA</td><td>5</td></tr><tr><td>2023-01-13</td><td>2023</td><td>1</td><td>JANEIRO</td><td>13</td><td>SEXTA-FEIRA</td><td>6</td></tr><tr><td>2023-01-14</td><td>2023</td><td>1</td><td>JANEIRO</td><td>14</td><td>SABADO</td><td>7</td></tr><tr><td>2023-01-15</td><td>2023</td><td>1</td><td>JANEIRO</td><td>15</td><td>DOMINGO</td><td>1</td></tr><tr><td>2023-01-16</td><td>2023</td><td>1</td><td>JANEIRO</td><td>16</td><td>SEGUNDA-FEIRA</td><td>2</td></tr><tr><td>2023-01-17</td><td>2023</td><td>1</td><td>JANEIRO</td><td>17</td><td>TERCA-FEIRA</td><td>3</td></tr><tr><td>2023-01-18</td><td>2023</td><td>1</td><td>JANEIRO</td><td>18</td><td>QUARTA-FEIRA</td><td>4</td></tr><tr><td>2023-01-19</td><td>2023</td><td>1</td><td>JANEIRO</td><td>19</td><td>QUINTA-FEIRA</td><td>5</td></tr><tr><td>2023-01-20</td><td>2023</td><td>1</td><td>JANEIRO</td><td>20</td><td>SEXTA-FEIRA</td><td>6</td></tr><tr><td>2023-01-21</td><td>2023</td><td>1</td><td>JANEIRO</td><td>21</td><td>SABADO</td><td>7</td></tr><tr><td>2023-01-22</td><td>2023</td><td>1</td><td>JANEIRO</td><td>22</td><td>DOMINGO</td><td>1</td></tr><tr><td>2023-01-23</td><td>2023</td><td>1</td><td>JANEIRO</td><td>23</td><td>SEGUNDA-FEIRA</td><td>2</td></tr><tr><td>2023-01-24</td><td>2023</td><td>1</td><td>JANEIRO</td><td>24</td><td>TERCA-FEIRA</td><td>3</td></tr><tr><td>2023-01-25</td><td>2023</td><td>1</td><td>JANEIRO</td><td>25</td><td>QUARTA-FEIRA</td><td>4</td></tr><tr><td>2023-01-26</td><td>2023</td><td>1</td><td>JANEIRO</td><td>26</td><td>QUINTA-FEIRA</td><td>5</td></tr><tr><td>2023-01-27</td><td>2023</td><td>1</td><td>JANEIRO</td><td>27</td><td>SEXTA-FEIRA</td><td>6</td></tr><tr><td>2023-01-28</td><td>2023</td><td>1</td><td>JANEIRO</td><td>28</td><td>SABADO</td><td>7</td></tr><tr><td>2023-01-29</td><td>2023</td><td>1</td><td>JANEIRO</td><td>29</td><td>DOMINGO</td><td>1</td></tr><tr><td>2023-01-30</td><td>2023</td><td>1</td><td>JANEIRO</td><td>30</td><td>SEGUNDA-FEIRA</td><td>2</td></tr><tr><td>2023-01-31</td><td>2023</td><td>1</td><td>JANEIRO</td><td>31</td><td>TERCA-FEIRA</td><td>3</td></tr><tr><td>2023-02-01</td><td>2023</td><td>2</td><td>FEVEREIRO</td><td>1</td><td>QUARTA-FEIRA</td><td>4</td></tr><tr><td>2023-02-02</td><td>2023</td><td>2</td><td>FEVEREIRO</td><td>2</td><td>QUINTA-FEIRA</td><td>5</td></tr><tr><td>2023-02-03</td><td>2023</td><td>2</td><td>FEVEREIRO</td><td>3</td><td>SEXTA-FEIRA</td><td>6</td></tr><tr><td>2023-02-04</td><td>2023</td><td>2</td><td>FEVEREIRO</td><td>4</td><td>SABADO</td><td>7</td></tr><tr><td>2023-02-05</td><td>2023</td><td>2</td><td>FEVEREIRO</td><td>5</td><td>DOMINGO</td><td>1</td></tr><tr><td>2023-02-06</td><td>2023</td><td>2</td><td>FEVEREIRO</td><td>6</td><td>SEGUNDA-FEIRA</td><td>2</td></tr><tr><td>2023-02-07</td><td>2023</td><td>2</td><td>FEVEREIRO</td><td>7</td><td>TERCA-FEIRA</td><td>3</td></tr><tr><td>2023-02-08</td><td>2023</td><td>2</td><td>FEVEREIRO</td><td>8</td><td>QUARTA-FEIRA</td><td>4</td></tr><tr><td>2023-02-09</td><td>2023</td><td>2</td><td>FEVEREIRO</td><td>9</td><td>QUINTA-FEIRA</td><td>5</td></tr><tr><td>2023-02-10</td><td>2023</td><td>2</td><td>FEVEREIRO</td><td>10</td><td>SEXTA-FEIRA</td><td>6</td></tr><tr><td>2023-02-11</td><td>2023</td><td>2</td><td>FEVEREIRO</td><td>11</td><td>SABADO</td><td>7</td></tr><tr><td>2023-02-12</td><td>2023</td><td>2</td><td>FEVEREIRO</td><td>12</td><td>DOMINGO</td><td>1</td></tr><tr><td>2023-02-13</td><td>2023</td><td>2</td><td>FEVEREIRO</td><td>13</td><td>SEGUNDA-FEIRA</td><td>2</td></tr><tr><td>2023-02-14</td><td>2023</td><td>2</td><td>FEVEREIRO</td><td>14</td><td>TERCA-FEIRA</td><td>3</td></tr><tr><td>2023-02-15</td><td>2023</td><td>2</td><td>FEVEREIRO</td><td>15</td><td>QUARTA-FEIRA</td><td>4</td></tr><tr><td>2023-02-16</td><td>2023</td><td>2</td><td>FEVEREIRO</td><td>16</td><td>QUINTA-FEIRA</td><td>5</td></tr><tr><td>2023-02-17</td><td>2023</td><td>2</td><td>FEVEREIRO</td><td>17</td><td>SEXTA-FEIRA</td><td>6</td></tr><tr><td>2023-02-18</td><td>2023</td><td>2</td><td>FEVEREIRO</td><td>18</td><td>SABADO</td><td>7</td></tr><tr><td>2023-02-19</td><td>2023</td><td>2</td><td>FEVEREIRO</td><td>19</td><td>DOMINGO</td><td>1</td></tr><tr><td>2023-02-20</td><td>2023</td><td>2</td><td>FEVEREIRO</td><td>20</td><td>SEGUNDA-FEIRA</td><td>2</td></tr><tr><td>2023-02-21</td><td>2023</td><td>2</td><td>FEVEREIRO</td><td>21</td><td>TERCA-FEIRA</td><td>3</td></tr><tr><td>2023-02-22</td><td>2023</td><td>2</td><td>FEVEREIRO</td><td>22</td><td>QUARTA-FEIRA</td><td>4</td></tr><tr><td>2023-02-23</td><td>2023</td><td>2</td><td>FEVEREIRO</td><td>23</td><td>QUINTA-FEIRA</td><td>5</td></tr><tr><td>2023-02-24</td><td>2023</td><td>2</td><td>FEVEREIRO</td><td>24</td><td>SEXTA-FEIRA</td><td>6</td></tr><tr><td>2023-02-25</td><td>2023</td><td>2</td><td>FEVEREIRO</td><td>25</td><td>SABADO</td><td>7</td></tr><tr><td>2023-02-26</td><td>2023</td><td>2</td><td>FEVEREIRO</td><td>26</td><td>DOMINGO</td><td>1</td></tr><tr><td>2023-02-27</td><td>2023</td><td>2</td><td>FEVEREIRO</td><td>27</td><td>SEGUNDA-FEIRA</td><td>2</td></tr><tr><td>2023-02-28</td><td>2023</td><td>2</td><td>FEVEREIRO</td><td>28</td><td>TERCA-FEIRA</td><td>3</td></tr><tr><td>2023-03-01</td><td>2023</td><td>3</td><td>MARCO</td><td>1</td><td>QUARTA-FEIRA</td><td>4</td></tr><tr><td>2023-03-02</td><td>2023</td><td>3</td><td>MARCO</td><td>2</td><td>QUINTA-FEIRA</td><td>5</td></tr><tr><td>2023-03-03</td><td>2023</td><td>3</td><td>MARCO</td><td>3</td><td>SEXTA-FEIRA</td><td>6</td></tr><tr><td>2023-03-04</td><td>2023</td><td>3</td><td>MARCO</td><td>4</td><td>SABADO</td><td>7</td></tr><tr><td>2023-03-05</td><td>2023</td><td>3</td><td>MARCO</td><td>5</td><td>DOMINGO</td><td>1</td></tr><tr><td>2023-03-06</td><td>2023</td><td>3</td><td>MARCO</td><td>6</td><td>SEGUNDA-FEIRA</td><td>2</td></tr><tr><td>2023-03-07</td><td>2023</td><td>3</td><td>MARCO</td><td>7</td><td>TERCA-FEIRA</td><td>3</td></tr><tr><td>2023-03-08</td><td>2023</td><td>3</td><td>MARCO</td><td>8</td><td>QUARTA-FEIRA</td><td>4</td></tr><tr><td>2023-03-09</td><td>2023</td><td>3</td><td>MARCO</td><td>9</td><td>QUINTA-FEIRA</td><td>5</td></tr><tr><td>2023-03-10</td><td>2023</td><td>3</td><td>MARCO</td><td>10</td><td>SEXTA-FEIRA</td><td>6</td></tr><tr><td>2023-03-11</td><td>2023</td><td>3</td><td>MARCO</td><td>11</td><td>SABADO</td><td>7</td></tr><tr><td>2023-03-12</td><td>2023</td><td>3</td><td>MARCO</td><td>12</td><td>DOMINGO</td><td>1</td></tr><tr><td>2023-03-13</td><td>2023</td><td>3</td><td>MARCO</td><td>13</td><td>SEGUNDA-FEIRA</td><td>2</td></tr><tr><td>2023-03-14</td><td>2023</td><td>3</td><td>MARCO</td><td>14</td><td>TERCA-FEIRA</td><td>3</td></tr><tr><td>2023-03-15</td><td>2023</td><td>3</td><td>MARCO</td><td>15</td><td>QUARTA-FEIRA</td><td>4</td></tr><tr><td>2023-03-16</td><td>2023</td><td>3</td><td>MARCO</td><td>16</td><td>QUINTA-FEIRA</td><td>5</td></tr><tr><td>2023-03-17</td><td>2023</td><td>3</td><td>MARCO</td><td>17</td><td>SEXTA-FEIRA</td><td>6</td></tr><tr><td>2023-03-18</td><td>2023</td><td>3</td><td>MARCO</td><td>18</td><td>SABADO</td><td>7</td></tr><tr><td>2023-03-19</td><td>2023</td><td>3</td><td>MARCO</td><td>19</td><td>DOMINGO</td><td>1</td></tr><tr><td>2023-03-20</td><td>2023</td><td>3</td><td>MARCO</td><td>20</td><td>SEGUNDA-FEIRA</td><td>2</td></tr><tr><td>2023-03-21</td><td>2023</td><td>3</td><td>MARCO</td><td>21</td><td>TERCA-FEIRA</td><td>3</td></tr><tr><td>2023-03-22</td><td>2023</td><td>3</td><td>MARCO</td><td>22</td><td>QUARTA-FEIRA</td><td>4</td></tr><tr><td>2023-03-23</td><td>2023</td><td>3</td><td>MARCO</td><td>23</td><td>QUINTA-FEIRA</td><td>5</td></tr><tr><td>2023-03-24</td><td>2023</td><td>3</td><td>MARCO</td><td>24</td><td>SEXTA-FEIRA</td><td>6</td></tr><tr><td>2023-03-25</td><td>2023</td><td>3</td><td>MARCO</td><td>25</td><td>SABADO</td><td>7</td></tr><tr><td>2023-03-26</td><td>2023</td><td>3</td><td>MARCO</td><td>26</td><td>DOMINGO</td><td>1</td></tr><tr><td>2023-03-27</td><td>2023</td><td>3</td><td>MARCO</td><td>27</td><td>SEGUNDA-FEIRA</td><td>2</td></tr><tr><td>2023-03-28</td><td>2023</td><td>3</td><td>MARCO</td><td>28</td><td>TERCA-FEIRA</td><td>3</td></tr><tr><td>2023-03-29</td><td>2023</td><td>3</td><td>MARCO</td><td>29</td><td>QUARTA-FEIRA</td><td>4</td></tr><tr><td>2023-03-30</td><td>2023</td><td>3</td><td>MARCO</td><td>30</td><td>QUINTA-FEIRA</td><td>5</td></tr><tr><td>2023-03-31</td><td>2023</td><td>3</td><td>MARCO</td><td>31</td><td>SEXTA-FEIRA</td><td>6</td></tr><tr><td>2023-04-01</td><td>2023</td><td>4</td><td>ABRIL</td><td>1</td><td>SABADO</td><td>7</td></tr><tr><td>2023-04-02</td><td>2023</td><td>4</td><td>ABRIL</td><td>2</td><td>DOMINGO</td><td>1</td></tr><tr><td>2023-04-03</td><td>2023</td><td>4</td><td>ABRIL</td><td>3</td><td>SEGUNDA-FEIRA</td><td>2</td></tr><tr><td>2023-04-04</td><td>2023</td><td>4</td><td>ABRIL</td><td>4</td><td>TERCA-FEIRA</td><td>3</td></tr><tr><td>2023-04-05</td><td>2023</td><td>4</td><td>ABRIL</td><td>5</td><td>QUARTA-FEIRA</td><td>4</td></tr><tr><td>2023-04-06</td><td>2023</td><td>4</td><td>ABRIL</td><td>6</td><td>QUINTA-FEIRA</td><td>5</td></tr><tr><td>2023-04-07</td><td>2023</td><td>4</td><td>ABRIL</td><td>7</td><td>SEXTA-FEIRA</td><td>6</td></tr><tr><td>2023-04-08</td><td>2023</td><td>4</td><td>ABRIL</td><td>8</td><td>SABADO</td><td>7</td></tr><tr><td>2023-04-09</td><td>2023</td><td>4</td><td>ABRIL</td><td>9</td><td>DOMINGO</td><td>1</td></tr><tr><td>2023-04-10</td><td>2023</td><td>4</td><td>ABRIL</td><td>10</td><td>SEGUNDA-FEIRA</td><td>2</td></tr><tr><td>2023-04-11</td><td>2023</td><td>4</td><td>ABRIL</td><td>11</td><td>TERCA-FEIRA</td><td>3</td></tr><tr><td>2023-04-12</td><td>2023</td><td>4</td><td>ABRIL</td><td>12</td><td>QUARTA-FEIRA</td><td>4</td></tr><tr><td>2023-04-13</td><td>2023</td><td>4</td><td>ABRIL</td><td>13</td><td>QUINTA-FEIRA</td><td>5</td></tr><tr><td>2023-04-14</td><td>2023</td><td>4</td><td>ABRIL</td><td>14</td><td>SEXTA-FEIRA</td><td>6</td></tr><tr><td>2023-04-15</td><td>2023</td><td>4</td><td>ABRIL</td><td>15</td><td>SABADO</td><td>7</td></tr><tr><td>2023-04-16</td><td>2023</td><td>4</td><td>ABRIL</td><td>16</td><td>DOMINGO</td><td>1</td></tr><tr><td>2023-04-17</td><td>2023</td><td>4</td><td>ABRIL</td><td>17</td><td>SEGUNDA-FEIRA</td><td>2</td></tr><tr><td>2023-04-18</td><td>2023</td><td>4</td><td>ABRIL</td><td>18</td><td>TERCA-FEIRA</td><td>3</td></tr><tr><td>2023-04-19</td><td>2023</td><td>4</td><td>ABRIL</td><td>19</td><td>QUARTA-FEIRA</td><td>4</td></tr><tr><td>2023-04-20</td><td>2023</td><td>4</td><td>ABRIL</td><td>20</td><td>QUINTA-FEIRA</td><td>5</td></tr><tr><td>2023-04-21</td><td>2023</td><td>4</td><td>ABRIL</td><td>21</td><td>SEXTA-FEIRA</td><td>6</td></tr><tr><td>2023-04-22</td><td>2023</td><td>4</td><td>ABRIL</td><td>22</td><td>SABADO</td><td>7</td></tr><tr><td>2023-04-23</td><td>2023</td><td>4</td><td>ABRIL</td><td>23</td><td>DOMINGO</td><td>1</td></tr><tr><td>2023-04-24</td><td>2023</td><td>4</td><td>ABRIL</td><td>24</td><td>SEGUNDA-FEIRA</td><td>2</td></tr><tr><td>2023-04-25</td><td>2023</td><td>4</td><td>ABRIL</td><td>25</td><td>TERCA-FEIRA</td><td>3</td></tr><tr><td>2023-04-26</td><td>2023</td><td>4</td><td>ABRIL</td><td>26</td><td>QUARTA-FEIRA</td><td>4</td></tr><tr><td>2023-04-27</td><td>2023</td><td>4</td><td>ABRIL</td><td>27</td><td>QUINTA-FEIRA</td><td>5</td></tr><tr><td>2023-04-28</td><td>2023</td><td>4</td><td>ABRIL</td><td>28</td><td>SEXTA-FEIRA</td><td>6</td></tr><tr><td>2023-04-29</td><td>2023</td><td>4</td><td>ABRIL</td><td>29</td><td>SABADO</td><td>7</td></tr><tr><td>2023-04-30</td><td>2023</td><td>4</td><td>ABRIL</td><td>30</td><td>DOMINGO</td><td>1</td></tr><tr><td>2023-05-01</td><td>2023</td><td>5</td><td>MAIO</td><td>1</td><td>SEGUNDA-FEIRA</td><td>2</td></tr><tr><td>2023-05-02</td><td>2023</td><td>5</td><td>MAIO</td><td>2</td><td>TERCA-FEIRA</td><td>3</td></tr><tr><td>2023-05-03</td><td>2023</td><td>5</td><td>MAIO</td><td>3</td><td>QUARTA-FEIRA</td><td>4</td></tr><tr><td>2023-05-04</td><td>2023</td><td>5</td><td>MAIO</td><td>4</td><td>QUINTA-FEIRA</td><td>5</td></tr><tr><td>2023-05-05</td><td>2023</td><td>5</td><td>MAIO</td><td>5</td><td>SEXTA-FEIRA</td><td>6</td></tr><tr><td>2023-05-06</td><td>2023</td><td>5</td><td>MAIO</td><td>6</td><td>SABADO</td><td>7</td></tr><tr><td>2023-05-07</td><td>2023</td><td>5</td><td>MAIO</td><td>7</td><td>DOMINGO</td><td>1</td></tr><tr><td>2023-05-08</td><td>2023</td><td>5</td><td>MAIO</td><td>8</td><td>SEGUNDA-FEIRA</td><td>2</td></tr><tr><td>2023-05-09</td><td>2023</td><td>5</td><td>MAIO</td><td>9</td><td>TERCA-FEIRA</td><td>3</td></tr><tr><td>2023-05-10</td><td>2023</td><td>5</td><td>MAIO</td><td>10</td><td>QUARTA-FEIRA</td><td>4</td></tr><tr><td>2023-05-11</td><td>2023</td><td>5</td><td>MAIO</td><td>11</td><td>QUINTA-FEIRA</td><td>5</td></tr><tr><td>2023-05-12</td><td>2023</td><td>5</td><td>MAIO</td><td>12</td><td>SEXTA-FEIRA</td><td>6</td></tr><tr><td>2023-05-13</td><td>2023</td><td>5</td><td>MAIO</td><td>13</td><td>SABADO</td><td>7</td></tr><tr><td>2023-05-14</td><td>2023</td><td>5</td><td>MAIO</td><td>14</td><td>DOMINGO</td><td>1</td></tr><tr><td>2023-05-15</td><td>2023</td><td>5</td><td>MAIO</td><td>15</td><td>SEGUNDA-FEIRA</td><td>2</td></tr><tr><td>2023-05-16</td><td>2023</td><td>5</td><td>MAIO</td><td>16</td><td>TERCA-FEIRA</td><td>3</td></tr><tr><td>2023-05-17</td><td>2023</td><td>5</td><td>MAIO</td><td>17</td><td>QUARTA-FEIRA</td><td>4</td></tr><tr><td>2023-05-18</td><td>2023</td><td>5</td><td>MAIO</td><td>18</td><td>QUINTA-FEIRA</td><td>5</td></tr><tr><td>2023-05-19</td><td>2023</td><td>5</td><td>MAIO</td><td>19</td><td>SEXTA-FEIRA</td><td>6</td></tr><tr><td>2023-05-20</td><td>2023</td><td>5</td><td>MAIO</td><td>20</td><td>SABADO</td><td>7</td></tr><tr><td>2023-05-21</td><td>2023</td><td>5</td><td>MAIO</td><td>21</td><td>DOMINGO</td><td>1</td></tr><tr><td>2023-05-22</td><td>2023</td><td>5</td><td>MAIO</td><td>22</td><td>SEGUNDA-FEIRA</td><td>2</td></tr><tr><td>2023-05-23</td><td>2023</td><td>5</td><td>MAIO</td><td>23</td><td>TERCA-FEIRA</td><td>3</td></tr><tr><td>2023-05-24</td><td>2023</td><td>5</td><td>MAIO</td><td>24</td><td>QUARTA-FEIRA</td><td>4</td></tr><tr><td>2023-05-25</td><td>2023</td><td>5</td><td>MAIO</td><td>25</td><td>QUINTA-FEIRA</td><td>5</td></tr><tr><td>2023-05-26</td><td>2023</td><td>5</td><td>MAIO</td><td>26</td><td>SEXTA-FEIRA</td><td>6</td></tr><tr><td>2023-05-27</td><td>2023</td><td>5</td><td>MAIO</td><td>27</td><td>SABADO</td><td>7</td></tr><tr><td>2023-05-28</td><td>2023</td><td>5</td><td>MAIO</td><td>28</td><td>DOMINGO</td><td>1</td></tr><tr><td>2023-05-29</td><td>2023</td><td>5</td><td>MAIO</td><td>29</td><td>SEGUNDA-FEIRA</td><td>2</td></tr><tr><td>2023-05-30</td><td>2023</td><td>5</td><td>MAIO</td><td>30</td><td>TERCA-FEIRA</td><td>3</td></tr><tr><td>2023-05-31</td><td>2023</td><td>5</td><td>MAIO</td><td>31</td><td>QUARTA-FEIRA</td><td>4</td></tr><tr><td>2023-06-01</td><td>2023</td><td>6</td><td>JUNHO</td><td>1</td><td>QUINTA-FEIRA</td><td>5</td></tr><tr><td>2023-06-02</td><td>2023</td><td>6</td><td>JUNHO</td><td>2</td><td>SEXTA-FEIRA</td><td>6</td></tr><tr><td>2023-06-03</td><td>2023</td><td>6</td><td>JUNHO</td><td>3</td><td>SABADO</td><td>7</td></tr><tr><td>2023-06-04</td><td>2023</td><td>6</td><td>JUNHO</td><td>4</td><td>DOMINGO</td><td>1</td></tr><tr><td>2023-06-05</td><td>2023</td><td>6</td><td>JUNHO</td><td>5</td><td>SEGUNDA-FEIRA</td><td>2</td></tr><tr><td>2023-06-06</td><td>2023</td><td>6</td><td>JUNHO</td><td>6</td><td>TERCA-FEIRA</td><td>3</td></tr><tr><td>2023-06-07</td><td>2023</td><td>6</td><td>JUNHO</td><td>7</td><td>QUARTA-FEIRA</td><td>4</td></tr><tr><td>2023-06-08</td><td>2023</td><td>6</td><td>JUNHO</td><td>8</td><td>QUINTA-FEIRA</td><td>5</td></tr><tr><td>2023-06-09</td><td>2023</td><td>6</td><td>JUNHO</td><td>9</td><td>SEXTA-FEIRA</td><td>6</td></tr><tr><td>2023-06-10</td><td>2023</td><td>6</td><td>JUNHO</td><td>10</td><td>SABADO</td><td>7</td></tr><tr><td>2023-06-11</td><td>2023</td><td>6</td><td>JUNHO</td><td>11</td><td>DOMINGO</td><td>1</td></tr><tr><td>2023-06-12</td><td>2023</td><td>6</td><td>JUNHO</td><td>12</td><td>SEGUNDA-FEIRA</td><td>2</td></tr><tr><td>2023-06-13</td><td>2023</td><td>6</td><td>JUNHO</td><td>13</td><td>TERCA-FEIRA</td><td>3</td></tr><tr><td>2023-06-14</td><td>2023</td><td>6</td><td>JUNHO</td><td>14</td><td>QUARTA-FEIRA</td><td>4</td></tr><tr><td>2023-06-15</td><td>2023</td><td>6</td><td>JUNHO</td><td>15</td><td>QUINTA-FEIRA</td><td>5</td></tr><tr><td>2023-06-16</td><td>2023</td><td>6</td><td>JUNHO</td><td>16</td><td>SEXTA-FEIRA</td><td>6</td></tr><tr><td>2023-06-17</td><td>2023</td><td>6</td><td>JUNHO</td><td>17</td><td>SABADO</td><td>7</td></tr><tr><td>2023-06-18</td><td>2023</td><td>6</td><td>JUNHO</td><td>18</td><td>DOMINGO</td><td>1</td></tr><tr><td>2023-06-19</td><td>2023</td><td>6</td><td>JUNHO</td><td>19</td><td>SEGUNDA-FEIRA</td><td>2</td></tr><tr><td>2023-06-20</td><td>2023</td><td>6</td><td>JUNHO</td><td>20</td><td>TERCA-FEIRA</td><td>3</td></tr><tr><td>2023-06-21</td><td>2023</td><td>6</td><td>JUNHO</td><td>21</td><td>QUARTA-FEIRA</td><td>4</td></tr><tr><td>2023-06-22</td><td>2023</td><td>6</td><td>JUNHO</td><td>22</td><td>QUINTA-FEIRA</td><td>5</td></tr><tr><td>2023-06-23</td><td>2023</td><td>6</td><td>JUNHO</td><td>23</td><td>SEXTA-FEIRA</td><td>6</td></tr><tr><td>2023-06-24</td><td>2023</td><td>6</td><td>JUNHO</td><td>24</td><td>SABADO</td><td>7</td></tr><tr><td>2023-06-25</td><td>2023</td><td>6</td><td>JUNHO</td><td>25</td><td>DOMINGO</td><td>1</td></tr><tr><td>2023-06-26</td><td>2023</td><td>6</td><td>JUNHO</td><td>26</td><td>SEGUNDA-FEIRA</td><td>2</td></tr><tr><td>2023-06-27</td><td>2023</td><td>6</td><td>JUNHO</td><td>27</td><td>TERCA-FEIRA</td><td>3</td></tr><tr><td>2023-06-28</td><td>2023</td><td>6</td><td>JUNHO</td><td>28</td><td>QUARTA-FEIRA</td><td>4</td></tr><tr><td>2023-06-29</td><td>2023</td><td>6</td><td>JUNHO</td><td>29</td><td>QUINTA-FEIRA</td><td>5</td></tr><tr><td>2023-06-30</td><td>2023</td><td>6</td><td>JUNHO</td><td>30</td><td>SEXTA-FEIRA</td><td>6</td></tr><tr><td>2023-07-01</td><td>2023</td><td>7</td><td>JULHO</td><td>1</td><td>SABADO</td><td>7</td></tr><tr><td>2023-07-02</td><td>2023</td><td>7</td><td>JULHO</td><td>2</td><td>DOMINGO</td><td>1</td></tr><tr><td>2023-07-03</td><td>2023</td><td>7</td><td>JULHO</td><td>3</td><td>SEGUNDA-FEIRA</td><td>2</td></tr><tr><td>2023-07-04</td><td>2023</td><td>7</td><td>JULHO</td><td>4</td><td>TERCA-FEIRA</td><td>3</td></tr><tr><td>2023-07-05</td><td>2023</td><td>7</td><td>JULHO</td><td>5</td><td>QUARTA-FEIRA</td><td>4</td></tr><tr><td>2023-07-06</td><td>2023</td><td>7</td><td>JULHO</td><td>6</td><td>QUINTA-FEIRA</td><td>5</td></tr><tr><td>2023-07-07</td><td>2023</td><td>7</td><td>JULHO</td><td>7</td><td>SEXTA-FEIRA</td><td>6</td></tr><tr><td>2023-07-08</td><td>2023</td><td>7</td><td>JULHO</td><td>8</td><td>SABADO</td><td>7</td></tr><tr><td>2023-07-09</td><td>2023</td><td>7</td><td>JULHO</td><td>9</td><td>DOMINGO</td><td>1</td></tr><tr><td>2023-07-10</td><td>2023</td><td>7</td><td>JULHO</td><td>10</td><td>SEGUNDA-FEIRA</td><td>2</td></tr><tr><td>2023-07-11</td><td>2023</td><td>7</td><td>JULHO</td><td>11</td><td>TERCA-FEIRA</td><td>3</td></tr><tr><td>2023-07-12</td><td>2023</td><td>7</td><td>JULHO</td><td>12</td><td>QUARTA-FEIRA</td><td>4</td></tr><tr><td>2023-07-13</td><td>2023</td><td>7</td><td>JULHO</td><td>13</td><td>QUINTA-FEIRA</td><td>5</td></tr><tr><td>2023-07-14</td><td>2023</td><td>7</td><td>JULHO</td><td>14</td><td>SEXTA-FEIRA</td><td>6</td></tr><tr><td>2023-07-15</td><td>2023</td><td>7</td><td>JULHO</td><td>15</td><td>SABADO</td><td>7</td></tr><tr><td>2023-07-16</td><td>2023</td><td>7</td><td>JULHO</td><td>16</td><td>DOMINGO</td><td>1</td></tr><tr><td>2023-07-17</td><td>2023</td><td>7</td><td>JULHO</td><td>17</td><td>SEGUNDA-FEIRA</td><td>2</td></tr><tr><td>2023-07-18</td><td>2023</td><td>7</td><td>JULHO</td><td>18</td><td>TERCA-FEIRA</td><td>3</td></tr><tr><td>2023-07-19</td><td>2023</td><td>7</td><td>JULHO</td><td>19</td><td>QUARTA-FEIRA</td><td>4</td></tr><tr><td>2023-07-20</td><td>2023</td><td>7</td><td>JULHO</td><td>20</td><td>QUINTA-FEIRA</td><td>5</td></tr><tr><td>2023-07-21</td><td>2023</td><td>7</td><td>JULHO</td><td>21</td><td>SEXTA-FEIRA</td><td>6</td></tr><tr><td>2023-07-22</td><td>2023</td><td>7</td><td>JULHO</td><td>22</td><td>SABADO</td><td>7</td></tr><tr><td>2023-07-23</td><td>2023</td><td>7</td><td>JULHO</td><td>23</td><td>DOMINGO</td><td>1</td></tr><tr><td>2023-07-24</td><td>2023</td><td>7</td><td>JULHO</td><td>24</td><td>SEGUNDA-FEIRA</td><td>2</td></tr><tr><td>2023-07-25</td><td>2023</td><td>7</td><td>JULHO</td><td>25</td><td>TERCA-FEIRA</td><td>3</td></tr><tr><td>2023-07-26</td><td>2023</td><td>7</td><td>JULHO</td><td>26</td><td>QUARTA-FEIRA</td><td>4</td></tr><tr><td>2023-07-27</td><td>2023</td><td>7</td><td>JULHO</td><td>27</td><td>QUINTA-FEIRA</td><td>5</td></tr><tr><td>2023-07-28</td><td>2023</td><td>7</td><td>JULHO</td><td>28</td><td>SEXTA-FEIRA</td><td>6</td></tr><tr><td>2023-07-29</td><td>2023</td><td>7</td><td>JULHO</td><td>29</td><td>SABADO</td><td>7</td></tr><tr><td>2023-07-30</td><td>2023</td><td>7</td><td>JULHO</td><td>30</td><td>DOMINGO</td><td>1</td></tr><tr><td>2023-07-31</td><td>2023</td><td>7</td><td>JULHO</td><td>31</td><td>SEGUNDA-FEIRA</td><td>2</td></tr><tr><td>2023-08-01</td><td>2023</td><td>8</td><td>AGOSTO</td><td>1</td><td>TERCA-FEIRA</td><td>3</td></tr><tr><td>2023-08-02</td><td>2023</td><td>8</td><td>AGOSTO</td><td>2</td><td>QUARTA-FEIRA</td><td>4</td></tr><tr><td>2023-08-03</td><td>2023</td><td>8</td><td>AGOSTO</td><td>3</td><td>QUINTA-FEIRA</td><td>5</td></tr><tr><td>2023-08-04</td><td>2023</td><td>8</td><td>AGOSTO</td><td>4</td><td>SEXTA-FEIRA</td><td>6</td></tr><tr><td>2023-08-05</td><td>2023</td><td>8</td><td>AGOSTO</td><td>5</td><td>SABADO</td><td>7</td></tr><tr><td>2023-08-06</td><td>2023</td><td>8</td><td>AGOSTO</td><td>6</td><td>DOMINGO</td><td>1</td></tr><tr><td>2023-08-07</td><td>2023</td><td>8</td><td>AGOSTO</td><td>7</td><td>SEGUNDA-FEIRA</td><td>2</td></tr><tr><td>2023-08-08</td><td>2023</td><td>8</td><td>AGOSTO</td><td>8</td><td>TERCA-FEIRA</td><td>3</td></tr><tr><td>2023-08-09</td><td>2023</td><td>8</td><td>AGOSTO</td><td>9</td><td>QUARTA-FEIRA</td><td>4</td></tr><tr><td>2023-08-10</td><td>2023</td><td>8</td><td>AGOSTO</td><td>10</td><td>QUINTA-FEIRA</td><td>5</td></tr><tr><td>2023-08-11</td><td>2023</td><td>8</td><td>AGOSTO</td><td>11</td><td>SEXTA-FEIRA</td><td>6</td></tr><tr><td>2023-08-12</td><td>2023</td><td>8</td><td>AGOSTO</td><td>12</td><td>SABADO</td><td>7</td></tr><tr><td>2023-08-13</td><td>2023</td><td>8</td><td>AGOSTO</td><td>13</td><td>DOMINGO</td><td>1</td></tr><tr><td>2023-08-14</td><td>2023</td><td>8</td><td>AGOSTO</td><td>14</td><td>SEGUNDA-FEIRA</td><td>2</td></tr><tr><td>2023-08-15</td><td>2023</td><td>8</td><td>AGOSTO</td><td>15</td><td>TERCA-FEIRA</td><td>3</td></tr><tr><td>2023-08-16</td><td>2023</td><td>8</td><td>AGOSTO</td><td>16</td><td>QUARTA-FEIRA</td><td>4</td></tr><tr><td>2023-08-17</td><td>2023</td><td>8</td><td>AGOSTO</td><td>17</td><td>QUINTA-FEIRA</td><td>5</td></tr><tr><td>2023-08-18</td><td>2023</td><td>8</td><td>AGOSTO</td><td>18</td><td>SEXTA-FEIRA</td><td>6</td></tr><tr><td>2023-08-19</td><td>2023</td><td>8</td><td>AGOSTO</td><td>19</td><td>SABADO</td><td>7</td></tr><tr><td>2023-08-20</td><td>2023</td><td>8</td><td>AGOSTO</td><td>20</td><td>DOMINGO</td><td>1</td></tr><tr><td>2023-08-21</td><td>2023</td><td>8</td><td>AGOSTO</td><td>21</td><td>SEGUNDA-FEIRA</td><td>2</td></tr><tr><td>2023-08-22</td><td>2023</td><td>8</td><td>AGOSTO</td><td>22</td><td>TERCA-FEIRA</td><td>3</td></tr><tr><td>2023-08-23</td><td>2023</td><td>8</td><td>AGOSTO</td><td>23</td><td>QUARTA-FEIRA</td><td>4</td></tr><tr><td>2023-08-24</td><td>2023</td><td>8</td><td>AGOSTO</td><td>24</td><td>QUINTA-FEIRA</td><td>5</td></tr><tr><td>2023-08-25</td><td>2023</td><td>8</td><td>AGOSTO</td><td>25</td><td>SEXTA-FEIRA</td><td>6</td></tr><tr><td>2023-08-26</td><td>2023</td><td>8</td><td>AGOSTO</td><td>26</td><td>SABADO</td><td>7</td></tr><tr><td>2023-08-27</td><td>2023</td><td>8</td><td>AGOSTO</td><td>27</td><td>DOMINGO</td><td>1</td></tr><tr><td>2023-08-28</td><td>2023</td><td>8</td><td>AGOSTO</td><td>28</td><td>SEGUNDA-FEIRA</td><td>2</td></tr><tr><td>2023-08-29</td><td>2023</td><td>8</td><td>AGOSTO</td><td>29</td><td>TERCA-FEIRA</td><td>3</td></tr><tr><td>2023-08-30</td><td>2023</td><td>8</td><td>AGOSTO</td><td>30</td><td>QUARTA-FEIRA</td><td>4</td></tr><tr><td>2023-08-31</td><td>2023</td><td>8</td><td>AGOSTO</td><td>31</td><td>QUINTA-FEIRA</td><td>5</td></tr><tr><td>2023-09-01</td><td>2023</td><td>9</td><td>SETEMBRO</td><td>1</td><td>SEXTA-FEIRA</td><td>6</td></tr><tr><td>2023-09-02</td><td>2023</td><td>9</td><td>SETEMBRO</td><td>2</td><td>SABADO</td><td>7</td></tr><tr><td>2023-09-03</td><td>2023</td><td>9</td><td>SETEMBRO</td><td>3</td><td>DOMINGO</td><td>1</td></tr><tr><td>2023-09-04</td><td>2023</td><td>9</td><td>SETEMBRO</td><td>4</td><td>SEGUNDA-FEIRA</td><td>2</td></tr><tr><td>2023-09-05</td><td>2023</td><td>9</td><td>SETEMBRO</td><td>5</td><td>TERCA-FEIRA</td><td>3</td></tr><tr><td>2023-09-06</td><td>2023</td><td>9</td><td>SETEMBRO</td><td>6</td><td>QUARTA-FEIRA</td><td>4</td></tr><tr><td>2023-09-07</td><td>2023</td><td>9</td><td>SETEMBRO</td><td>7</td><td>QUINTA-FEIRA</td><td>5</td></tr><tr><td>2023-09-08</td><td>2023</td><td>9</td><td>SETEMBRO</td><td>8</td><td>SEXTA-FEIRA</td><td>6</td></tr><tr><td>2023-09-09</td><td>2023</td><td>9</td><td>SETEMBRO</td><td>9</td><td>SABADO</td><td>7</td></tr><tr><td>2023-09-10</td><td>2023</td><td>9</td><td>SETEMBRO</td><td>10</td><td>DOMINGO</td><td>1</td></tr><tr><td>2023-09-11</td><td>2023</td><td>9</td><td>SETEMBRO</td><td>11</td><td>SEGUNDA-FEIRA</td><td>2</td></tr><tr><td>2023-09-12</td><td>2023</td><td>9</td><td>SETEMBRO</td><td>12</td><td>TERCA-FEIRA</td><td>3</td></tr><tr><td>2023-09-13</td><td>2023</td><td>9</td><td>SETEMBRO</td><td>13</td><td>QUARTA-FEIRA</td><td>4</td></tr><tr><td>2023-09-14</td><td>2023</td><td>9</td><td>SETEMBRO</td><td>14</td><td>QUINTA-FEIRA</td><td>5</td></tr><tr><td>2023-09-15</td><td>2023</td><td>9</td><td>SETEMBRO</td><td>15</td><td>SEXTA-FEIRA</td><td>6</td></tr><tr><td>2023-09-16</td><td>2023</td><td>9</td><td>SETEMBRO</td><td>16</td><td>SABADO</td><td>7</td></tr><tr><td>2023-09-17</td><td>2023</td><td>9</td><td>SETEMBRO</td><td>17</td><td>DOMINGO</td><td>1</td></tr><tr><td>2023-09-18</td><td>2023</td><td>9</td><td>SETEMBRO</td><td>18</td><td>SEGUNDA-FEIRA</td><td>2</td></tr><tr><td>2023-09-19</td><td>2023</td><td>9</td><td>SETEMBRO</td><td>19</td><td>TERCA-FEIRA</td><td>3</td></tr><tr><td>2023-09-20</td><td>2023</td><td>9</td><td>SETEMBRO</td><td>20</td><td>QUARTA-FEIRA</td><td>4</td></tr><tr><td>2023-09-21</td><td>2023</td><td>9</td><td>SETEMBRO</td><td>21</td><td>QUINTA-FEIRA</td><td>5</td></tr><tr><td>2023-09-22</td><td>2023</td><td>9</td><td>SETEMBRO</td><td>22</td><td>SEXTA-FEIRA</td><td>6</td></tr><tr><td>2023-09-23</td><td>2023</td><td>9</td><td>SETEMBRO</td><td>23</td><td>SABADO</td><td>7</td></tr><tr><td>2023-09-24</td><td>2023</td><td>9</td><td>SETEMBRO</td><td>24</td><td>DOMINGO</td><td>1</td></tr><tr><td>2023-09-25</td><td>2023</td><td>9</td><td>SETEMBRO</td><td>25</td><td>SEGUNDA-FEIRA</td><td>2</td></tr><tr><td>2023-09-26</td><td>2023</td><td>9</td><td>SETEMBRO</td><td>26</td><td>TERCA-FEIRA</td><td>3</td></tr><tr><td>2023-09-27</td><td>2023</td><td>9</td><td>SETEMBRO</td><td>27</td><td>QUARTA-FEIRA</td><td>4</td></tr><tr><td>2023-09-28</td><td>2023</td><td>9</td><td>SETEMBRO</td><td>28</td><td>QUINTA-FEIRA</td><td>5</td></tr><tr><td>2023-09-29</td><td>2023</td><td>9</td><td>SETEMBRO</td><td>29</td><td>SEXTA-FEIRA</td><td>6</td></tr><tr><td>2023-09-30</td><td>2023</td><td>9</td><td>SETEMBRO</td><td>30</td><td>SABADO</td><td>7</td></tr><tr><td>2023-10-01</td><td>2023</td><td>10</td><td>OUTUBRO</td><td>1</td><td>DOMINGO</td><td>1</td></tr><tr><td>2023-10-02</td><td>2023</td><td>10</td><td>OUTUBRO</td><td>2</td><td>SEGUNDA-FEIRA</td><td>2</td></tr><tr><td>2023-10-03</td><td>2023</td><td>10</td><td>OUTUBRO</td><td>3</td><td>TERCA-FEIRA</td><td>3</td></tr><tr><td>2023-10-04</td><td>2023</td><td>10</td><td>OUTUBRO</td><td>4</td><td>QUARTA-FEIRA</td><td>4</td></tr><tr><td>2023-10-05</td><td>2023</td><td>10</td><td>OUTUBRO</td><td>5</td><td>QUINTA-FEIRA</td><td>5</td></tr><tr><td>2023-10-06</td><td>2023</td><td>10</td><td>OUTUBRO</td><td>6</td><td>SEXTA-FEIRA</td><td>6</td></tr><tr><td>2023-10-07</td><td>2023</td><td>10</td><td>OUTUBRO</td><td>7</td><td>SABADO</td><td>7</td></tr><tr><td>2023-10-08</td><td>2023</td><td>10</td><td>OUTUBRO</td><td>8</td><td>DOMINGO</td><td>1</td></tr><tr><td>2023-10-09</td><td>2023</td><td>10</td><td>OUTUBRO</td><td>9</td><td>SEGUNDA-FEIRA</td><td>2</td></tr><tr><td>2023-10-10</td><td>2023</td><td>10</td><td>OUTUBRO</td><td>10</td><td>TERCA-FEIRA</td><td>3</td></tr><tr><td>2023-10-11</td><td>2023</td><td>10</td><td>OUTUBRO</td><td>11</td><td>QUARTA-FEIRA</td><td>4</td></tr><tr><td>2023-10-12</td><td>2023</td><td>10</td><td>OUTUBRO</td><td>12</td><td>QUINTA-FEIRA</td><td>5</td></tr><tr><td>2023-10-13</td><td>2023</td><td>10</td><td>OUTUBRO</td><td>13</td><td>SEXTA-FEIRA</td><td>6</td></tr><tr><td>2023-10-14</td><td>2023</td><td>10</td><td>OUTUBRO</td><td>14</td><td>SABADO</td><td>7</td></tr><tr><td>2023-10-15</td><td>2023</td><td>10</td><td>OUTUBRO</td><td>15</td><td>DOMINGO</td><td>1</td></tr><tr><td>2023-10-16</td><td>2023</td><td>10</td><td>OUTUBRO</td><td>16</td><td>SEGUNDA-FEIRA</td><td>2</td></tr><tr><td>2023-10-17</td><td>2023</td><td>10</td><td>OUTUBRO</td><td>17</td><td>TERCA-FEIRA</td><td>3</td></tr><tr><td>2023-10-18</td><td>2023</td><td>10</td><td>OUTUBRO</td><td>18</td><td>QUARTA-FEIRA</td><td>4</td></tr><tr><td>2023-10-19</td><td>2023</td><td>10</td><td>OUTUBRO</td><td>19</td><td>QUINTA-FEIRA</td><td>5</td></tr><tr><td>2023-10-20</td><td>2023</td><td>10</td><td>OUTUBRO</td><td>20</td><td>SEXTA-FEIRA</td><td>6</td></tr><tr><td>2023-10-21</td><td>2023</td><td>10</td><td>OUTUBRO</td><td>21</td><td>SABADO</td><td>7</td></tr><tr><td>2023-10-22</td><td>2023</td><td>10</td><td>OUTUBRO</td><td>22</td><td>DOMINGO</td><td>1</td></tr><tr><td>2023-10-23</td><td>2023</td><td>10</td><td>OUTUBRO</td><td>23</td><td>SEGUNDA-FEIRA</td><td>2</td></tr><tr><td>2023-10-24</td><td>2023</td><td>10</td><td>OUTUBRO</td><td>24</td><td>TERCA-FEIRA</td><td>3</td></tr><tr><td>2023-10-25</td><td>2023</td><td>10</td><td>OUTUBRO</td><td>25</td><td>QUARTA-FEIRA</td><td>4</td></tr><tr><td>2023-10-26</td><td>2023</td><td>10</td><td>OUTUBRO</td><td>26</td><td>QUINTA-FEIRA</td><td>5</td></tr><tr><td>2023-10-27</td><td>2023</td><td>10</td><td>OUTUBRO</td><td>27</td><td>SEXTA-FEIRA</td><td>6</td></tr><tr><td>2023-10-28</td><td>2023</td><td>10</td><td>OUTUBRO</td><td>28</td><td>SABADO</td><td>7</td></tr><tr><td>2023-10-29</td><td>2023</td><td>10</td><td>OUTUBRO</td><td>29</td><td>DOMINGO</td><td>1</td></tr><tr><td>2023-10-30</td><td>2023</td><td>10</td><td>OUTUBRO</td><td>30</td><td>SEGUNDA-FEIRA</td><td>2</td></tr><tr><td>2023-10-31</td><td>2023</td><td>10</td><td>OUTUBRO</td><td>31</td><td>TERCA-FEIRA</td><td>3</td></tr><tr><td>2023-11-01</td><td>2023</td><td>11</td><td>NOVEMBRO</td><td>1</td><td>QUARTA-FEIRA</td><td>4</td></tr><tr><td>2023-11-02</td><td>2023</td><td>11</td><td>NOVEMBRO</td><td>2</td><td>QUINTA-FEIRA</td><td>5</td></tr><tr><td>2023-11-03</td><td>2023</td><td>11</td><td>NOVEMBRO</td><td>3</td><td>SEXTA-FEIRA</td><td>6</td></tr><tr><td>2023-11-04</td><td>2023</td><td>11</td><td>NOVEMBRO</td><td>4</td><td>SABADO</td><td>7</td></tr><tr><td>2023-11-05</td><td>2023</td><td>11</td><td>NOVEMBRO</td><td>5</td><td>DOMINGO</td><td>1</td></tr><tr><td>2023-11-06</td><td>2023</td><td>11</td><td>NOVEMBRO</td><td>6</td><td>SEGUNDA-FEIRA</td><td>2</td></tr><tr><td>2023-11-07</td><td>2023</td><td>11</td><td>NOVEMBRO</td><td>7</td><td>TERCA-FEIRA</td><td>3</td></tr><tr><td>2023-11-08</td><td>2023</td><td>11</td><td>NOVEMBRO</td><td>8</td><td>QUARTA-FEIRA</td><td>4</td></tr><tr><td>2023-11-09</td><td>2023</td><td>11</td><td>NOVEMBRO</td><td>9</td><td>QUINTA-FEIRA</td><td>5</td></tr><tr><td>2023-11-10</td><td>2023</td><td>11</td><td>NOVEMBRO</td><td>10</td><td>SEXTA-FEIRA</td><td>6</td></tr><tr><td>2023-11-11</td><td>2023</td><td>11</td><td>NOVEMBRO</td><td>11</td><td>SABADO</td><td>7</td></tr><tr><td>2023-11-12</td><td>2023</td><td>11</td><td>NOVEMBRO</td><td>12</td><td>DOMINGO</td><td>1</td></tr><tr><td>2023-11-13</td><td>2023</td><td>11</td><td>NOVEMBRO</td><td>13</td><td>SEGUNDA-FEIRA</td><td>2</td></tr><tr><td>2023-11-14</td><td>2023</td><td>11</td><td>NOVEMBRO</td><td>14</td><td>TERCA-FEIRA</td><td>3</td></tr><tr><td>2023-11-15</td><td>2023</td><td>11</td><td>NOVEMBRO</td><td>15</td><td>QUARTA-FEIRA</td><td>4</td></tr><tr><td>2023-11-16</td><td>2023</td><td>11</td><td>NOVEMBRO</td><td>16</td><td>QUINTA-FEIRA</td><td>5</td></tr><tr><td>2023-11-17</td><td>2023</td><td>11</td><td>NOVEMBRO</td><td>17</td><td>SEXTA-FEIRA</td><td>6</td></tr><tr><td>2023-11-18</td><td>2023</td><td>11</td><td>NOVEMBRO</td><td>18</td><td>SABADO</td><td>7</td></tr><tr><td>2023-11-19</td><td>2023</td><td>11</td><td>NOVEMBRO</td><td>19</td><td>DOMINGO</td><td>1</td></tr><tr><td>2023-11-20</td><td>2023</td><td>11</td><td>NOVEMBRO</td><td>20</td><td>SEGUNDA-FEIRA</td><td>2</td></tr><tr><td>2023-11-21</td><td>2023</td><td>11</td><td>NOVEMBRO</td><td>21</td><td>TERCA-FEIRA</td><td>3</td></tr><tr><td>2023-11-22</td><td>2023</td><td>11</td><td>NOVEMBRO</td><td>22</td><td>QUARTA-FEIRA</td><td>4</td></tr><tr><td>2023-11-23</td><td>2023</td><td>11</td><td>NOVEMBRO</td><td>23</td><td>QUINTA-FEIRA</td><td>5</td></tr><tr><td>2023-11-24</td><td>2023</td><td>11</td><td>NOVEMBRO</td><td>24</td><td>SEXTA-FEIRA</td><td>6</td></tr><tr><td>2023-11-25</td><td>2023</td><td>11</td><td>NOVEMBRO</td><td>25</td><td>SABADO</td><td>7</td></tr><tr><td>2023-11-26</td><td>2023</td><td>11</td><td>NOVEMBRO</td><td>26</td><td>DOMINGO</td><td>1</td></tr><tr><td>2023-11-27</td><td>2023</td><td>11</td><td>NOVEMBRO</td><td>27</td><td>SEGUNDA-FEIRA</td><td>2</td></tr><tr><td>2023-11-28</td><td>2023</td><td>11</td><td>NOVEMBRO</td><td>28</td><td>TERCA-FEIRA</td><td>3</td></tr><tr><td>2023-11-29</td><td>2023</td><td>11</td><td>NOVEMBRO</td><td>29</td><td>QUARTA-FEIRA</td><td>4</td></tr><tr><td>2023-11-30</td><td>2023</td><td>11</td><td>NOVEMBRO</td><td>30</td><td>QUINTA-FEIRA</td><td>5</td></tr><tr><td>2023-12-01</td><td>2023</td><td>12</td><td>DEZEMBRO</td><td>1</td><td>SEXTA-FEIRA</td><td>6</td></tr><tr><td>2023-12-02</td><td>2023</td><td>12</td><td>DEZEMBRO</td><td>2</td><td>SABADO</td><td>7</td></tr><tr><td>2023-12-03</td><td>2023</td><td>12</td><td>DEZEMBRO</td><td>3</td><td>DOMINGO</td><td>1</td></tr><tr><td>2023-12-04</td><td>2023</td><td>12</td><td>DEZEMBRO</td><td>4</td><td>SEGUNDA-FEIRA</td><td>2</td></tr><tr><td>2023-12-05</td><td>2023</td><td>12</td><td>DEZEMBRO</td><td>5</td><td>TERCA-FEIRA</td><td>3</td></tr><tr><td>2023-12-06</td><td>2023</td><td>12</td><td>DEZEMBRO</td><td>6</td><td>QUARTA-FEIRA</td><td>4</td></tr><tr><td>2023-12-07</td><td>2023</td><td>12</td><td>DEZEMBRO</td><td>7</td><td>QUINTA-FEIRA</td><td>5</td></tr><tr><td>2023-12-08</td><td>2023</td><td>12</td><td>DEZEMBRO</td><td>8</td><td>SEXTA-FEIRA</td><td>6</td></tr><tr><td>2023-12-09</td><td>2023</td><td>12</td><td>DEZEMBRO</td><td>9</td><td>SABADO</td><td>7</td></tr><tr><td>2023-12-10</td><td>2023</td><td>12</td><td>DEZEMBRO</td><td>10</td><td>DOMINGO</td><td>1</td></tr><tr><td>2023-12-11</td><td>2023</td><td>12</td><td>DEZEMBRO</td><td>11</td><td>SEGUNDA-FEIRA</td><td>2</td></tr><tr><td>2023-12-12</td><td>2023</td><td>12</td><td>DEZEMBRO</td><td>12</td><td>TERCA-FEIRA</td><td>3</td></tr><tr><td>2023-12-13</td><td>2023</td><td>12</td><td>DEZEMBRO</td><td>13</td><td>QUARTA-FEIRA</td><td>4</td></tr><tr><td>2023-12-14</td><td>2023</td><td>12</td><td>DEZEMBRO</td><td>14</td><td>QUINTA-FEIRA</td><td>5</td></tr><tr><td>2023-12-15</td><td>2023</td><td>12</td><td>DEZEMBRO</td><td>15</td><td>SEXTA-FEIRA</td><td>6</td></tr><tr><td>2023-12-16</td><td>2023</td><td>12</td><td>DEZEMBRO</td><td>16</td><td>SABADO</td><td>7</td></tr><tr><td>2023-12-17</td><td>2023</td><td>12</td><td>DEZEMBRO</td><td>17</td><td>DOMINGO</td><td>1</td></tr><tr><td>2023-12-18</td><td>2023</td><td>12</td><td>DEZEMBRO</td><td>18</td><td>SEGUNDA-FEIRA</td><td>2</td></tr><tr><td>2023-12-19</td><td>2023</td><td>12</td><td>DEZEMBRO</td><td>19</td><td>TERCA-FEIRA</td><td>3</td></tr><tr><td>2023-12-20</td><td>2023</td><td>12</td><td>DEZEMBRO</td><td>20</td><td>QUARTA-FEIRA</td><td>4</td></tr><tr><td>2023-12-21</td><td>2023</td><td>12</td><td>DEZEMBRO</td><td>21</td><td>QUINTA-FEIRA</td><td>5</td></tr><tr><td>2023-12-22</td><td>2023</td><td>12</td><td>DEZEMBRO</td><td>22</td><td>SEXTA-FEIRA</td><td>6</td></tr><tr><td>2023-12-23</td><td>2023</td><td>12</td><td>DEZEMBRO</td><td>23</td><td>SABADO</td><td>7</td></tr><tr><td>2023-12-24</td><td>2023</td><td>12</td><td>DEZEMBRO</td><td>24</td><td>DOMINGO</td><td>1</td></tr><tr><td>2023-12-25</td><td>2023</td><td>12</td><td>DEZEMBRO</td><td>25</td><td>SEGUNDA-FEIRA</td><td>2</td></tr><tr><td>2023-12-26</td><td>2023</td><td>12</td><td>DEZEMBRO</td><td>26</td><td>TERCA-FEIRA</td><td>3</td></tr><tr><td>2023-12-27</td><td>2023</td><td>12</td><td>DEZEMBRO</td><td>27</td><td>QUARTA-FEIRA</td><td>4</td></tr><tr><td>2023-12-28</td><td>2023</td><td>12</td><td>DEZEMBRO</td><td>28</td><td>QUINTA-FEIRA</td><td>5</td></tr><tr><td>2023-12-29</td><td>2023</td><td>12</td><td>DEZEMBRO</td><td>29</td><td>SEXTA-FEIRA</td><td>6</td></tr><tr><td>2023-12-30</td><td>2023</td><td>12</td><td>DEZEMBRO</td><td>30</td><td>SABADO</td><td>7</td></tr><tr><td>2023-12-31</td><td>2023</td><td>12</td><td>DEZEMBRO</td><td>31</td><td>DOMINGO</td><td>1</td></tr><tr><td>2024-01-01</td><td>2024</td><td>1</td><td>JANEIRO</td><td>1</td><td>SEGUNDA-FEIRA</td><td>2</td></tr><tr><td>2024-01-02</td><td>2024</td><td>1</td><td>JANEIRO</td><td>2</td><td>TERCA-FEIRA</td><td>3</td></tr><tr><td>2024-01-03</td><td>2024</td><td>1</td><td>JANEIRO</td><td>3</td><td>QUARTA-FEIRA</td><td>4</td></tr><tr><td>2024-01-04</td><td>2024</td><td>1</td><td>JANEIRO</td><td>4</td><td>QUINTA-FEIRA</td><td>5</td></tr><tr><td>2024-01-05</td><td>2024</td><td>1</td><td>JANEIRO</td><td>5</td><td>SEXTA-FEIRA</td><td>6</td></tr><tr><td>2024-01-06</td><td>2024</td><td>1</td><td>JANEIRO</td><td>6</td><td>SABADO</td><td>7</td></tr><tr><td>2024-01-07</td><td>2024</td><td>1</td><td>JANEIRO</td><td>7</td><td>DOMINGO</td><td>1</td></tr><tr><td>2024-01-08</td><td>2024</td><td>1</td><td>JANEIRO</td><td>8</td><td>SEGUNDA-FEIRA</td><td>2</td></tr><tr><td>2024-01-09</td><td>2024</td><td>1</td><td>JANEIRO</td><td>9</td><td>TERCA-FEIRA</td><td>3</td></tr><tr><td>2024-01-10</td><td>2024</td><td>1</td><td>JANEIRO</td><td>10</td><td>QUARTA-FEIRA</td><td>4</td></tr><tr><td>2024-01-11</td><td>2024</td><td>1</td><td>JANEIRO</td><td>11</td><td>QUINTA-FEIRA</td><td>5</td></tr><tr><td>2024-01-12</td><td>2024</td><td>1</td><td>JANEIRO</td><td>12</td><td>SEXTA-FEIRA</td><td>6</td></tr><tr><td>2024-01-13</td><td>2024</td><td>1</td><td>JANEIRO</td><td>13</td><td>SABADO</td><td>7</td></tr><tr><td>2024-01-14</td><td>2024</td><td>1</td><td>JANEIRO</td><td>14</td><td>DOMINGO</td><td>1</td></tr><tr><td>2024-01-15</td><td>2024</td><td>1</td><td>JANEIRO</td><td>15</td><td>SEGUNDA-FEIRA</td><td>2</td></tr><tr><td>2024-01-16</td><td>2024</td><td>1</td><td>JANEIRO</td><td>16</td><td>TERCA-FEIRA</td><td>3</td></tr><tr><td>2024-01-17</td><td>2024</td><td>1</td><td>JANEIRO</td><td>17</td><td>QUARTA-FEIRA</td><td>4</td></tr><tr><td>2024-01-18</td><td>2024</td><td>1</td><td>JANEIRO</td><td>18</td><td>QUINTA-FEIRA</td><td>5</td></tr><tr><td>2024-01-19</td><td>2024</td><td>1</td><td>JANEIRO</td><td>19</td><td>SEXTA-FEIRA</td><td>6</td></tr><tr><td>2024-01-20</td><td>2024</td><td>1</td><td>JANEIRO</td><td>20</td><td>SABADO</td><td>7</td></tr><tr><td>2024-01-21</td><td>2024</td><td>1</td><td>JANEIRO</td><td>21</td><td>DOMINGO</td><td>1</td></tr><tr><td>2024-01-22</td><td>2024</td><td>1</td><td>JANEIRO</td><td>22</td><td>SEGUNDA-FEIRA</td><td>2</td></tr><tr><td>2024-01-23</td><td>2024</td><td>1</td><td>JANEIRO</td><td>23</td><td>TERCA-FEIRA</td><td>3</td></tr><tr><td>2024-01-24</td><td>2024</td><td>1</td><td>JANEIRO</td><td>24</td><td>QUARTA-FEIRA</td><td>4</td></tr><tr><td>2024-01-25</td><td>2024</td><td>1</td><td>JANEIRO</td><td>25</td><td>QUINTA-FEIRA</td><td>5</td></tr><tr><td>2024-01-26</td><td>2024</td><td>1</td><td>JANEIRO</td><td>26</td><td>SEXTA-FEIRA</td><td>6</td></tr><tr><td>2024-01-27</td><td>2024</td><td>1</td><td>JANEIRO</td><td>27</td><td>SABADO</td><td>7</td></tr><tr><td>2024-01-28</td><td>2024</td><td>1</td><td>JANEIRO</td><td>28</td><td>DOMINGO</td><td>1</td></tr><tr><td>2024-01-29</td><td>2024</td><td>1</td><td>JANEIRO</td><td>29</td><td>SEGUNDA-FEIRA</td><td>2</td></tr><tr><td>2024-01-30</td><td>2024</td><td>1</td><td>JANEIRO</td><td>30</td><td>TERCA-FEIRA</td><td>3</td></tr><tr><td>2024-01-31</td><td>2024</td><td>1</td><td>JANEIRO</td><td>31</td><td>QUARTA-FEIRA</td><td>4</td></tr><tr><td>2024-02-01</td><td>2024</td><td>2</td><td>FEVEREIRO</td><td>1</td><td>QUINTA-FEIRA</td><td>5</td></tr><tr><td>2024-02-02</td><td>2024</td><td>2</td><td>FEVEREIRO</td><td>2</td><td>SEXTA-FEIRA</td><td>6</td></tr><tr><td>2024-02-03</td><td>2024</td><td>2</td><td>FEVEREIRO</td><td>3</td><td>SABADO</td><td>7</td></tr><tr><td>2024-02-04</td><td>2024</td><td>2</td><td>FEVEREIRO</td><td>4</td><td>DOMINGO</td><td>1</td></tr><tr><td>2024-02-05</td><td>2024</td><td>2</td><td>FEVEREIRO</td><td>5</td><td>SEGUNDA-FEIRA</td><td>2</td></tr><tr><td>2024-02-06</td><td>2024</td><td>2</td><td>FEVEREIRO</td><td>6</td><td>TERCA-FEIRA</td><td>3</td></tr><tr><td>2024-02-07</td><td>2024</td><td>2</td><td>FEVEREIRO</td><td>7</td><td>QUARTA-FEIRA</td><td>4</td></tr><tr><td>2024-02-08</td><td>2024</td><td>2</td><td>FEVEREIRO</td><td>8</td><td>QUINTA-FEIRA</td><td>5</td></tr><tr><td>2024-02-09</td><td>2024</td><td>2</td><td>FEVEREIRO</td><td>9</td><td>SEXTA-FEIRA</td><td>6</td></tr><tr><td>2024-02-10</td><td>2024</td><td>2</td><td>FEVEREIRO</td><td>10</td><td>SABADO</td><td>7</td></tr><tr><td>2024-02-11</td><td>2024</td><td>2</td><td>FEVEREIRO</td><td>11</td><td>DOMINGO</td><td>1</td></tr><tr><td>2024-02-12</td><td>2024</td><td>2</td><td>FEVEREIRO</td><td>12</td><td>SEGUNDA-FEIRA</td><td>2</td></tr><tr><td>2024-02-13</td><td>2024</td><td>2</td><td>FEVEREIRO</td><td>13</td><td>TERCA-FEIRA</td><td>3</td></tr><tr><td>2024-02-14</td><td>2024</td><td>2</td><td>FEVEREIRO</td><td>14</td><td>QUARTA-FEIRA</td><td>4</td></tr><tr><td>2024-02-15</td><td>2024</td><td>2</td><td>FEVEREIRO</td><td>15</td><td>QUINTA-FEIRA</td><td>5</td></tr><tr><td>2024-02-16</td><td>2024</td><td>2</td><td>FEVEREIRO</td><td>16</td><td>SEXTA-FEIRA</td><td>6</td></tr><tr><td>2024-02-17</td><td>2024</td><td>2</td><td>FEVEREIRO</td><td>17</td><td>SABADO</td><td>7</td></tr><tr><td>2024-02-18</td><td>2024</td><td>2</td><td>FEVEREIRO</td><td>18</td><td>DOMINGO</td><td>1</td></tr><tr><td>2024-02-19</td><td>2024</td><td>2</td><td>FEVEREIRO</td><td>19</td><td>SEGUNDA-FEIRA</td><td>2</td></tr><tr><td>2024-02-20</td><td>2024</td><td>2</td><td>FEVEREIRO</td><td>20</td><td>TERCA-FEIRA</td><td>3</td></tr><tr><td>2024-02-21</td><td>2024</td><td>2</td><td>FEVEREIRO</td><td>21</td><td>QUARTA-FEIRA</td><td>4</td></tr><tr><td>2024-02-22</td><td>2024</td><td>2</td><td>FEVEREIRO</td><td>22</td><td>QUINTA-FEIRA</td><td>5</td></tr><tr><td>2024-02-23</td><td>2024</td><td>2</td><td>FEVEREIRO</td><td>23</td><td>SEXTA-FEIRA</td><td>6</td></tr><tr><td>2024-02-24</td><td>2024</td><td>2</td><td>FEVEREIRO</td><td>24</td><td>SABADO</td><td>7</td></tr><tr><td>2024-02-25</td><td>2024</td><td>2</td><td>FEVEREIRO</td><td>25</td><td>DOMINGO</td><td>1</td></tr><tr><td>2024-02-26</td><td>2024</td><td>2</td><td>FEVEREIRO</td><td>26</td><td>SEGUNDA-FEIRA</td><td>2</td></tr><tr><td>2024-02-27</td><td>2024</td><td>2</td><td>FEVEREIRO</td><td>27</td><td>TERCA-FEIRA</td><td>3</td></tr><tr><td>2024-02-28</td><td>2024</td><td>2</td><td>FEVEREIRO</td><td>28</td><td>QUARTA-FEIRA</td><td>4</td></tr><tr><td>2024-02-29</td><td>2024</td><td>2</td><td>FEVEREIRO</td><td>29</td><td>QUINTA-FEIRA</td><td>5</td></tr><tr><td>2024-03-01</td><td>2024</td><td>3</td><td>MARCO</td><td>1</td><td>SEXTA-FEIRA</td><td>6</td></tr><tr><td>2024-03-02</td><td>2024</td><td>3</td><td>MARCO</td><td>2</td><td>SABADO</td><td>7</td></tr><tr><td>2024-03-03</td><td>2024</td><td>3</td><td>MARCO</td><td>3</td><td>DOMINGO</td><td>1</td></tr><tr><td>2024-03-04</td><td>2024</td><td>3</td><td>MARCO</td><td>4</td><td>SEGUNDA-FEIRA</td><td>2</td></tr><tr><td>2024-03-05</td><td>2024</td><td>3</td><td>MARCO</td><td>5</td><td>TERCA-FEIRA</td><td>3</td></tr><tr><td>2024-03-06</td><td>2024</td><td>3</td><td>MARCO</td><td>6</td><td>QUARTA-FEIRA</td><td>4</td></tr><tr><td>2024-03-07</td><td>2024</td><td>3</td><td>MARCO</td><td>7</td><td>QUINTA-FEIRA</td><td>5</td></tr><tr><td>2024-03-08</td><td>2024</td><td>3</td><td>MARCO</td><td>8</td><td>SEXTA-FEIRA</td><td>6</td></tr><tr><td>2024-03-09</td><td>2024</td><td>3</td><td>MARCO</td><td>9</td><td>SABADO</td><td>7</td></tr><tr><td>2024-03-10</td><td>2024</td><td>3</td><td>MARCO</td><td>10</td><td>DOMINGO</td><td>1</td></tr><tr><td>2024-03-11</td><td>2024</td><td>3</td><td>MARCO</td><td>11</td><td>SEGUNDA-FEIRA</td><td>2</td></tr><tr><td>2024-03-12</td><td>2024</td><td>3</td><td>MARCO</td><td>12</td><td>TERCA-FEIRA</td><td>3</td></tr><tr><td>2024-03-13</td><td>2024</td><td>3</td><td>MARCO</td><td>13</td><td>QUARTA-FEIRA</td><td>4</td></tr><tr><td>2024-03-14</td><td>2024</td><td>3</td><td>MARCO</td><td>14</td><td>QUINTA-FEIRA</td><td>5</td></tr><tr><td>2024-03-15</td><td>2024</td><td>3</td><td>MARCO</td><td>15</td><td>SEXTA-FEIRA</td><td>6</td></tr><tr><td>2024-03-16</td><td>2024</td><td>3</td><td>MARCO</td><td>16</td><td>SABADO</td><td>7</td></tr><tr><td>2024-03-17</td><td>2024</td><td>3</td><td>MARCO</td><td>17</td><td>DOMINGO</td><td>1</td></tr><tr><td>2024-03-18</td><td>2024</td><td>3</td><td>MARCO</td><td>18</td><td>SEGUNDA-FEIRA</td><td>2</td></tr><tr><td>2024-03-19</td><td>2024</td><td>3</td><td>MARCO</td><td>19</td><td>TERCA-FEIRA</td><td>3</td></tr><tr><td>2024-03-20</td><td>2024</td><td>3</td><td>MARCO</td><td>20</td><td>QUARTA-FEIRA</td><td>4</td></tr><tr><td>2024-03-21</td><td>2024</td><td>3</td><td>MARCO</td><td>21</td><td>QUINTA-FEIRA</td><td>5</td></tr><tr><td>2024-03-22</td><td>2024</td><td>3</td><td>MARCO</td><td>22</td><td>SEXTA-FEIRA</td><td>6</td></tr><tr><td>2024-03-23</td><td>2024</td><td>3</td><td>MARCO</td><td>23</td><td>SABADO</td><td>7</td></tr><tr><td>2024-03-24</td><td>2024</td><td>3</td><td>MARCO</td><td>24</td><td>DOMINGO</td><td>1</td></tr><tr><td>2024-03-25</td><td>2024</td><td>3</td><td>MARCO</td><td>25</td><td>SEGUNDA-FEIRA</td><td>2</td></tr><tr><td>2024-03-26</td><td>2024</td><td>3</td><td>MARCO</td><td>26</td><td>TERCA-FEIRA</td><td>3</td></tr><tr><td>2024-03-27</td><td>2024</td><td>3</td><td>MARCO</td><td>27</td><td>QUARTA-FEIRA</td><td>4</td></tr><tr><td>2024-03-28</td><td>2024</td><td>3</td><td>MARCO</td><td>28</td><td>QUINTA-FEIRA</td><td>5</td></tr><tr><td>2024-03-29</td><td>2024</td><td>3</td><td>MARCO</td><td>29</td><td>SEXTA-FEIRA</td><td>6</td></tr><tr><td>2024-03-30</td><td>2024</td><td>3</td><td>MARCO</td><td>30</td><td>SABADO</td><td>7</td></tr><tr><td>2024-03-31</td><td>2024</td><td>3</td><td>MARCO</td><td>31</td><td>DOMINGO</td><td>1</td></tr><tr><td>2024-04-01</td><td>2024</td><td>4</td><td>ABRIL</td><td>1</td><td>SEGUNDA-FEIRA</td><td>2</td></tr><tr><td>2024-04-02</td><td>2024</td><td>4</td><td>ABRIL</td><td>2</td><td>TERCA-FEIRA</td><td>3</td></tr><tr><td>2024-04-03</td><td>2024</td><td>4</td><td>ABRIL</td><td>3</td><td>QUARTA-FEIRA</td><td>4</td></tr><tr><td>2024-04-04</td><td>2024</td><td>4</td><td>ABRIL</td><td>4</td><td>QUINTA-FEIRA</td><td>5</td></tr><tr><td>2024-04-05</td><td>2024</td><td>4</td><td>ABRIL</td><td>5</td><td>SEXTA-FEIRA</td><td>6</td></tr><tr><td>2024-04-06</td><td>2024</td><td>4</td><td>ABRIL</td><td>6</td><td>SABADO</td><td>7</td></tr><tr><td>2024-04-07</td><td>2024</td><td>4</td><td>ABRIL</td><td>7</td><td>DOMINGO</td><td>1</td></tr><tr><td>2024-04-08</td><td>2024</td><td>4</td><td>ABRIL</td><td>8</td><td>SEGUNDA-FEIRA</td><td>2</td></tr><tr><td>2024-04-09</td><td>2024</td><td>4</td><td>ABRIL</td><td>9</td><td>TERCA-FEIRA</td><td>3</td></tr><tr><td>2024-04-10</td><td>2024</td><td>4</td><td>ABRIL</td><td>10</td><td>QUARTA-FEIRA</td><td>4</td></tr><tr><td>2024-04-11</td><td>2024</td><td>4</td><td>ABRIL</td><td>11</td><td>QUINTA-FEIRA</td><td>5</td></tr><tr><td>2024-04-12</td><td>2024</td><td>4</td><td>ABRIL</td><td>12</td><td>SEXTA-FEIRA</td><td>6</td></tr><tr><td>2024-04-13</td><td>2024</td><td>4</td><td>ABRIL</td><td>13</td><td>SABADO</td><td>7</td></tr><tr><td>2024-04-14</td><td>2024</td><td>4</td><td>ABRIL</td><td>14</td><td>DOMINGO</td><td>1</td></tr><tr><td>2024-04-15</td><td>2024</td><td>4</td><td>ABRIL</td><td>15</td><td>SEGUNDA-FEIRA</td><td>2</td></tr><tr><td>2024-04-16</td><td>2024</td><td>4</td><td>ABRIL</td><td>16</td><td>TERCA-FEIRA</td><td>3</td></tr><tr><td>2024-04-17</td><td>2024</td><td>4</td><td>ABRIL</td><td>17</td><td>QUARTA-FEIRA</td><td>4</td></tr><tr><td>2024-04-18</td><td>2024</td><td>4</td><td>ABRIL</td><td>18</td><td>QUINTA-FEIRA</td><td>5</td></tr><tr><td>2024-04-19</td><td>2024</td><td>4</td><td>ABRIL</td><td>19</td><td>SEXTA-FEIRA</td><td>6</td></tr><tr><td>2024-04-20</td><td>2024</td><td>4</td><td>ABRIL</td><td>20</td><td>SABADO</td><td>7</td></tr><tr><td>2024-04-21</td><td>2024</td><td>4</td><td>ABRIL</td><td>21</td><td>DOMINGO</td><td>1</td></tr><tr><td>2024-04-22</td><td>2024</td><td>4</td><td>ABRIL</td><td>22</td><td>SEGUNDA-FEIRA</td><td>2</td></tr><tr><td>2024-04-23</td><td>2024</td><td>4</td><td>ABRIL</td><td>23</td><td>TERCA-FEIRA</td><td>3</td></tr><tr><td>2024-04-24</td><td>2024</td><td>4</td><td>ABRIL</td><td>24</td><td>QUARTA-FEIRA</td><td>4</td></tr><tr><td>2024-04-25</td><td>2024</td><td>4</td><td>ABRIL</td><td>25</td><td>QUINTA-FEIRA</td><td>5</td></tr><tr><td>2024-04-26</td><td>2024</td><td>4</td><td>ABRIL</td><td>26</td><td>SEXTA-FEIRA</td><td>6</td></tr><tr><td>2024-04-27</td><td>2024</td><td>4</td><td>ABRIL</td><td>27</td><td>SABADO</td><td>7</td></tr><tr><td>2024-04-28</td><td>2024</td><td>4</td><td>ABRIL</td><td>28</td><td>DOMINGO</td><td>1</td></tr><tr><td>2024-04-29</td><td>2024</td><td>4</td><td>ABRIL</td><td>29</td><td>SEGUNDA-FEIRA</td><td>2</td></tr><tr><td>2024-04-30</td><td>2024</td><td>4</td><td>ABRIL</td><td>30</td><td>TERCA-FEIRA</td><td>3</td></tr><tr><td>2024-05-01</td><td>2024</td><td>5</td><td>MAIO</td><td>1</td><td>QUARTA-FEIRA</td><td>4</td></tr><tr><td>2024-05-02</td><td>2024</td><td>5</td><td>MAIO</td><td>2</td><td>QUINTA-FEIRA</td><td>5</td></tr><tr><td>2024-05-03</td><td>2024</td><td>5</td><td>MAIO</td><td>3</td><td>SEXTA-FEIRA</td><td>6</td></tr><tr><td>2024-05-04</td><td>2024</td><td>5</td><td>MAIO</td><td>4</td><td>SABADO</td><td>7</td></tr><tr><td>2024-05-05</td><td>2024</td><td>5</td><td>MAIO</td><td>5</td><td>DOMINGO</td><td>1</td></tr><tr><td>2024-05-06</td><td>2024</td><td>5</td><td>MAIO</td><td>6</td><td>SEGUNDA-FEIRA</td><td>2</td></tr><tr><td>2024-05-07</td><td>2024</td><td>5</td><td>MAIO</td><td>7</td><td>TERCA-FEIRA</td><td>3</td></tr><tr><td>2024-05-08</td><td>2024</td><td>5</td><td>MAIO</td><td>8</td><td>QUARTA-FEIRA</td><td>4</td></tr><tr><td>2024-05-09</td><td>2024</td><td>5</td><td>MAIO</td><td>9</td><td>QUINTA-FEIRA</td><td>5</td></tr><tr><td>2024-05-10</td><td>2024</td><td>5</td><td>MAIO</td><td>10</td><td>SEXTA-FEIRA</td><td>6</td></tr><tr><td>2024-05-11</td><td>2024</td><td>5</td><td>MAIO</td><td>11</td><td>SABADO</td><td>7</td></tr><tr><td>2024-05-12</td><td>2024</td><td>5</td><td>MAIO</td><td>12</td><td>DOMINGO</td><td>1</td></tr><tr><td>2024-05-13</td><td>2024</td><td>5</td><td>MAIO</td><td>13</td><td>SEGUNDA-FEIRA</td><td>2</td></tr><tr><td>2024-05-14</td><td>2024</td><td>5</td><td>MAIO</td><td>14</td><td>TERCA-FEIRA</td><td>3</td></tr><tr><td>2024-05-15</td><td>2024</td><td>5</td><td>MAIO</td><td>15</td><td>QUARTA-FEIRA</td><td>4</td></tr><tr><td>2024-05-16</td><td>2024</td><td>5</td><td>MAIO</td><td>16</td><td>QUINTA-FEIRA</td><td>5</td></tr><tr><td>2024-05-17</td><td>2024</td><td>5</td><td>MAIO</td><td>17</td><td>SEXTA-FEIRA</td><td>6</td></tr><tr><td>2024-05-18</td><td>2024</td><td>5</td><td>MAIO</td><td>18</td><td>SABADO</td><td>7</td></tr><tr><td>2024-05-19</td><td>2024</td><td>5</td><td>MAIO</td><td>19</td><td>DOMINGO</td><td>1</td></tr><tr><td>2024-05-20</td><td>2024</td><td>5</td><td>MAIO</td><td>20</td><td>SEGUNDA-FEIRA</td><td>2</td></tr><tr><td>2024-05-21</td><td>2024</td><td>5</td><td>MAIO</td><td>21</td><td>TERCA-FEIRA</td><td>3</td></tr><tr><td>2024-05-22</td><td>2024</td><td>5</td><td>MAIO</td><td>22</td><td>QUARTA-FEIRA</td><td>4</td></tr><tr><td>2024-05-23</td><td>2024</td><td>5</td><td>MAIO</td><td>23</td><td>QUINTA-FEIRA</td><td>5</td></tr><tr><td>2024-05-24</td><td>2024</td><td>5</td><td>MAIO</td><td>24</td><td>SEXTA-FEIRA</td><td>6</td></tr><tr><td>2024-05-25</td><td>2024</td><td>5</td><td>MAIO</td><td>25</td><td>SABADO</td><td>7</td></tr><tr><td>2024-05-26</td><td>2024</td><td>5</td><td>MAIO</td><td>26</td><td>DOMINGO</td><td>1</td></tr><tr><td>2024-05-27</td><td>2024</td><td>5</td><td>MAIO</td><td>27</td><td>SEGUNDA-FEIRA</td><td>2</td></tr><tr><td>2024-05-28</td><td>2024</td><td>5</td><td>MAIO</td><td>28</td><td>TERCA-FEIRA</td><td>3</td></tr><tr><td>2024-05-29</td><td>2024</td><td>5</td><td>MAIO</td><td>29</td><td>QUARTA-FEIRA</td><td>4</td></tr><tr><td>2024-05-30</td><td>2024</td><td>5</td><td>MAIO</td><td>30</td><td>QUINTA-FEIRA</td><td>5</td></tr><tr><td>2024-05-31</td><td>2024</td><td>5</td><td>MAIO</td><td>31</td><td>SEXTA-FEIRA</td><td>6</td></tr><tr><td>2024-06-01</td><td>2024</td><td>6</td><td>JUNHO</td><td>1</td><td>SABADO</td><td>7</td></tr><tr><td>2024-06-02</td><td>2024</td><td>6</td><td>JUNHO</td><td>2</td><td>DOMINGO</td><td>1</td></tr><tr><td>2024-06-03</td><td>2024</td><td>6</td><td>JUNHO</td><td>3</td><td>SEGUNDA-FEIRA</td><td>2</td></tr><tr><td>2024-06-04</td><td>2024</td><td>6</td><td>JUNHO</td><td>4</td><td>TERCA-FEIRA</td><td>3</td></tr><tr><td>2024-06-05</td><td>2024</td><td>6</td><td>JUNHO</td><td>5</td><td>QUARTA-FEIRA</td><td>4</td></tr><tr><td>2024-06-06</td><td>2024</td><td>6</td><td>JUNHO</td><td>6</td><td>QUINTA-FEIRA</td><td>5</td></tr><tr><td>2024-06-07</td><td>2024</td><td>6</td><td>JUNHO</td><td>7</td><td>SEXTA-FEIRA</td><td>6</td></tr><tr><td>2024-06-08</td><td>2024</td><td>6</td><td>JUNHO</td><td>8</td><td>SABADO</td><td>7</td></tr><tr><td>2024-06-09</td><td>2024</td><td>6</td><td>JUNHO</td><td>9</td><td>DOMINGO</td><td>1</td></tr><tr><td>2024-06-10</td><td>2024</td><td>6</td><td>JUNHO</td><td>10</td><td>SEGUNDA-FEIRA</td><td>2</td></tr><tr><td>2024-06-11</td><td>2024</td><td>6</td><td>JUNHO</td><td>11</td><td>TERCA-FEIRA</td><td>3</td></tr><tr><td>2024-06-12</td><td>2024</td><td>6</td><td>JUNHO</td><td>12</td><td>QUARTA-FEIRA</td><td>4</td></tr><tr><td>2024-06-13</td><td>2024</td><td>6</td><td>JUNHO</td><td>13</td><td>QUINTA-FEIRA</td><td>5</td></tr><tr><td>2024-06-14</td><td>2024</td><td>6</td><td>JUNHO</td><td>14</td><td>SEXTA-FEIRA</td><td>6</td></tr><tr><td>2024-06-15</td><td>2024</td><td>6</td><td>JUNHO</td><td>15</td><td>SABADO</td><td>7</td></tr><tr><td>2024-06-16</td><td>2024</td><td>6</td><td>JUNHO</td><td>16</td><td>DOMINGO</td><td>1</td></tr><tr><td>2024-06-17</td><td>2024</td><td>6</td><td>JUNHO</td><td>17</td><td>SEGUNDA-FEIRA</td><td>2</td></tr><tr><td>2024-06-18</td><td>2024</td><td>6</td><td>JUNHO</td><td>18</td><td>TERCA-FEIRA</td><td>3</td></tr><tr><td>2024-06-19</td><td>2024</td><td>6</td><td>JUNHO</td><td>19</td><td>QUARTA-FEIRA</td><td>4</td></tr><tr><td>2024-06-20</td><td>2024</td><td>6</td><td>JUNHO</td><td>20</td><td>QUINTA-FEIRA</td><td>5</td></tr><tr><td>2024-06-21</td><td>2024</td><td>6</td><td>JUNHO</td><td>21</td><td>SEXTA-FEIRA</td><td>6</td></tr><tr><td>2024-06-22</td><td>2024</td><td>6</td><td>JUNHO</td><td>22</td><td>SABADO</td><td>7</td></tr><tr><td>2024-06-23</td><td>2024</td><td>6</td><td>JUNHO</td><td>23</td><td>DOMINGO</td><td>1</td></tr><tr><td>2024-06-24</td><td>2024</td><td>6</td><td>JUNHO</td><td>24</td><td>SEGUNDA-FEIRA</td><td>2</td></tr><tr><td>2024-06-25</td><td>2024</td><td>6</td><td>JUNHO</td><td>25</td><td>TERCA-FEIRA</td><td>3</td></tr><tr><td>2024-06-26</td><td>2024</td><td>6</td><td>JUNHO</td><td>26</td><td>QUARTA-FEIRA</td><td>4</td></tr><tr><td>2024-06-27</td><td>2024</td><td>6</td><td>JUNHO</td><td>27</td><td>QUINTA-FEIRA</td><td>5</td></tr><tr><td>2024-06-28</td><td>2024</td><td>6</td><td>JUNHO</td><td>28</td><td>SEXTA-FEIRA</td><td>6</td></tr><tr><td>2024-06-29</td><td>2024</td><td>6</td><td>JUNHO</td><td>29</td><td>SABADO</td><td>7</td></tr><tr><td>2024-06-30</td><td>2024</td><td>6</td><td>JUNHO</td><td>30</td><td>DOMINGO</td><td>1</td></tr><tr><td>2024-07-01</td><td>2024</td><td>7</td><td>JULHO</td><td>1</td><td>SEGUNDA-FEIRA</td><td>2</td></tr><tr><td>2024-07-02</td><td>2024</td><td>7</td><td>JULHO</td><td>2</td><td>TERCA-FEIRA</td><td>3</td></tr><tr><td>2024-07-03</td><td>2024</td><td>7</td><td>JULHO</td><td>3</td><td>QUARTA-FEIRA</td><td>4</td></tr><tr><td>2024-07-04</td><td>2024</td><td>7</td><td>JULHO</td><td>4</td><td>QUINTA-FEIRA</td><td>5</td></tr><tr><td>2024-07-05</td><td>2024</td><td>7</td><td>JULHO</td><td>5</td><td>SEXTA-FEIRA</td><td>6</td></tr><tr><td>2024-07-06</td><td>2024</td><td>7</td><td>JULHO</td><td>6</td><td>SABADO</td><td>7</td></tr><tr><td>2024-07-07</td><td>2024</td><td>7</td><td>JULHO</td><td>7</td><td>DOMINGO</td><td>1</td></tr><tr><td>2024-07-08</td><td>2024</td><td>7</td><td>JULHO</td><td>8</td><td>SEGUNDA-FEIRA</td><td>2</td></tr><tr><td>2024-07-09</td><td>2024</td><td>7</td><td>JULHO</td><td>9</td><td>TERCA-FEIRA</td><td>3</td></tr><tr><td>2024-07-10</td><td>2024</td><td>7</td><td>JULHO</td><td>10</td><td>QUARTA-FEIRA</td><td>4</td></tr><tr><td>2024-07-11</td><td>2024</td><td>7</td><td>JULHO</td><td>11</td><td>QUINTA-FEIRA</td><td>5</td></tr><tr><td>2024-07-12</td><td>2024</td><td>7</td><td>JULHO</td><td>12</td><td>SEXTA-FEIRA</td><td>6</td></tr><tr><td>2024-07-13</td><td>2024</td><td>7</td><td>JULHO</td><td>13</td><td>SABADO</td><td>7</td></tr><tr><td>2024-07-14</td><td>2024</td><td>7</td><td>JULHO</td><td>14</td><td>DOMINGO</td><td>1</td></tr><tr><td>2024-07-15</td><td>2024</td><td>7</td><td>JULHO</td><td>15</td><td>SEGUNDA-FEIRA</td><td>2</td></tr><tr><td>2024-07-16</td><td>2024</td><td>7</td><td>JULHO</td><td>16</td><td>TERCA-FEIRA</td><td>3</td></tr><tr><td>2024-07-17</td><td>2024</td><td>7</td><td>JULHO</td><td>17</td><td>QUARTA-FEIRA</td><td>4</td></tr><tr><td>2024-07-18</td><td>2024</td><td>7</td><td>JULHO</td><td>18</td><td>QUINTA-FEIRA</td><td>5</td></tr><tr><td>2024-07-19</td><td>2024</td><td>7</td><td>JULHO</td><td>19</td><td>SEXTA-FEIRA</td><td>6</td></tr><tr><td>2024-07-20</td><td>2024</td><td>7</td><td>JULHO</td><td>20</td><td>SABADO</td><td>7</td></tr><tr><td>2024-07-21</td><td>2024</td><td>7</td><td>JULHO</td><td>21</td><td>DOMINGO</td><td>1</td></tr><tr><td>2024-07-22</td><td>2024</td><td>7</td><td>JULHO</td><td>22</td><td>SEGUNDA-FEIRA</td><td>2</td></tr><tr><td>2024-07-23</td><td>2024</td><td>7</td><td>JULHO</td><td>23</td><td>TERCA-FEIRA</td><td>3</td></tr><tr><td>2024-07-24</td><td>2024</td><td>7</td><td>JULHO</td><td>24</td><td>QUARTA-FEIRA</td><td>4</td></tr><tr><td>2024-07-25</td><td>2024</td><td>7</td><td>JULHO</td><td>25</td><td>QUINTA-FEIRA</td><td>5</td></tr><tr><td>2024-07-26</td><td>2024</td><td>7</td><td>JULHO</td><td>26</td><td>SEXTA-FEIRA</td><td>6</td></tr><tr><td>2024-07-27</td><td>2024</td><td>7</td><td>JULHO</td><td>27</td><td>SABADO</td><td>7</td></tr><tr><td>2024-07-28</td><td>2024</td><td>7</td><td>JULHO</td><td>28</td><td>DOMINGO</td><td>1</td></tr><tr><td>2024-07-29</td><td>2024</td><td>7</td><td>JULHO</td><td>29</td><td>SEGUNDA-FEIRA</td><td>2</td></tr><tr><td>2024-07-30</td><td>2024</td><td>7</td><td>JULHO</td><td>30</td><td>TERCA-FEIRA</td><td>3</td></tr><tr><td>2024-07-31</td><td>2024</td><td>7</td><td>JULHO</td><td>31</td><td>QUARTA-FEIRA</td><td>4</td></tr><tr><td>2024-08-01</td><td>2024</td><td>8</td><td>AGOSTO</td><td>1</td><td>QUINTA-FEIRA</td><td>5</td></tr><tr><td>2024-08-02</td><td>2024</td><td>8</td><td>AGOSTO</td><td>2</td><td>SEXTA-FEIRA</td><td>6</td></tr><tr><td>2024-08-03</td><td>2024</td><td>8</td><td>AGOSTO</td><td>3</td><td>SABADO</td><td>7</td></tr><tr><td>2024-08-04</td><td>2024</td><td>8</td><td>AGOSTO</td><td>4</td><td>DOMINGO</td><td>1</td></tr><tr><td>2024-08-05</td><td>2024</td><td>8</td><td>AGOSTO</td><td>5</td><td>SEGUNDA-FEIRA</td><td>2</td></tr><tr><td>2024-08-06</td><td>2024</td><td>8</td><td>AGOSTO</td><td>6</td><td>TERCA-FEIRA</td><td>3</td></tr><tr><td>2024-08-07</td><td>2024</td><td>8</td><td>AGOSTO</td><td>7</td><td>QUARTA-FEIRA</td><td>4</td></tr><tr><td>2024-08-08</td><td>2024</td><td>8</td><td>AGOSTO</td><td>8</td><td>QUINTA-FEIRA</td><td>5</td></tr><tr><td>2024-08-09</td><td>2024</td><td>8</td><td>AGOSTO</td><td>9</td><td>SEXTA-FEIRA</td><td>6</td></tr><tr><td>2024-08-10</td><td>2024</td><td>8</td><td>AGOSTO</td><td>10</td><td>SABADO</td><td>7</td></tr><tr><td>2024-08-11</td><td>2024</td><td>8</td><td>AGOSTO</td><td>11</td><td>DOMINGO</td><td>1</td></tr><tr><td>2024-08-12</td><td>2024</td><td>8</td><td>AGOSTO</td><td>12</td><td>SEGUNDA-FEIRA</td><td>2</td></tr><tr><td>2024-08-13</td><td>2024</td><td>8</td><td>AGOSTO</td><td>13</td><td>TERCA-FEIRA</td><td>3</td></tr><tr><td>2024-08-14</td><td>2024</td><td>8</td><td>AGOSTO</td><td>14</td><td>QUARTA-FEIRA</td><td>4</td></tr><tr><td>2024-08-15</td><td>2024</td><td>8</td><td>AGOSTO</td><td>15</td><td>QUINTA-FEIRA</td><td>5</td></tr><tr><td>2024-08-16</td><td>2024</td><td>8</td><td>AGOSTO</td><td>16</td><td>SEXTA-FEIRA</td><td>6</td></tr><tr><td>2024-08-17</td><td>2024</td><td>8</td><td>AGOSTO</td><td>17</td><td>SABADO</td><td>7</td></tr><tr><td>2024-08-18</td><td>2024</td><td>8</td><td>AGOSTO</td><td>18</td><td>DOMINGO</td><td>1</td></tr><tr><td>2024-08-19</td><td>2024</td><td>8</td><td>AGOSTO</td><td>19</td><td>SEGUNDA-FEIRA</td><td>2</td></tr><tr><td>2024-08-20</td><td>2024</td><td>8</td><td>AGOSTO</td><td>20</td><td>TERCA-FEIRA</td><td>3</td></tr><tr><td>2024-08-21</td><td>2024</td><td>8</td><td>AGOSTO</td><td>21</td><td>QUARTA-FEIRA</td><td>4</td></tr><tr><td>2024-08-22</td><td>2024</td><td>8</td><td>AGOSTO</td><td>22</td><td>QUINTA-FEIRA</td><td>5</td></tr><tr><td>2024-08-23</td><td>2024</td><td>8</td><td>AGOSTO</td><td>23</td><td>SEXTA-FEIRA</td><td>6</td></tr><tr><td>2024-08-24</td><td>2024</td><td>8</td><td>AGOSTO</td><td>24</td><td>SABADO</td><td>7</td></tr><tr><td>2024-08-25</td><td>2024</td><td>8</td><td>AGOSTO</td><td>25</td><td>DOMINGO</td><td>1</td></tr><tr><td>2024-08-26</td><td>2024</td><td>8</td><td>AGOSTO</td><td>26</td><td>SEGUNDA-FEIRA</td><td>2</td></tr><tr><td>2024-08-27</td><td>2024</td><td>8</td><td>AGOSTO</td><td>27</td><td>TERCA-FEIRA</td><td>3</td></tr><tr><td>2024-08-28</td><td>2024</td><td>8</td><td>AGOSTO</td><td>28</td><td>QUARTA-FEIRA</td><td>4</td></tr><tr><td>2024-08-29</td><td>2024</td><td>8</td><td>AGOSTO</td><td>29</td><td>QUINTA-FEIRA</td><td>5</td></tr><tr><td>2024-08-30</td><td>2024</td><td>8</td><td>AGOSTO</td><td>30</td><td>SEXTA-FEIRA</td><td>6</td></tr><tr><td>2024-08-31</td><td>2024</td><td>8</td><td>AGOSTO</td><td>31</td><td>SABADO</td><td>7</td></tr><tr><td>2024-09-01</td><td>2024</td><td>9</td><td>SETEMBRO</td><td>1</td><td>DOMINGO</td><td>1</td></tr><tr><td>2024-09-02</td><td>2024</td><td>9</td><td>SETEMBRO</td><td>2</td><td>SEGUNDA-FEIRA</td><td>2</td></tr><tr><td>2024-09-03</td><td>2024</td><td>9</td><td>SETEMBRO</td><td>3</td><td>TERCA-FEIRA</td><td>3</td></tr><tr><td>2024-09-04</td><td>2024</td><td>9</td><td>SETEMBRO</td><td>4</td><td>QUARTA-FEIRA</td><td>4</td></tr><tr><td>2024-09-05</td><td>2024</td><td>9</td><td>SETEMBRO</td><td>5</td><td>QUINTA-FEIRA</td><td>5</td></tr><tr><td>2024-09-06</td><td>2024</td><td>9</td><td>SETEMBRO</td><td>6</td><td>SEXTA-FEIRA</td><td>6</td></tr><tr><td>2024-09-07</td><td>2024</td><td>9</td><td>SETEMBRO</td><td>7</td><td>SABADO</td><td>7</td></tr><tr><td>2024-09-08</td><td>2024</td><td>9</td><td>SETEMBRO</td><td>8</td><td>DOMINGO</td><td>1</td></tr><tr><td>2024-09-09</td><td>2024</td><td>9</td><td>SETEMBRO</td><td>9</td><td>SEGUNDA-FEIRA</td><td>2</td></tr><tr><td>2024-09-10</td><td>2024</td><td>9</td><td>SETEMBRO</td><td>10</td><td>TERCA-FEIRA</td><td>3</td></tr><tr><td>2024-09-11</td><td>2024</td><td>9</td><td>SETEMBRO</td><td>11</td><td>QUARTA-FEIRA</td><td>4</td></tr><tr><td>2024-09-12</td><td>2024</td><td>9</td><td>SETEMBRO</td><td>12</td><td>QUINTA-FEIRA</td><td>5</td></tr><tr><td>2024-09-13</td><td>2024</td><td>9</td><td>SETEMBRO</td><td>13</td><td>SEXTA-FEIRA</td><td>6</td></tr><tr><td>2024-09-14</td><td>2024</td><td>9</td><td>SETEMBRO</td><td>14</td><td>SABADO</td><td>7</td></tr><tr><td>2024-09-15</td><td>2024</td><td>9</td><td>SETEMBRO</td><td>15</td><td>DOMINGO</td><td>1</td></tr><tr><td>2024-09-16</td><td>2024</td><td>9</td><td>SETEMBRO</td><td>16</td><td>SEGUNDA-FEIRA</td><td>2</td></tr><tr><td>2024-09-17</td><td>2024</td><td>9</td><td>SETEMBRO</td><td>17</td><td>TERCA-FEIRA</td><td>3</td></tr><tr><td>2024-09-18</td><td>2024</td><td>9</td><td>SETEMBRO</td><td>18</td><td>QUARTA-FEIRA</td><td>4</td></tr><tr><td>2024-09-19</td><td>2024</td><td>9</td><td>SETEMBRO</td><td>19</td><td>QUINTA-FEIRA</td><td>5</td></tr><tr><td>2024-09-20</td><td>2024</td><td>9</td><td>SETEMBRO</td><td>20</td><td>SEXTA-FEIRA</td><td>6</td></tr><tr><td>2024-09-21</td><td>2024</td><td>9</td><td>SETEMBRO</td><td>21</td><td>SABADO</td><td>7</td></tr><tr><td>2024-09-22</td><td>2024</td><td>9</td><td>SETEMBRO</td><td>22</td><td>DOMINGO</td><td>1</td></tr><tr><td>2024-09-23</td><td>2024</td><td>9</td><td>SETEMBRO</td><td>23</td><td>SEGUNDA-FEIRA</td><td>2</td></tr><tr><td>2024-09-24</td><td>2024</td><td>9</td><td>SETEMBRO</td><td>24</td><td>TERCA-FEIRA</td><td>3</td></tr><tr><td>2024-09-25</td><td>2024</td><td>9</td><td>SETEMBRO</td><td>25</td><td>QUARTA-FEIRA</td><td>4</td></tr><tr><td>2024-09-26</td><td>2024</td><td>9</td><td>SETEMBRO</td><td>26</td><td>QUINTA-FEIRA</td><td>5</td></tr><tr><td>2024-09-27</td><td>2024</td><td>9</td><td>SETEMBRO</td><td>27</td><td>SEXTA-FEIRA</td><td>6</td></tr><tr><td>2024-09-28</td><td>2024</td><td>9</td><td>SETEMBRO</td><td>28</td><td>SABADO</td><td>7</td></tr><tr><td>2024-09-29</td><td>2024</td><td>9</td><td>SETEMBRO</td><td>29</td><td>DOMINGO</td><td>1</td></tr><tr><td>2024-09-30</td><td>2024</td><td>9</td><td>SETEMBRO</td><td>30</td><td>SEGUNDA-FEIRA</td><td>2</td></tr><tr><td>2024-10-01</td><td>2024</td><td>10</td><td>OUTUBRO</td><td>1</td><td>TERCA-FEIRA</td><td>3</td></tr><tr><td>2024-10-02</td><td>2024</td><td>10</td><td>OUTUBRO</td><td>2</td><td>QUARTA-FEIRA</td><td>4</td></tr><tr><td>2024-10-03</td><td>2024</td><td>10</td><td>OUTUBRO</td><td>3</td><td>QUINTA-FEIRA</td><td>5</td></tr><tr><td>2024-10-04</td><td>2024</td><td>10</td><td>OUTUBRO</td><td>4</td><td>SEXTA-FEIRA</td><td>6</td></tr><tr><td>2024-10-05</td><td>2024</td><td>10</td><td>OUTUBRO</td><td>5</td><td>SABADO</td><td>7</td></tr><tr><td>2024-10-06</td><td>2024</td><td>10</td><td>OUTUBRO</td><td>6</td><td>DOMINGO</td><td>1</td></tr><tr><td>2024-10-07</td><td>2024</td><td>10</td><td>OUTUBRO</td><td>7</td><td>SEGUNDA-FEIRA</td><td>2</td></tr><tr><td>2024-10-08</td><td>2024</td><td>10</td><td>OUTUBRO</td><td>8</td><td>TERCA-FEIRA</td><td>3</td></tr><tr><td>2024-10-09</td><td>2024</td><td>10</td><td>OUTUBRO</td><td>9</td><td>QUARTA-FEIRA</td><td>4</td></tr><tr><td>2024-10-10</td><td>2024</td><td>10</td><td>OUTUBRO</td><td>10</td><td>QUINTA-FEIRA</td><td>5</td></tr><tr><td>2024-10-11</td><td>2024</td><td>10</td><td>OUTUBRO</td><td>11</td><td>SEXTA-FEIRA</td><td>6</td></tr><tr><td>2024-10-12</td><td>2024</td><td>10</td><td>OUTUBRO</td><td>12</td><td>SABADO</td><td>7</td></tr><tr><td>2024-10-13</td><td>2024</td><td>10</td><td>OUTUBRO</td><td>13</td><td>DOMINGO</td><td>1</td></tr><tr><td>2024-10-14</td><td>2024</td><td>10</td><td>OUTUBRO</td><td>14</td><td>SEGUNDA-FEIRA</td><td>2</td></tr><tr><td>2024-10-15</td><td>2024</td><td>10</td><td>OUTUBRO</td><td>15</td><td>TERCA-FEIRA</td><td>3</td></tr><tr><td>2024-10-16</td><td>2024</td><td>10</td><td>OUTUBRO</td><td>16</td><td>QUARTA-FEIRA</td><td>4</td></tr><tr><td>2024-10-17</td><td>2024</td><td>10</td><td>OUTUBRO</td><td>17</td><td>QUINTA-FEIRA</td><td>5</td></tr><tr><td>2024-10-18</td><td>2024</td><td>10</td><td>OUTUBRO</td><td>18</td><td>SEXTA-FEIRA</td><td>6</td></tr><tr><td>2024-10-19</td><td>2024</td><td>10</td><td>OUTUBRO</td><td>19</td><td>SABADO</td><td>7</td></tr><tr><td>2024-10-20</td><td>2024</td><td>10</td><td>OUTUBRO</td><td>20</td><td>DOMINGO</td><td>1</td></tr><tr><td>2024-10-21</td><td>2024</td><td>10</td><td>OUTUBRO</td><td>21</td><td>SEGUNDA-FEIRA</td><td>2</td></tr><tr><td>2024-10-22</td><td>2024</td><td>10</td><td>OUTUBRO</td><td>22</td><td>TERCA-FEIRA</td><td>3</td></tr><tr><td>2024-10-23</td><td>2024</td><td>10</td><td>OUTUBRO</td><td>23</td><td>QUARTA-FEIRA</td><td>4</td></tr><tr><td>2024-10-24</td><td>2024</td><td>10</td><td>OUTUBRO</td><td>24</td><td>QUINTA-FEIRA</td><td>5</td></tr><tr><td>2024-10-25</td><td>2024</td><td>10</td><td>OUTUBRO</td><td>25</td><td>SEXTA-FEIRA</td><td>6</td></tr><tr><td>2024-10-26</td><td>2024</td><td>10</td><td>OUTUBRO</td><td>26</td><td>SABADO</td><td>7</td></tr><tr><td>2024-10-27</td><td>2024</td><td>10</td><td>OUTUBRO</td><td>27</td><td>DOMINGO</td><td>1</td></tr><tr><td>2024-10-28</td><td>2024</td><td>10</td><td>OUTUBRO</td><td>28</td><td>SEGUNDA-FEIRA</td><td>2</td></tr><tr><td>2024-10-29</td><td>2024</td><td>10</td><td>OUTUBRO</td><td>29</td><td>TERCA-FEIRA</td><td>3</td></tr><tr><td>2024-10-30</td><td>2024</td><td>10</td><td>OUTUBRO</td><td>30</td><td>QUARTA-FEIRA</td><td>4</td></tr><tr><td>2024-10-31</td><td>2024</td><td>10</td><td>OUTUBRO</td><td>31</td><td>QUINTA-FEIRA</td><td>5</td></tr><tr><td>2024-11-01</td><td>2024</td><td>11</td><td>NOVEMBRO</td><td>1</td><td>SEXTA-FEIRA</td><td>6</td></tr><tr><td>2024-11-02</td><td>2024</td><td>11</td><td>NOVEMBRO</td><td>2</td><td>SABADO</td><td>7</td></tr><tr><td>2024-11-03</td><td>2024</td><td>11</td><td>NOVEMBRO</td><td>3</td><td>DOMINGO</td><td>1</td></tr><tr><td>2024-11-04</td><td>2024</td><td>11</td><td>NOVEMBRO</td><td>4</td><td>SEGUNDA-FEIRA</td><td>2</td></tr><tr><td>2024-11-05</td><td>2024</td><td>11</td><td>NOVEMBRO</td><td>5</td><td>TERCA-FEIRA</td><td>3</td></tr><tr><td>2024-11-06</td><td>2024</td><td>11</td><td>NOVEMBRO</td><td>6</td><td>QUARTA-FEIRA</td><td>4</td></tr><tr><td>2024-11-07</td><td>2024</td><td>11</td><td>NOVEMBRO</td><td>7</td><td>QUINTA-FEIRA</td><td>5</td></tr><tr><td>2024-11-08</td><td>2024</td><td>11</td><td>NOVEMBRO</td><td>8</td><td>SEXTA-FEIRA</td><td>6</td></tr><tr><td>2024-11-09</td><td>2024</td><td>11</td><td>NOVEMBRO</td><td>9</td><td>SABADO</td><td>7</td></tr><tr><td>2024-11-10</td><td>2024</td><td>11</td><td>NOVEMBRO</td><td>10</td><td>DOMINGO</td><td>1</td></tr><tr><td>2024-11-11</td><td>2024</td><td>11</td><td>NOVEMBRO</td><td>11</td><td>SEGUNDA-FEIRA</td><td>2</td></tr><tr><td>2024-11-12</td><td>2024</td><td>11</td><td>NOVEMBRO</td><td>12</td><td>TERCA-FEIRA</td><td>3</td></tr><tr><td>2024-11-13</td><td>2024</td><td>11</td><td>NOVEMBRO</td><td>13</td><td>QUARTA-FEIRA</td><td>4</td></tr><tr><td>2024-11-14</td><td>2024</td><td>11</td><td>NOVEMBRO</td><td>14</td><td>QUINTA-FEIRA</td><td>5</td></tr><tr><td>2024-11-15</td><td>2024</td><td>11</td><td>NOVEMBRO</td><td>15</td><td>SEXTA-FEIRA</td><td>6</td></tr><tr><td>2024-11-16</td><td>2024</td><td>11</td><td>NOVEMBRO</td><td>16</td><td>SABADO</td><td>7</td></tr><tr><td>2024-11-17</td><td>2024</td><td>11</td><td>NOVEMBRO</td><td>17</td><td>DOMINGO</td><td>1</td></tr><tr><td>2024-11-18</td><td>2024</td><td>11</td><td>NOVEMBRO</td><td>18</td><td>SEGUNDA-FEIRA</td><td>2</td></tr><tr><td>2024-11-19</td><td>2024</td><td>11</td><td>NOVEMBRO</td><td>19</td><td>TERCA-FEIRA</td><td>3</td></tr><tr><td>2024-11-20</td><td>2024</td><td>11</td><td>NOVEMBRO</td><td>20</td><td>QUARTA-FEIRA</td><td>4</td></tr><tr><td>2024-11-21</td><td>2024</td><td>11</td><td>NOVEMBRO</td><td>21</td><td>QUINTA-FEIRA</td><td>5</td></tr><tr><td>2024-11-22</td><td>2024</td><td>11</td><td>NOVEMBRO</td><td>22</td><td>SEXTA-FEIRA</td><td>6</td></tr><tr><td>2024-11-23</td><td>2024</td><td>11</td><td>NOVEMBRO</td><td>23</td><td>SABADO</td><td>7</td></tr><tr><td>2024-11-24</td><td>2024</td><td>11</td><td>NOVEMBRO</td><td>24</td><td>DOMINGO</td><td>1</td></tr><tr><td>2024-11-25</td><td>2024</td><td>11</td><td>NOVEMBRO</td><td>25</td><td>SEGUNDA-FEIRA</td><td>2</td></tr><tr><td>2024-11-26</td><td>2024</td><td>11</td><td>NOVEMBRO</td><td>26</td><td>TERCA-FEIRA</td><td>3</td></tr><tr><td>2024-11-27</td><td>2024</td><td>11</td><td>NOVEMBRO</td><td>27</td><td>QUARTA-FEIRA</td><td>4</td></tr><tr><td>2024-11-28</td><td>2024</td><td>11</td><td>NOVEMBRO</td><td>28</td><td>QUINTA-FEIRA</td><td>5</td></tr><tr><td>2024-11-29</td><td>2024</td><td>11</td><td>NOVEMBRO</td><td>29</td><td>SEXTA-FEIRA</td><td>6</td></tr><tr><td>2024-11-30</td><td>2024</td><td>11</td><td>NOVEMBRO</td><td>30</td><td>SABADO</td><td>7</td></tr><tr><td>2024-12-01</td><td>2024</td><td>12</td><td>DEZEMBRO</td><td>1</td><td>DOMINGO</td><td>1</td></tr><tr><td>2024-12-02</td><td>2024</td><td>12</td><td>DEZEMBRO</td><td>2</td><td>SEGUNDA-FEIRA</td><td>2</td></tr><tr><td>2024-12-03</td><td>2024</td><td>12</td><td>DEZEMBRO</td><td>3</td><td>TERCA-FEIRA</td><td>3</td></tr><tr><td>2024-12-04</td><td>2024</td><td>12</td><td>DEZEMBRO</td><td>4</td><td>QUARTA-FEIRA</td><td>4</td></tr><tr><td>2024-12-05</td><td>2024</td><td>12</td><td>DEZEMBRO</td><td>5</td><td>QUINTA-FEIRA</td><td>5</td></tr><tr><td>2024-12-06</td><td>2024</td><td>12</td><td>DEZEMBRO</td><td>6</td><td>SEXTA-FEIRA</td><td>6</td></tr><tr><td>2024-12-07</td><td>2024</td><td>12</td><td>DEZEMBRO</td><td>7</td><td>SABADO</td><td>7</td></tr><tr><td>2024-12-08</td><td>2024</td><td>12</td><td>DEZEMBRO</td><td>8</td><td>DOMINGO</td><td>1</td></tr><tr><td>2024-12-09</td><td>2024</td><td>12</td><td>DEZEMBRO</td><td>9</td><td>SEGUNDA-FEIRA</td><td>2</td></tr><tr><td>2024-12-10</td><td>2024</td><td>12</td><td>DEZEMBRO</td><td>10</td><td>TERCA-FEIRA</td><td>3</td></tr><tr><td>2024-12-11</td><td>2024</td><td>12</td><td>DEZEMBRO</td><td>11</td><td>QUARTA-FEIRA</td><td>4</td></tr><tr><td>2024-12-12</td><td>2024</td><td>12</td><td>DEZEMBRO</td><td>12</td><td>QUINTA-FEIRA</td><td>5</td></tr><tr><td>2024-12-13</td><td>2024</td><td>12</td><td>DEZEMBRO</td><td>13</td><td>SEXTA-FEIRA</td><td>6</td></tr><tr><td>2024-12-14</td><td>2024</td><td>12</td><td>DEZEMBRO</td><td>14</td><td>SABADO</td><td>7</td></tr><tr><td>2024-12-15</td><td>2024</td><td>12</td><td>DEZEMBRO</td><td>15</td><td>DOMINGO</td><td>1</td></tr><tr><td>2024-12-16</td><td>2024</td><td>12</td><td>DEZEMBRO</td><td>16</td><td>SEGUNDA-FEIRA</td><td>2</td></tr><tr><td>2024-12-17</td><td>2024</td><td>12</td><td>DEZEMBRO</td><td>17</td><td>TERCA-FEIRA</td><td>3</td></tr><tr><td>2024-12-18</td><td>2024</td><td>12</td><td>DEZEMBRO</td><td>18</td><td>QUARTA-FEIRA</td><td>4</td></tr><tr><td>2024-12-19</td><td>2024</td><td>12</td><td>DEZEMBRO</td><td>19</td><td>QUINTA-FEIRA</td><td>5</td></tr><tr><td>2024-12-20</td><td>2024</td><td>12</td><td>DEZEMBRO</td><td>20</td><td>SEXTA-FEIRA</td><td>6</td></tr><tr><td>2024-12-21</td><td>2024</td><td>12</td><td>DEZEMBRO</td><td>21</td><td>SABADO</td><td>7</td></tr><tr><td>2024-12-22</td><td>2024</td><td>12</td><td>DEZEMBRO</td><td>22</td><td>DOMINGO</td><td>1</td></tr><tr><td>2024-12-23</td><td>2024</td><td>12</td><td>DEZEMBRO</td><td>23</td><td>SEGUNDA-FEIRA</td><td>2</td></tr><tr><td>2024-12-24</td><td>2024</td><td>12</td><td>DEZEMBRO</td><td>24</td><td>TERCA-FEIRA</td><td>3</td></tr><tr><td>2024-12-25</td><td>2024</td><td>12</td><td>DEZEMBRO</td><td>25</td><td>QUARTA-FEIRA</td><td>4</td></tr><tr><td>2024-12-26</td><td>2024</td><td>12</td><td>DEZEMBRO</td><td>26</td><td>QUINTA-FEIRA</td><td>5</td></tr><tr><td>2024-12-27</td><td>2024</td><td>12</td><td>DEZEMBRO</td><td>27</td><td>SEXTA-FEIRA</td><td>6</td></tr><tr><td>2024-12-28</td><td>2024</td><td>12</td><td>DEZEMBRO</td><td>28</td><td>SABADO</td><td>7</td></tr><tr><td>2024-12-29</td><td>2024</td><td>12</td><td>DEZEMBRO</td><td>29</td><td>DOMINGO</td><td>1</td></tr><tr><td>2024-12-30</td><td>2024</td><td>12</td><td>DEZEMBRO</td><td>30</td><td>SEGUNDA-FEIRA</td><td>2</td></tr><tr><td>2024-12-31</td><td>2024</td><td>12</td><td>DEZEMBRO</td><td>31</td><td>TERCA-FEIRA</td><td>3</td></tr><tr><td>2025-01-01</td><td>2025</td><td>1</td><td>JANEIRO</td><td>1</td><td>QUARTA-FEIRA</td><td>4</td></tr><tr><td>2025-01-02</td><td>2025</td><td>1</td><td>JANEIRO</td><td>2</td><td>QUINTA-FEIRA</td><td>5</td></tr><tr><td>2025-01-03</td><td>2025</td><td>1</td><td>JANEIRO</td><td>3</td><td>SEXTA-FEIRA</td><td>6</td></tr><tr><td>2025-01-04</td><td>2025</td><td>1</td><td>JANEIRO</td><td>4</td><td>SABADO</td><td>7</td></tr><tr><td>2025-01-05</td><td>2025</td><td>1</td><td>JANEIRO</td><td>5</td><td>DOMINGO</td><td>1</td></tr><tr><td>2025-01-06</td><td>2025</td><td>1</td><td>JANEIRO</td><td>6</td><td>SEGUNDA-FEIRA</td><td>2</td></tr><tr><td>2025-01-07</td><td>2025</td><td>1</td><td>JANEIRO</td><td>7</td><td>TERCA-FEIRA</td><td>3</td></tr><tr><td>2025-01-08</td><td>2025</td><td>1</td><td>JANEIRO</td><td>8</td><td>QUARTA-FEIRA</td><td>4</td></tr><tr><td>2025-01-09</td><td>2025</td><td>1</td><td>JANEIRO</td><td>9</td><td>QUINTA-FEIRA</td><td>5</td></tr><tr><td>2025-01-10</td><td>2025</td><td>1</td><td>JANEIRO</td><td>10</td><td>SEXTA-FEIRA</td><td>6</td></tr><tr><td>2025-01-11</td><td>2025</td><td>1</td><td>JANEIRO</td><td>11</td><td>SABADO</td><td>7</td></tr><tr><td>2025-01-12</td><td>2025</td><td>1</td><td>JANEIRO</td><td>12</td><td>DOMINGO</td><td>1</td></tr><tr><td>2025-01-13</td><td>2025</td><td>1</td><td>JANEIRO</td><td>13</td><td>SEGUNDA-FEIRA</td><td>2</td></tr><tr><td>2025-01-14</td><td>2025</td><td>1</td><td>JANEIRO</td><td>14</td><td>TERCA-FEIRA</td><td>3</td></tr><tr><td>2025-01-15</td><td>2025</td><td>1</td><td>JANEIRO</td><td>15</td><td>QUARTA-FEIRA</td><td>4</td></tr><tr><td>2025-01-16</td><td>2025</td><td>1</td><td>JANEIRO</td><td>16</td><td>QUINTA-FEIRA</td><td>5</td></tr><tr><td>2025-01-17</td><td>2025</td><td>1</td><td>JANEIRO</td><td>17</td><td>SEXTA-FEIRA</td><td>6</td></tr><tr><td>2025-01-18</td><td>2025</td><td>1</td><td>JANEIRO</td><td>18</td><td>SABADO</td><td>7</td></tr><tr><td>2025-01-19</td><td>2025</td><td>1</td><td>JANEIRO</td><td>19</td><td>DOMINGO</td><td>1</td></tr><tr><td>2025-01-20</td><td>2025</td><td>1</td><td>JANEIRO</td><td>20</td><td>SEGUNDA-FEIRA</td><td>2</td></tr><tr><td>2025-01-21</td><td>2025</td><td>1</td><td>JANEIRO</td><td>21</td><td>TERCA-FEIRA</td><td>3</td></tr><tr><td>2025-01-22</td><td>2025</td><td>1</td><td>JANEIRO</td><td>22</td><td>QUARTA-FEIRA</td><td>4</td></tr><tr><td>2025-01-23</td><td>2025</td><td>1</td><td>JANEIRO</td><td>23</td><td>QUINTA-FEIRA</td><td>5</td></tr><tr><td>2025-01-24</td><td>2025</td><td>1</td><td>JANEIRO</td><td>24</td><td>SEXTA-FEIRA</td><td>6</td></tr><tr><td>2025-01-25</td><td>2025</td><td>1</td><td>JANEIRO</td><td>25</td><td>SABADO</td><td>7</td></tr><tr><td>2025-01-26</td><td>2025</td><td>1</td><td>JANEIRO</td><td>26</td><td>DOMINGO</td><td>1</td></tr><tr><td>2025-01-27</td><td>2025</td><td>1</td><td>JANEIRO</td><td>27</td><td>SEGUNDA-FEIRA</td><td>2</td></tr><tr><td>2025-01-28</td><td>2025</td><td>1</td><td>JANEIRO</td><td>28</td><td>TERCA-FEIRA</td><td>3</td></tr><tr><td>2025-01-29</td><td>2025</td><td>1</td><td>JANEIRO</td><td>29</td><td>QUARTA-FEIRA</td><td>4</td></tr><tr><td>2025-01-30</td><td>2025</td><td>1</td><td>JANEIRO</td><td>30</td><td>QUINTA-FEIRA</td><td>5</td></tr><tr><td>2025-01-31</td><td>2025</td><td>1</td><td>JANEIRO</td><td>31</td><td>SEXTA-FEIRA</td><td>6</td></tr><tr><td>2025-02-01</td><td>2025</td><td>2</td><td>FEVEREIRO</td><td>1</td><td>SABADO</td><td>7</td></tr><tr><td>2025-02-02</td><td>2025</td><td>2</td><td>FEVEREIRO</td><td>2</td><td>DOMINGO</td><td>1</td></tr><tr><td>2025-02-03</td><td>2025</td><td>2</td><td>FEVEREIRO</td><td>3</td><td>SEGUNDA-FEIRA</td><td>2</td></tr><tr><td>2025-02-04</td><td>2025</td><td>2</td><td>FEVEREIRO</td><td>4</td><td>TERCA-FEIRA</td><td>3</td></tr><tr><td>2025-02-05</td><td>2025</td><td>2</td><td>FEVEREIRO</td><td>5</td><td>QUARTA-FEIRA</td><td>4</td></tr><tr><td>2025-02-06</td><td>2025</td><td>2</td><td>FEVEREIRO</td><td>6</td><td>QUINTA-FEIRA</td><td>5</td></tr><tr><td>2025-02-07</td><td>2025</td><td>2</td><td>FEVEREIRO</td><td>7</td><td>SEXTA-FEIRA</td><td>6</td></tr><tr><td>2025-02-08</td><td>2025</td><td>2</td><td>FEVEREIRO</td><td>8</td><td>SABADO</td><td>7</td></tr><tr><td>2025-02-09</td><td>2025</td><td>2</td><td>FEVEREIRO</td><td>9</td><td>DOMINGO</td><td>1</td></tr><tr><td>2025-02-10</td><td>2025</td><td>2</td><td>FEVEREIRO</td><td>10</td><td>SEGUNDA-FEIRA</td><td>2</td></tr><tr><td>2025-02-11</td><td>2025</td><td>2</td><td>FEVEREIRO</td><td>11</td><td>TERCA-FEIRA</td><td>3</td></tr><tr><td>2025-02-12</td><td>2025</td><td>2</td><td>FEVEREIRO</td><td>12</td><td>QUARTA-FEIRA</td><td>4</td></tr><tr><td>2025-02-13</td><td>2025</td><td>2</td><td>FEVEREIRO</td><td>13</td><td>QUINTA-FEIRA</td><td>5</td></tr><tr><td>2025-02-14</td><td>2025</td><td>2</td><td>FEVEREIRO</td><td>14</td><td>SEXTA-FEIRA</td><td>6</td></tr><tr><td>2025-02-15</td><td>2025</td><td>2</td><td>FEVEREIRO</td><td>15</td><td>SABADO</td><td>7</td></tr><tr><td>2025-02-16</td><td>2025</td><td>2</td><td>FEVEREIRO</td><td>16</td><td>DOMINGO</td><td>1</td></tr><tr><td>2025-02-17</td><td>2025</td><td>2</td><td>FEVEREIRO</td><td>17</td><td>SEGUNDA-FEIRA</td><td>2</td></tr><tr><td>2025-02-18</td><td>2025</td><td>2</td><td>FEVEREIRO</td><td>18</td><td>TERCA-FEIRA</td><td>3</td></tr><tr><td>2025-02-19</td><td>2025</td><td>2</td><td>FEVEREIRO</td><td>19</td><td>QUARTA-FEIRA</td><td>4</td></tr><tr><td>2025-02-20</td><td>2025</td><td>2</td><td>FEVEREIRO</td><td>20</td><td>QUINTA-FEIRA</td><td>5</td></tr><tr><td>2025-02-21</td><td>2025</td><td>2</td><td>FEVEREIRO</td><td>21</td><td>SEXTA-FEIRA</td><td>6</td></tr><tr><td>2025-02-22</td><td>2025</td><td>2</td><td>FEVEREIRO</td><td>22</td><td>SABADO</td><td>7</td></tr><tr><td>2025-02-23</td><td>2025</td><td>2</td><td>FEVEREIRO</td><td>23</td><td>DOMINGO</td><td>1</td></tr><tr><td>2025-02-24</td><td>2025</td><td>2</td><td>FEVEREIRO</td><td>24</td><td>SEGUNDA-FEIRA</td><td>2</td></tr><tr><td>2025-02-25</td><td>2025</td><td>2</td><td>FEVEREIRO</td><td>25</td><td>TERCA-FEIRA</td><td>3</td></tr><tr><td>2025-02-26</td><td>2025</td><td>2</td><td>FEVEREIRO</td><td>26</td><td>QUARTA-FEIRA</td><td>4</td></tr><tr><td>2025-02-27</td><td>2025</td><td>2</td><td>FEVEREIRO</td><td>27</td><td>QUINTA-FEIRA</td><td>5</td></tr><tr><td>2025-02-28</td><td>2025</td><td>2</td><td>FEVEREIRO</td><td>28</td><td>SEXTA-FEIRA</td><td>6</td></tr><tr><td>2025-03-01</td><td>2025</td><td>3</td><td>MARCO</td><td>1</td><td>SABADO</td><td>7</td></tr><tr><td>2025-03-02</td><td>2025</td><td>3</td><td>MARCO</td><td>2</td><td>DOMINGO</td><td>1</td></tr><tr><td>2025-03-03</td><td>2025</td><td>3</td><td>MARCO</td><td>3</td><td>SEGUNDA-FEIRA</td><td>2</td></tr><tr><td>2025-03-04</td><td>2025</td><td>3</td><td>MARCO</td><td>4</td><td>TERCA-FEIRA</td><td>3</td></tr><tr><td>2025-03-05</td><td>2025</td><td>3</td><td>MARCO</td><td>5</td><td>QUARTA-FEIRA</td><td>4</td></tr><tr><td>2025-03-06</td><td>2025</td><td>3</td><td>MARCO</td><td>6</td><td>QUINTA-FEIRA</td><td>5</td></tr><tr><td>2025-03-07</td><td>2025</td><td>3</td><td>MARCO</td><td>7</td><td>SEXTA-FEIRA</td><td>6</td></tr><tr><td>2025-03-08</td><td>2025</td><td>3</td><td>MARCO</td><td>8</td><td>SABADO</td><td>7</td></tr><tr><td>2025-03-09</td><td>2025</td><td>3</td><td>MARCO</td><td>9</td><td>DOMINGO</td><td>1</td></tr><tr><td>2025-03-10</td><td>2025</td><td>3</td><td>MARCO</td><td>10</td><td>SEGUNDA-FEIRA</td><td>2</td></tr><tr><td>2025-03-11</td><td>2025</td><td>3</td><td>MARCO</td><td>11</td><td>TERCA-FEIRA</td><td>3</td></tr><tr><td>2025-03-12</td><td>2025</td><td>3</td><td>MARCO</td><td>12</td><td>QUARTA-FEIRA</td><td>4</td></tr><tr><td>2025-03-13</td><td>2025</td><td>3</td><td>MARCO</td><td>13</td><td>QUINTA-FEIRA</td><td>5</td></tr><tr><td>2025-03-14</td><td>2025</td><td>3</td><td>MARCO</td><td>14</td><td>SEXTA-FEIRA</td><td>6</td></tr><tr><td>2025-03-15</td><td>2025</td><td>3</td><td>MARCO</td><td>15</td><td>SABADO</td><td>7</td></tr><tr><td>2025-03-16</td><td>2025</td><td>3</td><td>MARCO</td><td>16</td><td>DOMINGO</td><td>1</td></tr><tr><td>2025-03-17</td><td>2025</td><td>3</td><td>MARCO</td><td>17</td><td>SEGUNDA-FEIRA</td><td>2</td></tr><tr><td>2025-03-18</td><td>2025</td><td>3</td><td>MARCO</td><td>18</td><td>TERCA-FEIRA</td><td>3</td></tr><tr><td>2025-03-19</td><td>2025</td><td>3</td><td>MARCO</td><td>19</td><td>QUARTA-FEIRA</td><td>4</td></tr><tr><td>2025-03-20</td><td>2025</td><td>3</td><td>MARCO</td><td>20</td><td>QUINTA-FEIRA</td><td>5</td></tr><tr><td>2025-03-21</td><td>2025</td><td>3</td><td>MARCO</td><td>21</td><td>SEXTA-FEIRA</td><td>6</td></tr><tr><td>2025-03-22</td><td>2025</td><td>3</td><td>MARCO</td><td>22</td><td>SABADO</td><td>7</td></tr><tr><td>2025-03-23</td><td>2025</td><td>3</td><td>MARCO</td><td>23</td><td>DOMINGO</td><td>1</td></tr><tr><td>2025-03-24</td><td>2025</td><td>3</td><td>MARCO</td><td>24</td><td>SEGUNDA-FEIRA</td><td>2</td></tr><tr><td>2025-03-25</td><td>2025</td><td>3</td><td>MARCO</td><td>25</td><td>TERCA-FEIRA</td><td>3</td></tr><tr><td>2025-03-26</td><td>2025</td><td>3</td><td>MARCO</td><td>26</td><td>QUARTA-FEIRA</td><td>4</td></tr><tr><td>2025-03-27</td><td>2025</td><td>3</td><td>MARCO</td><td>27</td><td>QUINTA-FEIRA</td><td>5</td></tr><tr><td>2025-03-28</td><td>2025</td><td>3</td><td>MARCO</td><td>28</td><td>SEXTA-FEIRA</td><td>6</td></tr><tr><td>2025-03-29</td><td>2025</td><td>3</td><td>MARCO</td><td>29</td><td>SABADO</td><td>7</td></tr><tr><td>2025-03-30</td><td>2025</td><td>3</td><td>MARCO</td><td>30</td><td>DOMINGO</td><td>1</td></tr><tr><td>2025-03-31</td><td>2025</td><td>3</td><td>MARCO</td><td>31</td><td>SEGUNDA-FEIRA</td><td>2</td></tr><tr><td>2025-04-01</td><td>2025</td><td>4</td><td>ABRIL</td><td>1</td><td>TERCA-FEIRA</td><td>3</td></tr><tr><td>2025-04-02</td><td>2025</td><td>4</td><td>ABRIL</td><td>2</td><td>QUARTA-FEIRA</td><td>4</td></tr><tr><td>2025-04-03</td><td>2025</td><td>4</td><td>ABRIL</td><td>3</td><td>QUINTA-FEIRA</td><td>5</td></tr><tr><td>2025-04-04</td><td>2025</td><td>4</td><td>ABRIL</td><td>4</td><td>SEXTA-FEIRA</td><td>6</td></tr><tr><td>2025-04-05</td><td>2025</td><td>4</td><td>ABRIL</td><td>5</td><td>SABADO</td><td>7</td></tr><tr><td>2025-04-06</td><td>2025</td><td>4</td><td>ABRIL</td><td>6</td><td>DOMINGO</td><td>1</td></tr><tr><td>2025-04-07</td><td>2025</td><td>4</td><td>ABRIL</td><td>7</td><td>SEGUNDA-FEIRA</td><td>2</td></tr><tr><td>2025-04-08</td><td>2025</td><td>4</td><td>ABRIL</td><td>8</td><td>TERCA-FEIRA</td><td>3</td></tr><tr><td>2025-04-09</td><td>2025</td><td>4</td><td>ABRIL</td><td>9</td><td>QUARTA-FEIRA</td><td>4</td></tr><tr><td>2025-04-10</td><td>2025</td><td>4</td><td>ABRIL</td><td>10</td><td>QUINTA-FEIRA</td><td>5</td></tr><tr><td>2025-04-11</td><td>2025</td><td>4</td><td>ABRIL</td><td>11</td><td>SEXTA-FEIRA</td><td>6</td></tr><tr><td>2025-04-12</td><td>2025</td><td>4</td><td>ABRIL</td><td>12</td><td>SABADO</td><td>7</td></tr><tr><td>2025-04-13</td><td>2025</td><td>4</td><td>ABRIL</td><td>13</td><td>DOMINGO</td><td>1</td></tr><tr><td>2025-04-14</td><td>2025</td><td>4</td><td>ABRIL</td><td>14</td><td>SEGUNDA-FEIRA</td><td>2</td></tr><tr><td>2025-04-15</td><td>2025</td><td>4</td><td>ABRIL</td><td>15</td><td>TERCA-FEIRA</td><td>3</td></tr><tr><td>2025-04-16</td><td>2025</td><td>4</td><td>ABRIL</td><td>16</td><td>QUARTA-FEIRA</td><td>4</td></tr><tr><td>2025-04-17</td><td>2025</td><td>4</td><td>ABRIL</td><td>17</td><td>QUINTA-FEIRA</td><td>5</td></tr><tr><td>2025-04-18</td><td>2025</td><td>4</td><td>ABRIL</td><td>18</td><td>SEXTA-FEIRA</td><td>6</td></tr><tr><td>2025-04-19</td><td>2025</td><td>4</td><td>ABRIL</td><td>19</td><td>SABADO</td><td>7</td></tr><tr><td>2025-04-20</td><td>2025</td><td>4</td><td>ABRIL</td><td>20</td><td>DOMINGO</td><td>1</td></tr><tr><td>2025-04-21</td><td>2025</td><td>4</td><td>ABRIL</td><td>21</td><td>SEGUNDA-FEIRA</td><td>2</td></tr><tr><td>2025-04-22</td><td>2025</td><td>4</td><td>ABRIL</td><td>22</td><td>TERCA-FEIRA</td><td>3</td></tr><tr><td>2025-04-23</td><td>2025</td><td>4</td><td>ABRIL</td><td>23</td><td>QUARTA-FEIRA</td><td>4</td></tr><tr><td>2025-04-24</td><td>2025</td><td>4</td><td>ABRIL</td><td>24</td><td>QUINTA-FEIRA</td><td>5</td></tr><tr><td>2025-04-25</td><td>2025</td><td>4</td><td>ABRIL</td><td>25</td><td>SEXTA-FEIRA</td><td>6</td></tr><tr><td>2025-04-26</td><td>2025</td><td>4</td><td>ABRIL</td><td>26</td><td>SABADO</td><td>7</td></tr><tr><td>2025-04-27</td><td>2025</td><td>4</td><td>ABRIL</td><td>27</td><td>DOMINGO</td><td>1</td></tr><tr><td>2025-04-28</td><td>2025</td><td>4</td><td>ABRIL</td><td>28</td><td>SEGUNDA-FEIRA</td><td>2</td></tr><tr><td>2025-04-29</td><td>2025</td><td>4</td><td>ABRIL</td><td>29</td><td>TERCA-FEIRA</td><td>3</td></tr><tr><td>2025-04-30</td><td>2025</td><td>4</td><td>ABRIL</td><td>30</td><td>QUARTA-FEIRA</td><td>4</td></tr><tr><td>2025-05-01</td><td>2025</td><td>5</td><td>MAIO</td><td>1</td><td>QUINTA-FEIRA</td><td>5</td></tr><tr><td>2025-05-02</td><td>2025</td><td>5</td><td>MAIO</td><td>2</td><td>SEXTA-FEIRA</td><td>6</td></tr><tr><td>2025-05-03</td><td>2025</td><td>5</td><td>MAIO</td><td>3</td><td>SABADO</td><td>7</td></tr><tr><td>2025-05-04</td><td>2025</td><td>5</td><td>MAIO</td><td>4</td><td>DOMINGO</td><td>1</td></tr><tr><td>2025-05-05</td><td>2025</td><td>5</td><td>MAIO</td><td>5</td><td>SEGUNDA-FEIRA</td><td>2</td></tr><tr><td>2025-05-06</td><td>2025</td><td>5</td><td>MAIO</td><td>6</td><td>TERCA-FEIRA</td><td>3</td></tr><tr><td>2025-05-07</td><td>2025</td><td>5</td><td>MAIO</td><td>7</td><td>QUARTA-FEIRA</td><td>4</td></tr><tr><td>2025-05-08</td><td>2025</td><td>5</td><td>MAIO</td><td>8</td><td>QUINTA-FEIRA</td><td>5</td></tr><tr><td>2025-05-09</td><td>2025</td><td>5</td><td>MAIO</td><td>9</td><td>SEXTA-FEIRA</td><td>6</td></tr><tr><td>2025-05-10</td><td>2025</td><td>5</td><td>MAIO</td><td>10</td><td>SABADO</td><td>7</td></tr><tr><td>2025-05-11</td><td>2025</td><td>5</td><td>MAIO</td><td>11</td><td>DOMINGO</td><td>1</td></tr><tr><td>2025-05-12</td><td>2025</td><td>5</td><td>MAIO</td><td>12</td><td>SEGUNDA-FEIRA</td><td>2</td></tr><tr><td>2025-05-13</td><td>2025</td><td>5</td><td>MAIO</td><td>13</td><td>TERCA-FEIRA</td><td>3</td></tr><tr><td>2025-05-14</td><td>2025</td><td>5</td><td>MAIO</td><td>14</td><td>QUARTA-FEIRA</td><td>4</td></tr><tr><td>2025-05-15</td><td>2025</td><td>5</td><td>MAIO</td><td>15</td><td>QUINTA-FEIRA</td><td>5</td></tr><tr><td>2025-05-16</td><td>2025</td><td>5</td><td>MAIO</td><td>16</td><td>SEXTA-FEIRA</td><td>6</td></tr><tr><td>2025-05-17</td><td>2025</td><td>5</td><td>MAIO</td><td>17</td><td>SABADO</td><td>7</td></tr><tr><td>2025-05-18</td><td>2025</td><td>5</td><td>MAIO</td><td>18</td><td>DOMINGO</td><td>1</td></tr><tr><td>2025-05-19</td><td>2025</td><td>5</td><td>MAIO</td><td>19</td><td>SEGUNDA-FEIRA</td><td>2</td></tr><tr><td>2025-05-20</td><td>2025</td><td>5</td><td>MAIO</td><td>20</td><td>TERCA-FEIRA</td><td>3</td></tr><tr><td>2025-05-21</td><td>2025</td><td>5</td><td>MAIO</td><td>21</td><td>QUARTA-FEIRA</td><td>4</td></tr><tr><td>2025-05-22</td><td>2025</td><td>5</td><td>MAIO</td><td>22</td><td>QUINTA-FEIRA</td><td>5</td></tr><tr><td>2025-05-23</td><td>2025</td><td>5</td><td>MAIO</td><td>23</td><td>SEXTA-FEIRA</td><td>6</td></tr><tr><td>2025-05-24</td><td>2025</td><td>5</td><td>MAIO</td><td>24</td><td>SABADO</td><td>7</td></tr><tr><td>2025-05-25</td><td>2025</td><td>5</td><td>MAIO</td><td>25</td><td>DOMINGO</td><td>1</td></tr><tr><td>2025-05-26</td><td>2025</td><td>5</td><td>MAIO</td><td>26</td><td>SEGUNDA-FEIRA</td><td>2</td></tr><tr><td>2025-05-27</td><td>2025</td><td>5</td><td>MAIO</td><td>27</td><td>TERCA-FEIRA</td><td>3</td></tr><tr><td>2025-05-28</td><td>2025</td><td>5</td><td>MAIO</td><td>28</td><td>QUARTA-FEIRA</td><td>4</td></tr><tr><td>2025-05-29</td><td>2025</td><td>5</td><td>MAIO</td><td>29</td><td>QUINTA-FEIRA</td><td>5</td></tr><tr><td>2025-05-30</td><td>2025</td><td>5</td><td>MAIO</td><td>30</td><td>SEXTA-FEIRA</td><td>6</td></tr><tr><td>2025-05-31</td><td>2025</td><td>5</td><td>MAIO</td><td>31</td><td>SABADO</td><td>7</td></tr><tr><td>2025-06-01</td><td>2025</td><td>6</td><td>JUNHO</td><td>1</td><td>DOMINGO</td><td>1</td></tr><tr><td>2025-06-02</td><td>2025</td><td>6</td><td>JUNHO</td><td>2</td><td>SEGUNDA-FEIRA</td><td>2</td></tr><tr><td>2025-06-03</td><td>2025</td><td>6</td><td>JUNHO</td><td>3</td><td>TERCA-FEIRA</td><td>3</td></tr><tr><td>2025-06-04</td><td>2025</td><td>6</td><td>JUNHO</td><td>4</td><td>QUARTA-FEIRA</td><td>4</td></tr><tr><td>2025-06-05</td><td>2025</td><td>6</td><td>JUNHO</td><td>5</td><td>QUINTA-FEIRA</td><td>5</td></tr><tr><td>2025-06-06</td><td>2025</td><td>6</td><td>JUNHO</td><td>6</td><td>SEXTA-FEIRA</td><td>6</td></tr><tr><td>2025-06-07</td><td>2025</td><td>6</td><td>JUNHO</td><td>7</td><td>SABADO</td><td>7</td></tr><tr><td>2025-06-08</td><td>2025</td><td>6</td><td>JUNHO</td><td>8</td><td>DOMINGO</td><td>1</td></tr><tr><td>2025-06-09</td><td>2025</td><td>6</td><td>JUNHO</td><td>9</td><td>SEGUNDA-FEIRA</td><td>2</td></tr><tr><td>2025-06-10</td><td>2025</td><td>6</td><td>JUNHO</td><td>10</td><td>TERCA-FEIRA</td><td>3</td></tr><tr><td>2025-06-11</td><td>2025</td><td>6</td><td>JUNHO</td><td>11</td><td>QUARTA-FEIRA</td><td>4</td></tr><tr><td>2025-06-12</td><td>2025</td><td>6</td><td>JUNHO</td><td>12</td><td>QUINTA-FEIRA</td><td>5</td></tr><tr><td>2025-06-13</td><td>2025</td><td>6</td><td>JUNHO</td><td>13</td><td>SEXTA-FEIRA</td><td>6</td></tr><tr><td>2025-06-14</td><td>2025</td><td>6</td><td>JUNHO</td><td>14</td><td>SABADO</td><td>7</td></tr><tr><td>2025-06-15</td><td>2025</td><td>6</td><td>JUNHO</td><td>15</td><td>DOMINGO</td><td>1</td></tr><tr><td>2025-06-16</td><td>2025</td><td>6</td><td>JUNHO</td><td>16</td><td>SEGUNDA-FEIRA</td><td>2</td></tr><tr><td>2025-06-17</td><td>2025</td><td>6</td><td>JUNHO</td><td>17</td><td>TERCA-FEIRA</td><td>3</td></tr><tr><td>2025-06-18</td><td>2025</td><td>6</td><td>JUNHO</td><td>18</td><td>QUARTA-FEIRA</td><td>4</td></tr><tr><td>2025-06-19</td><td>2025</td><td>6</td><td>JUNHO</td><td>19</td><td>QUINTA-FEIRA</td><td>5</td></tr><tr><td>2025-06-20</td><td>2025</td><td>6</td><td>JUNHO</td><td>20</td><td>SEXTA-FEIRA</td><td>6</td></tr><tr><td>2025-06-21</td><td>2025</td><td>6</td><td>JUNHO</td><td>21</td><td>SABADO</td><td>7</td></tr><tr><td>2025-06-22</td><td>2025</td><td>6</td><td>JUNHO</td><td>22</td><td>DOMINGO</td><td>1</td></tr><tr><td>2025-06-23</td><td>2025</td><td>6</td><td>JUNHO</td><td>23</td><td>SEGUNDA-FEIRA</td><td>2</td></tr><tr><td>2025-06-24</td><td>2025</td><td>6</td><td>JUNHO</td><td>24</td><td>TERCA-FEIRA</td><td>3</td></tr><tr><td>2025-06-25</td><td>2025</td><td>6</td><td>JUNHO</td><td>25</td><td>QUARTA-FEIRA</td><td>4</td></tr><tr><td>2025-06-26</td><td>2025</td><td>6</td><td>JUNHO</td><td>26</td><td>QUINTA-FEIRA</td><td>5</td></tr><tr><td>2025-06-27</td><td>2025</td><td>6</td><td>JUNHO</td><td>27</td><td>SEXTA-FEIRA</td><td>6</td></tr><tr><td>2025-06-28</td><td>2025</td><td>6</td><td>JUNHO</td><td>28</td><td>SABADO</td><td>7</td></tr><tr><td>2025-06-29</td><td>2025</td><td>6</td><td>JUNHO</td><td>29</td><td>DOMINGO</td><td>1</td></tr><tr><td>2025-06-30</td><td>2025</td><td>6</td><td>JUNHO</td><td>30</td><td>SEGUNDA-FEIRA</td><td>2</td></tr><tr><td>2025-07-01</td><td>2025</td><td>7</td><td>JULHO</td><td>1</td><td>TERCA-FEIRA</td><td>3</td></tr><tr><td>2025-07-02</td><td>2025</td><td>7</td><td>JULHO</td><td>2</td><td>QUARTA-FEIRA</td><td>4</td></tr><tr><td>2025-07-03</td><td>2025</td><td>7</td><td>JULHO</td><td>3</td><td>QUINTA-FEIRA</td><td>5</td></tr><tr><td>2025-07-04</td><td>2025</td><td>7</td><td>JULHO</td><td>4</td><td>SEXTA-FEIRA</td><td>6</td></tr><tr><td>2025-07-05</td><td>2025</td><td>7</td><td>JULHO</td><td>5</td><td>SABADO</td><td>7</td></tr><tr><td>2025-07-06</td><td>2025</td><td>7</td><td>JULHO</td><td>6</td><td>DOMINGO</td><td>1</td></tr><tr><td>2025-07-07</td><td>2025</td><td>7</td><td>JULHO</td><td>7</td><td>SEGUNDA-FEIRA</td><td>2</td></tr><tr><td>2025-07-08</td><td>2025</td><td>7</td><td>JULHO</td><td>8</td><td>TERCA-FEIRA</td><td>3</td></tr><tr><td>2025-07-09</td><td>2025</td><td>7</td><td>JULHO</td><td>9</td><td>QUARTA-FEIRA</td><td>4</td></tr><tr><td>2025-07-10</td><td>2025</td><td>7</td><td>JULHO</td><td>10</td><td>QUINTA-FEIRA</td><td>5</td></tr><tr><td>2025-07-11</td><td>2025</td><td>7</td><td>JULHO</td><td>11</td><td>SEXTA-FEIRA</td><td>6</td></tr><tr><td>2025-07-12</td><td>2025</td><td>7</td><td>JULHO</td><td>12</td><td>SABADO</td><td>7</td></tr><tr><td>2025-07-13</td><td>2025</td><td>7</td><td>JULHO</td><td>13</td><td>DOMINGO</td><td>1</td></tr><tr><td>2025-07-14</td><td>2025</td><td>7</td><td>JULHO</td><td>14</td><td>SEGUNDA-FEIRA</td><td>2</td></tr><tr><td>2025-07-15</td><td>2025</td><td>7</td><td>JULHO</td><td>15</td><td>TERCA-FEIRA</td><td>3</td></tr><tr><td>2025-07-16</td><td>2025</td><td>7</td><td>JULHO</td><td>16</td><td>QUARTA-FEIRA</td><td>4</td></tr><tr><td>2025-07-17</td><td>2025</td><td>7</td><td>JULHO</td><td>17</td><td>QUINTA-FEIRA</td><td>5</td></tr><tr><td>2025-07-18</td><td>2025</td><td>7</td><td>JULHO</td><td>18</td><td>SEXTA-FEIRA</td><td>6</td></tr><tr><td>2025-07-19</td><td>2025</td><td>7</td><td>JULHO</td><td>19</td><td>SABADO</td><td>7</td></tr><tr><td>2025-07-20</td><td>2025</td><td>7</td><td>JULHO</td><td>20</td><td>DOMINGO</td><td>1</td></tr><tr><td>2025-07-21</td><td>2025</td><td>7</td><td>JULHO</td><td>21</td><td>SEGUNDA-FEIRA</td><td>2</td></tr><tr><td>2025-07-22</td><td>2025</td><td>7</td><td>JULHO</td><td>22</td><td>TERCA-FEIRA</td><td>3</td></tr><tr><td>2025-07-23</td><td>2025</td><td>7</td><td>JULHO</td><td>23</td><td>QUARTA-FEIRA</td><td>4</td></tr><tr><td>2025-07-24</td><td>2025</td><td>7</td><td>JULHO</td><td>24</td><td>QUINTA-FEIRA</td><td>5</td></tr><tr><td>2025-07-25</td><td>2025</td><td>7</td><td>JULHO</td><td>25</td><td>SEXTA-FEIRA</td><td>6</td></tr><tr><td>2025-07-26</td><td>2025</td><td>7</td><td>JULHO</td><td>26</td><td>SABADO</td><td>7</td></tr><tr><td>2025-07-27</td><td>2025</td><td>7</td><td>JULHO</td><td>27</td><td>DOMINGO</td><td>1</td></tr><tr><td>2025-07-28</td><td>2025</td><td>7</td><td>JULHO</td><td>28</td><td>SEGUNDA-FEIRA</td><td>2</td></tr><tr><td>2025-07-29</td><td>2025</td><td>7</td><td>JULHO</td><td>29</td><td>TERCA-FEIRA</td><td>3</td></tr><tr><td>2025-07-30</td><td>2025</td><td>7</td><td>JULHO</td><td>30</td><td>QUARTA-FEIRA</td><td>4</td></tr><tr><td>2025-07-31</td><td>2025</td><td>7</td><td>JULHO</td><td>31</td><td>QUINTA-FEIRA</td><td>5</td></tr><tr><td>2025-08-01</td><td>2025</td><td>8</td><td>AGOSTO</td><td>1</td><td>SEXTA-FEIRA</td><td>6</td></tr><tr><td>2025-08-02</td><td>2025</td><td>8</td><td>AGOSTO</td><td>2</td><td>SABADO</td><td>7</td></tr><tr><td>2025-08-03</td><td>2025</td><td>8</td><td>AGOSTO</td><td>3</td><td>DOMINGO</td><td>1</td></tr><tr><td>2025-08-04</td><td>2025</td><td>8</td><td>AGOSTO</td><td>4</td><td>SEGUNDA-FEIRA</td><td>2</td></tr><tr><td>2025-08-05</td><td>2025</td><td>8</td><td>AGOSTO</td><td>5</td><td>TERCA-FEIRA</td><td>3</td></tr><tr><td>2025-08-06</td><td>2025</td><td>8</td><td>AGOSTO</td><td>6</td><td>QUARTA-FEIRA</td><td>4</td></tr><tr><td>2025-08-07</td><td>2025</td><td>8</td><td>AGOSTO</td><td>7</td><td>QUINTA-FEIRA</td><td>5</td></tr><tr><td>2025-08-08</td><td>2025</td><td>8</td><td>AGOSTO</td><td>8</td><td>SEXTA-FEIRA</td><td>6</td></tr><tr><td>2025-08-09</td><td>2025</td><td>8</td><td>AGOSTO</td><td>9</td><td>SABADO</td><td>7</td></tr><tr><td>2025-08-10</td><td>2025</td><td>8</td><td>AGOSTO</td><td>10</td><td>DOMINGO</td><td>1</td></tr><tr><td>2025-08-11</td><td>2025</td><td>8</td><td>AGOSTO</td><td>11</td><td>SEGUNDA-FEIRA</td><td>2</td></tr><tr><td>2025-08-12</td><td>2025</td><td>8</td><td>AGOSTO</td><td>12</td><td>TERCA-FEIRA</td><td>3</td></tr><tr><td>2025-08-13</td><td>2025</td><td>8</td><td>AGOSTO</td><td>13</td><td>QUARTA-FEIRA</td><td>4</td></tr><tr><td>2025-08-14</td><td>2025</td><td>8</td><td>AGOSTO</td><td>14</td><td>QUINTA-FEIRA</td><td>5</td></tr><tr><td>2025-08-15</td><td>2025</td><td>8</td><td>AGOSTO</td><td>15</td><td>SEXTA-FEIRA</td><td>6</td></tr><tr><td>2025-08-16</td><td>2025</td><td>8</td><td>AGOSTO</td><td>16</td><td>SABADO</td><td>7</td></tr><tr><td>2025-08-17</td><td>2025</td><td>8</td><td>AGOSTO</td><td>17</td><td>DOMINGO</td><td>1</td></tr><tr><td>2025-08-18</td><td>2025</td><td>8</td><td>AGOSTO</td><td>18</td><td>SEGUNDA-FEIRA</td><td>2</td></tr><tr><td>2025-08-19</td><td>2025</td><td>8</td><td>AGOSTO</td><td>19</td><td>TERCA-FEIRA</td><td>3</td></tr><tr><td>2025-08-20</td><td>2025</td><td>8</td><td>AGOSTO</td><td>20</td><td>QUARTA-FEIRA</td><td>4</td></tr><tr><td>2025-08-21</td><td>2025</td><td>8</td><td>AGOSTO</td><td>21</td><td>QUINTA-FEIRA</td><td>5</td></tr><tr><td>2025-08-22</td><td>2025</td><td>8</td><td>AGOSTO</td><td>22</td><td>SEXTA-FEIRA</td><td>6</td></tr><tr><td>2025-08-23</td><td>2025</td><td>8</td><td>AGOSTO</td><td>23</td><td>SABADO</td><td>7</td></tr><tr><td>2025-08-24</td><td>2025</td><td>8</td><td>AGOSTO</td><td>24</td><td>DOMINGO</td><td>1</td></tr><tr><td>2025-08-25</td><td>2025</td><td>8</td><td>AGOSTO</td><td>25</td><td>SEGUNDA-FEIRA</td><td>2</td></tr><tr><td>2025-08-26</td><td>2025</td><td>8</td><td>AGOSTO</td><td>26</td><td>TERCA-FEIRA</td><td>3</td></tr><tr><td>2025-08-27</td><td>2025</td><td>8</td><td>AGOSTO</td><td>27</td><td>QUARTA-FEIRA</td><td>4</td></tr><tr><td>2025-08-28</td><td>2025</td><td>8</td><td>AGOSTO</td><td>28</td><td>QUINTA-FEIRA</td><td>5</td></tr><tr><td>2025-08-29</td><td>2025</td><td>8</td><td>AGOSTO</td><td>29</td><td>SEXTA-FEIRA</td><td>6</td></tr><tr><td>2025-08-30</td><td>2025</td><td>8</td><td>AGOSTO</td><td>30</td><td>SABADO</td><td>7</td></tr><tr><td>2025-08-31</td><td>2025</td><td>8</td><td>AGOSTO</td><td>31</td><td>DOMINGO</td><td>1</td></tr><tr><td>2025-09-01</td><td>2025</td><td>9</td><td>SETEMBRO</td><td>1</td><td>SEGUNDA-FEIRA</td><td>2</td></tr><tr><td>2025-09-02</td><td>2025</td><td>9</td><td>SETEMBRO</td><td>2</td><td>TERCA-FEIRA</td><td>3</td></tr><tr><td>2025-09-03</td><td>2025</td><td>9</td><td>SETEMBRO</td><td>3</td><td>QUARTA-FEIRA</td><td>4</td></tr><tr><td>2025-09-04</td><td>2025</td><td>9</td><td>SETEMBRO</td><td>4</td><td>QUINTA-FEIRA</td><td>5</td></tr><tr><td>2025-09-05</td><td>2025</td><td>9</td><td>SETEMBRO</td><td>5</td><td>SEXTA-FEIRA</td><td>6</td></tr><tr><td>2025-09-06</td><td>2025</td><td>9</td><td>SETEMBRO</td><td>6</td><td>SABADO</td><td>7</td></tr><tr><td>2025-09-07</td><td>2025</td><td>9</td><td>SETEMBRO</td><td>7</td><td>DOMINGO</td><td>1</td></tr><tr><td>2025-09-08</td><td>2025</td><td>9</td><td>SETEMBRO</td><td>8</td><td>SEGUNDA-FEIRA</td><td>2</td></tr><tr><td>2025-09-09</td><td>2025</td><td>9</td><td>SETEMBRO</td><td>9</td><td>TERCA-FEIRA</td><td>3</td></tr><tr><td>2025-09-10</td><td>2025</td><td>9</td><td>SETEMBRO</td><td>10</td><td>QUARTA-FEIRA</td><td>4</td></tr><tr><td>2025-09-11</td><td>2025</td><td>9</td><td>SETEMBRO</td><td>11</td><td>QUINTA-FEIRA</td><td>5</td></tr><tr><td>2025-09-12</td><td>2025</td><td>9</td><td>SETEMBRO</td><td>12</td><td>SEXTA-FEIRA</td><td>6</td></tr><tr><td>2025-09-13</td><td>2025</td><td>9</td><td>SETEMBRO</td><td>13</td><td>SABADO</td><td>7</td></tr><tr><td>2025-09-14</td><td>2025</td><td>9</td><td>SETEMBRO</td><td>14</td><td>DOMINGO</td><td>1</td></tr><tr><td>2025-09-15</td><td>2025</td><td>9</td><td>SETEMBRO</td><td>15</td><td>SEGUNDA-FEIRA</td><td>2</td></tr><tr><td>2025-09-16</td><td>2025</td><td>9</td><td>SETEMBRO</td><td>16</td><td>TERCA-FEIRA</td><td>3</td></tr><tr><td>2025-09-17</td><td>2025</td><td>9</td><td>SETEMBRO</td><td>17</td><td>QUARTA-FEIRA</td><td>4</td></tr><tr><td>2025-09-18</td><td>2025</td><td>9</td><td>SETEMBRO</td><td>18</td><td>QUINTA-FEIRA</td><td>5</td></tr><tr><td>2025-09-19</td><td>2025</td><td>9</td><td>SETEMBRO</td><td>19</td><td>SEXTA-FEIRA</td><td>6</td></tr><tr><td>2025-09-20</td><td>2025</td><td>9</td><td>SETEMBRO</td><td>20</td><td>SABADO</td><td>7</td></tr><tr><td>2025-09-21</td><td>2025</td><td>9</td><td>SETEMBRO</td><td>21</td><td>DOMINGO</td><td>1</td></tr><tr><td>2025-09-22</td><td>2025</td><td>9</td><td>SETEMBRO</td><td>22</td><td>SEGUNDA-FEIRA</td><td>2</td></tr><tr><td>2025-09-23</td><td>2025</td><td>9</td><td>SETEMBRO</td><td>23</td><td>TERCA-FEIRA</td><td>3</td></tr><tr><td>2025-09-24</td><td>2025</td><td>9</td><td>SETEMBRO</td><td>24</td><td>QUARTA-FEIRA</td><td>4</td></tr><tr><td>2025-09-25</td><td>2025</td><td>9</td><td>SETEMBRO</td><td>25</td><td>QUINTA-FEIRA</td><td>5</td></tr><tr><td>2025-09-26</td><td>2025</td><td>9</td><td>SETEMBRO</td><td>26</td><td>SEXTA-FEIRA</td><td>6</td></tr><tr><td>2025-09-27</td><td>2025</td><td>9</td><td>SETEMBRO</td><td>27</td><td>SABADO</td><td>7</td></tr><tr><td>2025-09-28</td><td>2025</td><td>9</td><td>SETEMBRO</td><td>28</td><td>DOMINGO</td><td>1</td></tr><tr><td>2025-09-29</td><td>2025</td><td>9</td><td>SETEMBRO</td><td>29</td><td>SEGUNDA-FEIRA</td><td>2</td></tr><tr><td>2025-09-30</td><td>2025</td><td>9</td><td>SETEMBRO</td><td>30</td><td>TERCA-FEIRA</td><td>3</td></tr><tr><td>2025-10-01</td><td>2025</td><td>10</td><td>OUTUBRO</td><td>1</td><td>QUARTA-FEIRA</td><td>4</td></tr><tr><td>2025-10-02</td><td>2025</td><td>10</td><td>OUTUBRO</td><td>2</td><td>QUINTA-FEIRA</td><td>5</td></tr><tr><td>2025-10-03</td><td>2025</td><td>10</td><td>OUTUBRO</td><td>3</td><td>SEXTA-FEIRA</td><td>6</td></tr><tr><td>2025-10-04</td><td>2025</td><td>10</td><td>OUTUBRO</td><td>4</td><td>SABADO</td><td>7</td></tr><tr><td>2025-10-05</td><td>2025</td><td>10</td><td>OUTUBRO</td><td>5</td><td>DOMINGO</td><td>1</td></tr><tr><td>2025-10-06</td><td>2025</td><td>10</td><td>OUTUBRO</td><td>6</td><td>SEGUNDA-FEIRA</td><td>2</td></tr><tr><td>2025-10-07</td><td>2025</td><td>10</td><td>OUTUBRO</td><td>7</td><td>TERCA-FEIRA</td><td>3</td></tr><tr><td>2025-10-08</td><td>2025</td><td>10</td><td>OUTUBRO</td><td>8</td><td>QUARTA-FEIRA</td><td>4</td></tr><tr><td>2025-10-09</td><td>2025</td><td>10</td><td>OUTUBRO</td><td>9</td><td>QUINTA-FEIRA</td><td>5</td></tr><tr><td>2025-10-10</td><td>2025</td><td>10</td><td>OUTUBRO</td><td>10</td><td>SEXTA-FEIRA</td><td>6</td></tr><tr><td>2025-10-11</td><td>2025</td><td>10</td><td>OUTUBRO</td><td>11</td><td>SABADO</td><td>7</td></tr><tr><td>2025-10-12</td><td>2025</td><td>10</td><td>OUTUBRO</td><td>12</td><td>DOMINGO</td><td>1</td></tr><tr><td>2025-10-13</td><td>2025</td><td>10</td><td>OUTUBRO</td><td>13</td><td>SEGUNDA-FEIRA</td><td>2</td></tr><tr><td>2025-10-14</td><td>2025</td><td>10</td><td>OUTUBRO</td><td>14</td><td>TERCA-FEIRA</td><td>3</td></tr><tr><td>2025-10-15</td><td>2025</td><td>10</td><td>OUTUBRO</td><td>15</td><td>QUARTA-FEIRA</td><td>4</td></tr><tr><td>2025-10-16</td><td>2025</td><td>10</td><td>OUTUBRO</td><td>16</td><td>QUINTA-FEIRA</td><td>5</td></tr><tr><td>2025-10-17</td><td>2025</td><td>10</td><td>OUTUBRO</td><td>17</td><td>SEXTA-FEIRA</td><td>6</td></tr><tr><td>2025-10-18</td><td>2025</td><td>10</td><td>OUTUBRO</td><td>18</td><td>SABADO</td><td>7</td></tr><tr><td>2025-10-19</td><td>2025</td><td>10</td><td>OUTUBRO</td><td>19</td><td>DOMINGO</td><td>1</td></tr><tr><td>2025-10-20</td><td>2025</td><td>10</td><td>OUTUBRO</td><td>20</td><td>SEGUNDA-FEIRA</td><td>2</td></tr><tr><td>2025-10-21</td><td>2025</td><td>10</td><td>OUTUBRO</td><td>21</td><td>TERCA-FEIRA</td><td>3</td></tr><tr><td>2025-10-22</td><td>2025</td><td>10</td><td>OUTUBRO</td><td>22</td><td>QUARTA-FEIRA</td><td>4</td></tr><tr><td>2025-10-23</td><td>2025</td><td>10</td><td>OUTUBRO</td><td>23</td><td>QUINTA-FEIRA</td><td>5</td></tr><tr><td>2025-10-24</td><td>2025</td><td>10</td><td>OUTUBRO</td><td>24</td><td>SEXTA-FEIRA</td><td>6</td></tr><tr><td>2025-10-25</td><td>2025</td><td>10</td><td>OUTUBRO</td><td>25</td><td>SABADO</td><td>7</td></tr><tr><td>2025-10-26</td><td>2025</td><td>10</td><td>OUTUBRO</td><td>26</td><td>DOMINGO</td><td>1</td></tr><tr><td>2025-10-27</td><td>2025</td><td>10</td><td>OUTUBRO</td><td>27</td><td>SEGUNDA-FEIRA</td><td>2</td></tr><tr><td>2025-10-28</td><td>2025</td><td>10</td><td>OUTUBRO</td><td>28</td><td>TERCA-FEIRA</td><td>3</td></tr><tr><td>2025-10-29</td><td>2025</td><td>10</td><td>OUTUBRO</td><td>29</td><td>QUARTA-FEIRA</td><td>4</td></tr><tr><td>2025-10-30</td><td>2025</td><td>10</td><td>OUTUBRO</td><td>30</td><td>QUINTA-FEIRA</td><td>5</td></tr><tr><td>2025-10-31</td><td>2025</td><td>10</td><td>OUTUBRO</td><td>31</td><td>SEXTA-FEIRA</td><td>6</td></tr><tr><td>2025-11-01</td><td>2025</td><td>11</td><td>NOVEMBRO</td><td>1</td><td>SABADO</td><td>7</td></tr><tr><td>2025-11-02</td><td>2025</td><td>11</td><td>NOVEMBRO</td><td>2</td><td>DOMINGO</td><td>1</td></tr><tr><td>2025-11-03</td><td>2025</td><td>11</td><td>NOVEMBRO</td><td>3</td><td>SEGUNDA-FEIRA</td><td>2</td></tr><tr><td>2025-11-04</td><td>2025</td><td>11</td><td>NOVEMBRO</td><td>4</td><td>TERCA-FEIRA</td><td>3</td></tr><tr><td>2025-11-05</td><td>2025</td><td>11</td><td>NOVEMBRO</td><td>5</td><td>QUARTA-FEIRA</td><td>4</td></tr><tr><td>2025-11-06</td><td>2025</td><td>11</td><td>NOVEMBRO</td><td>6</td><td>QUINTA-FEIRA</td><td>5</td></tr><tr><td>2025-11-07</td><td>2025</td><td>11</td><td>NOVEMBRO</td><td>7</td><td>SEXTA-FEIRA</td><td>6</td></tr><tr><td>2025-11-08</td><td>2025</td><td>11</td><td>NOVEMBRO</td><td>8</td><td>SABADO</td><td>7</td></tr><tr><td>2025-11-09</td><td>2025</td><td>11</td><td>NOVEMBRO</td><td>9</td><td>DOMINGO</td><td>1</td></tr><tr><td>2025-11-10</td><td>2025</td><td>11</td><td>NOVEMBRO</td><td>10</td><td>SEGUNDA-FEIRA</td><td>2</td></tr><tr><td>2025-11-11</td><td>2025</td><td>11</td><td>NOVEMBRO</td><td>11</td><td>TERCA-FEIRA</td><td>3</td></tr><tr><td>2025-11-12</td><td>2025</td><td>11</td><td>NOVEMBRO</td><td>12</td><td>QUARTA-FEIRA</td><td>4</td></tr><tr><td>2025-11-13</td><td>2025</td><td>11</td><td>NOVEMBRO</td><td>13</td><td>QUINTA-FEIRA</td><td>5</td></tr><tr><td>2025-11-14</td><td>2025</td><td>11</td><td>NOVEMBRO</td><td>14</td><td>SEXTA-FEIRA</td><td>6</td></tr><tr><td>2025-11-15</td><td>2025</td><td>11</td><td>NOVEMBRO</td><td>15</td><td>SABADO</td><td>7</td></tr><tr><td>2025-11-16</td><td>2025</td><td>11</td><td>NOVEMBRO</td><td>16</td><td>DOMINGO</td><td>1</td></tr><tr><td>2025-11-17</td><td>2025</td><td>11</td><td>NOVEMBRO</td><td>17</td><td>SEGUNDA-FEIRA</td><td>2</td></tr><tr><td>2025-11-18</td><td>2025</td><td>11</td><td>NOVEMBRO</td><td>18</td><td>TERCA-FEIRA</td><td>3</td></tr><tr><td>2025-11-19</td><td>2025</td><td>11</td><td>NOVEMBRO</td><td>19</td><td>QUARTA-FEIRA</td><td>4</td></tr><tr><td>2025-11-20</td><td>2025</td><td>11</td><td>NOVEMBRO</td><td>20</td><td>QUINTA-FEIRA</td><td>5</td></tr><tr><td>2025-11-21</td><td>2025</td><td>11</td><td>NOVEMBRO</td><td>21</td><td>SEXTA-FEIRA</td><td>6</td></tr><tr><td>2025-11-22</td><td>2025</td><td>11</td><td>NOVEMBRO</td><td>22</td><td>SABADO</td><td>7</td></tr><tr><td>2025-11-23</td><td>2025</td><td>11</td><td>NOVEMBRO</td><td>23</td><td>DOMINGO</td><td>1</td></tr><tr><td>2025-11-24</td><td>2025</td><td>11</td><td>NOVEMBRO</td><td>24</td><td>SEGUNDA-FEIRA</td><td>2</td></tr><tr><td>2025-11-25</td><td>2025</td><td>11</td><td>NOVEMBRO</td><td>25</td><td>TERCA-FEIRA</td><td>3</td></tr><tr><td>2025-11-26</td><td>2025</td><td>11</td><td>NOVEMBRO</td><td>26</td><td>QUARTA-FEIRA</td><td>4</td></tr><tr><td>2025-11-27</td><td>2025</td><td>11</td><td>NOVEMBRO</td><td>27</td><td>QUINTA-FEIRA</td><td>5</td></tr><tr><td>2025-11-28</td><td>2025</td><td>11</td><td>NOVEMBRO</td><td>28</td><td>SEXTA-FEIRA</td><td>6</td></tr><tr><td>2025-11-29</td><td>2025</td><td>11</td><td>NOVEMBRO</td><td>29</td><td>SABADO</td><td>7</td></tr><tr><td>2025-11-30</td><td>2025</td><td>11</td><td>NOVEMBRO</td><td>30</td><td>DOMINGO</td><td>1</td></tr><tr><td>2025-12-01</td><td>2025</td><td>12</td><td>DEZEMBRO</td><td>1</td><td>SEGUNDA-FEIRA</td><td>2</td></tr><tr><td>2025-12-02</td><td>2025</td><td>12</td><td>DEZEMBRO</td><td>2</td><td>TERCA-FEIRA</td><td>3</td></tr><tr><td>2025-12-03</td><td>2025</td><td>12</td><td>DEZEMBRO</td><td>3</td><td>QUARTA-FEIRA</td><td>4</td></tr><tr><td>2025-12-04</td><td>2025</td><td>12</td><td>DEZEMBRO</td><td>4</td><td>QUINTA-FEIRA</td><td>5</td></tr><tr><td>2025-12-05</td><td>2025</td><td>12</td><td>DEZEMBRO</td><td>5</td><td>SEXTA-FEIRA</td><td>6</td></tr><tr><td>2025-12-06</td><td>2025</td><td>12</td><td>DEZEMBRO</td><td>6</td><td>SABADO</td><td>7</td></tr><tr><td>2025-12-07</td><td>2025</td><td>12</td><td>DEZEMBRO</td><td>7</td><td>DOMINGO</td><td>1</td></tr><tr><td>2025-12-08</td><td>2025</td><td>12</td><td>DEZEMBRO</td><td>8</td><td>SEGUNDA-FEIRA</td><td>2</td></tr><tr><td>2025-12-09</td><td>2025</td><td>12</td><td>DEZEMBRO</td><td>9</td><td>TERCA-FEIRA</td><td>3</td></tr><tr><td>2025-12-10</td><td>2025</td><td>12</td><td>DEZEMBRO</td><td>10</td><td>QUARTA-FEIRA</td><td>4</td></tr><tr><td>2025-12-11</td><td>2025</td><td>12</td><td>DEZEMBRO</td><td>11</td><td>QUINTA-FEIRA</td><td>5</td></tr><tr><td>2025-12-12</td><td>2025</td><td>12</td><td>DEZEMBRO</td><td>12</td><td>SEXTA-FEIRA</td><td>6</td></tr><tr><td>2025-12-13</td><td>2025</td><td>12</td><td>DEZEMBRO</td><td>13</td><td>SABADO</td><td>7</td></tr><tr><td>2025-12-14</td><td>2025</td><td>12</td><td>DEZEMBRO</td><td>14</td><td>DOMINGO</td><td>1</td></tr><tr><td>2025-12-15</td><td>2025</td><td>12</td><td>DEZEMBRO</td><td>15</td><td>SEGUNDA-FEIRA</td><td>2</td></tr><tr><td>2025-12-16</td><td>2025</td><td>12</td><td>DEZEMBRO</td><td>16</td><td>TERCA-FEIRA</td><td>3</td></tr><tr><td>2025-12-17</td><td>2025</td><td>12</td><td>DEZEMBRO</td><td>17</td><td>QUARTA-FEIRA</td><td>4</td></tr><tr><td>2025-12-18</td><td>2025</td><td>12</td><td>DEZEMBRO</td><td>18</td><td>QUINTA-FEIRA</td><td>5</td></tr><tr><td>2025-12-19</td><td>2025</td><td>12</td><td>DEZEMBRO</td><td>19</td><td>SEXTA-FEIRA</td><td>6</td></tr><tr><td>2025-12-20</td><td>2025</td><td>12</td><td>DEZEMBRO</td><td>20</td><td>SABADO</td><td>7</td></tr><tr><td>2025-12-21</td><td>2025</td><td>12</td><td>DEZEMBRO</td><td>21</td><td>DOMINGO</td><td>1</td></tr><tr><td>2025-12-22</td><td>2025</td><td>12</td><td>DEZEMBRO</td><td>22</td><td>SEGUNDA-FEIRA</td><td>2</td></tr><tr><td>2025-12-23</td><td>2025</td><td>12</td><td>DEZEMBRO</td><td>23</td><td>TERCA-FEIRA</td><td>3</td></tr><tr><td>2025-12-24</td><td>2025</td><td>12</td><td>DEZEMBRO</td><td>24</td><td>QUARTA-FEIRA</td><td>4</td></tr><tr><td>2025-12-25</td><td>2025</td><td>12</td><td>DEZEMBRO</td><td>25</td><td>QUINTA-FEIRA</td><td>5</td></tr><tr><td>2025-12-26</td><td>2025</td><td>12</td><td>DEZEMBRO</td><td>26</td><td>SEXTA-FEIRA</td><td>6</td></tr><tr><td>2025-12-27</td><td>2025</td><td>12</td><td>DEZEMBRO</td><td>27</td><td>SABADO</td><td>7</td></tr><tr><td>2025-12-28</td><td>2025</td><td>12</td><td>DEZEMBRO</td><td>28</td><td>DOMINGO</td><td>1</td></tr><tr><td>2025-12-29</td><td>2025</td><td>12</td><td>DEZEMBRO</td><td>29</td><td>SEGUNDA-FEIRA</td><td>2</td></tr><tr><td>2025-12-30</td><td>2025</td><td>12</td><td>DEZEMBRO</td><td>30</td><td>TERCA-FEIRA</td><td>3</td></tr><tr><td>2025-12-31</td><td>2025</td><td>12</td><td>DEZEMBRO</td><td>31</td><td>QUARTA-FEIRA</td><td>4</td></tr><tr><td>2026-01-01</td><td>2026</td><td>1</td><td>JANEIRO</td><td>1</td><td>QUINTA-FEIRA</td><td>5</td></tr><tr><td>2026-01-02</td><td>2026</td><td>1</td><td>JANEIRO</td><td>2</td><td>SEXTA-FEIRA</td><td>6</td></tr><tr><td>2026-01-03</td><td>2026</td><td>1</td><td>JANEIRO</td><td>3</td><td>SABADO</td><td>7</td></tr><tr><td>2026-01-04</td><td>2026</td><td>1</td><td>JANEIRO</td><td>4</td><td>DOMINGO</td><td>1</td></tr><tr><td>2026-01-05</td><td>2026</td><td>1</td><td>JANEIRO</td><td>5</td><td>SEGUNDA-FEIRA</td><td>2</td></tr><tr><td>2026-01-06</td><td>2026</td><td>1</td><td>JANEIRO</td><td>6</td><td>TERCA-FEIRA</td><td>3</td></tr><tr><td>2026-01-07</td><td>2026</td><td>1</td><td>JANEIRO</td><td>7</td><td>QUARTA-FEIRA</td><td>4</td></tr><tr><td>2026-01-08</td><td>2026</td><td>1</td><td>JANEIRO</td><td>8</td><td>QUINTA-FEIRA</td><td>5</td></tr><tr><td>2026-01-09</td><td>2026</td><td>1</td><td>JANEIRO</td><td>9</td><td>SEXTA-FEIRA</td><td>6</td></tr><tr><td>2026-01-10</td><td>2026</td><td>1</td><td>JANEIRO</td><td>10</td><td>SABADO</td><td>7</td></tr><tr><td>2026-01-11</td><td>2026</td><td>1</td><td>JANEIRO</td><td>11</td><td>DOMINGO</td><td>1</td></tr><tr><td>2026-01-12</td><td>2026</td><td>1</td><td>JANEIRO</td><td>12</td><td>SEGUNDA-FEIRA</td><td>2</td></tr><tr><td>2026-01-13</td><td>2026</td><td>1</td><td>JANEIRO</td><td>13</td><td>TERCA-FEIRA</td><td>3</td></tr><tr><td>2026-01-14</td><td>2026</td><td>1</td><td>JANEIRO</td><td>14</td><td>QUARTA-FEIRA</td><td>4</td></tr><tr><td>2026-01-15</td><td>2026</td><td>1</td><td>JANEIRO</td><td>15</td><td>QUINTA-FEIRA</td><td>5</td></tr><tr><td>2026-01-16</td><td>2026</td><td>1</td><td>JANEIRO</td><td>16</td><td>SEXTA-FEIRA</td><td>6</td></tr><tr><td>2026-01-17</td><td>2026</td><td>1</td><td>JANEIRO</td><td>17</td><td>SABADO</td><td>7</td></tr><tr><td>2026-01-18</td><td>2026</td><td>1</td><td>JANEIRO</td><td>18</td><td>DOMINGO</td><td>1</td></tr><tr><td>2026-01-19</td><td>2026</td><td>1</td><td>JANEIRO</td><td>19</td><td>SEGUNDA-FEIRA</td><td>2</td></tr><tr><td>2026-01-20</td><td>2026</td><td>1</td><td>JANEIRO</td><td>20</td><td>TERCA-FEIRA</td><td>3</td></tr><tr><td>2026-01-21</td><td>2026</td><td>1</td><td>JANEIRO</td><td>21</td><td>QUARTA-FEIRA</td><td>4</td></tr><tr><td>2026-01-22</td><td>2026</td><td>1</td><td>JANEIRO</td><td>22</td><td>QUINTA-FEIRA</td><td>5</td></tr><tr><td>2026-01-23</td><td>2026</td><td>1</td><td>JANEIRO</td><td>23</td><td>SEXTA-FEIRA</td><td>6</td></tr><tr><td>2026-01-24</td><td>2026</td><td>1</td><td>JANEIRO</td><td>24</td><td>SABADO</td><td>7</td></tr><tr><td>2026-01-25</td><td>2026</td><td>1</td><td>JANEIRO</td><td>25</td><td>DOMINGO</td><td>1</td></tr><tr><td>2026-01-26</td><td>2026</td><td>1</td><td>JANEIRO</td><td>26</td><td>SEGUNDA-FEIRA</td><td>2</td></tr><tr><td>2026-01-27</td><td>2026</td><td>1</td><td>JANEIRO</td><td>27</td><td>TERCA-FEIRA</td><td>3</td></tr><tr><td>2026-01-28</td><td>2026</td><td>1</td><td>JANEIRO</td><td>28</td><td>QUARTA-FEIRA</td><td>4</td></tr><tr><td>2026-01-29</td><td>2026</td><td>1</td><td>JANEIRO</td><td>29</td><td>QUINTA-FEIRA</td><td>5</td></tr><tr><td>2026-01-30</td><td>2026</td><td>1</td><td>JANEIRO</td><td>30</td><td>SEXTA-FEIRA</td><td>6</td></tr><tr><td>2026-01-31</td><td>2026</td><td>1</td><td>JANEIRO</td><td>31</td><td>SABADO</td><td>7</td></tr><tr><td>2026-02-01</td><td>2026</td><td>2</td><td>FEVEREIRO</td><td>1</td><td>DOMINGO</td><td>1</td></tr><tr><td>2026-02-02</td><td>2026</td><td>2</td><td>FEVEREIRO</td><td>2</td><td>SEGUNDA-FEIRA</td><td>2</td></tr><tr><td>2026-02-03</td><td>2026</td><td>2</td><td>FEVEREIRO</td><td>3</td><td>TERCA-FEIRA</td><td>3</td></tr><tr><td>2026-02-04</td><td>2026</td><td>2</td><td>FEVEREIRO</td><td>4</td><td>QUARTA-FEIRA</td><td>4</td></tr><tr><td>2026-02-05</td><td>2026</td><td>2</td><td>FEVEREIRO</td><td>5</td><td>QUINTA-FEIRA</td><td>5</td></tr><tr><td>2026-02-06</td><td>2026</td><td>2</td><td>FEVEREIRO</td><td>6</td><td>SEXTA-FEIRA</td><td>6</td></tr><tr><td>2026-02-07</td><td>2026</td><td>2</td><td>FEVEREIRO</td><td>7</td><td>SABADO</td><td>7</td></tr><tr><td>2026-02-08</td><td>2026</td><td>2</td><td>FEVEREIRO</td><td>8</td><td>DOMINGO</td><td>1</td></tr><tr><td>2026-02-09</td><td>2026</td><td>2</td><td>FEVEREIRO</td><td>9</td><td>SEGUNDA-FEIRA</td><td>2</td></tr><tr><td>2026-02-10</td><td>2026</td><td>2</td><td>FEVEREIRO</td><td>10</td><td>TERCA-FEIRA</td><td>3</td></tr><tr><td>2026-02-11</td><td>2026</td><td>2</td><td>FEVEREIRO</td><td>11</td><td>QUARTA-FEIRA</td><td>4</td></tr><tr><td>2026-02-12</td><td>2026</td><td>2</td><td>FEVEREIRO</td><td>12</td><td>QUINTA-FEIRA</td><td>5</td></tr><tr><td>2026-02-13</td><td>2026</td><td>2</td><td>FEVEREIRO</td><td>13</td><td>SEXTA-FEIRA</td><td>6</td></tr><tr><td>2026-02-14</td><td>2026</td><td>2</td><td>FEVEREIRO</td><td>14</td><td>SABADO</td><td>7</td></tr><tr><td>2026-02-15</td><td>2026</td><td>2</td><td>FEVEREIRO</td><td>15</td><td>DOMINGO</td><td>1</td></tr><tr><td>2026-02-16</td><td>2026</td><td>2</td><td>FEVEREIRO</td><td>16</td><td>SEGUNDA-FEIRA</td><td>2</td></tr><tr><td>2026-02-17</td><td>2026</td><td>2</td><td>FEVEREIRO</td><td>17</td><td>TERCA-FEIRA</td><td>3</td></tr><tr><td>2026-02-18</td><td>2026</td><td>2</td><td>FEVEREIRO</td><td>18</td><td>QUARTA-FEIRA</td><td>4</td></tr><tr><td>2026-02-19</td><td>2026</td><td>2</td><td>FEVEREIRO</td><td>19</td><td>QUINTA-FEIRA</td><td>5</td></tr><tr><td>2026-02-20</td><td>2026</td><td>2</td><td>FEVEREIRO</td><td>20</td><td>SEXTA-FEIRA</td><td>6</td></tr><tr><td>2026-02-21</td><td>2026</td><td>2</td><td>FEVEREIRO</td><td>21</td><td>SABADO</td><td>7</td></tr><tr><td>2026-02-22</td><td>2026</td><td>2</td><td>FEVEREIRO</td><td>22</td><td>DOMINGO</td><td>1</td></tr><tr><td>2026-02-23</td><td>2026</td><td>2</td><td>FEVEREIRO</td><td>23</td><td>SEGUNDA-FEIRA</td><td>2</td></tr><tr><td>2026-02-24</td><td>2026</td><td>2</td><td>FEVEREIRO</td><td>24</td><td>TERCA-FEIRA</td><td>3</td></tr><tr><td>2026-02-25</td><td>2026</td><td>2</td><td>FEVEREIRO</td><td>25</td><td>QUARTA-FEIRA</td><td>4</td></tr><tr><td>2026-02-26</td><td>2026</td><td>2</td><td>FEVEREIRO</td><td>26</td><td>QUINTA-FEIRA</td><td>5</td></tr><tr><td>2026-02-27</td><td>2026</td><td>2</td><td>FEVEREIRO</td><td>27</td><td>SEXTA-FEIRA</td><td>6</td></tr><tr><td>2026-02-28</td><td>2026</td><td>2</td><td>FEVEREIRO</td><td>28</td><td>SABADO</td><td>7</td></tr><tr><td>2026-03-01</td><td>2026</td><td>3</td><td>MARCO</td><td>1</td><td>DOMINGO</td><td>1</td></tr><tr><td>2026-03-02</td><td>2026</td><td>3</td><td>MARCO</td><td>2</td><td>SEGUNDA-FEIRA</td><td>2</td></tr><tr><td>2026-03-03</td><td>2026</td><td>3</td><td>MARCO</td><td>3</td><td>TERCA-FEIRA</td><td>3</td></tr><tr><td>2026-03-04</td><td>2026</td><td>3</td><td>MARCO</td><td>4</td><td>QUARTA-FEIRA</td><td>4</td></tr><tr><td>2026-03-05</td><td>2026</td><td>3</td><td>MARCO</td><td>5</td><td>QUINTA-FEIRA</td><td>5</td></tr><tr><td>2026-03-06</td><td>2026</td><td>3</td><td>MARCO</td><td>6</td><td>SEXTA-FEIRA</td><td>6</td></tr><tr><td>2026-03-07</td><td>2026</td><td>3</td><td>MARCO</td><td>7</td><td>SABADO</td><td>7</td></tr><tr><td>2026-03-08</td><td>2026</td><td>3</td><td>MARCO</td><td>8</td><td>DOMINGO</td><td>1</td></tr><tr><td>2026-03-09</td><td>2026</td><td>3</td><td>MARCO</td><td>9</td><td>SEGUNDA-FEIRA</td><td>2</td></tr><tr><td>2026-03-10</td><td>2026</td><td>3</td><td>MARCO</td><td>10</td><td>TERCA-FEIRA</td><td>3</td></tr><tr><td>2026-03-11</td><td>2026</td><td>3</td><td>MARCO</td><td>11</td><td>QUARTA-FEIRA</td><td>4</td></tr><tr><td>2026-03-12</td><td>2026</td><td>3</td><td>MARCO</td><td>12</td><td>QUINTA-FEIRA</td><td>5</td></tr><tr><td>2026-03-13</td><td>2026</td><td>3</td><td>MARCO</td><td>13</td><td>SEXTA-FEIRA</td><td>6</td></tr><tr><td>2026-03-14</td><td>2026</td><td>3</td><td>MARCO</td><td>14</td><td>SABADO</td><td>7</td></tr><tr><td>2026-03-15</td><td>2026</td><td>3</td><td>MARCO</td><td>15</td><td>DOMINGO</td><td>1</td></tr><tr><td>2026-03-16</td><td>2026</td><td>3</td><td>MARCO</td><td>16</td><td>SEGUNDA-FEIRA</td><td>2</td></tr><tr><td>2026-03-17</td><td>2026</td><td>3</td><td>MARCO</td><td>17</td><td>TERCA-FEIRA</td><td>3</td></tr><tr><td>2026-03-18</td><td>2026</td><td>3</td><td>MARCO</td><td>18</td><td>QUARTA-FEIRA</td><td>4</td></tr><tr><td>2026-03-19</td><td>2026</td><td>3</td><td>MARCO</td><td>19</td><td>QUINTA-FEIRA</td><td>5</td></tr><tr><td>2026-03-20</td><td>2026</td><td>3</td><td>MARCO</td><td>20</td><td>SEXTA-FEIRA</td><td>6</td></tr><tr><td>2026-03-21</td><td>2026</td><td>3</td><td>MARCO</td><td>21</td><td>SABADO</td><td>7</td></tr><tr><td>2026-03-22</td><td>2026</td><td>3</td><td>MARCO</td><td>22</td><td>DOMINGO</td><td>1</td></tr><tr><td>2026-03-23</td><td>2026</td><td>3</td><td>MARCO</td><td>23</td><td>SEGUNDA-FEIRA</td><td>2</td></tr><tr><td>2026-03-24</td><td>2026</td><td>3</td><td>MARCO</td><td>24</td><td>TERCA-FEIRA</td><td>3</td></tr><tr><td>2026-03-25</td><td>2026</td><td>3</td><td>MARCO</td><td>25</td><td>QUARTA-FEIRA</td><td>4</td></tr><tr><td>2026-03-26</td><td>2026</td><td>3</td><td>MARCO</td><td>26</td><td>QUINTA-FEIRA</td><td>5</td></tr><tr><td>2026-03-27</td><td>2026</td><td>3</td><td>MARCO</td><td>27</td><td>SEXTA-FEIRA</td><td>6</td></tr><tr><td>2026-03-28</td><td>2026</td><td>3</td><td>MARCO</td><td>28</td><td>SABADO</td><td>7</td></tr><tr><td>2026-03-29</td><td>2026</td><td>3</td><td>MARCO</td><td>29</td><td>DOMINGO</td><td>1</td></tr><tr><td>2026-03-30</td><td>2026</td><td>3</td><td>MARCO</td><td>30</td><td>SEGUNDA-FEIRA</td><td>2</td></tr><tr><td>2026-03-31</td><td>2026</td><td>3</td><td>MARCO</td><td>31</td><td>TERCA-FEIRA</td><td>3</td></tr><tr><td>2026-04-01</td><td>2026</td><td>4</td><td>ABRIL</td><td>1</td><td>QUARTA-FEIRA</td><td>4</td></tr><tr><td>2026-04-02</td><td>2026</td><td>4</td><td>ABRIL</td><td>2</td><td>QUINTA-FEIRA</td><td>5</td></tr><tr><td>2026-04-03</td><td>2026</td><td>4</td><td>ABRIL</td><td>3</td><td>SEXTA-FEIRA</td><td>6</td></tr><tr><td>2026-04-04</td><td>2026</td><td>4</td><td>ABRIL</td><td>4</td><td>SABADO</td><td>7</td></tr><tr><td>2026-04-05</td><td>2026</td><td>4</td><td>ABRIL</td><td>5</td><td>DOMINGO</td><td>1</td></tr><tr><td>2026-04-06</td><td>2026</td><td>4</td><td>ABRIL</td><td>6</td><td>SEGUNDA-FEIRA</td><td>2</td></tr><tr><td>2026-04-07</td><td>2026</td><td>4</td><td>ABRIL</td><td>7</td><td>TERCA-FEIRA</td><td>3</td></tr><tr><td>2026-04-08</td><td>2026</td><td>4</td><td>ABRIL</td><td>8</td><td>QUARTA-FEIRA</td><td>4</td></tr><tr><td>2026-04-09</td><td>2026</td><td>4</td><td>ABRIL</td><td>9</td><td>QUINTA-FEIRA</td><td>5</td></tr><tr><td>2026-04-10</td><td>2026</td><td>4</td><td>ABRIL</td><td>10</td><td>SEXTA-FEIRA</td><td>6</td></tr><tr><td>2026-04-11</td><td>2026</td><td>4</td><td>ABRIL</td><td>11</td><td>SABADO</td><td>7</td></tr><tr><td>2026-04-12</td><td>2026</td><td>4</td><td>ABRIL</td><td>12</td><td>DOMINGO</td><td>1</td></tr><tr><td>2026-04-13</td><td>2026</td><td>4</td><td>ABRIL</td><td>13</td><td>SEGUNDA-FEIRA</td><td>2</td></tr><tr><td>2026-04-14</td><td>2026</td><td>4</td><td>ABRIL</td><td>14</td><td>TERCA-FEIRA</td><td>3</td></tr><tr><td>2026-04-15</td><td>2026</td><td>4</td><td>ABRIL</td><td>15</td><td>QUARTA-FEIRA</td><td>4</td></tr><tr><td>2026-04-16</td><td>2026</td><td>4</td><td>ABRIL</td><td>16</td><td>QUINTA-FEIRA</td><td>5</td></tr><tr><td>2026-04-17</td><td>2026</td><td>4</td><td>ABRIL</td><td>17</td><td>SEXTA-FEIRA</td><td>6</td></tr><tr><td>2026-04-18</td><td>2026</td><td>4</td><td>ABRIL</td><td>18</td><td>SABADO</td><td>7</td></tr><tr><td>2026-04-19</td><td>2026</td><td>4</td><td>ABRIL</td><td>19</td><td>DOMINGO</td><td>1</td></tr><tr><td>2026-04-20</td><td>2026</td><td>4</td><td>ABRIL</td><td>20</td><td>SEGUNDA-FEIRA</td><td>2</td></tr><tr><td>2026-04-21</td><td>2026</td><td>4</td><td>ABRIL</td><td>21</td><td>TERCA-FEIRA</td><td>3</td></tr><tr><td>2026-04-22</td><td>2026</td><td>4</td><td>ABRIL</td><td>22</td><td>QUARTA-FEIRA</td><td>4</td></tr><tr><td>2026-04-23</td><td>2026</td><td>4</td><td>ABRIL</td><td>23</td><td>QUINTA-FEIRA</td><td>5</td></tr><tr><td>2026-04-24</td><td>2026</td><td>4</td><td>ABRIL</td><td>24</td><td>SEXTA-FEIRA</td><td>6</td></tr><tr><td>2026-04-25</td><td>2026</td><td>4</td><td>ABRIL</td><td>25</td><td>SABADO</td><td>7</td></tr><tr><td>2026-04-26</td><td>2026</td><td>4</td><td>ABRIL</td><td>26</td><td>DOMINGO</td><td>1</td></tr><tr><td>2026-04-27</td><td>2026</td><td>4</td><td>ABRIL</td><td>27</td><td>SEGUNDA-FEIRA</td><td>2</td></tr><tr><td>2026-04-28</td><td>2026</td><td>4</td><td>ABRIL</td><td>28</td><td>TERCA-FEIRA</td><td>3</td></tr><tr><td>2026-04-29</td><td>2026</td><td>4</td><td>ABRIL</td><td>29</td><td>QUARTA-FEIRA</td><td>4</td></tr><tr><td>2026-04-30</td><td>2026</td><td>4</td><td>ABRIL</td><td>30</td><td>QUINTA-FEIRA</td><td>5</td></tr><tr><td>2026-05-01</td><td>2026</td><td>5</td><td>MAIO</td><td>1</td><td>SEXTA-FEIRA</td><td>6</td></tr><tr><td>2026-05-02</td><td>2026</td><td>5</td><td>MAIO</td><td>2</td><td>SABADO</td><td>7</td></tr><tr><td>2026-05-03</td><td>2026</td><td>5</td><td>MAIO</td><td>3</td><td>DOMINGO</td><td>1</td></tr><tr><td>2026-05-04</td><td>2026</td><td>5</td><td>MAIO</td><td>4</td><td>SEGUNDA-FEIRA</td><td>2</td></tr><tr><td>2026-05-05</td><td>2026</td><td>5</td><td>MAIO</td><td>5</td><td>TERCA-FEIRA</td><td>3</td></tr><tr><td>2026-05-06</td><td>2026</td><td>5</td><td>MAIO</td><td>6</td><td>QUARTA-FEIRA</td><td>4</td></tr><tr><td>2026-05-07</td><td>2026</td><td>5</td><td>MAIO</td><td>7</td><td>QUINTA-FEIRA</td><td>5</td></tr><tr><td>2026-05-08</td><td>2026</td><td>5</td><td>MAIO</td><td>8</td><td>SEXTA-FEIRA</td><td>6</td></tr><tr><td>2026-05-09</td><td>2026</td><td>5</td><td>MAIO</td><td>9</td><td>SABADO</td><td>7</td></tr><tr><td>2026-05-10</td><td>2026</td><td>5</td><td>MAIO</td><td>10</td><td>DOMINGO</td><td>1</td></tr><tr><td>2026-05-11</td><td>2026</td><td>5</td><td>MAIO</td><td>11</td><td>SEGUNDA-FEIRA</td><td>2</td></tr><tr><td>2026-05-12</td><td>2026</td><td>5</td><td>MAIO</td><td>12</td><td>TERCA-FEIRA</td><td>3</td></tr><tr><td>2026-05-13</td><td>2026</td><td>5</td><td>MAIO</td><td>13</td><td>QUARTA-FEIRA</td><td>4</td></tr><tr><td>2026-05-14</td><td>2026</td><td>5</td><td>MAIO</td><td>14</td><td>QUINTA-FEIRA</td><td>5</td></tr><tr><td>2026-05-15</td><td>2026</td><td>5</td><td>MAIO</td><td>15</td><td>SEXTA-FEIRA</td><td>6</td></tr><tr><td>2026-05-16</td><td>2026</td><td>5</td><td>MAIO</td><td>16</td><td>SABADO</td><td>7</td></tr><tr><td>2026-05-17</td><td>2026</td><td>5</td><td>MAIO</td><td>17</td><td>DOMINGO</td><td>1</td></tr><tr><td>2026-05-18</td><td>2026</td><td>5</td><td>MAIO</td><td>18</td><td>SEGUNDA-FEIRA</td><td>2</td></tr><tr><td>2026-05-19</td><td>2026</td><td>5</td><td>MAIO</td><td>19</td><td>TERCA-FEIRA</td><td>3</td></tr><tr><td>2026-05-20</td><td>2026</td><td>5</td><td>MAIO</td><td>20</td><td>QUARTA-FEIRA</td><td>4</td></tr><tr><td>2026-05-21</td><td>2026</td><td>5</td><td>MAIO</td><td>21</td><td>QUINTA-FEIRA</td><td>5</td></tr><tr><td>2026-05-22</td><td>2026</td><td>5</td><td>MAIO</td><td>22</td><td>SEXTA-FEIRA</td><td>6</td></tr><tr><td>2026-05-23</td><td>2026</td><td>5</td><td>MAIO</td><td>23</td><td>SABADO</td><td>7</td></tr><tr><td>2026-05-24</td><td>2026</td><td>5</td><td>MAIO</td><td>24</td><td>DOMINGO</td><td>1</td></tr><tr><td>2026-05-25</td><td>2026</td><td>5</td><td>MAIO</td><td>25</td><td>SEGUNDA-FEIRA</td><td>2</td></tr><tr><td>2026-05-26</td><td>2026</td><td>5</td><td>MAIO</td><td>26</td><td>TERCA-FEIRA</td><td>3</td></tr><tr><td>2026-05-27</td><td>2026</td><td>5</td><td>MAIO</td><td>27</td><td>QUARTA-FEIRA</td><td>4</td></tr><tr><td>2026-05-28</td><td>2026</td><td>5</td><td>MAIO</td><td>28</td><td>QUINTA-FEIRA</td><td>5</td></tr><tr><td>2026-05-29</td><td>2026</td><td>5</td><td>MAIO</td><td>29</td><td>SEXTA-FEIRA</td><td>6</td></tr><tr><td>2026-05-30</td><td>2026</td><td>5</td><td>MAIO</td><td>30</td><td>SABADO</td><td>7</td></tr><tr><td>2026-05-31</td><td>2026</td><td>5</td><td>MAIO</td><td>31</td><td>DOMINGO</td><td>1</td></tr><tr><td>2026-06-01</td><td>2026</td><td>6</td><td>JUNHO</td><td>1</td><td>SEGUNDA-FEIRA</td><td>2</td></tr><tr><td>2026-06-02</td><td>2026</td><td>6</td><td>JUNHO</td><td>2</td><td>TERCA-FEIRA</td><td>3</td></tr><tr><td>2026-06-03</td><td>2026</td><td>6</td><td>JUNHO</td><td>3</td><td>QUARTA-FEIRA</td><td>4</td></tr><tr><td>2026-06-04</td><td>2026</td><td>6</td><td>JUNHO</td><td>4</td><td>QUINTA-FEIRA</td><td>5</td></tr><tr><td>2026-06-05</td><td>2026</td><td>6</td><td>JUNHO</td><td>5</td><td>SEXTA-FEIRA</td><td>6</td></tr><tr><td>2026-06-06</td><td>2026</td><td>6</td><td>JUNHO</td><td>6</td><td>SABADO</td><td>7</td></tr><tr><td>2026-06-07</td><td>2026</td><td>6</td><td>JUNHO</td><td>7</td><td>DOMINGO</td><td>1</td></tr><tr><td>2026-06-08</td><td>2026</td><td>6</td><td>JUNHO</td><td>8</td><td>SEGUNDA-FEIRA</td><td>2</td></tr><tr><td>2026-06-09</td><td>2026</td><td>6</td><td>JUNHO</td><td>9</td><td>TERCA-FEIRA</td><td>3</td></tr><tr><td>2026-06-10</td><td>2026</td><td>6</td><td>JUNHO</td><td>10</td><td>QUARTA-FEIRA</td><td>4</td></tr><tr><td>2026-06-11</td><td>2026</td><td>6</td><td>JUNHO</td><td>11</td><td>QUINTA-FEIRA</td><td>5</td></tr><tr><td>2026-06-12</td><td>2026</td><td>6</td><td>JUNHO</td><td>12</td><td>SEXTA-FEIRA</td><td>6</td></tr><tr><td>2026-06-13</td><td>2026</td><td>6</td><td>JUNHO</td><td>13</td><td>SABADO</td><td>7</td></tr><tr><td>2026-06-14</td><td>2026</td><td>6</td><td>JUNHO</td><td>14</td><td>DOMINGO</td><td>1</td></tr><tr><td>2026-06-15</td><td>2026</td><td>6</td><td>JUNHO</td><td>15</td><td>SEGUNDA-FEIRA</td><td>2</td></tr><tr><td>2026-06-16</td><td>2026</td><td>6</td><td>JUNHO</td><td>16</td><td>TERCA-FEIRA</td><td>3</td></tr><tr><td>2026-06-17</td><td>2026</td><td>6</td><td>JUNHO</td><td>17</td><td>QUARTA-FEIRA</td><td>4</td></tr><tr><td>2026-06-18</td><td>2026</td><td>6</td><td>JUNHO</td><td>18</td><td>QUINTA-FEIRA</td><td>5</td></tr><tr><td>2026-06-19</td><td>2026</td><td>6</td><td>JUNHO</td><td>19</td><td>SEXTA-FEIRA</td><td>6</td></tr><tr><td>2026-06-20</td><td>2026</td><td>6</td><td>JUNHO</td><td>20</td><td>SABADO</td><td>7</td></tr><tr><td>2026-06-21</td><td>2026</td><td>6</td><td>JUNHO</td><td>21</td><td>DOMINGO</td><td>1</td></tr><tr><td>2026-06-22</td><td>2026</td><td>6</td><td>JUNHO</td><td>22</td><td>SEGUNDA-FEIRA</td><td>2</td></tr><tr><td>2026-06-23</td><td>2026</td><td>6</td><td>JUNHO</td><td>23</td><td>TERCA-FEIRA</td><td>3</td></tr><tr><td>2026-06-24</td><td>2026</td><td>6</td><td>JUNHO</td><td>24</td><td>QUARTA-FEIRA</td><td>4</td></tr><tr><td>2026-06-25</td><td>2026</td><td>6</td><td>JUNHO</td><td>25</td><td>QUINTA-FEIRA</td><td>5</td></tr><tr><td>2026-06-26</td><td>2026</td><td>6</td><td>JUNHO</td><td>26</td><td>SEXTA-FEIRA</td><td>6</td></tr><tr><td>2026-06-27</td><td>2026</td><td>6</td><td>JUNHO</td><td>27</td><td>SABADO</td><td>7</td></tr><tr><td>2026-06-28</td><td>2026</td><td>6</td><td>JUNHO</td><td>28</td><td>DOMINGO</td><td>1</td></tr><tr><td>2026-06-29</td><td>2026</td><td>6</td><td>JUNHO</td><td>29</td><td>SEGUNDA-FEIRA</td><td>2</td></tr><tr><td>2026-06-30</td><td>2026</td><td>6</td><td>JUNHO</td><td>30</td><td>TERCA-FEIRA</td><td>3</td></tr><tr><td>2026-07-01</td><td>2026</td><td>7</td><td>JULHO</td><td>1</td><td>QUARTA-FEIRA</td><td>4</td></tr><tr><td>2026-07-02</td><td>2026</td><td>7</td><td>JULHO</td><td>2</td><td>QUINTA-FEIRA</td><td>5</td></tr><tr><td>2026-07-03</td><td>2026</td><td>7</td><td>JULHO</td><td>3</td><td>SEXTA-FEIRA</td><td>6</td></tr><tr><td>2026-07-04</td><td>2026</td><td>7</td><td>JULHO</td><td>4</td><td>SABADO</td><td>7</td></tr><tr><td>2026-07-05</td><td>2026</td><td>7</td><td>JULHO</td><td>5</td><td>DOMINGO</td><td>1</td></tr><tr><td>2026-07-06</td><td>2026</td><td>7</td><td>JULHO</td><td>6</td><td>SEGUNDA-FEIRA</td><td>2</td></tr><tr><td>2026-07-07</td><td>2026</td><td>7</td><td>JULHO</td><td>7</td><td>TERCA-FEIRA</td><td>3</td></tr><tr><td>2026-07-08</td><td>2026</td><td>7</td><td>JULHO</td><td>8</td><td>QUARTA-FEIRA</td><td>4</td></tr><tr><td>2026-07-09</td><td>2026</td><td>7</td><td>JULHO</td><td>9</td><td>QUINTA-FEIRA</td><td>5</td></tr><tr><td>2026-07-10</td><td>2026</td><td>7</td><td>JULHO</td><td>10</td><td>SEXTA-FEIRA</td><td>6</td></tr><tr><td>2026-07-11</td><td>2026</td><td>7</td><td>JULHO</td><td>11</td><td>SABADO</td><td>7</td></tr><tr><td>2026-07-12</td><td>2026</td><td>7</td><td>JULHO</td><td>12</td><td>DOMINGO</td><td>1</td></tr><tr><td>2026-07-13</td><td>2026</td><td>7</td><td>JULHO</td><td>13</td><td>SEGUNDA-FEIRA</td><td>2</td></tr><tr><td>2026-07-14</td><td>2026</td><td>7</td><td>JULHO</td><td>14</td><td>TERCA-FEIRA</td><td>3</td></tr><tr><td>2026-07-15</td><td>2026</td><td>7</td><td>JULHO</td><td>15</td><td>QUARTA-FEIRA</td><td>4</td></tr><tr><td>2026-07-16</td><td>2026</td><td>7</td><td>JULHO</td><td>16</td><td>QUINTA-FEIRA</td><td>5</td></tr><tr><td>2026-07-17</td><td>2026</td><td>7</td><td>JULHO</td><td>17</td><td>SEXTA-FEIRA</td><td>6</td></tr><tr><td>2026-07-18</td><td>2026</td><td>7</td><td>JULHO</td><td>18</td><td>SABADO</td><td>7</td></tr><tr><td>2026-07-19</td><td>2026</td><td>7</td><td>JULHO</td><td>19</td><td>DOMINGO</td><td>1</td></tr><tr><td>2026-07-20</td><td>2026</td><td>7</td><td>JULHO</td><td>20</td><td>SEGUNDA-FEIRA</td><td>2</td></tr><tr><td>2026-07-21</td><td>2026</td><td>7</td><td>JULHO</td><td>21</td><td>TERCA-FEIRA</td><td>3</td></tr><tr><td>2026-07-22</td><td>2026</td><td>7</td><td>JULHO</td><td>22</td><td>QUARTA-FEIRA</td><td>4</td></tr><tr><td>2026-07-23</td><td>2026</td><td>7</td><td>JULHO</td><td>23</td><td>QUINTA-FEIRA</td><td>5</td></tr><tr><td>2026-07-24</td><td>2026</td><td>7</td><td>JULHO</td><td>24</td><td>SEXTA-FEIRA</td><td>6</td></tr><tr><td>2026-07-25</td><td>2026</td><td>7</td><td>JULHO</td><td>25</td><td>SABADO</td><td>7</td></tr><tr><td>2026-07-26</td><td>2026</td><td>7</td><td>JULHO</td><td>26</td><td>DOMINGO</td><td>1</td></tr><tr><td>2026-07-27</td><td>2026</td><td>7</td><td>JULHO</td><td>27</td><td>SEGUNDA-FEIRA</td><td>2</td></tr><tr><td>2026-07-28</td><td>2026</td><td>7</td><td>JULHO</td><td>28</td><td>TERCA-FEIRA</td><td>3</td></tr><tr><td>2026-07-29</td><td>2026</td><td>7</td><td>JULHO</td><td>29</td><td>QUARTA-FEIRA</td><td>4</td></tr><tr><td>2026-07-30</td><td>2026</td><td>7</td><td>JULHO</td><td>30</td><td>QUINTA-FEIRA</td><td>5</td></tr><tr><td>2026-07-31</td><td>2026</td><td>7</td><td>JULHO</td><td>31</td><td>SEXTA-FEIRA</td><td>6</td></tr><tr><td>2026-08-01</td><td>2026</td><td>8</td><td>AGOSTO</td><td>1</td><td>SABADO</td><td>7</td></tr><tr><td>2026-08-02</td><td>2026</td><td>8</td><td>AGOSTO</td><td>2</td><td>DOMINGO</td><td>1</td></tr><tr><td>2026-08-03</td><td>2026</td><td>8</td><td>AGOSTO</td><td>3</td><td>SEGUNDA-FEIRA</td><td>2</td></tr><tr><td>2026-08-04</td><td>2026</td><td>8</td><td>AGOSTO</td><td>4</td><td>TERCA-FEIRA</td><td>3</td></tr><tr><td>2026-08-05</td><td>2026</td><td>8</td><td>AGOSTO</td><td>5</td><td>QUARTA-FEIRA</td><td>4</td></tr><tr><td>2026-08-06</td><td>2026</td><td>8</td><td>AGOSTO</td><td>6</td><td>QUINTA-FEIRA</td><td>5</td></tr><tr><td>2026-08-07</td><td>2026</td><td>8</td><td>AGOSTO</td><td>7</td><td>SEXTA-FEIRA</td><td>6</td></tr><tr><td>2026-08-08</td><td>2026</td><td>8</td><td>AGOSTO</td><td>8</td><td>SABADO</td><td>7</td></tr><tr><td>2026-08-09</td><td>2026</td><td>8</td><td>AGOSTO</td><td>9</td><td>DOMINGO</td><td>1</td></tr><tr><td>2026-08-10</td><td>2026</td><td>8</td><td>AGOSTO</td><td>10</td><td>SEGUNDA-FEIRA</td><td>2</td></tr><tr><td>2026-08-11</td><td>2026</td><td>8</td><td>AGOSTO</td><td>11</td><td>TERCA-FEIRA</td><td>3</td></tr><tr><td>2026-08-12</td><td>2026</td><td>8</td><td>AGOSTO</td><td>12</td><td>QUARTA-FEIRA</td><td>4</td></tr><tr><td>2026-08-13</td><td>2026</td><td>8</td><td>AGOSTO</td><td>13</td><td>QUINTA-FEIRA</td><td>5</td></tr><tr><td>2026-08-14</td><td>2026</td><td>8</td><td>AGOSTO</td><td>14</td><td>SEXTA-FEIRA</td><td>6</td></tr><tr><td>2026-08-15</td><td>2026</td><td>8</td><td>AGOSTO</td><td>15</td><td>SABADO</td><td>7</td></tr><tr><td>2026-08-16</td><td>2026</td><td>8</td><td>AGOSTO</td><td>16</td><td>DOMINGO</td><td>1</td></tr><tr><td>2026-08-17</td><td>2026</td><td>8</td><td>AGOSTO</td><td>17</td><td>SEGUNDA-FEIRA</td><td>2</td></tr><tr><td>2026-08-18</td><td>2026</td><td>8</td><td>AGOSTO</td><td>18</td><td>TERCA-FEIRA</td><td>3</td></tr><tr><td>2026-08-19</td><td>2026</td><td>8</td><td>AGOSTO</td><td>19</td><td>QUARTA-FEIRA</td><td>4</td></tr><tr><td>2026-08-20</td><td>2026</td><td>8</td><td>AGOSTO</td><td>20</td><td>QUINTA-FEIRA</td><td>5</td></tr><tr><td>2026-08-21</td><td>2026</td><td>8</td><td>AGOSTO</td><td>21</td><td>SEXTA-FEIRA</td><td>6</td></tr><tr><td>2026-08-22</td><td>2026</td><td>8</td><td>AGOSTO</td><td>22</td><td>SABADO</td><td>7</td></tr><tr><td>2026-08-23</td><td>2026</td><td>8</td><td>AGOSTO</td><td>23</td><td>DOMINGO</td><td>1</td></tr><tr><td>2026-08-24</td><td>2026</td><td>8</td><td>AGOSTO</td><td>24</td><td>SEGUNDA-FEIRA</td><td>2</td></tr><tr><td>2026-08-25</td><td>2026</td><td>8</td><td>AGOSTO</td><td>25</td><td>TERCA-FEIRA</td><td>3</td></tr><tr><td>2026-08-26</td><td>2026</td><td>8</td><td>AGOSTO</td><td>26</td><td>QUARTA-FEIRA</td><td>4</td></tr><tr><td>2026-08-27</td><td>2026</td><td>8</td><td>AGOSTO</td><td>27</td><td>QUINTA-FEIRA</td><td>5</td></tr><tr><td>2026-08-28</td><td>2026</td><td>8</td><td>AGOSTO</td><td>28</td><td>SEXTA-FEIRA</td><td>6</td></tr><tr><td>2026-08-29</td><td>2026</td><td>8</td><td>AGOSTO</td><td>29</td><td>SABADO</td><td>7</td></tr><tr><td>2026-08-30</td><td>2026</td><td>8</td><td>AGOSTO</td><td>30</td><td>DOMINGO</td><td>1</td></tr><tr><td>2026-08-31</td><td>2026</td><td>8</td><td>AGOSTO</td><td>31</td><td>SEGUNDA-FEIRA</td><td>2</td></tr><tr><td>2026-09-01</td><td>2026</td><td>9</td><td>SETEMBRO</td><td>1</td><td>TERCA-FEIRA</td><td>3</td></tr><tr><td>2026-09-02</td><td>2026</td><td>9</td><td>SETEMBRO</td><td>2</td><td>QUARTA-FEIRA</td><td>4</td></tr><tr><td>2026-09-03</td><td>2026</td><td>9</td><td>SETEMBRO</td><td>3</td><td>QUINTA-FEIRA</td><td>5</td></tr><tr><td>2026-09-04</td><td>2026</td><td>9</td><td>SETEMBRO</td><td>4</td><td>SEXTA-FEIRA</td><td>6</td></tr><tr><td>2026-09-05</td><td>2026</td><td>9</td><td>SETEMBRO</td><td>5</td><td>SABADO</td><td>7</td></tr><tr><td>2026-09-06</td><td>2026</td><td>9</td><td>SETEMBRO</td><td>6</td><td>DOMINGO</td><td>1</td></tr><tr><td>2026-09-07</td><td>2026</td><td>9</td><td>SETEMBRO</td><td>7</td><td>SEGUNDA-FEIRA</td><td>2</td></tr><tr><td>2026-09-08</td><td>2026</td><td>9</td><td>SETEMBRO</td><td>8</td><td>TERCA-FEIRA</td><td>3</td></tr><tr><td>2026-09-09</td><td>2026</td><td>9</td><td>SETEMBRO</td><td>9</td><td>QUARTA-FEIRA</td><td>4</td></tr><tr><td>2026-09-10</td><td>2026</td><td>9</td><td>SETEMBRO</td><td>10</td><td>QUINTA-FEIRA</td><td>5</td></tr><tr><td>2026-09-11</td><td>2026</td><td>9</td><td>SETEMBRO</td><td>11</td><td>SEXTA-FEIRA</td><td>6</td></tr><tr><td>2026-09-12</td><td>2026</td><td>9</td><td>SETEMBRO</td><td>12</td><td>SABADO</td><td>7</td></tr><tr><td>2026-09-13</td><td>2026</td><td>9</td><td>SETEMBRO</td><td>13</td><td>DOMINGO</td><td>1</td></tr><tr><td>2026-09-14</td><td>2026</td><td>9</td><td>SETEMBRO</td><td>14</td><td>SEGUNDA-FEIRA</td><td>2</td></tr><tr><td>2026-09-15</td><td>2026</td><td>9</td><td>SETEMBRO</td><td>15</td><td>TERCA-FEIRA</td><td>3</td></tr><tr><td>2026-09-16</td><td>2026</td><td>9</td><td>SETEMBRO</td><td>16</td><td>QUARTA-FEIRA</td><td>4</td></tr><tr><td>2026-09-17</td><td>2026</td><td>9</td><td>SETEMBRO</td><td>17</td><td>QUINTA-FEIRA</td><td>5</td></tr><tr><td>2026-09-18</td><td>2026</td><td>9</td><td>SETEMBRO</td><td>18</td><td>SEXTA-FEIRA</td><td>6</td></tr><tr><td>2026-09-19</td><td>2026</td><td>9</td><td>SETEMBRO</td><td>19</td><td>SABADO</td><td>7</td></tr><tr><td>2026-09-20</td><td>2026</td><td>9</td><td>SETEMBRO</td><td>20</td><td>DOMINGO</td><td>1</td></tr><tr><td>2026-09-21</td><td>2026</td><td>9</td><td>SETEMBRO</td><td>21</td><td>SEGUNDA-FEIRA</td><td>2</td></tr><tr><td>2026-09-22</td><td>2026</td><td>9</td><td>SETEMBRO</td><td>22</td><td>TERCA-FEIRA</td><td>3</td></tr><tr><td>2026-09-23</td><td>2026</td><td>9</td><td>SETEMBRO</td><td>23</td><td>QUARTA-FEIRA</td><td>4</td></tr><tr><td>2026-09-24</td><td>2026</td><td>9</td><td>SETEMBRO</td><td>24</td><td>QUINTA-FEIRA</td><td>5</td></tr><tr><td>2026-09-25</td><td>2026</td><td>9</td><td>SETEMBRO</td><td>25</td><td>SEXTA-FEIRA</td><td>6</td></tr><tr><td>2026-09-26</td><td>2026</td><td>9</td><td>SETEMBRO</td><td>26</td><td>SABADO</td><td>7</td></tr><tr><td>2026-09-27</td><td>2026</td><td>9</td><td>SETEMBRO</td><td>27</td><td>DOMINGO</td><td>1</td></tr><tr><td>2026-09-28</td><td>2026</td><td>9</td><td>SETEMBRO</td><td>28</td><td>SEGUNDA-FEIRA</td><td>2</td></tr><tr><td>2026-09-29</td><td>2026</td><td>9</td><td>SETEMBRO</td><td>29</td><td>TERCA-FEIRA</td><td>3</td></tr><tr><td>2026-09-30</td><td>2026</td><td>9</td><td>SETEMBRO</td><td>30</td><td>QUARTA-FEIRA</td><td>4</td></tr><tr><td>2026-10-01</td><td>2026</td><td>10</td><td>OUTUBRO</td><td>1</td><td>QUINTA-FEIRA</td><td>5</td></tr><tr><td>2026-10-02</td><td>2026</td><td>10</td><td>OUTUBRO</td><td>2</td><td>SEXTA-FEIRA</td><td>6</td></tr><tr><td>2026-10-03</td><td>2026</td><td>10</td><td>OUTUBRO</td><td>3</td><td>SABADO</td><td>7</td></tr><tr><td>2026-10-04</td><td>2026</td><td>10</td><td>OUTUBRO</td><td>4</td><td>DOMINGO</td><td>1</td></tr><tr><td>2026-10-05</td><td>2026</td><td>10</td><td>OUTUBRO</td><td>5</td><td>SEGUNDA-FEIRA</td><td>2</td></tr><tr><td>2026-10-06</td><td>2026</td><td>10</td><td>OUTUBRO</td><td>6</td><td>TERCA-FEIRA</td><td>3</td></tr><tr><td>2026-10-07</td><td>2026</td><td>10</td><td>OUTUBRO</td><td>7</td><td>QUARTA-FEIRA</td><td>4</td></tr><tr><td>2026-10-08</td><td>2026</td><td>10</td><td>OUTUBRO</td><td>8</td><td>QUINTA-FEIRA</td><td>5</td></tr><tr><td>2026-10-09</td><td>2026</td><td>10</td><td>OUTUBRO</td><td>9</td><td>SEXTA-FEIRA</td><td>6</td></tr><tr><td>2026-10-10</td><td>2026</td><td>10</td><td>OUTUBRO</td><td>10</td><td>SABADO</td><td>7</td></tr><tr><td>2026-10-11</td><td>2026</td><td>10</td><td>OUTUBRO</td><td>11</td><td>DOMINGO</td><td>1</td></tr><tr><td>2026-10-12</td><td>2026</td><td>10</td><td>OUTUBRO</td><td>12</td><td>SEGUNDA-FEIRA</td><td>2</td></tr><tr><td>2026-10-13</td><td>2026</td><td>10</td><td>OUTUBRO</td><td>13</td><td>TERCA-FEIRA</td><td>3</td></tr><tr><td>2026-10-14</td><td>2026</td><td>10</td><td>OUTUBRO</td><td>14</td><td>QUARTA-FEIRA</td><td>4</td></tr><tr><td>2026-10-15</td><td>2026</td><td>10</td><td>OUTUBRO</td><td>15</td><td>QUINTA-FEIRA</td><td>5</td></tr><tr><td>2026-10-16</td><td>2026</td><td>10</td><td>OUTUBRO</td><td>16</td><td>SEXTA-FEIRA</td><td>6</td></tr><tr><td>2026-10-17</td><td>2026</td><td>10</td><td>OUTUBRO</td><td>17</td><td>SABADO</td><td>7</td></tr><tr><td>2026-10-18</td><td>2026</td><td>10</td><td>OUTUBRO</td><td>18</td><td>DOMINGO</td><td>1</td></tr><tr><td>2026-10-19</td><td>2026</td><td>10</td><td>OUTUBRO</td><td>19</td><td>SEGUNDA-FEIRA</td><td>2</td></tr><tr><td>2026-10-20</td><td>2026</td><td>10</td><td>OUTUBRO</td><td>20</td><td>TERCA-FEIRA</td><td>3</td></tr><tr><td>2026-10-21</td><td>2026</td><td>10</td><td>OUTUBRO</td><td>21</td><td>QUARTA-FEIRA</td><td>4</td></tr><tr><td>2026-10-22</td><td>2026</td><td>10</td><td>OUTUBRO</td><td>22</td><td>QUINTA-FEIRA</td><td>5</td></tr><tr><td>2026-10-23</td><td>2026</td><td>10</td><td>OUTUBRO</td><td>23</td><td>SEXTA-FEIRA</td><td>6</td></tr><tr><td>2026-10-24</td><td>2026</td><td>10</td><td>OUTUBRO</td><td>24</td><td>SABADO</td><td>7</td></tr><tr><td>2026-10-25</td><td>2026</td><td>10</td><td>OUTUBRO</td><td>25</td><td>DOMINGO</td><td>1</td></tr><tr><td>2026-10-26</td><td>2026</td><td>10</td><td>OUTUBRO</td><td>26</td><td>SEGUNDA-FEIRA</td><td>2</td></tr><tr><td>2026-10-27</td><td>2026</td><td>10</td><td>OUTUBRO</td><td>27</td><td>TERCA-FEIRA</td><td>3</td></tr><tr><td>2026-10-28</td><td>2026</td><td>10</td><td>OUTUBRO</td><td>28</td><td>QUARTA-FEIRA</td><td>4</td></tr><tr><td>2026-10-29</td><td>2026</td><td>10</td><td>OUTUBRO</td><td>29</td><td>QUINTA-FEIRA</td><td>5</td></tr><tr><td>2026-10-30</td><td>2026</td><td>10</td><td>OUTUBRO</td><td>30</td><td>SEXTA-FEIRA</td><td>6</td></tr><tr><td>2026-10-31</td><td>2026</td><td>10</td><td>OUTUBRO</td><td>31</td><td>SABADO</td><td>7</td></tr><tr><td>2026-11-01</td><td>2026</td><td>11</td><td>NOVEMBRO</td><td>1</td><td>DOMINGO</td><td>1</td></tr><tr><td>2026-11-02</td><td>2026</td><td>11</td><td>NOVEMBRO</td><td>2</td><td>SEGUNDA-FEIRA</td><td>2</td></tr><tr><td>2026-11-03</td><td>2026</td><td>11</td><td>NOVEMBRO</td><td>3</td><td>TERCA-FEIRA</td><td>3</td></tr><tr><td>2026-11-04</td><td>2026</td><td>11</td><td>NOVEMBRO</td><td>4</td><td>QUARTA-FEIRA</td><td>4</td></tr><tr><td>2026-11-05</td><td>2026</td><td>11</td><td>NOVEMBRO</td><td>5</td><td>QUINTA-FEIRA</td><td>5</td></tr><tr><td>2026-11-06</td><td>2026</td><td>11</td><td>NOVEMBRO</td><td>6</td><td>SEXTA-FEIRA</td><td>6</td></tr><tr><td>2026-11-07</td><td>2026</td><td>11</td><td>NOVEMBRO</td><td>7</td><td>SABADO</td><td>7</td></tr><tr><td>2026-11-08</td><td>2026</td><td>11</td><td>NOVEMBRO</td><td>8</td><td>DOMINGO</td><td>1</td></tr><tr><td>2026-11-09</td><td>2026</td><td>11</td><td>NOVEMBRO</td><td>9</td><td>SEGUNDA-FEIRA</td><td>2</td></tr><tr><td>2026-11-10</td><td>2026</td><td>11</td><td>NOVEMBRO</td><td>10</td><td>TERCA-FEIRA</td><td>3</td></tr><tr><td>2026-11-11</td><td>2026</td><td>11</td><td>NOVEMBRO</td><td>11</td><td>QUARTA-FEIRA</td><td>4</td></tr><tr><td>2026-11-12</td><td>2026</td><td>11</td><td>NOVEMBRO</td><td>12</td><td>QUINTA-FEIRA</td><td>5</td></tr><tr><td>2026-11-13</td><td>2026</td><td>11</td><td>NOVEMBRO</td><td>13</td><td>SEXTA-FEIRA</td><td>6</td></tr><tr><td>2026-11-14</td><td>2026</td><td>11</td><td>NOVEMBRO</td><td>14</td><td>SABADO</td><td>7</td></tr><tr><td>2026-11-15</td><td>2026</td><td>11</td><td>NOVEMBRO</td><td>15</td><td>DOMINGO</td><td>1</td></tr><tr><td>2026-11-16</td><td>2026</td><td>11</td><td>NOVEMBRO</td><td>16</td><td>SEGUNDA-FEIRA</td><td>2</td></tr><tr><td>2026-11-17</td><td>2026</td><td>11</td><td>NOVEMBRO</td><td>17</td><td>TERCA-FEIRA</td><td>3</td></tr><tr><td>2026-11-18</td><td>2026</td><td>11</td><td>NOVEMBRO</td><td>18</td><td>QUARTA-FEIRA</td><td>4</td></tr><tr><td>2026-11-19</td><td>2026</td><td>11</td><td>NOVEMBRO</td><td>19</td><td>QUINTA-FEIRA</td><td>5</td></tr><tr><td>2026-11-20</td><td>2026</td><td>11</td><td>NOVEMBRO</td><td>20</td><td>SEXTA-FEIRA</td><td>6</td></tr><tr><td>2026-11-21</td><td>2026</td><td>11</td><td>NOVEMBRO</td><td>21</td><td>SABADO</td><td>7</td></tr><tr><td>2026-11-22</td><td>2026</td><td>11</td><td>NOVEMBRO</td><td>22</td><td>DOMINGO</td><td>1</td></tr><tr><td>2026-11-23</td><td>2026</td><td>11</td><td>NOVEMBRO</td><td>23</td><td>SEGUNDA-FEIRA</td><td>2</td></tr><tr><td>2026-11-24</td><td>2026</td><td>11</td><td>NOVEMBRO</td><td>24</td><td>TERCA-FEIRA</td><td>3</td></tr><tr><td>2026-11-25</td><td>2026</td><td>11</td><td>NOVEMBRO</td><td>25</td><td>QUARTA-FEIRA</td><td>4</td></tr><tr><td>2026-11-26</td><td>2026</td><td>11</td><td>NOVEMBRO</td><td>26</td><td>QUINTA-FEIRA</td><td>5</td></tr><tr><td>2026-11-27</td><td>2026</td><td>11</td><td>NOVEMBRO</td><td>27</td><td>SEXTA-FEIRA</td><td>6</td></tr><tr><td>2026-11-28</td><td>2026</td><td>11</td><td>NOVEMBRO</td><td>28</td><td>SABADO</td><td>7</td></tr><tr><td>2026-11-29</td><td>2026</td><td>11</td><td>NOVEMBRO</td><td>29</td><td>DOMINGO</td><td>1</td></tr><tr><td>2026-11-30</td><td>2026</td><td>11</td><td>NOVEMBRO</td><td>30</td><td>SEGUNDA-FEIRA</td><td>2</td></tr><tr><td>2026-12-01</td><td>2026</td><td>12</td><td>DEZEMBRO</td><td>1</td><td>TERCA-FEIRA</td><td>3</td></tr><tr><td>2026-12-02</td><td>2026</td><td>12</td><td>DEZEMBRO</td><td>2</td><td>QUARTA-FEIRA</td><td>4</td></tr><tr><td>2026-12-03</td><td>2026</td><td>12</td><td>DEZEMBRO</td><td>3</td><td>QUINTA-FEIRA</td><td>5</td></tr><tr><td>2026-12-04</td><td>2026</td><td>12</td><td>DEZEMBRO</td><td>4</td><td>SEXTA-FEIRA</td><td>6</td></tr><tr><td>2026-12-05</td><td>2026</td><td>12</td><td>DEZEMBRO</td><td>5</td><td>SABADO</td><td>7</td></tr><tr><td>2026-12-06</td><td>2026</td><td>12</td><td>DEZEMBRO</td><td>6</td><td>DOMINGO</td><td>1</td></tr><tr><td>2026-12-07</td><td>2026</td><td>12</td><td>DEZEMBRO</td><td>7</td><td>SEGUNDA-FEIRA</td><td>2</td></tr><tr><td>2026-12-08</td><td>2026</td><td>12</td><td>DEZEMBRO</td><td>8</td><td>TERCA-FEIRA</td><td>3</td></tr><tr><td>2026-12-09</td><td>2026</td><td>12</td><td>DEZEMBRO</td><td>9</td><td>QUARTA-FEIRA</td><td>4</td></tr><tr><td>2026-12-10</td><td>2026</td><td>12</td><td>DEZEMBRO</td><td>10</td><td>QUINTA-FEIRA</td><td>5</td></tr><tr><td>2026-12-11</td><td>2026</td><td>12</td><td>DEZEMBRO</td><td>11</td><td>SEXTA-FEIRA</td><td>6</td></tr><tr><td>2026-12-12</td><td>2026</td><td>12</td><td>DEZEMBRO</td><td>12</td><td>SABADO</td><td>7</td></tr><tr><td>2026-12-13</td><td>2026</td><td>12</td><td>DEZEMBRO</td><td>13</td><td>DOMINGO</td><td>1</td></tr><tr><td>2026-12-14</td><td>2026</td><td>12</td><td>DEZEMBRO</td><td>14</td><td>SEGUNDA-FEIRA</td><td>2</td></tr><tr><td>2026-12-15</td><td>2026</td><td>12</td><td>DEZEMBRO</td><td>15</td><td>TERCA-FEIRA</td><td>3</td></tr><tr><td>2026-12-16</td><td>2026</td><td>12</td><td>DEZEMBRO</td><td>16</td><td>QUARTA-FEIRA</td><td>4</td></tr><tr><td>2026-12-17</td><td>2026</td><td>12</td><td>DEZEMBRO</td><td>17</td><td>QUINTA-FEIRA</td><td>5</td></tr><tr><td>2026-12-18</td><td>2026</td><td>12</td><td>DEZEMBRO</td><td>18</td><td>SEXTA-FEIRA</td><td>6</td></tr><tr><td>2026-12-19</td><td>2026</td><td>12</td><td>DEZEMBRO</td><td>19</td><td>SABADO</td><td>7</td></tr><tr><td>2026-12-20</td><td>2026</td><td>12</td><td>DEZEMBRO</td><td>20</td><td>DOMINGO</td><td>1</td></tr><tr><td>2026-12-21</td><td>2026</td><td>12</td><td>DEZEMBRO</td><td>21</td><td>SEGUNDA-FEIRA</td><td>2</td></tr><tr><td>2026-12-22</td><td>2026</td><td>12</td><td>DEZEMBRO</td><td>22</td><td>TERCA-FEIRA</td><td>3</td></tr><tr><td>2026-12-23</td><td>2026</td><td>12</td><td>DEZEMBRO</td><td>23</td><td>QUARTA-FEIRA</td><td>4</td></tr><tr><td>2026-12-24</td><td>2026</td><td>12</td><td>DEZEMBRO</td><td>24</td><td>QUINTA-FEIRA</td><td>5</td></tr><tr><td>2026-12-25</td><td>2026</td><td>12</td><td>DEZEMBRO</td><td>25</td><td>SEXTA-FEIRA</td><td>6</td></tr><tr><td>2026-12-26</td><td>2026</td><td>12</td><td>DEZEMBRO</td><td>26</td><td>SABADO</td><td>7</td></tr><tr><td>2026-12-27</td><td>2026</td><td>12</td><td>DEZEMBRO</td><td>27</td><td>DOMINGO</td><td>1</td></tr><tr><td>2026-12-28</td><td>2026</td><td>12</td><td>DEZEMBRO</td><td>28</td><td>SEGUNDA-FEIRA</td><td>2</td></tr><tr><td>2026-12-29</td><td>2026</td><td>12</td><td>DEZEMBRO</td><td>29</td><td>TERCA-FEIRA</td><td>3</td></tr><tr><td>2026-12-30</td><td>2026</td><td>12</td><td>DEZEMBRO</td><td>30</td><td>QUARTA-FEIRA</td><td>4</td></tr><tr><td>2026-12-31</td><td>2026</td><td>12</td><td>DEZEMBRO</td><td>31</td><td>QUINTA-FEIRA</td><td>5</td></tr></tbody></table></div>"
      ]
     },
     "metadata": {
      "application/vnd.databricks.v1+output": {
       "addedWidgets": {},
       "aggData": [],
       "aggError": "",
       "aggOverflow": false,
       "aggSchema": [],
       "aggSeriesLimitReached": false,
       "aggType": "",
       "arguments": {},
       "columnCustomDisplayInfos": {},
       "data": [
        [
         "2023-01-01",
         2023,
         1,
         "JANEIRO",
         1,
         "DOMINGO",
         1
        ],
        [
         "2023-01-02",
         2023,
         1,
         "JANEIRO",
         2,
         "SEGUNDA-FEIRA",
         2
        ],
        [
         "2023-01-03",
         2023,
         1,
         "JANEIRO",
         3,
         "TERCA-FEIRA",
         3
        ],
        [
         "2023-01-04",
         2023,
         1,
         "JANEIRO",
         4,
         "QUARTA-FEIRA",
         4
        ],
        [
         "2023-01-05",
         2023,
         1,
         "JANEIRO",
         5,
         "QUINTA-FEIRA",
         5
        ],
        [
         "2023-01-06",
         2023,
         1,
         "JANEIRO",
         6,
         "SEXTA-FEIRA",
         6
        ],
        [
         "2023-01-07",
         2023,
         1,
         "JANEIRO",
         7,
         "SABADO",
         7
        ],
        [
         "2023-01-08",
         2023,
         1,
         "JANEIRO",
         8,
         "DOMINGO",
         1
        ],
        [
         "2023-01-09",
         2023,
         1,
         "JANEIRO",
         9,
         "SEGUNDA-FEIRA",
         2
        ],
        [
         "2023-01-10",
         2023,
         1,
         "JANEIRO",
         10,
         "TERCA-FEIRA",
         3
        ],
        [
         "2023-01-11",
         2023,
         1,
         "JANEIRO",
         11,
         "QUARTA-FEIRA",
         4
        ],
        [
         "2023-01-12",
         2023,
         1,
         "JANEIRO",
         12,
         "QUINTA-FEIRA",
         5
        ],
        [
         "2023-01-13",
         2023,
         1,
         "JANEIRO",
         13,
         "SEXTA-FEIRA",
         6
        ],
        [
         "2023-01-14",
         2023,
         1,
         "JANEIRO",
         14,
         "SABADO",
         7
        ],
        [
         "2023-01-15",
         2023,
         1,
         "JANEIRO",
         15,
         "DOMINGO",
         1
        ],
        [
         "2023-01-16",
         2023,
         1,
         "JANEIRO",
         16,
         "SEGUNDA-FEIRA",
         2
        ],
        [
         "2023-01-17",
         2023,
         1,
         "JANEIRO",
         17,
         "TERCA-FEIRA",
         3
        ],
        [
         "2023-01-18",
         2023,
         1,
         "JANEIRO",
         18,
         "QUARTA-FEIRA",
         4
        ],
        [
         "2023-01-19",
         2023,
         1,
         "JANEIRO",
         19,
         "QUINTA-FEIRA",
         5
        ],
        [
         "2023-01-20",
         2023,
         1,
         "JANEIRO",
         20,
         "SEXTA-FEIRA",
         6
        ],
        [
         "2023-01-21",
         2023,
         1,
         "JANEIRO",
         21,
         "SABADO",
         7
        ],
        [
         "2023-01-22",
         2023,
         1,
         "JANEIRO",
         22,
         "DOMINGO",
         1
        ],
        [
         "2023-01-23",
         2023,
         1,
         "JANEIRO",
         23,
         "SEGUNDA-FEIRA",
         2
        ],
        [
         "2023-01-24",
         2023,
         1,
         "JANEIRO",
         24,
         "TERCA-FEIRA",
         3
        ],
        [
         "2023-01-25",
         2023,
         1,
         "JANEIRO",
         25,
         "QUARTA-FEIRA",
         4
        ],
        [
         "2023-01-26",
         2023,
         1,
         "JANEIRO",
         26,
         "QUINTA-FEIRA",
         5
        ],
        [
         "2023-01-27",
         2023,
         1,
         "JANEIRO",
         27,
         "SEXTA-FEIRA",
         6
        ],
        [
         "2023-01-28",
         2023,
         1,
         "JANEIRO",
         28,
         "SABADO",
         7
        ],
        [
         "2023-01-29",
         2023,
         1,
         "JANEIRO",
         29,
         "DOMINGO",
         1
        ],
        [
         "2023-01-30",
         2023,
         1,
         "JANEIRO",
         30,
         "SEGUNDA-FEIRA",
         2
        ],
        [
         "2023-01-31",
         2023,
         1,
         "JANEIRO",
         31,
         "TERCA-FEIRA",
         3
        ],
        [
         "2023-02-01",
         2023,
         2,
         "FEVEREIRO",
         1,
         "QUARTA-FEIRA",
         4
        ],
        [
         "2023-02-02",
         2023,
         2,
         "FEVEREIRO",
         2,
         "QUINTA-FEIRA",
         5
        ],
        [
         "2023-02-03",
         2023,
         2,
         "FEVEREIRO",
         3,
         "SEXTA-FEIRA",
         6
        ],
        [
         "2023-02-04",
         2023,
         2,
         "FEVEREIRO",
         4,
         "SABADO",
         7
        ],
        [
         "2023-02-05",
         2023,
         2,
         "FEVEREIRO",
         5,
         "DOMINGO",
         1
        ],
        [
         "2023-02-06",
         2023,
         2,
         "FEVEREIRO",
         6,
         "SEGUNDA-FEIRA",
         2
        ],
        [
         "2023-02-07",
         2023,
         2,
         "FEVEREIRO",
         7,
         "TERCA-FEIRA",
         3
        ],
        [
         "2023-02-08",
         2023,
         2,
         "FEVEREIRO",
         8,
         "QUARTA-FEIRA",
         4
        ],
        [
         "2023-02-09",
         2023,
         2,
         "FEVEREIRO",
         9,
         "QUINTA-FEIRA",
         5
        ],
        [
         "2023-02-10",
         2023,
         2,
         "FEVEREIRO",
         10,
         "SEXTA-FEIRA",
         6
        ],
        [
         "2023-02-11",
         2023,
         2,
         "FEVEREIRO",
         11,
         "SABADO",
         7
        ],
        [
         "2023-02-12",
         2023,
         2,
         "FEVEREIRO",
         12,
         "DOMINGO",
         1
        ],
        [
         "2023-02-13",
         2023,
         2,
         "FEVEREIRO",
         13,
         "SEGUNDA-FEIRA",
         2
        ],
        [
         "2023-02-14",
         2023,
         2,
         "FEVEREIRO",
         14,
         "TERCA-FEIRA",
         3
        ],
        [
         "2023-02-15",
         2023,
         2,
         "FEVEREIRO",
         15,
         "QUARTA-FEIRA",
         4
        ],
        [
         "2023-02-16",
         2023,
         2,
         "FEVEREIRO",
         16,
         "QUINTA-FEIRA",
         5
        ],
        [
         "2023-02-17",
         2023,
         2,
         "FEVEREIRO",
         17,
         "SEXTA-FEIRA",
         6
        ],
        [
         "2023-02-18",
         2023,
         2,
         "FEVEREIRO",
         18,
         "SABADO",
         7
        ],
        [
         "2023-02-19",
         2023,
         2,
         "FEVEREIRO",
         19,
         "DOMINGO",
         1
        ],
        [
         "2023-02-20",
         2023,
         2,
         "FEVEREIRO",
         20,
         "SEGUNDA-FEIRA",
         2
        ],
        [
         "2023-02-21",
         2023,
         2,
         "FEVEREIRO",
         21,
         "TERCA-FEIRA",
         3
        ],
        [
         "2023-02-22",
         2023,
         2,
         "FEVEREIRO",
         22,
         "QUARTA-FEIRA",
         4
        ],
        [
         "2023-02-23",
         2023,
         2,
         "FEVEREIRO",
         23,
         "QUINTA-FEIRA",
         5
        ],
        [
         "2023-02-24",
         2023,
         2,
         "FEVEREIRO",
         24,
         "SEXTA-FEIRA",
         6
        ],
        [
         "2023-02-25",
         2023,
         2,
         "FEVEREIRO",
         25,
         "SABADO",
         7
        ],
        [
         "2023-02-26",
         2023,
         2,
         "FEVEREIRO",
         26,
         "DOMINGO",
         1
        ],
        [
         "2023-02-27",
         2023,
         2,
         "FEVEREIRO",
         27,
         "SEGUNDA-FEIRA",
         2
        ],
        [
         "2023-02-28",
         2023,
         2,
         "FEVEREIRO",
         28,
         "TERCA-FEIRA",
         3
        ],
        [
         "2023-03-01",
         2023,
         3,
         "MARCO",
         1,
         "QUARTA-FEIRA",
         4
        ],
        [
         "2023-03-02",
         2023,
         3,
         "MARCO",
         2,
         "QUINTA-FEIRA",
         5
        ],
        [
         "2023-03-03",
         2023,
         3,
         "MARCO",
         3,
         "SEXTA-FEIRA",
         6
        ],
        [
         "2023-03-04",
         2023,
         3,
         "MARCO",
         4,
         "SABADO",
         7
        ],
        [
         "2023-03-05",
         2023,
         3,
         "MARCO",
         5,
         "DOMINGO",
         1
        ],
        [
         "2023-03-06",
         2023,
         3,
         "MARCO",
         6,
         "SEGUNDA-FEIRA",
         2
        ],
        [
         "2023-03-07",
         2023,
         3,
         "MARCO",
         7,
         "TERCA-FEIRA",
         3
        ],
        [
         "2023-03-08",
         2023,
         3,
         "MARCO",
         8,
         "QUARTA-FEIRA",
         4
        ],
        [
         "2023-03-09",
         2023,
         3,
         "MARCO",
         9,
         "QUINTA-FEIRA",
         5
        ],
        [
         "2023-03-10",
         2023,
         3,
         "MARCO",
         10,
         "SEXTA-FEIRA",
         6
        ],
        [
         "2023-03-11",
         2023,
         3,
         "MARCO",
         11,
         "SABADO",
         7
        ],
        [
         "2023-03-12",
         2023,
         3,
         "MARCO",
         12,
         "DOMINGO",
         1
        ],
        [
         "2023-03-13",
         2023,
         3,
         "MARCO",
         13,
         "SEGUNDA-FEIRA",
         2
        ],
        [
         "2023-03-14",
         2023,
         3,
         "MARCO",
         14,
         "TERCA-FEIRA",
         3
        ],
        [
         "2023-03-15",
         2023,
         3,
         "MARCO",
         15,
         "QUARTA-FEIRA",
         4
        ],
        [
         "2023-03-16",
         2023,
         3,
         "MARCO",
         16,
         "QUINTA-FEIRA",
         5
        ],
        [
         "2023-03-17",
         2023,
         3,
         "MARCO",
         17,
         "SEXTA-FEIRA",
         6
        ],
        [
         "2023-03-18",
         2023,
         3,
         "MARCO",
         18,
         "SABADO",
         7
        ],
        [
         "2023-03-19",
         2023,
         3,
         "MARCO",
         19,
         "DOMINGO",
         1
        ],
        [
         "2023-03-20",
         2023,
         3,
         "MARCO",
         20,
         "SEGUNDA-FEIRA",
         2
        ],
        [
         "2023-03-21",
         2023,
         3,
         "MARCO",
         21,
         "TERCA-FEIRA",
         3
        ],
        [
         "2023-03-22",
         2023,
         3,
         "MARCO",
         22,
         "QUARTA-FEIRA",
         4
        ],
        [
         "2023-03-23",
         2023,
         3,
         "MARCO",
         23,
         "QUINTA-FEIRA",
         5
        ],
        [
         "2023-03-24",
         2023,
         3,
         "MARCO",
         24,
         "SEXTA-FEIRA",
         6
        ],
        [
         "2023-03-25",
         2023,
         3,
         "MARCO",
         25,
         "SABADO",
         7
        ],
        [
         "2023-03-26",
         2023,
         3,
         "MARCO",
         26,
         "DOMINGO",
         1
        ],
        [
         "2023-03-27",
         2023,
         3,
         "MARCO",
         27,
         "SEGUNDA-FEIRA",
         2
        ],
        [
         "2023-03-28",
         2023,
         3,
         "MARCO",
         28,
         "TERCA-FEIRA",
         3
        ],
        [
         "2023-03-29",
         2023,
         3,
         "MARCO",
         29,
         "QUARTA-FEIRA",
         4
        ],
        [
         "2023-03-30",
         2023,
         3,
         "MARCO",
         30,
         "QUINTA-FEIRA",
         5
        ],
        [
         "2023-03-31",
         2023,
         3,
         "MARCO",
         31,
         "SEXTA-FEIRA",
         6
        ],
        [
         "2023-04-01",
         2023,
         4,
         "ABRIL",
         1,
         "SABADO",
         7
        ],
        [
         "2023-04-02",
         2023,
         4,
         "ABRIL",
         2,
         "DOMINGO",
         1
        ],
        [
         "2023-04-03",
         2023,
         4,
         "ABRIL",
         3,
         "SEGUNDA-FEIRA",
         2
        ],
        [
         "2023-04-04",
         2023,
         4,
         "ABRIL",
         4,
         "TERCA-FEIRA",
         3
        ],
        [
         "2023-04-05",
         2023,
         4,
         "ABRIL",
         5,
         "QUARTA-FEIRA",
         4
        ],
        [
         "2023-04-06",
         2023,
         4,
         "ABRIL",
         6,
         "QUINTA-FEIRA",
         5
        ],
        [
         "2023-04-07",
         2023,
         4,
         "ABRIL",
         7,
         "SEXTA-FEIRA",
         6
        ],
        [
         "2023-04-08",
         2023,
         4,
         "ABRIL",
         8,
         "SABADO",
         7
        ],
        [
         "2023-04-09",
         2023,
         4,
         "ABRIL",
         9,
         "DOMINGO",
         1
        ],
        [
         "2023-04-10",
         2023,
         4,
         "ABRIL",
         10,
         "SEGUNDA-FEIRA",
         2
        ],
        [
         "2023-04-11",
         2023,
         4,
         "ABRIL",
         11,
         "TERCA-FEIRA",
         3
        ],
        [
         "2023-04-12",
         2023,
         4,
         "ABRIL",
         12,
         "QUARTA-FEIRA",
         4
        ],
        [
         "2023-04-13",
         2023,
         4,
         "ABRIL",
         13,
         "QUINTA-FEIRA",
         5
        ],
        [
         "2023-04-14",
         2023,
         4,
         "ABRIL",
         14,
         "SEXTA-FEIRA",
         6
        ],
        [
         "2023-04-15",
         2023,
         4,
         "ABRIL",
         15,
         "SABADO",
         7
        ],
        [
         "2023-04-16",
         2023,
         4,
         "ABRIL",
         16,
         "DOMINGO",
         1
        ],
        [
         "2023-04-17",
         2023,
         4,
         "ABRIL",
         17,
         "SEGUNDA-FEIRA",
         2
        ],
        [
         "2023-04-18",
         2023,
         4,
         "ABRIL",
         18,
         "TERCA-FEIRA",
         3
        ],
        [
         "2023-04-19",
         2023,
         4,
         "ABRIL",
         19,
         "QUARTA-FEIRA",
         4
        ],
        [
         "2023-04-20",
         2023,
         4,
         "ABRIL",
         20,
         "QUINTA-FEIRA",
         5
        ],
        [
         "2023-04-21",
         2023,
         4,
         "ABRIL",
         21,
         "SEXTA-FEIRA",
         6
        ],
        [
         "2023-04-22",
         2023,
         4,
         "ABRIL",
         22,
         "SABADO",
         7
        ],
        [
         "2023-04-23",
         2023,
         4,
         "ABRIL",
         23,
         "DOMINGO",
         1
        ],
        [
         "2023-04-24",
         2023,
         4,
         "ABRIL",
         24,
         "SEGUNDA-FEIRA",
         2
        ],
        [
         "2023-04-25",
         2023,
         4,
         "ABRIL",
         25,
         "TERCA-FEIRA",
         3
        ],
        [
         "2023-04-26",
         2023,
         4,
         "ABRIL",
         26,
         "QUARTA-FEIRA",
         4
        ],
        [
         "2023-04-27",
         2023,
         4,
         "ABRIL",
         27,
         "QUINTA-FEIRA",
         5
        ],
        [
         "2023-04-28",
         2023,
         4,
         "ABRIL",
         28,
         "SEXTA-FEIRA",
         6
        ],
        [
         "2023-04-29",
         2023,
         4,
         "ABRIL",
         29,
         "SABADO",
         7
        ],
        [
         "2023-04-30",
         2023,
         4,
         "ABRIL",
         30,
         "DOMINGO",
         1
        ],
        [
         "2023-05-01",
         2023,
         5,
         "MAIO",
         1,
         "SEGUNDA-FEIRA",
         2
        ],
        [
         "2023-05-02",
         2023,
         5,
         "MAIO",
         2,
         "TERCA-FEIRA",
         3
        ],
        [
         "2023-05-03",
         2023,
         5,
         "MAIO",
         3,
         "QUARTA-FEIRA",
         4
        ],
        [
         "2023-05-04",
         2023,
         5,
         "MAIO",
         4,
         "QUINTA-FEIRA",
         5
        ],
        [
         "2023-05-05",
         2023,
         5,
         "MAIO",
         5,
         "SEXTA-FEIRA",
         6
        ],
        [
         "2023-05-06",
         2023,
         5,
         "MAIO",
         6,
         "SABADO",
         7
        ],
        [
         "2023-05-07",
         2023,
         5,
         "MAIO",
         7,
         "DOMINGO",
         1
        ],
        [
         "2023-05-08",
         2023,
         5,
         "MAIO",
         8,
         "SEGUNDA-FEIRA",
         2
        ],
        [
         "2023-05-09",
         2023,
         5,
         "MAIO",
         9,
         "TERCA-FEIRA",
         3
        ],
        [
         "2023-05-10",
         2023,
         5,
         "MAIO",
         10,
         "QUARTA-FEIRA",
         4
        ],
        [
         "2023-05-11",
         2023,
         5,
         "MAIO",
         11,
         "QUINTA-FEIRA",
         5
        ],
        [
         "2023-05-12",
         2023,
         5,
         "MAIO",
         12,
         "SEXTA-FEIRA",
         6
        ],
        [
         "2023-05-13",
         2023,
         5,
         "MAIO",
         13,
         "SABADO",
         7
        ],
        [
         "2023-05-14",
         2023,
         5,
         "MAIO",
         14,
         "DOMINGO",
         1
        ],
        [
         "2023-05-15",
         2023,
         5,
         "MAIO",
         15,
         "SEGUNDA-FEIRA",
         2
        ],
        [
         "2023-05-16",
         2023,
         5,
         "MAIO",
         16,
         "TERCA-FEIRA",
         3
        ],
        [
         "2023-05-17",
         2023,
         5,
         "MAIO",
         17,
         "QUARTA-FEIRA",
         4
        ],
        [
         "2023-05-18",
         2023,
         5,
         "MAIO",
         18,
         "QUINTA-FEIRA",
         5
        ],
        [
         "2023-05-19",
         2023,
         5,
         "MAIO",
         19,
         "SEXTA-FEIRA",
         6
        ],
        [
         "2023-05-20",
         2023,
         5,
         "MAIO",
         20,
         "SABADO",
         7
        ],
        [
         "2023-05-21",
         2023,
         5,
         "MAIO",
         21,
         "DOMINGO",
         1
        ],
        [
         "2023-05-22",
         2023,
         5,
         "MAIO",
         22,
         "SEGUNDA-FEIRA",
         2
        ],
        [
         "2023-05-23",
         2023,
         5,
         "MAIO",
         23,
         "TERCA-FEIRA",
         3
        ],
        [
         "2023-05-24",
         2023,
         5,
         "MAIO",
         24,
         "QUARTA-FEIRA",
         4
        ],
        [
         "2023-05-25",
         2023,
         5,
         "MAIO",
         25,
         "QUINTA-FEIRA",
         5
        ],
        [
         "2023-05-26",
         2023,
         5,
         "MAIO",
         26,
         "SEXTA-FEIRA",
         6
        ],
        [
         "2023-05-27",
         2023,
         5,
         "MAIO",
         27,
         "SABADO",
         7
        ],
        [
         "2023-05-28",
         2023,
         5,
         "MAIO",
         28,
         "DOMINGO",
         1
        ],
        [
         "2023-05-29",
         2023,
         5,
         "MAIO",
         29,
         "SEGUNDA-FEIRA",
         2
        ],
        [
         "2023-05-30",
         2023,
         5,
         "MAIO",
         30,
         "TERCA-FEIRA",
         3
        ],
        [
         "2023-05-31",
         2023,
         5,
         "MAIO",
         31,
         "QUARTA-FEIRA",
         4
        ],
        [
         "2023-06-01",
         2023,
         6,
         "JUNHO",
         1,
         "QUINTA-FEIRA",
         5
        ],
        [
         "2023-06-02",
         2023,
         6,
         "JUNHO",
         2,
         "SEXTA-FEIRA",
         6
        ],
        [
         "2023-06-03",
         2023,
         6,
         "JUNHO",
         3,
         "SABADO",
         7
        ],
        [
         "2023-06-04",
         2023,
         6,
         "JUNHO",
         4,
         "DOMINGO",
         1
        ],
        [
         "2023-06-05",
         2023,
         6,
         "JUNHO",
         5,
         "SEGUNDA-FEIRA",
         2
        ],
        [
         "2023-06-06",
         2023,
         6,
         "JUNHO",
         6,
         "TERCA-FEIRA",
         3
        ],
        [
         "2023-06-07",
         2023,
         6,
         "JUNHO",
         7,
         "QUARTA-FEIRA",
         4
        ],
        [
         "2023-06-08",
         2023,
         6,
         "JUNHO",
         8,
         "QUINTA-FEIRA",
         5
        ],
        [
         "2023-06-09",
         2023,
         6,
         "JUNHO",
         9,
         "SEXTA-FEIRA",
         6
        ],
        [
         "2023-06-10",
         2023,
         6,
         "JUNHO",
         10,
         "SABADO",
         7
        ],
        [
         "2023-06-11",
         2023,
         6,
         "JUNHO",
         11,
         "DOMINGO",
         1
        ],
        [
         "2023-06-12",
         2023,
         6,
         "JUNHO",
         12,
         "SEGUNDA-FEIRA",
         2
        ],
        [
         "2023-06-13",
         2023,
         6,
         "JUNHO",
         13,
         "TERCA-FEIRA",
         3
        ],
        [
         "2023-06-14",
         2023,
         6,
         "JUNHO",
         14,
         "QUARTA-FEIRA",
         4
        ],
        [
         "2023-06-15",
         2023,
         6,
         "JUNHO",
         15,
         "QUINTA-FEIRA",
         5
        ],
        [
         "2023-06-16",
         2023,
         6,
         "JUNHO",
         16,
         "SEXTA-FEIRA",
         6
        ],
        [
         "2023-06-17",
         2023,
         6,
         "JUNHO",
         17,
         "SABADO",
         7
        ],
        [
         "2023-06-18",
         2023,
         6,
         "JUNHO",
         18,
         "DOMINGO",
         1
        ],
        [
         "2023-06-19",
         2023,
         6,
         "JUNHO",
         19,
         "SEGUNDA-FEIRA",
         2
        ],
        [
         "2023-06-20",
         2023,
         6,
         "JUNHO",
         20,
         "TERCA-FEIRA",
         3
        ],
        [
         "2023-06-21",
         2023,
         6,
         "JUNHO",
         21,
         "QUARTA-FEIRA",
         4
        ],
        [
         "2023-06-22",
         2023,
         6,
         "JUNHO",
         22,
         "QUINTA-FEIRA",
         5
        ],
        [
         "2023-06-23",
         2023,
         6,
         "JUNHO",
         23,
         "SEXTA-FEIRA",
         6
        ],
        [
         "2023-06-24",
         2023,
         6,
         "JUNHO",
         24,
         "SABADO",
         7
        ],
        [
         "2023-06-25",
         2023,
         6,
         "JUNHO",
         25,
         "DOMINGO",
         1
        ],
        [
         "2023-06-26",
         2023,
         6,
         "JUNHO",
         26,
         "SEGUNDA-FEIRA",
         2
        ],
        [
         "2023-06-27",
         2023,
         6,
         "JUNHO",
         27,
         "TERCA-FEIRA",
         3
        ],
        [
         "2023-06-28",
         2023,
         6,
         "JUNHO",
         28,
         "QUARTA-FEIRA",
         4
        ],
        [
         "2023-06-29",
         2023,
         6,
         "JUNHO",
         29,
         "QUINTA-FEIRA",
         5
        ],
        [
         "2023-06-30",
         2023,
         6,
         "JUNHO",
         30,
         "SEXTA-FEIRA",
         6
        ],
        [
         "2023-07-01",
         2023,
         7,
         "JULHO",
         1,
         "SABADO",
         7
        ],
        [
         "2023-07-02",
         2023,
         7,
         "JULHO",
         2,
         "DOMINGO",
         1
        ],
        [
         "2023-07-03",
         2023,
         7,
         "JULHO",
         3,
         "SEGUNDA-FEIRA",
         2
        ],
        [
         "2023-07-04",
         2023,
         7,
         "JULHO",
         4,
         "TERCA-FEIRA",
         3
        ],
        [
         "2023-07-05",
         2023,
         7,
         "JULHO",
         5,
         "QUARTA-FEIRA",
         4
        ],
        [
         "2023-07-06",
         2023,
         7,
         "JULHO",
         6,
         "QUINTA-FEIRA",
         5
        ],
        [
         "2023-07-07",
         2023,
         7,
         "JULHO",
         7,
         "SEXTA-FEIRA",
         6
        ],
        [
         "2023-07-08",
         2023,
         7,
         "JULHO",
         8,
         "SABADO",
         7
        ],
        [
         "2023-07-09",
         2023,
         7,
         "JULHO",
         9,
         "DOMINGO",
         1
        ],
        [
         "2023-07-10",
         2023,
         7,
         "JULHO",
         10,
         "SEGUNDA-FEIRA",
         2
        ],
        [
         "2023-07-11",
         2023,
         7,
         "JULHO",
         11,
         "TERCA-FEIRA",
         3
        ],
        [
         "2023-07-12",
         2023,
         7,
         "JULHO",
         12,
         "QUARTA-FEIRA",
         4
        ],
        [
         "2023-07-13",
         2023,
         7,
         "JULHO",
         13,
         "QUINTA-FEIRA",
         5
        ],
        [
         "2023-07-14",
         2023,
         7,
         "JULHO",
         14,
         "SEXTA-FEIRA",
         6
        ],
        [
         "2023-07-15",
         2023,
         7,
         "JULHO",
         15,
         "SABADO",
         7
        ],
        [
         "2023-07-16",
         2023,
         7,
         "JULHO",
         16,
         "DOMINGO",
         1
        ],
        [
         "2023-07-17",
         2023,
         7,
         "JULHO",
         17,
         "SEGUNDA-FEIRA",
         2
        ],
        [
         "2023-07-18",
         2023,
         7,
         "JULHO",
         18,
         "TERCA-FEIRA",
         3
        ],
        [
         "2023-07-19",
         2023,
         7,
         "JULHO",
         19,
         "QUARTA-FEIRA",
         4
        ],
        [
         "2023-07-20",
         2023,
         7,
         "JULHO",
         20,
         "QUINTA-FEIRA",
         5
        ],
        [
         "2023-07-21",
         2023,
         7,
         "JULHO",
         21,
         "SEXTA-FEIRA",
         6
        ],
        [
         "2023-07-22",
         2023,
         7,
         "JULHO",
         22,
         "SABADO",
         7
        ],
        [
         "2023-07-23",
         2023,
         7,
         "JULHO",
         23,
         "DOMINGO",
         1
        ],
        [
         "2023-07-24",
         2023,
         7,
         "JULHO",
         24,
         "SEGUNDA-FEIRA",
         2
        ],
        [
         "2023-07-25",
         2023,
         7,
         "JULHO",
         25,
         "TERCA-FEIRA",
         3
        ],
        [
         "2023-07-26",
         2023,
         7,
         "JULHO",
         26,
         "QUARTA-FEIRA",
         4
        ],
        [
         "2023-07-27",
         2023,
         7,
         "JULHO",
         27,
         "QUINTA-FEIRA",
         5
        ],
        [
         "2023-07-28",
         2023,
         7,
         "JULHO",
         28,
         "SEXTA-FEIRA",
         6
        ],
        [
         "2023-07-29",
         2023,
         7,
         "JULHO",
         29,
         "SABADO",
         7
        ],
        [
         "2023-07-30",
         2023,
         7,
         "JULHO",
         30,
         "DOMINGO",
         1
        ],
        [
         "2023-07-31",
         2023,
         7,
         "JULHO",
         31,
         "SEGUNDA-FEIRA",
         2
        ],
        [
         "2023-08-01",
         2023,
         8,
         "AGOSTO",
         1,
         "TERCA-FEIRA",
         3
        ],
        [
         "2023-08-02",
         2023,
         8,
         "AGOSTO",
         2,
         "QUARTA-FEIRA",
         4
        ],
        [
         "2023-08-03",
         2023,
         8,
         "AGOSTO",
         3,
         "QUINTA-FEIRA",
         5
        ],
        [
         "2023-08-04",
         2023,
         8,
         "AGOSTO",
         4,
         "SEXTA-FEIRA",
         6
        ],
        [
         "2023-08-05",
         2023,
         8,
         "AGOSTO",
         5,
         "SABADO",
         7
        ],
        [
         "2023-08-06",
         2023,
         8,
         "AGOSTO",
         6,
         "DOMINGO",
         1
        ],
        [
         "2023-08-07",
         2023,
         8,
         "AGOSTO",
         7,
         "SEGUNDA-FEIRA",
         2
        ],
        [
         "2023-08-08",
         2023,
         8,
         "AGOSTO",
         8,
         "TERCA-FEIRA",
         3
        ],
        [
         "2023-08-09",
         2023,
         8,
         "AGOSTO",
         9,
         "QUARTA-FEIRA",
         4
        ],
        [
         "2023-08-10",
         2023,
         8,
         "AGOSTO",
         10,
         "QUINTA-FEIRA",
         5
        ],
        [
         "2023-08-11",
         2023,
         8,
         "AGOSTO",
         11,
         "SEXTA-FEIRA",
         6
        ],
        [
         "2023-08-12",
         2023,
         8,
         "AGOSTO",
         12,
         "SABADO",
         7
        ],
        [
         "2023-08-13",
         2023,
         8,
         "AGOSTO",
         13,
         "DOMINGO",
         1
        ],
        [
         "2023-08-14",
         2023,
         8,
         "AGOSTO",
         14,
         "SEGUNDA-FEIRA",
         2
        ],
        [
         "2023-08-15",
         2023,
         8,
         "AGOSTO",
         15,
         "TERCA-FEIRA",
         3
        ],
        [
         "2023-08-16",
         2023,
         8,
         "AGOSTO",
         16,
         "QUARTA-FEIRA",
         4
        ],
        [
         "2023-08-17",
         2023,
         8,
         "AGOSTO",
         17,
         "QUINTA-FEIRA",
         5
        ],
        [
         "2023-08-18",
         2023,
         8,
         "AGOSTO",
         18,
         "SEXTA-FEIRA",
         6
        ],
        [
         "2023-08-19",
         2023,
         8,
         "AGOSTO",
         19,
         "SABADO",
         7
        ],
        [
         "2023-08-20",
         2023,
         8,
         "AGOSTO",
         20,
         "DOMINGO",
         1
        ],
        [
         "2023-08-21",
         2023,
         8,
         "AGOSTO",
         21,
         "SEGUNDA-FEIRA",
         2
        ],
        [
         "2023-08-22",
         2023,
         8,
         "AGOSTO",
         22,
         "TERCA-FEIRA",
         3
        ],
        [
         "2023-08-23",
         2023,
         8,
         "AGOSTO",
         23,
         "QUARTA-FEIRA",
         4
        ],
        [
         "2023-08-24",
         2023,
         8,
         "AGOSTO",
         24,
         "QUINTA-FEIRA",
         5
        ],
        [
         "2023-08-25",
         2023,
         8,
         "AGOSTO",
         25,
         "SEXTA-FEIRA",
         6
        ],
        [
         "2023-08-26",
         2023,
         8,
         "AGOSTO",
         26,
         "SABADO",
         7
        ],
        [
         "2023-08-27",
         2023,
         8,
         "AGOSTO",
         27,
         "DOMINGO",
         1
        ],
        [
         "2023-08-28",
         2023,
         8,
         "AGOSTO",
         28,
         "SEGUNDA-FEIRA",
         2
        ],
        [
         "2023-08-29",
         2023,
         8,
         "AGOSTO",
         29,
         "TERCA-FEIRA",
         3
        ],
        [
         "2023-08-30",
         2023,
         8,
         "AGOSTO",
         30,
         "QUARTA-FEIRA",
         4
        ],
        [
         "2023-08-31",
         2023,
         8,
         "AGOSTO",
         31,
         "QUINTA-FEIRA",
         5
        ],
        [
         "2023-09-01",
         2023,
         9,
         "SETEMBRO",
         1,
         "SEXTA-FEIRA",
         6
        ],
        [
         "2023-09-02",
         2023,
         9,
         "SETEMBRO",
         2,
         "SABADO",
         7
        ],
        [
         "2023-09-03",
         2023,
         9,
         "SETEMBRO",
         3,
         "DOMINGO",
         1
        ],
        [
         "2023-09-04",
         2023,
         9,
         "SETEMBRO",
         4,
         "SEGUNDA-FEIRA",
         2
        ],
        [
         "2023-09-05",
         2023,
         9,
         "SETEMBRO",
         5,
         "TERCA-FEIRA",
         3
        ],
        [
         "2023-09-06",
         2023,
         9,
         "SETEMBRO",
         6,
         "QUARTA-FEIRA",
         4
        ],
        [
         "2023-09-07",
         2023,
         9,
         "SETEMBRO",
         7,
         "QUINTA-FEIRA",
         5
        ],
        [
         "2023-09-08",
         2023,
         9,
         "SETEMBRO",
         8,
         "SEXTA-FEIRA",
         6
        ],
        [
         "2023-09-09",
         2023,
         9,
         "SETEMBRO",
         9,
         "SABADO",
         7
        ],
        [
         "2023-09-10",
         2023,
         9,
         "SETEMBRO",
         10,
         "DOMINGO",
         1
        ],
        [
         "2023-09-11",
         2023,
         9,
         "SETEMBRO",
         11,
         "SEGUNDA-FEIRA",
         2
        ],
        [
         "2023-09-12",
         2023,
         9,
         "SETEMBRO",
         12,
         "TERCA-FEIRA",
         3
        ],
        [
         "2023-09-13",
         2023,
         9,
         "SETEMBRO",
         13,
         "QUARTA-FEIRA",
         4
        ],
        [
         "2023-09-14",
         2023,
         9,
         "SETEMBRO",
         14,
         "QUINTA-FEIRA",
         5
        ],
        [
         "2023-09-15",
         2023,
         9,
         "SETEMBRO",
         15,
         "SEXTA-FEIRA",
         6
        ],
        [
         "2023-09-16",
         2023,
         9,
         "SETEMBRO",
         16,
         "SABADO",
         7
        ],
        [
         "2023-09-17",
         2023,
         9,
         "SETEMBRO",
         17,
         "DOMINGO",
         1
        ],
        [
         "2023-09-18",
         2023,
         9,
         "SETEMBRO",
         18,
         "SEGUNDA-FEIRA",
         2
        ],
        [
         "2023-09-19",
         2023,
         9,
         "SETEMBRO",
         19,
         "TERCA-FEIRA",
         3
        ],
        [
         "2023-09-20",
         2023,
         9,
         "SETEMBRO",
         20,
         "QUARTA-FEIRA",
         4
        ],
        [
         "2023-09-21",
         2023,
         9,
         "SETEMBRO",
         21,
         "QUINTA-FEIRA",
         5
        ],
        [
         "2023-09-22",
         2023,
         9,
         "SETEMBRO",
         22,
         "SEXTA-FEIRA",
         6
        ],
        [
         "2023-09-23",
         2023,
         9,
         "SETEMBRO",
         23,
         "SABADO",
         7
        ],
        [
         "2023-09-24",
         2023,
         9,
         "SETEMBRO",
         24,
         "DOMINGO",
         1
        ],
        [
         "2023-09-25",
         2023,
         9,
         "SETEMBRO",
         25,
         "SEGUNDA-FEIRA",
         2
        ],
        [
         "2023-09-26",
         2023,
         9,
         "SETEMBRO",
         26,
         "TERCA-FEIRA",
         3
        ],
        [
         "2023-09-27",
         2023,
         9,
         "SETEMBRO",
         27,
         "QUARTA-FEIRA",
         4
        ],
        [
         "2023-09-28",
         2023,
         9,
         "SETEMBRO",
         28,
         "QUINTA-FEIRA",
         5
        ],
        [
         "2023-09-29",
         2023,
         9,
         "SETEMBRO",
         29,
         "SEXTA-FEIRA",
         6
        ],
        [
         "2023-09-30",
         2023,
         9,
         "SETEMBRO",
         30,
         "SABADO",
         7
        ],
        [
         "2023-10-01",
         2023,
         10,
         "OUTUBRO",
         1,
         "DOMINGO",
         1
        ],
        [
         "2023-10-02",
         2023,
         10,
         "OUTUBRO",
         2,
         "SEGUNDA-FEIRA",
         2
        ],
        [
         "2023-10-03",
         2023,
         10,
         "OUTUBRO",
         3,
         "TERCA-FEIRA",
         3
        ],
        [
         "2023-10-04",
         2023,
         10,
         "OUTUBRO",
         4,
         "QUARTA-FEIRA",
         4
        ],
        [
         "2023-10-05",
         2023,
         10,
         "OUTUBRO",
         5,
         "QUINTA-FEIRA",
         5
        ],
        [
         "2023-10-06",
         2023,
         10,
         "OUTUBRO",
         6,
         "SEXTA-FEIRA",
         6
        ],
        [
         "2023-10-07",
         2023,
         10,
         "OUTUBRO",
         7,
         "SABADO",
         7
        ],
        [
         "2023-10-08",
         2023,
         10,
         "OUTUBRO",
         8,
         "DOMINGO",
         1
        ],
        [
         "2023-10-09",
         2023,
         10,
         "OUTUBRO",
         9,
         "SEGUNDA-FEIRA",
         2
        ],
        [
         "2023-10-10",
         2023,
         10,
         "OUTUBRO",
         10,
         "TERCA-FEIRA",
         3
        ],
        [
         "2023-10-11",
         2023,
         10,
         "OUTUBRO",
         11,
         "QUARTA-FEIRA",
         4
        ],
        [
         "2023-10-12",
         2023,
         10,
         "OUTUBRO",
         12,
         "QUINTA-FEIRA",
         5
        ],
        [
         "2023-10-13",
         2023,
         10,
         "OUTUBRO",
         13,
         "SEXTA-FEIRA",
         6
        ],
        [
         "2023-10-14",
         2023,
         10,
         "OUTUBRO",
         14,
         "SABADO",
         7
        ],
        [
         "2023-10-15",
         2023,
         10,
         "OUTUBRO",
         15,
         "DOMINGO",
         1
        ],
        [
         "2023-10-16",
         2023,
         10,
         "OUTUBRO",
         16,
         "SEGUNDA-FEIRA",
         2
        ],
        [
         "2023-10-17",
         2023,
         10,
         "OUTUBRO",
         17,
         "TERCA-FEIRA",
         3
        ],
        [
         "2023-10-18",
         2023,
         10,
         "OUTUBRO",
         18,
         "QUARTA-FEIRA",
         4
        ],
        [
         "2023-10-19",
         2023,
         10,
         "OUTUBRO",
         19,
         "QUINTA-FEIRA",
         5
        ],
        [
         "2023-10-20",
         2023,
         10,
         "OUTUBRO",
         20,
         "SEXTA-FEIRA",
         6
        ],
        [
         "2023-10-21",
         2023,
         10,
         "OUTUBRO",
         21,
         "SABADO",
         7
        ],
        [
         "2023-10-22",
         2023,
         10,
         "OUTUBRO",
         22,
         "DOMINGO",
         1
        ],
        [
         "2023-10-23",
         2023,
         10,
         "OUTUBRO",
         23,
         "SEGUNDA-FEIRA",
         2
        ],
        [
         "2023-10-24",
         2023,
         10,
         "OUTUBRO",
         24,
         "TERCA-FEIRA",
         3
        ],
        [
         "2023-10-25",
         2023,
         10,
         "OUTUBRO",
         25,
         "QUARTA-FEIRA",
         4
        ],
        [
         "2023-10-26",
         2023,
         10,
         "OUTUBRO",
         26,
         "QUINTA-FEIRA",
         5
        ],
        [
         "2023-10-27",
         2023,
         10,
         "OUTUBRO",
         27,
         "SEXTA-FEIRA",
         6
        ],
        [
         "2023-10-28",
         2023,
         10,
         "OUTUBRO",
         28,
         "SABADO",
         7
        ],
        [
         "2023-10-29",
         2023,
         10,
         "OUTUBRO",
         29,
         "DOMINGO",
         1
        ],
        [
         "2023-10-30",
         2023,
         10,
         "OUTUBRO",
         30,
         "SEGUNDA-FEIRA",
         2
        ],
        [
         "2023-10-31",
         2023,
         10,
         "OUTUBRO",
         31,
         "TERCA-FEIRA",
         3
        ],
        [
         "2023-11-01",
         2023,
         11,
         "NOVEMBRO",
         1,
         "QUARTA-FEIRA",
         4
        ],
        [
         "2023-11-02",
         2023,
         11,
         "NOVEMBRO",
         2,
         "QUINTA-FEIRA",
         5
        ],
        [
         "2023-11-03",
         2023,
         11,
         "NOVEMBRO",
         3,
         "SEXTA-FEIRA",
         6
        ],
        [
         "2023-11-04",
         2023,
         11,
         "NOVEMBRO",
         4,
         "SABADO",
         7
        ],
        [
         "2023-11-05",
         2023,
         11,
         "NOVEMBRO",
         5,
         "DOMINGO",
         1
        ],
        [
         "2023-11-06",
         2023,
         11,
         "NOVEMBRO",
         6,
         "SEGUNDA-FEIRA",
         2
        ],
        [
         "2023-11-07",
         2023,
         11,
         "NOVEMBRO",
         7,
         "TERCA-FEIRA",
         3
        ],
        [
         "2023-11-08",
         2023,
         11,
         "NOVEMBRO",
         8,
         "QUARTA-FEIRA",
         4
        ],
        [
         "2023-11-09",
         2023,
         11,
         "NOVEMBRO",
         9,
         "QUINTA-FEIRA",
         5
        ],
        [
         "2023-11-10",
         2023,
         11,
         "NOVEMBRO",
         10,
         "SEXTA-FEIRA",
         6
        ],
        [
         "2023-11-11",
         2023,
         11,
         "NOVEMBRO",
         11,
         "SABADO",
         7
        ],
        [
         "2023-11-12",
         2023,
         11,
         "NOVEMBRO",
         12,
         "DOMINGO",
         1
        ],
        [
         "2023-11-13",
         2023,
         11,
         "NOVEMBRO",
         13,
         "SEGUNDA-FEIRA",
         2
        ],
        [
         "2023-11-14",
         2023,
         11,
         "NOVEMBRO",
         14,
         "TERCA-FEIRA",
         3
        ],
        [
         "2023-11-15",
         2023,
         11,
         "NOVEMBRO",
         15,
         "QUARTA-FEIRA",
         4
        ],
        [
         "2023-11-16",
         2023,
         11,
         "NOVEMBRO",
         16,
         "QUINTA-FEIRA",
         5
        ],
        [
         "2023-11-17",
         2023,
         11,
         "NOVEMBRO",
         17,
         "SEXTA-FEIRA",
         6
        ],
        [
         "2023-11-18",
         2023,
         11,
         "NOVEMBRO",
         18,
         "SABADO",
         7
        ],
        [
         "2023-11-19",
         2023,
         11,
         "NOVEMBRO",
         19,
         "DOMINGO",
         1
        ],
        [
         "2023-11-20",
         2023,
         11,
         "NOVEMBRO",
         20,
         "SEGUNDA-FEIRA",
         2
        ],
        [
         "2023-11-21",
         2023,
         11,
         "NOVEMBRO",
         21,
         "TERCA-FEIRA",
         3
        ],
        [
         "2023-11-22",
         2023,
         11,
         "NOVEMBRO",
         22,
         "QUARTA-FEIRA",
         4
        ],
        [
         "2023-11-23",
         2023,
         11,
         "NOVEMBRO",
         23,
         "QUINTA-FEIRA",
         5
        ],
        [
         "2023-11-24",
         2023,
         11,
         "NOVEMBRO",
         24,
         "SEXTA-FEIRA",
         6
        ],
        [
         "2023-11-25",
         2023,
         11,
         "NOVEMBRO",
         25,
         "SABADO",
         7
        ],
        [
         "2023-11-26",
         2023,
         11,
         "NOVEMBRO",
         26,
         "DOMINGO",
         1
        ],
        [
         "2023-11-27",
         2023,
         11,
         "NOVEMBRO",
         27,
         "SEGUNDA-FEIRA",
         2
        ],
        [
         "2023-11-28",
         2023,
         11,
         "NOVEMBRO",
         28,
         "TERCA-FEIRA",
         3
        ],
        [
         "2023-11-29",
         2023,
         11,
         "NOVEMBRO",
         29,
         "QUARTA-FEIRA",
         4
        ],
        [
         "2023-11-30",
         2023,
         11,
         "NOVEMBRO",
         30,
         "QUINTA-FEIRA",
         5
        ],
        [
         "2023-12-01",
         2023,
         12,
         "DEZEMBRO",
         1,
         "SEXTA-FEIRA",
         6
        ],
        [
         "2023-12-02",
         2023,
         12,
         "DEZEMBRO",
         2,
         "SABADO",
         7
        ],
        [
         "2023-12-03",
         2023,
         12,
         "DEZEMBRO",
         3,
         "DOMINGO",
         1
        ],
        [
         "2023-12-04",
         2023,
         12,
         "DEZEMBRO",
         4,
         "SEGUNDA-FEIRA",
         2
        ],
        [
         "2023-12-05",
         2023,
         12,
         "DEZEMBRO",
         5,
         "TERCA-FEIRA",
         3
        ],
        [
         "2023-12-06",
         2023,
         12,
         "DEZEMBRO",
         6,
         "QUARTA-FEIRA",
         4
        ],
        [
         "2023-12-07",
         2023,
         12,
         "DEZEMBRO",
         7,
         "QUINTA-FEIRA",
         5
        ],
        [
         "2023-12-08",
         2023,
         12,
         "DEZEMBRO",
         8,
         "SEXTA-FEIRA",
         6
        ],
        [
         "2023-12-09",
         2023,
         12,
         "DEZEMBRO",
         9,
         "SABADO",
         7
        ],
        [
         "2023-12-10",
         2023,
         12,
         "DEZEMBRO",
         10,
         "DOMINGO",
         1
        ],
        [
         "2023-12-11",
         2023,
         12,
         "DEZEMBRO",
         11,
         "SEGUNDA-FEIRA",
         2
        ],
        [
         "2023-12-12",
         2023,
         12,
         "DEZEMBRO",
         12,
         "TERCA-FEIRA",
         3
        ],
        [
         "2023-12-13",
         2023,
         12,
         "DEZEMBRO",
         13,
         "QUARTA-FEIRA",
         4
        ],
        [
         "2023-12-14",
         2023,
         12,
         "DEZEMBRO",
         14,
         "QUINTA-FEIRA",
         5
        ],
        [
         "2023-12-15",
         2023,
         12,
         "DEZEMBRO",
         15,
         "SEXTA-FEIRA",
         6
        ],
        [
         "2023-12-16",
         2023,
         12,
         "DEZEMBRO",
         16,
         "SABADO",
         7
        ],
        [
         "2023-12-17",
         2023,
         12,
         "DEZEMBRO",
         17,
         "DOMINGO",
         1
        ],
        [
         "2023-12-18",
         2023,
         12,
         "DEZEMBRO",
         18,
         "SEGUNDA-FEIRA",
         2
        ],
        [
         "2023-12-19",
         2023,
         12,
         "DEZEMBRO",
         19,
         "TERCA-FEIRA",
         3
        ],
        [
         "2023-12-20",
         2023,
         12,
         "DEZEMBRO",
         20,
         "QUARTA-FEIRA",
         4
        ],
        [
         "2023-12-21",
         2023,
         12,
         "DEZEMBRO",
         21,
         "QUINTA-FEIRA",
         5
        ],
        [
         "2023-12-22",
         2023,
         12,
         "DEZEMBRO",
         22,
         "SEXTA-FEIRA",
         6
        ],
        [
         "2023-12-23",
         2023,
         12,
         "DEZEMBRO",
         23,
         "SABADO",
         7
        ],
        [
         "2023-12-24",
         2023,
         12,
         "DEZEMBRO",
         24,
         "DOMINGO",
         1
        ],
        [
         "2023-12-25",
         2023,
         12,
         "DEZEMBRO",
         25,
         "SEGUNDA-FEIRA",
         2
        ],
        [
         "2023-12-26",
         2023,
         12,
         "DEZEMBRO",
         26,
         "TERCA-FEIRA",
         3
        ],
        [
         "2023-12-27",
         2023,
         12,
         "DEZEMBRO",
         27,
         "QUARTA-FEIRA",
         4
        ],
        [
         "2023-12-28",
         2023,
         12,
         "DEZEMBRO",
         28,
         "QUINTA-FEIRA",
         5
        ],
        [
         "2023-12-29",
         2023,
         12,
         "DEZEMBRO",
         29,
         "SEXTA-FEIRA",
         6
        ],
        [
         "2023-12-30",
         2023,
         12,
         "DEZEMBRO",
         30,
         "SABADO",
         7
        ],
        [
         "2023-12-31",
         2023,
         12,
         "DEZEMBRO",
         31,
         "DOMINGO",
         1
        ],
        [
         "2024-01-01",
         2024,
         1,
         "JANEIRO",
         1,
         "SEGUNDA-FEIRA",
         2
        ],
        [
         "2024-01-02",
         2024,
         1,
         "JANEIRO",
         2,
         "TERCA-FEIRA",
         3
        ],
        [
         "2024-01-03",
         2024,
         1,
         "JANEIRO",
         3,
         "QUARTA-FEIRA",
         4
        ],
        [
         "2024-01-04",
         2024,
         1,
         "JANEIRO",
         4,
         "QUINTA-FEIRA",
         5
        ],
        [
         "2024-01-05",
         2024,
         1,
         "JANEIRO",
         5,
         "SEXTA-FEIRA",
         6
        ],
        [
         "2024-01-06",
         2024,
         1,
         "JANEIRO",
         6,
         "SABADO",
         7
        ],
        [
         "2024-01-07",
         2024,
         1,
         "JANEIRO",
         7,
         "DOMINGO",
         1
        ],
        [
         "2024-01-08",
         2024,
         1,
         "JANEIRO",
         8,
         "SEGUNDA-FEIRA",
         2
        ],
        [
         "2024-01-09",
         2024,
         1,
         "JANEIRO",
         9,
         "TERCA-FEIRA",
         3
        ],
        [
         "2024-01-10",
         2024,
         1,
         "JANEIRO",
         10,
         "QUARTA-FEIRA",
         4
        ],
        [
         "2024-01-11",
         2024,
         1,
         "JANEIRO",
         11,
         "QUINTA-FEIRA",
         5
        ],
        [
         "2024-01-12",
         2024,
         1,
         "JANEIRO",
         12,
         "SEXTA-FEIRA",
         6
        ],
        [
         "2024-01-13",
         2024,
         1,
         "JANEIRO",
         13,
         "SABADO",
         7
        ],
        [
         "2024-01-14",
         2024,
         1,
         "JANEIRO",
         14,
         "DOMINGO",
         1
        ],
        [
         "2024-01-15",
         2024,
         1,
         "JANEIRO",
         15,
         "SEGUNDA-FEIRA",
         2
        ],
        [
         "2024-01-16",
         2024,
         1,
         "JANEIRO",
         16,
         "TERCA-FEIRA",
         3
        ],
        [
         "2024-01-17",
         2024,
         1,
         "JANEIRO",
         17,
         "QUARTA-FEIRA",
         4
        ],
        [
         "2024-01-18",
         2024,
         1,
         "JANEIRO",
         18,
         "QUINTA-FEIRA",
         5
        ],
        [
         "2024-01-19",
         2024,
         1,
         "JANEIRO",
         19,
         "SEXTA-FEIRA",
         6
        ],
        [
         "2024-01-20",
         2024,
         1,
         "JANEIRO",
         20,
         "SABADO",
         7
        ],
        [
         "2024-01-21",
         2024,
         1,
         "JANEIRO",
         21,
         "DOMINGO",
         1
        ],
        [
         "2024-01-22",
         2024,
         1,
         "JANEIRO",
         22,
         "SEGUNDA-FEIRA",
         2
        ],
        [
         "2024-01-23",
         2024,
         1,
         "JANEIRO",
         23,
         "TERCA-FEIRA",
         3
        ],
        [
         "2024-01-24",
         2024,
         1,
         "JANEIRO",
         24,
         "QUARTA-FEIRA",
         4
        ],
        [
         "2024-01-25",
         2024,
         1,
         "JANEIRO",
         25,
         "QUINTA-FEIRA",
         5
        ],
        [
         "2024-01-26",
         2024,
         1,
         "JANEIRO",
         26,
         "SEXTA-FEIRA",
         6
        ],
        [
         "2024-01-27",
         2024,
         1,
         "JANEIRO",
         27,
         "SABADO",
         7
        ],
        [
         "2024-01-28",
         2024,
         1,
         "JANEIRO",
         28,
         "DOMINGO",
         1
        ],
        [
         "2024-01-29",
         2024,
         1,
         "JANEIRO",
         29,
         "SEGUNDA-FEIRA",
         2
        ],
        [
         "2024-01-30",
         2024,
         1,
         "JANEIRO",
         30,
         "TERCA-FEIRA",
         3
        ],
        [
         "2024-01-31",
         2024,
         1,
         "JANEIRO",
         31,
         "QUARTA-FEIRA",
         4
        ],
        [
         "2024-02-01",
         2024,
         2,
         "FEVEREIRO",
         1,
         "QUINTA-FEIRA",
         5
        ],
        [
         "2024-02-02",
         2024,
         2,
         "FEVEREIRO",
         2,
         "SEXTA-FEIRA",
         6
        ],
        [
         "2024-02-03",
         2024,
         2,
         "FEVEREIRO",
         3,
         "SABADO",
         7
        ],
        [
         "2024-02-04",
         2024,
         2,
         "FEVEREIRO",
         4,
         "DOMINGO",
         1
        ],
        [
         "2024-02-05",
         2024,
         2,
         "FEVEREIRO",
         5,
         "SEGUNDA-FEIRA",
         2
        ],
        [
         "2024-02-06",
         2024,
         2,
         "FEVEREIRO",
         6,
         "TERCA-FEIRA",
         3
        ],
        [
         "2024-02-07",
         2024,
         2,
         "FEVEREIRO",
         7,
         "QUARTA-FEIRA",
         4
        ],
        [
         "2024-02-08",
         2024,
         2,
         "FEVEREIRO",
         8,
         "QUINTA-FEIRA",
         5
        ],
        [
         "2024-02-09",
         2024,
         2,
         "FEVEREIRO",
         9,
         "SEXTA-FEIRA",
         6
        ],
        [
         "2024-02-10",
         2024,
         2,
         "FEVEREIRO",
         10,
         "SABADO",
         7
        ],
        [
         "2024-02-11",
         2024,
         2,
         "FEVEREIRO",
         11,
         "DOMINGO",
         1
        ],
        [
         "2024-02-12",
         2024,
         2,
         "FEVEREIRO",
         12,
         "SEGUNDA-FEIRA",
         2
        ],
        [
         "2024-02-13",
         2024,
         2,
         "FEVEREIRO",
         13,
         "TERCA-FEIRA",
         3
        ],
        [
         "2024-02-14",
         2024,
         2,
         "FEVEREIRO",
         14,
         "QUARTA-FEIRA",
         4
        ],
        [
         "2024-02-15",
         2024,
         2,
         "FEVEREIRO",
         15,
         "QUINTA-FEIRA",
         5
        ],
        [
         "2024-02-16",
         2024,
         2,
         "FEVEREIRO",
         16,
         "SEXTA-FEIRA",
         6
        ],
        [
         "2024-02-17",
         2024,
         2,
         "FEVEREIRO",
         17,
         "SABADO",
         7
        ],
        [
         "2024-02-18",
         2024,
         2,
         "FEVEREIRO",
         18,
         "DOMINGO",
         1
        ],
        [
         "2024-02-19",
         2024,
         2,
         "FEVEREIRO",
         19,
         "SEGUNDA-FEIRA",
         2
        ],
        [
         "2024-02-20",
         2024,
         2,
         "FEVEREIRO",
         20,
         "TERCA-FEIRA",
         3
        ],
        [
         "2024-02-21",
         2024,
         2,
         "FEVEREIRO",
         21,
         "QUARTA-FEIRA",
         4
        ],
        [
         "2024-02-22",
         2024,
         2,
         "FEVEREIRO",
         22,
         "QUINTA-FEIRA",
         5
        ],
        [
         "2024-02-23",
         2024,
         2,
         "FEVEREIRO",
         23,
         "SEXTA-FEIRA",
         6
        ],
        [
         "2024-02-24",
         2024,
         2,
         "FEVEREIRO",
         24,
         "SABADO",
         7
        ],
        [
         "2024-02-25",
         2024,
         2,
         "FEVEREIRO",
         25,
         "DOMINGO",
         1
        ],
        [
         "2024-02-26",
         2024,
         2,
         "FEVEREIRO",
         26,
         "SEGUNDA-FEIRA",
         2
        ],
        [
         "2024-02-27",
         2024,
         2,
         "FEVEREIRO",
         27,
         "TERCA-FEIRA",
         3
        ],
        [
         "2024-02-28",
         2024,
         2,
         "FEVEREIRO",
         28,
         "QUARTA-FEIRA",
         4
        ],
        [
         "2024-02-29",
         2024,
         2,
         "FEVEREIRO",
         29,
         "QUINTA-FEIRA",
         5
        ],
        [
         "2024-03-01",
         2024,
         3,
         "MARCO",
         1,
         "SEXTA-FEIRA",
         6
        ],
        [
         "2024-03-02",
         2024,
         3,
         "MARCO",
         2,
         "SABADO",
         7
        ],
        [
         "2024-03-03",
         2024,
         3,
         "MARCO",
         3,
         "DOMINGO",
         1
        ],
        [
         "2024-03-04",
         2024,
         3,
         "MARCO",
         4,
         "SEGUNDA-FEIRA",
         2
        ],
        [
         "2024-03-05",
         2024,
         3,
         "MARCO",
         5,
         "TERCA-FEIRA",
         3
        ],
        [
         "2024-03-06",
         2024,
         3,
         "MARCO",
         6,
         "QUARTA-FEIRA",
         4
        ],
        [
         "2024-03-07",
         2024,
         3,
         "MARCO",
         7,
         "QUINTA-FEIRA",
         5
        ],
        [
         "2024-03-08",
         2024,
         3,
         "MARCO",
         8,
         "SEXTA-FEIRA",
         6
        ],
        [
         "2024-03-09",
         2024,
         3,
         "MARCO",
         9,
         "SABADO",
         7
        ],
        [
         "2024-03-10",
         2024,
         3,
         "MARCO",
         10,
         "DOMINGO",
         1
        ],
        [
         "2024-03-11",
         2024,
         3,
         "MARCO",
         11,
         "SEGUNDA-FEIRA",
         2
        ],
        [
         "2024-03-12",
         2024,
         3,
         "MARCO",
         12,
         "TERCA-FEIRA",
         3
        ],
        [
         "2024-03-13",
         2024,
         3,
         "MARCO",
         13,
         "QUARTA-FEIRA",
         4
        ],
        [
         "2024-03-14",
         2024,
         3,
         "MARCO",
         14,
         "QUINTA-FEIRA",
         5
        ],
        [
         "2024-03-15",
         2024,
         3,
         "MARCO",
         15,
         "SEXTA-FEIRA",
         6
        ],
        [
         "2024-03-16",
         2024,
         3,
         "MARCO",
         16,
         "SABADO",
         7
        ],
        [
         "2024-03-17",
         2024,
         3,
         "MARCO",
         17,
         "DOMINGO",
         1
        ],
        [
         "2024-03-18",
         2024,
         3,
         "MARCO",
         18,
         "SEGUNDA-FEIRA",
         2
        ],
        [
         "2024-03-19",
         2024,
         3,
         "MARCO",
         19,
         "TERCA-FEIRA",
         3
        ],
        [
         "2024-03-20",
         2024,
         3,
         "MARCO",
         20,
         "QUARTA-FEIRA",
         4
        ],
        [
         "2024-03-21",
         2024,
         3,
         "MARCO",
         21,
         "QUINTA-FEIRA",
         5
        ],
        [
         "2024-03-22",
         2024,
         3,
         "MARCO",
         22,
         "SEXTA-FEIRA",
         6
        ],
        [
         "2024-03-23",
         2024,
         3,
         "MARCO",
         23,
         "SABADO",
         7
        ],
        [
         "2024-03-24",
         2024,
         3,
         "MARCO",
         24,
         "DOMINGO",
         1
        ],
        [
         "2024-03-25",
         2024,
         3,
         "MARCO",
         25,
         "SEGUNDA-FEIRA",
         2
        ],
        [
         "2024-03-26",
         2024,
         3,
         "MARCO",
         26,
         "TERCA-FEIRA",
         3
        ],
        [
         "2024-03-27",
         2024,
         3,
         "MARCO",
         27,
         "QUARTA-FEIRA",
         4
        ],
        [
         "2024-03-28",
         2024,
         3,
         "MARCO",
         28,
         "QUINTA-FEIRA",
         5
        ],
        [
         "2024-03-29",
         2024,
         3,
         "MARCO",
         29,
         "SEXTA-FEIRA",
         6
        ],
        [
         "2024-03-30",
         2024,
         3,
         "MARCO",
         30,
         "SABADO",
         7
        ],
        [
         "2024-03-31",
         2024,
         3,
         "MARCO",
         31,
         "DOMINGO",
         1
        ],
        [
         "2024-04-01",
         2024,
         4,
         "ABRIL",
         1,
         "SEGUNDA-FEIRA",
         2
        ],
        [
         "2024-04-02",
         2024,
         4,
         "ABRIL",
         2,
         "TERCA-FEIRA",
         3
        ],
        [
         "2024-04-03",
         2024,
         4,
         "ABRIL",
         3,
         "QUARTA-FEIRA",
         4
        ],
        [
         "2024-04-04",
         2024,
         4,
         "ABRIL",
         4,
         "QUINTA-FEIRA",
         5
        ],
        [
         "2024-04-05",
         2024,
         4,
         "ABRIL",
         5,
         "SEXTA-FEIRA",
         6
        ],
        [
         "2024-04-06",
         2024,
         4,
         "ABRIL",
         6,
         "SABADO",
         7
        ],
        [
         "2024-04-07",
         2024,
         4,
         "ABRIL",
         7,
         "DOMINGO",
         1
        ],
        [
         "2024-04-08",
         2024,
         4,
         "ABRIL",
         8,
         "SEGUNDA-FEIRA",
         2
        ],
        [
         "2024-04-09",
         2024,
         4,
         "ABRIL",
         9,
         "TERCA-FEIRA",
         3
        ],
        [
         "2024-04-10",
         2024,
         4,
         "ABRIL",
         10,
         "QUARTA-FEIRA",
         4
        ],
        [
         "2024-04-11",
         2024,
         4,
         "ABRIL",
         11,
         "QUINTA-FEIRA",
         5
        ],
        [
         "2024-04-12",
         2024,
         4,
         "ABRIL",
         12,
         "SEXTA-FEIRA",
         6
        ],
        [
         "2024-04-13",
         2024,
         4,
         "ABRIL",
         13,
         "SABADO",
         7
        ],
        [
         "2024-04-14",
         2024,
         4,
         "ABRIL",
         14,
         "DOMINGO",
         1
        ],
        [
         "2024-04-15",
         2024,
         4,
         "ABRIL",
         15,
         "SEGUNDA-FEIRA",
         2
        ],
        [
         "2024-04-16",
         2024,
         4,
         "ABRIL",
         16,
         "TERCA-FEIRA",
         3
        ],
        [
         "2024-04-17",
         2024,
         4,
         "ABRIL",
         17,
         "QUARTA-FEIRA",
         4
        ],
        [
         "2024-04-18",
         2024,
         4,
         "ABRIL",
         18,
         "QUINTA-FEIRA",
         5
        ],
        [
         "2024-04-19",
         2024,
         4,
         "ABRIL",
         19,
         "SEXTA-FEIRA",
         6
        ],
        [
         "2024-04-20",
         2024,
         4,
         "ABRIL",
         20,
         "SABADO",
         7
        ],
        [
         "2024-04-21",
         2024,
         4,
         "ABRIL",
         21,
         "DOMINGO",
         1
        ],
        [
         "2024-04-22",
         2024,
         4,
         "ABRIL",
         22,
         "SEGUNDA-FEIRA",
         2
        ],
        [
         "2024-04-23",
         2024,
         4,
         "ABRIL",
         23,
         "TERCA-FEIRA",
         3
        ],
        [
         "2024-04-24",
         2024,
         4,
         "ABRIL",
         24,
         "QUARTA-FEIRA",
         4
        ],
        [
         "2024-04-25",
         2024,
         4,
         "ABRIL",
         25,
         "QUINTA-FEIRA",
         5
        ],
        [
         "2024-04-26",
         2024,
         4,
         "ABRIL",
         26,
         "SEXTA-FEIRA",
         6
        ],
        [
         "2024-04-27",
         2024,
         4,
         "ABRIL",
         27,
         "SABADO",
         7
        ],
        [
         "2024-04-28",
         2024,
         4,
         "ABRIL",
         28,
         "DOMINGO",
         1
        ],
        [
         "2024-04-29",
         2024,
         4,
         "ABRIL",
         29,
         "SEGUNDA-FEIRA",
         2
        ],
        [
         "2024-04-30",
         2024,
         4,
         "ABRIL",
         30,
         "TERCA-FEIRA",
         3
        ],
        [
         "2024-05-01",
         2024,
         5,
         "MAIO",
         1,
         "QUARTA-FEIRA",
         4
        ],
        [
         "2024-05-02",
         2024,
         5,
         "MAIO",
         2,
         "QUINTA-FEIRA",
         5
        ],
        [
         "2024-05-03",
         2024,
         5,
         "MAIO",
         3,
         "SEXTA-FEIRA",
         6
        ],
        [
         "2024-05-04",
         2024,
         5,
         "MAIO",
         4,
         "SABADO",
         7
        ],
        [
         "2024-05-05",
         2024,
         5,
         "MAIO",
         5,
         "DOMINGO",
         1
        ],
        [
         "2024-05-06",
         2024,
         5,
         "MAIO",
         6,
         "SEGUNDA-FEIRA",
         2
        ],
        [
         "2024-05-07",
         2024,
         5,
         "MAIO",
         7,
         "TERCA-FEIRA",
         3
        ],
        [
         "2024-05-08",
         2024,
         5,
         "MAIO",
         8,
         "QUARTA-FEIRA",
         4
        ],
        [
         "2024-05-09",
         2024,
         5,
         "MAIO",
         9,
         "QUINTA-FEIRA",
         5
        ],
        [
         "2024-05-10",
         2024,
         5,
         "MAIO",
         10,
         "SEXTA-FEIRA",
         6
        ],
        [
         "2024-05-11",
         2024,
         5,
         "MAIO",
         11,
         "SABADO",
         7
        ],
        [
         "2024-05-12",
         2024,
         5,
         "MAIO",
         12,
         "DOMINGO",
         1
        ],
        [
         "2024-05-13",
         2024,
         5,
         "MAIO",
         13,
         "SEGUNDA-FEIRA",
         2
        ],
        [
         "2024-05-14",
         2024,
         5,
         "MAIO",
         14,
         "TERCA-FEIRA",
         3
        ],
        [
         "2024-05-15",
         2024,
         5,
         "MAIO",
         15,
         "QUARTA-FEIRA",
         4
        ],
        [
         "2024-05-16",
         2024,
         5,
         "MAIO",
         16,
         "QUINTA-FEIRA",
         5
        ],
        [
         "2024-05-17",
         2024,
         5,
         "MAIO",
         17,
         "SEXTA-FEIRA",
         6
        ],
        [
         "2024-05-18",
         2024,
         5,
         "MAIO",
         18,
         "SABADO",
         7
        ],
        [
         "2024-05-19",
         2024,
         5,
         "MAIO",
         19,
         "DOMINGO",
         1
        ],
        [
         "2024-05-20",
         2024,
         5,
         "MAIO",
         20,
         "SEGUNDA-FEIRA",
         2
        ],
        [
         "2024-05-21",
         2024,
         5,
         "MAIO",
         21,
         "TERCA-FEIRA",
         3
        ],
        [
         "2024-05-22",
         2024,
         5,
         "MAIO",
         22,
         "QUARTA-FEIRA",
         4
        ],
        [
         "2024-05-23",
         2024,
         5,
         "MAIO",
         23,
         "QUINTA-FEIRA",
         5
        ],
        [
         "2024-05-24",
         2024,
         5,
         "MAIO",
         24,
         "SEXTA-FEIRA",
         6
        ],
        [
         "2024-05-25",
         2024,
         5,
         "MAIO",
         25,
         "SABADO",
         7
        ],
        [
         "2024-05-26",
         2024,
         5,
         "MAIO",
         26,
         "DOMINGO",
         1
        ],
        [
         "2024-05-27",
         2024,
         5,
         "MAIO",
         27,
         "SEGUNDA-FEIRA",
         2
        ],
        [
         "2024-05-28",
         2024,
         5,
         "MAIO",
         28,
         "TERCA-FEIRA",
         3
        ],
        [
         "2024-05-29",
         2024,
         5,
         "MAIO",
         29,
         "QUARTA-FEIRA",
         4
        ],
        [
         "2024-05-30",
         2024,
         5,
         "MAIO",
         30,
         "QUINTA-FEIRA",
         5
        ],
        [
         "2024-05-31",
         2024,
         5,
         "MAIO",
         31,
         "SEXTA-FEIRA",
         6
        ],
        [
         "2024-06-01",
         2024,
         6,
         "JUNHO",
         1,
         "SABADO",
         7
        ],
        [
         "2024-06-02",
         2024,
         6,
         "JUNHO",
         2,
         "DOMINGO",
         1
        ],
        [
         "2024-06-03",
         2024,
         6,
         "JUNHO",
         3,
         "SEGUNDA-FEIRA",
         2
        ],
        [
         "2024-06-04",
         2024,
         6,
         "JUNHO",
         4,
         "TERCA-FEIRA",
         3
        ],
        [
         "2024-06-05",
         2024,
         6,
         "JUNHO",
         5,
         "QUARTA-FEIRA",
         4
        ],
        [
         "2024-06-06",
         2024,
         6,
         "JUNHO",
         6,
         "QUINTA-FEIRA",
         5
        ],
        [
         "2024-06-07",
         2024,
         6,
         "JUNHO",
         7,
         "SEXTA-FEIRA",
         6
        ],
        [
         "2024-06-08",
         2024,
         6,
         "JUNHO",
         8,
         "SABADO",
         7
        ],
        [
         "2024-06-09",
         2024,
         6,
         "JUNHO",
         9,
         "DOMINGO",
         1
        ],
        [
         "2024-06-10",
         2024,
         6,
         "JUNHO",
         10,
         "SEGUNDA-FEIRA",
         2
        ],
        [
         "2024-06-11",
         2024,
         6,
         "JUNHO",
         11,
         "TERCA-FEIRA",
         3
        ],
        [
         "2024-06-12",
         2024,
         6,
         "JUNHO",
         12,
         "QUARTA-FEIRA",
         4
        ],
        [
         "2024-06-13",
         2024,
         6,
         "JUNHO",
         13,
         "QUINTA-FEIRA",
         5
        ],
        [
         "2024-06-14",
         2024,
         6,
         "JUNHO",
         14,
         "SEXTA-FEIRA",
         6
        ],
        [
         "2024-06-15",
         2024,
         6,
         "JUNHO",
         15,
         "SABADO",
         7
        ],
        [
         "2024-06-16",
         2024,
         6,
         "JUNHO",
         16,
         "DOMINGO",
         1
        ],
        [
         "2024-06-17",
         2024,
         6,
         "JUNHO",
         17,
         "SEGUNDA-FEIRA",
         2
        ],
        [
         "2024-06-18",
         2024,
         6,
         "JUNHO",
         18,
         "TERCA-FEIRA",
         3
        ],
        [
         "2024-06-19",
         2024,
         6,
         "JUNHO",
         19,
         "QUARTA-FEIRA",
         4
        ],
        [
         "2024-06-20",
         2024,
         6,
         "JUNHO",
         20,
         "QUINTA-FEIRA",
         5
        ],
        [
         "2024-06-21",
         2024,
         6,
         "JUNHO",
         21,
         "SEXTA-FEIRA",
         6
        ],
        [
         "2024-06-22",
         2024,
         6,
         "JUNHO",
         22,
         "SABADO",
         7
        ],
        [
         "2024-06-23",
         2024,
         6,
         "JUNHO",
         23,
         "DOMINGO",
         1
        ],
        [
         "2024-06-24",
         2024,
         6,
         "JUNHO",
         24,
         "SEGUNDA-FEIRA",
         2
        ],
        [
         "2024-06-25",
         2024,
         6,
         "JUNHO",
         25,
         "TERCA-FEIRA",
         3
        ],
        [
         "2024-06-26",
         2024,
         6,
         "JUNHO",
         26,
         "QUARTA-FEIRA",
         4
        ],
        [
         "2024-06-27",
         2024,
         6,
         "JUNHO",
         27,
         "QUINTA-FEIRA",
         5
        ],
        [
         "2024-06-28",
         2024,
         6,
         "JUNHO",
         28,
         "SEXTA-FEIRA",
         6
        ],
        [
         "2024-06-29",
         2024,
         6,
         "JUNHO",
         29,
         "SABADO",
         7
        ],
        [
         "2024-06-30",
         2024,
         6,
         "JUNHO",
         30,
         "DOMINGO",
         1
        ],
        [
         "2024-07-01",
         2024,
         7,
         "JULHO",
         1,
         "SEGUNDA-FEIRA",
         2
        ],
        [
         "2024-07-02",
         2024,
         7,
         "JULHO",
         2,
         "TERCA-FEIRA",
         3
        ],
        [
         "2024-07-03",
         2024,
         7,
         "JULHO",
         3,
         "QUARTA-FEIRA",
         4
        ],
        [
         "2024-07-04",
         2024,
         7,
         "JULHO",
         4,
         "QUINTA-FEIRA",
         5
        ],
        [
         "2024-07-05",
         2024,
         7,
         "JULHO",
         5,
         "SEXTA-FEIRA",
         6
        ],
        [
         "2024-07-06",
         2024,
         7,
         "JULHO",
         6,
         "SABADO",
         7
        ],
        [
         "2024-07-07",
         2024,
         7,
         "JULHO",
         7,
         "DOMINGO",
         1
        ],
        [
         "2024-07-08",
         2024,
         7,
         "JULHO",
         8,
         "SEGUNDA-FEIRA",
         2
        ],
        [
         "2024-07-09",
         2024,
         7,
         "JULHO",
         9,
         "TERCA-FEIRA",
         3
        ],
        [
         "2024-07-10",
         2024,
         7,
         "JULHO",
         10,
         "QUARTA-FEIRA",
         4
        ],
        [
         "2024-07-11",
         2024,
         7,
         "JULHO",
         11,
         "QUINTA-FEIRA",
         5
        ],
        [
         "2024-07-12",
         2024,
         7,
         "JULHO",
         12,
         "SEXTA-FEIRA",
         6
        ],
        [
         "2024-07-13",
         2024,
         7,
         "JULHO",
         13,
         "SABADO",
         7
        ],
        [
         "2024-07-14",
         2024,
         7,
         "JULHO",
         14,
         "DOMINGO",
         1
        ],
        [
         "2024-07-15",
         2024,
         7,
         "JULHO",
         15,
         "SEGUNDA-FEIRA",
         2
        ],
        [
         "2024-07-16",
         2024,
         7,
         "JULHO",
         16,
         "TERCA-FEIRA",
         3
        ],
        [
         "2024-07-17",
         2024,
         7,
         "JULHO",
         17,
         "QUARTA-FEIRA",
         4
        ],
        [
         "2024-07-18",
         2024,
         7,
         "JULHO",
         18,
         "QUINTA-FEIRA",
         5
        ],
        [
         "2024-07-19",
         2024,
         7,
         "JULHO",
         19,
         "SEXTA-FEIRA",
         6
        ],
        [
         "2024-07-20",
         2024,
         7,
         "JULHO",
         20,
         "SABADO",
         7
        ],
        [
         "2024-07-21",
         2024,
         7,
         "JULHO",
         21,
         "DOMINGO",
         1
        ],
        [
         "2024-07-22",
         2024,
         7,
         "JULHO",
         22,
         "SEGUNDA-FEIRA",
         2
        ],
        [
         "2024-07-23",
         2024,
         7,
         "JULHO",
         23,
         "TERCA-FEIRA",
         3
        ],
        [
         "2024-07-24",
         2024,
         7,
         "JULHO",
         24,
         "QUARTA-FEIRA",
         4
        ],
        [
         "2024-07-25",
         2024,
         7,
         "JULHO",
         25,
         "QUINTA-FEIRA",
         5
        ],
        [
         "2024-07-26",
         2024,
         7,
         "JULHO",
         26,
         "SEXTA-FEIRA",
         6
        ],
        [
         "2024-07-27",
         2024,
         7,
         "JULHO",
         27,
         "SABADO",
         7
        ],
        [
         "2024-07-28",
         2024,
         7,
         "JULHO",
         28,
         "DOMINGO",
         1
        ],
        [
         "2024-07-29",
         2024,
         7,
         "JULHO",
         29,
         "SEGUNDA-FEIRA",
         2
        ],
        [
         "2024-07-30",
         2024,
         7,
         "JULHO",
         30,
         "TERCA-FEIRA",
         3
        ],
        [
         "2024-07-31",
         2024,
         7,
         "JULHO",
         31,
         "QUARTA-FEIRA",
         4
        ],
        [
         "2024-08-01",
         2024,
         8,
         "AGOSTO",
         1,
         "QUINTA-FEIRA",
         5
        ],
        [
         "2024-08-02",
         2024,
         8,
         "AGOSTO",
         2,
         "SEXTA-FEIRA",
         6
        ],
        [
         "2024-08-03",
         2024,
         8,
         "AGOSTO",
         3,
         "SABADO",
         7
        ],
        [
         "2024-08-04",
         2024,
         8,
         "AGOSTO",
         4,
         "DOMINGO",
         1
        ],
        [
         "2024-08-05",
         2024,
         8,
         "AGOSTO",
         5,
         "SEGUNDA-FEIRA",
         2
        ],
        [
         "2024-08-06",
         2024,
         8,
         "AGOSTO",
         6,
         "TERCA-FEIRA",
         3
        ],
        [
         "2024-08-07",
         2024,
         8,
         "AGOSTO",
         7,
         "QUARTA-FEIRA",
         4
        ],
        [
         "2024-08-08",
         2024,
         8,
         "AGOSTO",
         8,
         "QUINTA-FEIRA",
         5
        ],
        [
         "2024-08-09",
         2024,
         8,
         "AGOSTO",
         9,
         "SEXTA-FEIRA",
         6
        ],
        [
         "2024-08-10",
         2024,
         8,
         "AGOSTO",
         10,
         "SABADO",
         7
        ],
        [
         "2024-08-11",
         2024,
         8,
         "AGOSTO",
         11,
         "DOMINGO",
         1
        ],
        [
         "2024-08-12",
         2024,
         8,
         "AGOSTO",
         12,
         "SEGUNDA-FEIRA",
         2
        ],
        [
         "2024-08-13",
         2024,
         8,
         "AGOSTO",
         13,
         "TERCA-FEIRA",
         3
        ],
        [
         "2024-08-14",
         2024,
         8,
         "AGOSTO",
         14,
         "QUARTA-FEIRA",
         4
        ],
        [
         "2024-08-15",
         2024,
         8,
         "AGOSTO",
         15,
         "QUINTA-FEIRA",
         5
        ],
        [
         "2024-08-16",
         2024,
         8,
         "AGOSTO",
         16,
         "SEXTA-FEIRA",
         6
        ],
        [
         "2024-08-17",
         2024,
         8,
         "AGOSTO",
         17,
         "SABADO",
         7
        ],
        [
         "2024-08-18",
         2024,
         8,
         "AGOSTO",
         18,
         "DOMINGO",
         1
        ],
        [
         "2024-08-19",
         2024,
         8,
         "AGOSTO",
         19,
         "SEGUNDA-FEIRA",
         2
        ],
        [
         "2024-08-20",
         2024,
         8,
         "AGOSTO",
         20,
         "TERCA-FEIRA",
         3
        ],
        [
         "2024-08-21",
         2024,
         8,
         "AGOSTO",
         21,
         "QUARTA-FEIRA",
         4
        ],
        [
         "2024-08-22",
         2024,
         8,
         "AGOSTO",
         22,
         "QUINTA-FEIRA",
         5
        ],
        [
         "2024-08-23",
         2024,
         8,
         "AGOSTO",
         23,
         "SEXTA-FEIRA",
         6
        ],
        [
         "2024-08-24",
         2024,
         8,
         "AGOSTO",
         24,
         "SABADO",
         7
        ],
        [
         "2024-08-25",
         2024,
         8,
         "AGOSTO",
         25,
         "DOMINGO",
         1
        ],
        [
         "2024-08-26",
         2024,
         8,
         "AGOSTO",
         26,
         "SEGUNDA-FEIRA",
         2
        ],
        [
         "2024-08-27",
         2024,
         8,
         "AGOSTO",
         27,
         "TERCA-FEIRA",
         3
        ],
        [
         "2024-08-28",
         2024,
         8,
         "AGOSTO",
         28,
         "QUARTA-FEIRA",
         4
        ],
        [
         "2024-08-29",
         2024,
         8,
         "AGOSTO",
         29,
         "QUINTA-FEIRA",
         5
        ],
        [
         "2024-08-30",
         2024,
         8,
         "AGOSTO",
         30,
         "SEXTA-FEIRA",
         6
        ],
        [
         "2024-08-31",
         2024,
         8,
         "AGOSTO",
         31,
         "SABADO",
         7
        ],
        [
         "2024-09-01",
         2024,
         9,
         "SETEMBRO",
         1,
         "DOMINGO",
         1
        ],
        [
         "2024-09-02",
         2024,
         9,
         "SETEMBRO",
         2,
         "SEGUNDA-FEIRA",
         2
        ],
        [
         "2024-09-03",
         2024,
         9,
         "SETEMBRO",
         3,
         "TERCA-FEIRA",
         3
        ],
        [
         "2024-09-04",
         2024,
         9,
         "SETEMBRO",
         4,
         "QUARTA-FEIRA",
         4
        ],
        [
         "2024-09-05",
         2024,
         9,
         "SETEMBRO",
         5,
         "QUINTA-FEIRA",
         5
        ],
        [
         "2024-09-06",
         2024,
         9,
         "SETEMBRO",
         6,
         "SEXTA-FEIRA",
         6
        ],
        [
         "2024-09-07",
         2024,
         9,
         "SETEMBRO",
         7,
         "SABADO",
         7
        ],
        [
         "2024-09-08",
         2024,
         9,
         "SETEMBRO",
         8,
         "DOMINGO",
         1
        ],
        [
         "2024-09-09",
         2024,
         9,
         "SETEMBRO",
         9,
         "SEGUNDA-FEIRA",
         2
        ],
        [
         "2024-09-10",
         2024,
         9,
         "SETEMBRO",
         10,
         "TERCA-FEIRA",
         3
        ],
        [
         "2024-09-11",
         2024,
         9,
         "SETEMBRO",
         11,
         "QUARTA-FEIRA",
         4
        ],
        [
         "2024-09-12",
         2024,
         9,
         "SETEMBRO",
         12,
         "QUINTA-FEIRA",
         5
        ],
        [
         "2024-09-13",
         2024,
         9,
         "SETEMBRO",
         13,
         "SEXTA-FEIRA",
         6
        ],
        [
         "2024-09-14",
         2024,
         9,
         "SETEMBRO",
         14,
         "SABADO",
         7
        ],
        [
         "2024-09-15",
         2024,
         9,
         "SETEMBRO",
         15,
         "DOMINGO",
         1
        ],
        [
         "2024-09-16",
         2024,
         9,
         "SETEMBRO",
         16,
         "SEGUNDA-FEIRA",
         2
        ],
        [
         "2024-09-17",
         2024,
         9,
         "SETEMBRO",
         17,
         "TERCA-FEIRA",
         3
        ],
        [
         "2024-09-18",
         2024,
         9,
         "SETEMBRO",
         18,
         "QUARTA-FEIRA",
         4
        ],
        [
         "2024-09-19",
         2024,
         9,
         "SETEMBRO",
         19,
         "QUINTA-FEIRA",
         5
        ],
        [
         "2024-09-20",
         2024,
         9,
         "SETEMBRO",
         20,
         "SEXTA-FEIRA",
         6
        ],
        [
         "2024-09-21",
         2024,
         9,
         "SETEMBRO",
         21,
         "SABADO",
         7
        ],
        [
         "2024-09-22",
         2024,
         9,
         "SETEMBRO",
         22,
         "DOMINGO",
         1
        ],
        [
         "2024-09-23",
         2024,
         9,
         "SETEMBRO",
         23,
         "SEGUNDA-FEIRA",
         2
        ],
        [
         "2024-09-24",
         2024,
         9,
         "SETEMBRO",
         24,
         "TERCA-FEIRA",
         3
        ],
        [
         "2024-09-25",
         2024,
         9,
         "SETEMBRO",
         25,
         "QUARTA-FEIRA",
         4
        ],
        [
         "2024-09-26",
         2024,
         9,
         "SETEMBRO",
         26,
         "QUINTA-FEIRA",
         5
        ],
        [
         "2024-09-27",
         2024,
         9,
         "SETEMBRO",
         27,
         "SEXTA-FEIRA",
         6
        ],
        [
         "2024-09-28",
         2024,
         9,
         "SETEMBRO",
         28,
         "SABADO",
         7
        ],
        [
         "2024-09-29",
         2024,
         9,
         "SETEMBRO",
         29,
         "DOMINGO",
         1
        ],
        [
         "2024-09-30",
         2024,
         9,
         "SETEMBRO",
         30,
         "SEGUNDA-FEIRA",
         2
        ],
        [
         "2024-10-01",
         2024,
         10,
         "OUTUBRO",
         1,
         "TERCA-FEIRA",
         3
        ],
        [
         "2024-10-02",
         2024,
         10,
         "OUTUBRO",
         2,
         "QUARTA-FEIRA",
         4
        ],
        [
         "2024-10-03",
         2024,
         10,
         "OUTUBRO",
         3,
         "QUINTA-FEIRA",
         5
        ],
        [
         "2024-10-04",
         2024,
         10,
         "OUTUBRO",
         4,
         "SEXTA-FEIRA",
         6
        ],
        [
         "2024-10-05",
         2024,
         10,
         "OUTUBRO",
         5,
         "SABADO",
         7
        ],
        [
         "2024-10-06",
         2024,
         10,
         "OUTUBRO",
         6,
         "DOMINGO",
         1
        ],
        [
         "2024-10-07",
         2024,
         10,
         "OUTUBRO",
         7,
         "SEGUNDA-FEIRA",
         2
        ],
        [
         "2024-10-08",
         2024,
         10,
         "OUTUBRO",
         8,
         "TERCA-FEIRA",
         3
        ],
        [
         "2024-10-09",
         2024,
         10,
         "OUTUBRO",
         9,
         "QUARTA-FEIRA",
         4
        ],
        [
         "2024-10-10",
         2024,
         10,
         "OUTUBRO",
         10,
         "QUINTA-FEIRA",
         5
        ],
        [
         "2024-10-11",
         2024,
         10,
         "OUTUBRO",
         11,
         "SEXTA-FEIRA",
         6
        ],
        [
         "2024-10-12",
         2024,
         10,
         "OUTUBRO",
         12,
         "SABADO",
         7
        ],
        [
         "2024-10-13",
         2024,
         10,
         "OUTUBRO",
         13,
         "DOMINGO",
         1
        ],
        [
         "2024-10-14",
         2024,
         10,
         "OUTUBRO",
         14,
         "SEGUNDA-FEIRA",
         2
        ],
        [
         "2024-10-15",
         2024,
         10,
         "OUTUBRO",
         15,
         "TERCA-FEIRA",
         3
        ],
        [
         "2024-10-16",
         2024,
         10,
         "OUTUBRO",
         16,
         "QUARTA-FEIRA",
         4
        ],
        [
         "2024-10-17",
         2024,
         10,
         "OUTUBRO",
         17,
         "QUINTA-FEIRA",
         5
        ],
        [
         "2024-10-18",
         2024,
         10,
         "OUTUBRO",
         18,
         "SEXTA-FEIRA",
         6
        ],
        [
         "2024-10-19",
         2024,
         10,
         "OUTUBRO",
         19,
         "SABADO",
         7
        ],
        [
         "2024-10-20",
         2024,
         10,
         "OUTUBRO",
         20,
         "DOMINGO",
         1
        ],
        [
         "2024-10-21",
         2024,
         10,
         "OUTUBRO",
         21,
         "SEGUNDA-FEIRA",
         2
        ],
        [
         "2024-10-22",
         2024,
         10,
         "OUTUBRO",
         22,
         "TERCA-FEIRA",
         3
        ],
        [
         "2024-10-23",
         2024,
         10,
         "OUTUBRO",
         23,
         "QUARTA-FEIRA",
         4
        ],
        [
         "2024-10-24",
         2024,
         10,
         "OUTUBRO",
         24,
         "QUINTA-FEIRA",
         5
        ],
        [
         "2024-10-25",
         2024,
         10,
         "OUTUBRO",
         25,
         "SEXTA-FEIRA",
         6
        ],
        [
         "2024-10-26",
         2024,
         10,
         "OUTUBRO",
         26,
         "SABADO",
         7
        ],
        [
         "2024-10-27",
         2024,
         10,
         "OUTUBRO",
         27,
         "DOMINGO",
         1
        ],
        [
         "2024-10-28",
         2024,
         10,
         "OUTUBRO",
         28,
         "SEGUNDA-FEIRA",
         2
        ],
        [
         "2024-10-29",
         2024,
         10,
         "OUTUBRO",
         29,
         "TERCA-FEIRA",
         3
        ],
        [
         "2024-10-30",
         2024,
         10,
         "OUTUBRO",
         30,
         "QUARTA-FEIRA",
         4
        ],
        [
         "2024-10-31",
         2024,
         10,
         "OUTUBRO",
         31,
         "QUINTA-FEIRA",
         5
        ],
        [
         "2024-11-01",
         2024,
         11,
         "NOVEMBRO",
         1,
         "SEXTA-FEIRA",
         6
        ],
        [
         "2024-11-02",
         2024,
         11,
         "NOVEMBRO",
         2,
         "SABADO",
         7
        ],
        [
         "2024-11-03",
         2024,
         11,
         "NOVEMBRO",
         3,
         "DOMINGO",
         1
        ],
        [
         "2024-11-04",
         2024,
         11,
         "NOVEMBRO",
         4,
         "SEGUNDA-FEIRA",
         2
        ],
        [
         "2024-11-05",
         2024,
         11,
         "NOVEMBRO",
         5,
         "TERCA-FEIRA",
         3
        ],
        [
         "2024-11-06",
         2024,
         11,
         "NOVEMBRO",
         6,
         "QUARTA-FEIRA",
         4
        ],
        [
         "2024-11-07",
         2024,
         11,
         "NOVEMBRO",
         7,
         "QUINTA-FEIRA",
         5
        ],
        [
         "2024-11-08",
         2024,
         11,
         "NOVEMBRO",
         8,
         "SEXTA-FEIRA",
         6
        ],
        [
         "2024-11-09",
         2024,
         11,
         "NOVEMBRO",
         9,
         "SABADO",
         7
        ],
        [
         "2024-11-10",
         2024,
         11,
         "NOVEMBRO",
         10,
         "DOMINGO",
         1
        ],
        [
         "2024-11-11",
         2024,
         11,
         "NOVEMBRO",
         11,
         "SEGUNDA-FEIRA",
         2
        ],
        [
         "2024-11-12",
         2024,
         11,
         "NOVEMBRO",
         12,
         "TERCA-FEIRA",
         3
        ],
        [
         "2024-11-13",
         2024,
         11,
         "NOVEMBRO",
         13,
         "QUARTA-FEIRA",
         4
        ],
        [
         "2024-11-14",
         2024,
         11,
         "NOVEMBRO",
         14,
         "QUINTA-FEIRA",
         5
        ],
        [
         "2024-11-15",
         2024,
         11,
         "NOVEMBRO",
         15,
         "SEXTA-FEIRA",
         6
        ],
        [
         "2024-11-16",
         2024,
         11,
         "NOVEMBRO",
         16,
         "SABADO",
         7
        ],
        [
         "2024-11-17",
         2024,
         11,
         "NOVEMBRO",
         17,
         "DOMINGO",
         1
        ],
        [
         "2024-11-18",
         2024,
         11,
         "NOVEMBRO",
         18,
         "SEGUNDA-FEIRA",
         2
        ],
        [
         "2024-11-19",
         2024,
         11,
         "NOVEMBRO",
         19,
         "TERCA-FEIRA",
         3
        ],
        [
         "2024-11-20",
         2024,
         11,
         "NOVEMBRO",
         20,
         "QUARTA-FEIRA",
         4
        ],
        [
         "2024-11-21",
         2024,
         11,
         "NOVEMBRO",
         21,
         "QUINTA-FEIRA",
         5
        ],
        [
         "2024-11-22",
         2024,
         11,
         "NOVEMBRO",
         22,
         "SEXTA-FEIRA",
         6
        ],
        [
         "2024-11-23",
         2024,
         11,
         "NOVEMBRO",
         23,
         "SABADO",
         7
        ],
        [
         "2024-11-24",
         2024,
         11,
         "NOVEMBRO",
         24,
         "DOMINGO",
         1
        ],
        [
         "2024-11-25",
         2024,
         11,
         "NOVEMBRO",
         25,
         "SEGUNDA-FEIRA",
         2
        ],
        [
         "2024-11-26",
         2024,
         11,
         "NOVEMBRO",
         26,
         "TERCA-FEIRA",
         3
        ],
        [
         "2024-11-27",
         2024,
         11,
         "NOVEMBRO",
         27,
         "QUARTA-FEIRA",
         4
        ],
        [
         "2024-11-28",
         2024,
         11,
         "NOVEMBRO",
         28,
         "QUINTA-FEIRA",
         5
        ],
        [
         "2024-11-29",
         2024,
         11,
         "NOVEMBRO",
         29,
         "SEXTA-FEIRA",
         6
        ],
        [
         "2024-11-30",
         2024,
         11,
         "NOVEMBRO",
         30,
         "SABADO",
         7
        ],
        [
         "2024-12-01",
         2024,
         12,
         "DEZEMBRO",
         1,
         "DOMINGO",
         1
        ],
        [
         "2024-12-02",
         2024,
         12,
         "DEZEMBRO",
         2,
         "SEGUNDA-FEIRA",
         2
        ],
        [
         "2024-12-03",
         2024,
         12,
         "DEZEMBRO",
         3,
         "TERCA-FEIRA",
         3
        ],
        [
         "2024-12-04",
         2024,
         12,
         "DEZEMBRO",
         4,
         "QUARTA-FEIRA",
         4
        ],
        [
         "2024-12-05",
         2024,
         12,
         "DEZEMBRO",
         5,
         "QUINTA-FEIRA",
         5
        ],
        [
         "2024-12-06",
         2024,
         12,
         "DEZEMBRO",
         6,
         "SEXTA-FEIRA",
         6
        ],
        [
         "2024-12-07",
         2024,
         12,
         "DEZEMBRO",
         7,
         "SABADO",
         7
        ],
        [
         "2024-12-08",
         2024,
         12,
         "DEZEMBRO",
         8,
         "DOMINGO",
         1
        ],
        [
         "2024-12-09",
         2024,
         12,
         "DEZEMBRO",
         9,
         "SEGUNDA-FEIRA",
         2
        ],
        [
         "2024-12-10",
         2024,
         12,
         "DEZEMBRO",
         10,
         "TERCA-FEIRA",
         3
        ],
        [
         "2024-12-11",
         2024,
         12,
         "DEZEMBRO",
         11,
         "QUARTA-FEIRA",
         4
        ],
        [
         "2024-12-12",
         2024,
         12,
         "DEZEMBRO",
         12,
         "QUINTA-FEIRA",
         5
        ],
        [
         "2024-12-13",
         2024,
         12,
         "DEZEMBRO",
         13,
         "SEXTA-FEIRA",
         6
        ],
        [
         "2024-12-14",
         2024,
         12,
         "DEZEMBRO",
         14,
         "SABADO",
         7
        ],
        [
         "2024-12-15",
         2024,
         12,
         "DEZEMBRO",
         15,
         "DOMINGO",
         1
        ],
        [
         "2024-12-16",
         2024,
         12,
         "DEZEMBRO",
         16,
         "SEGUNDA-FEIRA",
         2
        ],
        [
         "2024-12-17",
         2024,
         12,
         "DEZEMBRO",
         17,
         "TERCA-FEIRA",
         3
        ],
        [
         "2024-12-18",
         2024,
         12,
         "DEZEMBRO",
         18,
         "QUARTA-FEIRA",
         4
        ],
        [
         "2024-12-19",
         2024,
         12,
         "DEZEMBRO",
         19,
         "QUINTA-FEIRA",
         5
        ],
        [
         "2024-12-20",
         2024,
         12,
         "DEZEMBRO",
         20,
         "SEXTA-FEIRA",
         6
        ],
        [
         "2024-12-21",
         2024,
         12,
         "DEZEMBRO",
         21,
         "SABADO",
         7
        ],
        [
         "2024-12-22",
         2024,
         12,
         "DEZEMBRO",
         22,
         "DOMINGO",
         1
        ],
        [
         "2024-12-23",
         2024,
         12,
         "DEZEMBRO",
         23,
         "SEGUNDA-FEIRA",
         2
        ],
        [
         "2024-12-24",
         2024,
         12,
         "DEZEMBRO",
         24,
         "TERCA-FEIRA",
         3
        ],
        [
         "2024-12-25",
         2024,
         12,
         "DEZEMBRO",
         25,
         "QUARTA-FEIRA",
         4
        ],
        [
         "2024-12-26",
         2024,
         12,
         "DEZEMBRO",
         26,
         "QUINTA-FEIRA",
         5
        ],
        [
         "2024-12-27",
         2024,
         12,
         "DEZEMBRO",
         27,
         "SEXTA-FEIRA",
         6
        ],
        [
         "2024-12-28",
         2024,
         12,
         "DEZEMBRO",
         28,
         "SABADO",
         7
        ],
        [
         "2024-12-29",
         2024,
         12,
         "DEZEMBRO",
         29,
         "DOMINGO",
         1
        ],
        [
         "2024-12-30",
         2024,
         12,
         "DEZEMBRO",
         30,
         "SEGUNDA-FEIRA",
         2
        ],
        [
         "2024-12-31",
         2024,
         12,
         "DEZEMBRO",
         31,
         "TERCA-FEIRA",
         3
        ],
        [
         "2025-01-01",
         2025,
         1,
         "JANEIRO",
         1,
         "QUARTA-FEIRA",
         4
        ],
        [
         "2025-01-02",
         2025,
         1,
         "JANEIRO",
         2,
         "QUINTA-FEIRA",
         5
        ],
        [
         "2025-01-03",
         2025,
         1,
         "JANEIRO",
         3,
         "SEXTA-FEIRA",
         6
        ],
        [
         "2025-01-04",
         2025,
         1,
         "JANEIRO",
         4,
         "SABADO",
         7
        ],
        [
         "2025-01-05",
         2025,
         1,
         "JANEIRO",
         5,
         "DOMINGO",
         1
        ],
        [
         "2025-01-06",
         2025,
         1,
         "JANEIRO",
         6,
         "SEGUNDA-FEIRA",
         2
        ],
        [
         "2025-01-07",
         2025,
         1,
         "JANEIRO",
         7,
         "TERCA-FEIRA",
         3
        ],
        [
         "2025-01-08",
         2025,
         1,
         "JANEIRO",
         8,
         "QUARTA-FEIRA",
         4
        ],
        [
         "2025-01-09",
         2025,
         1,
         "JANEIRO",
         9,
         "QUINTA-FEIRA",
         5
        ],
        [
         "2025-01-10",
         2025,
         1,
         "JANEIRO",
         10,
         "SEXTA-FEIRA",
         6
        ],
        [
         "2025-01-11",
         2025,
         1,
         "JANEIRO",
         11,
         "SABADO",
         7
        ],
        [
         "2025-01-12",
         2025,
         1,
         "JANEIRO",
         12,
         "DOMINGO",
         1
        ],
        [
         "2025-01-13",
         2025,
         1,
         "JANEIRO",
         13,
         "SEGUNDA-FEIRA",
         2
        ],
        [
         "2025-01-14",
         2025,
         1,
         "JANEIRO",
         14,
         "TERCA-FEIRA",
         3
        ],
        [
         "2025-01-15",
         2025,
         1,
         "JANEIRO",
         15,
         "QUARTA-FEIRA",
         4
        ],
        [
         "2025-01-16",
         2025,
         1,
         "JANEIRO",
         16,
         "QUINTA-FEIRA",
         5
        ],
        [
         "2025-01-17",
         2025,
         1,
         "JANEIRO",
         17,
         "SEXTA-FEIRA",
         6
        ],
        [
         "2025-01-18",
         2025,
         1,
         "JANEIRO",
         18,
         "SABADO",
         7
        ],
        [
         "2025-01-19",
         2025,
         1,
         "JANEIRO",
         19,
         "DOMINGO",
         1
        ],
        [
         "2025-01-20",
         2025,
         1,
         "JANEIRO",
         20,
         "SEGUNDA-FEIRA",
         2
        ],
        [
         "2025-01-21",
         2025,
         1,
         "JANEIRO",
         21,
         "TERCA-FEIRA",
         3
        ],
        [
         "2025-01-22",
         2025,
         1,
         "JANEIRO",
         22,
         "QUARTA-FEIRA",
         4
        ],
        [
         "2025-01-23",
         2025,
         1,
         "JANEIRO",
         23,
         "QUINTA-FEIRA",
         5
        ],
        [
         "2025-01-24",
         2025,
         1,
         "JANEIRO",
         24,
         "SEXTA-FEIRA",
         6
        ],
        [
         "2025-01-25",
         2025,
         1,
         "JANEIRO",
         25,
         "SABADO",
         7
        ],
        [
         "2025-01-26",
         2025,
         1,
         "JANEIRO",
         26,
         "DOMINGO",
         1
        ],
        [
         "2025-01-27",
         2025,
         1,
         "JANEIRO",
         27,
         "SEGUNDA-FEIRA",
         2
        ],
        [
         "2025-01-28",
         2025,
         1,
         "JANEIRO",
         28,
         "TERCA-FEIRA",
         3
        ],
        [
         "2025-01-29",
         2025,
         1,
         "JANEIRO",
         29,
         "QUARTA-FEIRA",
         4
        ],
        [
         "2025-01-30",
         2025,
         1,
         "JANEIRO",
         30,
         "QUINTA-FEIRA",
         5
        ],
        [
         "2025-01-31",
         2025,
         1,
         "JANEIRO",
         31,
         "SEXTA-FEIRA",
         6
        ],
        [
         "2025-02-01",
         2025,
         2,
         "FEVEREIRO",
         1,
         "SABADO",
         7
        ],
        [
         "2025-02-02",
         2025,
         2,
         "FEVEREIRO",
         2,
         "DOMINGO",
         1
        ],
        [
         "2025-02-03",
         2025,
         2,
         "FEVEREIRO",
         3,
         "SEGUNDA-FEIRA",
         2
        ],
        [
         "2025-02-04",
         2025,
         2,
         "FEVEREIRO",
         4,
         "TERCA-FEIRA",
         3
        ],
        [
         "2025-02-05",
         2025,
         2,
         "FEVEREIRO",
         5,
         "QUARTA-FEIRA",
         4
        ],
        [
         "2025-02-06",
         2025,
         2,
         "FEVEREIRO",
         6,
         "QUINTA-FEIRA",
         5
        ],
        [
         "2025-02-07",
         2025,
         2,
         "FEVEREIRO",
         7,
         "SEXTA-FEIRA",
         6
        ],
        [
         "2025-02-08",
         2025,
         2,
         "FEVEREIRO",
         8,
         "SABADO",
         7
        ],
        [
         "2025-02-09",
         2025,
         2,
         "FEVEREIRO",
         9,
         "DOMINGO",
         1
        ],
        [
         "2025-02-10",
         2025,
         2,
         "FEVEREIRO",
         10,
         "SEGUNDA-FEIRA",
         2
        ],
        [
         "2025-02-11",
         2025,
         2,
         "FEVEREIRO",
         11,
         "TERCA-FEIRA",
         3
        ],
        [
         "2025-02-12",
         2025,
         2,
         "FEVEREIRO",
         12,
         "QUARTA-FEIRA",
         4
        ],
        [
         "2025-02-13",
         2025,
         2,
         "FEVEREIRO",
         13,
         "QUINTA-FEIRA",
         5
        ],
        [
         "2025-02-14",
         2025,
         2,
         "FEVEREIRO",
         14,
         "SEXTA-FEIRA",
         6
        ],
        [
         "2025-02-15",
         2025,
         2,
         "FEVEREIRO",
         15,
         "SABADO",
         7
        ],
        [
         "2025-02-16",
         2025,
         2,
         "FEVEREIRO",
         16,
         "DOMINGO",
         1
        ],
        [
         "2025-02-17",
         2025,
         2,
         "FEVEREIRO",
         17,
         "SEGUNDA-FEIRA",
         2
        ],
        [
         "2025-02-18",
         2025,
         2,
         "FEVEREIRO",
         18,
         "TERCA-FEIRA",
         3
        ],
        [
         "2025-02-19",
         2025,
         2,
         "FEVEREIRO",
         19,
         "QUARTA-FEIRA",
         4
        ],
        [
         "2025-02-20",
         2025,
         2,
         "FEVEREIRO",
         20,
         "QUINTA-FEIRA",
         5
        ],
        [
         "2025-02-21",
         2025,
         2,
         "FEVEREIRO",
         21,
         "SEXTA-FEIRA",
         6
        ],
        [
         "2025-02-22",
         2025,
         2,
         "FEVEREIRO",
         22,
         "SABADO",
         7
        ],
        [
         "2025-02-23",
         2025,
         2,
         "FEVEREIRO",
         23,
         "DOMINGO",
         1
        ],
        [
         "2025-02-24",
         2025,
         2,
         "FEVEREIRO",
         24,
         "SEGUNDA-FEIRA",
         2
        ],
        [
         "2025-02-25",
         2025,
         2,
         "FEVEREIRO",
         25,
         "TERCA-FEIRA",
         3
        ],
        [
         "2025-02-26",
         2025,
         2,
         "FEVEREIRO",
         26,
         "QUARTA-FEIRA",
         4
        ],
        [
         "2025-02-27",
         2025,
         2,
         "FEVEREIRO",
         27,
         "QUINTA-FEIRA",
         5
        ],
        [
         "2025-02-28",
         2025,
         2,
         "FEVEREIRO",
         28,
         "SEXTA-FEIRA",
         6
        ],
        [
         "2025-03-01",
         2025,
         3,
         "MARCO",
         1,
         "SABADO",
         7
        ],
        [
         "2025-03-02",
         2025,
         3,
         "MARCO",
         2,
         "DOMINGO",
         1
        ],
        [
         "2025-03-03",
         2025,
         3,
         "MARCO",
         3,
         "SEGUNDA-FEIRA",
         2
        ],
        [
         "2025-03-04",
         2025,
         3,
         "MARCO",
         4,
         "TERCA-FEIRA",
         3
        ],
        [
         "2025-03-05",
         2025,
         3,
         "MARCO",
         5,
         "QUARTA-FEIRA",
         4
        ],
        [
         "2025-03-06",
         2025,
         3,
         "MARCO",
         6,
         "QUINTA-FEIRA",
         5
        ],
        [
         "2025-03-07",
         2025,
         3,
         "MARCO",
         7,
         "SEXTA-FEIRA",
         6
        ],
        [
         "2025-03-08",
         2025,
         3,
         "MARCO",
         8,
         "SABADO",
         7
        ],
        [
         "2025-03-09",
         2025,
         3,
         "MARCO",
         9,
         "DOMINGO",
         1
        ],
        [
         "2025-03-10",
         2025,
         3,
         "MARCO",
         10,
         "SEGUNDA-FEIRA",
         2
        ],
        [
         "2025-03-11",
         2025,
         3,
         "MARCO",
         11,
         "TERCA-FEIRA",
         3
        ],
        [
         "2025-03-12",
         2025,
         3,
         "MARCO",
         12,
         "QUARTA-FEIRA",
         4
        ],
        [
         "2025-03-13",
         2025,
         3,
         "MARCO",
         13,
         "QUINTA-FEIRA",
         5
        ],
        [
         "2025-03-14",
         2025,
         3,
         "MARCO",
         14,
         "SEXTA-FEIRA",
         6
        ],
        [
         "2025-03-15",
         2025,
         3,
         "MARCO",
         15,
         "SABADO",
         7
        ],
        [
         "2025-03-16",
         2025,
         3,
         "MARCO",
         16,
         "DOMINGO",
         1
        ],
        [
         "2025-03-17",
         2025,
         3,
         "MARCO",
         17,
         "SEGUNDA-FEIRA",
         2
        ],
        [
         "2025-03-18",
         2025,
         3,
         "MARCO",
         18,
         "TERCA-FEIRA",
         3
        ],
        [
         "2025-03-19",
         2025,
         3,
         "MARCO",
         19,
         "QUARTA-FEIRA",
         4
        ],
        [
         "2025-03-20",
         2025,
         3,
         "MARCO",
         20,
         "QUINTA-FEIRA",
         5
        ],
        [
         "2025-03-21",
         2025,
         3,
         "MARCO",
         21,
         "SEXTA-FEIRA",
         6
        ],
        [
         "2025-03-22",
         2025,
         3,
         "MARCO",
         22,
         "SABADO",
         7
        ],
        [
         "2025-03-23",
         2025,
         3,
         "MARCO",
         23,
         "DOMINGO",
         1
        ],
        [
         "2025-03-24",
         2025,
         3,
         "MARCO",
         24,
         "SEGUNDA-FEIRA",
         2
        ],
        [
         "2025-03-25",
         2025,
         3,
         "MARCO",
         25,
         "TERCA-FEIRA",
         3
        ],
        [
         "2025-03-26",
         2025,
         3,
         "MARCO",
         26,
         "QUARTA-FEIRA",
         4
        ],
        [
         "2025-03-27",
         2025,
         3,
         "MARCO",
         27,
         "QUINTA-FEIRA",
         5
        ],
        [
         "2025-03-28",
         2025,
         3,
         "MARCO",
         28,
         "SEXTA-FEIRA",
         6
        ],
        [
         "2025-03-29",
         2025,
         3,
         "MARCO",
         29,
         "SABADO",
         7
        ],
        [
         "2025-03-30",
         2025,
         3,
         "MARCO",
         30,
         "DOMINGO",
         1
        ],
        [
         "2025-03-31",
         2025,
         3,
         "MARCO",
         31,
         "SEGUNDA-FEIRA",
         2
        ],
        [
         "2025-04-01",
         2025,
         4,
         "ABRIL",
         1,
         "TERCA-FEIRA",
         3
        ],
        [
         "2025-04-02",
         2025,
         4,
         "ABRIL",
         2,
         "QUARTA-FEIRA",
         4
        ],
        [
         "2025-04-03",
         2025,
         4,
         "ABRIL",
         3,
         "QUINTA-FEIRA",
         5
        ],
        [
         "2025-04-04",
         2025,
         4,
         "ABRIL",
         4,
         "SEXTA-FEIRA",
         6
        ],
        [
         "2025-04-05",
         2025,
         4,
         "ABRIL",
         5,
         "SABADO",
         7
        ],
        [
         "2025-04-06",
         2025,
         4,
         "ABRIL",
         6,
         "DOMINGO",
         1
        ],
        [
         "2025-04-07",
         2025,
         4,
         "ABRIL",
         7,
         "SEGUNDA-FEIRA",
         2
        ],
        [
         "2025-04-08",
         2025,
         4,
         "ABRIL",
         8,
         "TERCA-FEIRA",
         3
        ],
        [
         "2025-04-09",
         2025,
         4,
         "ABRIL",
         9,
         "QUARTA-FEIRA",
         4
        ],
        [
         "2025-04-10",
         2025,
         4,
         "ABRIL",
         10,
         "QUINTA-FEIRA",
         5
        ],
        [
         "2025-04-11",
         2025,
         4,
         "ABRIL",
         11,
         "SEXTA-FEIRA",
         6
        ],
        [
         "2025-04-12",
         2025,
         4,
         "ABRIL",
         12,
         "SABADO",
         7
        ],
        [
         "2025-04-13",
         2025,
         4,
         "ABRIL",
         13,
         "DOMINGO",
         1
        ],
        [
         "2025-04-14",
         2025,
         4,
         "ABRIL",
         14,
         "SEGUNDA-FEIRA",
         2
        ],
        [
         "2025-04-15",
         2025,
         4,
         "ABRIL",
         15,
         "TERCA-FEIRA",
         3
        ],
        [
         "2025-04-16",
         2025,
         4,
         "ABRIL",
         16,
         "QUARTA-FEIRA",
         4
        ],
        [
         "2025-04-17",
         2025,
         4,
         "ABRIL",
         17,
         "QUINTA-FEIRA",
         5
        ],
        [
         "2025-04-18",
         2025,
         4,
         "ABRIL",
         18,
         "SEXTA-FEIRA",
         6
        ],
        [
         "2025-04-19",
         2025,
         4,
         "ABRIL",
         19,
         "SABADO",
         7
        ],
        [
         "2025-04-20",
         2025,
         4,
         "ABRIL",
         20,
         "DOMINGO",
         1
        ],
        [
         "2025-04-21",
         2025,
         4,
         "ABRIL",
         21,
         "SEGUNDA-FEIRA",
         2
        ],
        [
         "2025-04-22",
         2025,
         4,
         "ABRIL",
         22,
         "TERCA-FEIRA",
         3
        ],
        [
         "2025-04-23",
         2025,
         4,
         "ABRIL",
         23,
         "QUARTA-FEIRA",
         4
        ],
        [
         "2025-04-24",
         2025,
         4,
         "ABRIL",
         24,
         "QUINTA-FEIRA",
         5
        ],
        [
         "2025-04-25",
         2025,
         4,
         "ABRIL",
         25,
         "SEXTA-FEIRA",
         6
        ],
        [
         "2025-04-26",
         2025,
         4,
         "ABRIL",
         26,
         "SABADO",
         7
        ],
        [
         "2025-04-27",
         2025,
         4,
         "ABRIL",
         27,
         "DOMINGO",
         1
        ],
        [
         "2025-04-28",
         2025,
         4,
         "ABRIL",
         28,
         "SEGUNDA-FEIRA",
         2
        ],
        [
         "2025-04-29",
         2025,
         4,
         "ABRIL",
         29,
         "TERCA-FEIRA",
         3
        ],
        [
         "2025-04-30",
         2025,
         4,
         "ABRIL",
         30,
         "QUARTA-FEIRA",
         4
        ],
        [
         "2025-05-01",
         2025,
         5,
         "MAIO",
         1,
         "QUINTA-FEIRA",
         5
        ],
        [
         "2025-05-02",
         2025,
         5,
         "MAIO",
         2,
         "SEXTA-FEIRA",
         6
        ],
        [
         "2025-05-03",
         2025,
         5,
         "MAIO",
         3,
         "SABADO",
         7
        ],
        [
         "2025-05-04",
         2025,
         5,
         "MAIO",
         4,
         "DOMINGO",
         1
        ],
        [
         "2025-05-05",
         2025,
         5,
         "MAIO",
         5,
         "SEGUNDA-FEIRA",
         2
        ],
        [
         "2025-05-06",
         2025,
         5,
         "MAIO",
         6,
         "TERCA-FEIRA",
         3
        ],
        [
         "2025-05-07",
         2025,
         5,
         "MAIO",
         7,
         "QUARTA-FEIRA",
         4
        ],
        [
         "2025-05-08",
         2025,
         5,
         "MAIO",
         8,
         "QUINTA-FEIRA",
         5
        ],
        [
         "2025-05-09",
         2025,
         5,
         "MAIO",
         9,
         "SEXTA-FEIRA",
         6
        ],
        [
         "2025-05-10",
         2025,
         5,
         "MAIO",
         10,
         "SABADO",
         7
        ],
        [
         "2025-05-11",
         2025,
         5,
         "MAIO",
         11,
         "DOMINGO",
         1
        ],
        [
         "2025-05-12",
         2025,
         5,
         "MAIO",
         12,
         "SEGUNDA-FEIRA",
         2
        ],
        [
         "2025-05-13",
         2025,
         5,
         "MAIO",
         13,
         "TERCA-FEIRA",
         3
        ],
        [
         "2025-05-14",
         2025,
         5,
         "MAIO",
         14,
         "QUARTA-FEIRA",
         4
        ],
        [
         "2025-05-15",
         2025,
         5,
         "MAIO",
         15,
         "QUINTA-FEIRA",
         5
        ],
        [
         "2025-05-16",
         2025,
         5,
         "MAIO",
         16,
         "SEXTA-FEIRA",
         6
        ],
        [
         "2025-05-17",
         2025,
         5,
         "MAIO",
         17,
         "SABADO",
         7
        ],
        [
         "2025-05-18",
         2025,
         5,
         "MAIO",
         18,
         "DOMINGO",
         1
        ],
        [
         "2025-05-19",
         2025,
         5,
         "MAIO",
         19,
         "SEGUNDA-FEIRA",
         2
        ],
        [
         "2025-05-20",
         2025,
         5,
         "MAIO",
         20,
         "TERCA-FEIRA",
         3
        ],
        [
         "2025-05-21",
         2025,
         5,
         "MAIO",
         21,
         "QUARTA-FEIRA",
         4
        ],
        [
         "2025-05-22",
         2025,
         5,
         "MAIO",
         22,
         "QUINTA-FEIRA",
         5
        ],
        [
         "2025-05-23",
         2025,
         5,
         "MAIO",
         23,
         "SEXTA-FEIRA",
         6
        ],
        [
         "2025-05-24",
         2025,
         5,
         "MAIO",
         24,
         "SABADO",
         7
        ],
        [
         "2025-05-25",
         2025,
         5,
         "MAIO",
         25,
         "DOMINGO",
         1
        ],
        [
         "2025-05-26",
         2025,
         5,
         "MAIO",
         26,
         "SEGUNDA-FEIRA",
         2
        ],
        [
         "2025-05-27",
         2025,
         5,
         "MAIO",
         27,
         "TERCA-FEIRA",
         3
        ],
        [
         "2025-05-28",
         2025,
         5,
         "MAIO",
         28,
         "QUARTA-FEIRA",
         4
        ],
        [
         "2025-05-29",
         2025,
         5,
         "MAIO",
         29,
         "QUINTA-FEIRA",
         5
        ],
        [
         "2025-05-30",
         2025,
         5,
         "MAIO",
         30,
         "SEXTA-FEIRA",
         6
        ],
        [
         "2025-05-31",
         2025,
         5,
         "MAIO",
         31,
         "SABADO",
         7
        ],
        [
         "2025-06-01",
         2025,
         6,
         "JUNHO",
         1,
         "DOMINGO",
         1
        ],
        [
         "2025-06-02",
         2025,
         6,
         "JUNHO",
         2,
         "SEGUNDA-FEIRA",
         2
        ],
        [
         "2025-06-03",
         2025,
         6,
         "JUNHO",
         3,
         "TERCA-FEIRA",
         3
        ],
        [
         "2025-06-04",
         2025,
         6,
         "JUNHO",
         4,
         "QUARTA-FEIRA",
         4
        ],
        [
         "2025-06-05",
         2025,
         6,
         "JUNHO",
         5,
         "QUINTA-FEIRA",
         5
        ],
        [
         "2025-06-06",
         2025,
         6,
         "JUNHO",
         6,
         "SEXTA-FEIRA",
         6
        ],
        [
         "2025-06-07",
         2025,
         6,
         "JUNHO",
         7,
         "SABADO",
         7
        ],
        [
         "2025-06-08",
         2025,
         6,
         "JUNHO",
         8,
         "DOMINGO",
         1
        ],
        [
         "2025-06-09",
         2025,
         6,
         "JUNHO",
         9,
         "SEGUNDA-FEIRA",
         2
        ],
        [
         "2025-06-10",
         2025,
         6,
         "JUNHO",
         10,
         "TERCA-FEIRA",
         3
        ],
        [
         "2025-06-11",
         2025,
         6,
         "JUNHO",
         11,
         "QUARTA-FEIRA",
         4
        ],
        [
         "2025-06-12",
         2025,
         6,
         "JUNHO",
         12,
         "QUINTA-FEIRA",
         5
        ],
        [
         "2025-06-13",
         2025,
         6,
         "JUNHO",
         13,
         "SEXTA-FEIRA",
         6
        ],
        [
         "2025-06-14",
         2025,
         6,
         "JUNHO",
         14,
         "SABADO",
         7
        ],
        [
         "2025-06-15",
         2025,
         6,
         "JUNHO",
         15,
         "DOMINGO",
         1
        ],
        [
         "2025-06-16",
         2025,
         6,
         "JUNHO",
         16,
         "SEGUNDA-FEIRA",
         2
        ],
        [
         "2025-06-17",
         2025,
         6,
         "JUNHO",
         17,
         "TERCA-FEIRA",
         3
        ],
        [
         "2025-06-18",
         2025,
         6,
         "JUNHO",
         18,
         "QUARTA-FEIRA",
         4
        ],
        [
         "2025-06-19",
         2025,
         6,
         "JUNHO",
         19,
         "QUINTA-FEIRA",
         5
        ],
        [
         "2025-06-20",
         2025,
         6,
         "JUNHO",
         20,
         "SEXTA-FEIRA",
         6
        ],
        [
         "2025-06-21",
         2025,
         6,
         "JUNHO",
         21,
         "SABADO",
         7
        ],
        [
         "2025-06-22",
         2025,
         6,
         "JUNHO",
         22,
         "DOMINGO",
         1
        ],
        [
         "2025-06-23",
         2025,
         6,
         "JUNHO",
         23,
         "SEGUNDA-FEIRA",
         2
        ],
        [
         "2025-06-24",
         2025,
         6,
         "JUNHO",
         24,
         "TERCA-FEIRA",
         3
        ],
        [
         "2025-06-25",
         2025,
         6,
         "JUNHO",
         25,
         "QUARTA-FEIRA",
         4
        ],
        [
         "2025-06-26",
         2025,
         6,
         "JUNHO",
         26,
         "QUINTA-FEIRA",
         5
        ],
        [
         "2025-06-27",
         2025,
         6,
         "JUNHO",
         27,
         "SEXTA-FEIRA",
         6
        ],
        [
         "2025-06-28",
         2025,
         6,
         "JUNHO",
         28,
         "SABADO",
         7
        ],
        [
         "2025-06-29",
         2025,
         6,
         "JUNHO",
         29,
         "DOMINGO",
         1
        ],
        [
         "2025-06-30",
         2025,
         6,
         "JUNHO",
         30,
         "SEGUNDA-FEIRA",
         2
        ],
        [
         "2025-07-01",
         2025,
         7,
         "JULHO",
         1,
         "TERCA-FEIRA",
         3
        ],
        [
         "2025-07-02",
         2025,
         7,
         "JULHO",
         2,
         "QUARTA-FEIRA",
         4
        ],
        [
         "2025-07-03",
         2025,
         7,
         "JULHO",
         3,
         "QUINTA-FEIRA",
         5
        ],
        [
         "2025-07-04",
         2025,
         7,
         "JULHO",
         4,
         "SEXTA-FEIRA",
         6
        ],
        [
         "2025-07-05",
         2025,
         7,
         "JULHO",
         5,
         "SABADO",
         7
        ],
        [
         "2025-07-06",
         2025,
         7,
         "JULHO",
         6,
         "DOMINGO",
         1
        ],
        [
         "2025-07-07",
         2025,
         7,
         "JULHO",
         7,
         "SEGUNDA-FEIRA",
         2
        ],
        [
         "2025-07-08",
         2025,
         7,
         "JULHO",
         8,
         "TERCA-FEIRA",
         3
        ],
        [
         "2025-07-09",
         2025,
         7,
         "JULHO",
         9,
         "QUARTA-FEIRA",
         4
        ],
        [
         "2025-07-10",
         2025,
         7,
         "JULHO",
         10,
         "QUINTA-FEIRA",
         5
        ],
        [
         "2025-07-11",
         2025,
         7,
         "JULHO",
         11,
         "SEXTA-FEIRA",
         6
        ],
        [
         "2025-07-12",
         2025,
         7,
         "JULHO",
         12,
         "SABADO",
         7
        ],
        [
         "2025-07-13",
         2025,
         7,
         "JULHO",
         13,
         "DOMINGO",
         1
        ],
        [
         "2025-07-14",
         2025,
         7,
         "JULHO",
         14,
         "SEGUNDA-FEIRA",
         2
        ],
        [
         "2025-07-15",
         2025,
         7,
         "JULHO",
         15,
         "TERCA-FEIRA",
         3
        ],
        [
         "2025-07-16",
         2025,
         7,
         "JULHO",
         16,
         "QUARTA-FEIRA",
         4
        ],
        [
         "2025-07-17",
         2025,
         7,
         "JULHO",
         17,
         "QUINTA-FEIRA",
         5
        ],
        [
         "2025-07-18",
         2025,
         7,
         "JULHO",
         18,
         "SEXTA-FEIRA",
         6
        ],
        [
         "2025-07-19",
         2025,
         7,
         "JULHO",
         19,
         "SABADO",
         7
        ],
        [
         "2025-07-20",
         2025,
         7,
         "JULHO",
         20,
         "DOMINGO",
         1
        ],
        [
         "2025-07-21",
         2025,
         7,
         "JULHO",
         21,
         "SEGUNDA-FEIRA",
         2
        ],
        [
         "2025-07-22",
         2025,
         7,
         "JULHO",
         22,
         "TERCA-FEIRA",
         3
        ],
        [
         "2025-07-23",
         2025,
         7,
         "JULHO",
         23,
         "QUARTA-FEIRA",
         4
        ],
        [
         "2025-07-24",
         2025,
         7,
         "JULHO",
         24,
         "QUINTA-FEIRA",
         5
        ],
        [
         "2025-07-25",
         2025,
         7,
         "JULHO",
         25,
         "SEXTA-FEIRA",
         6
        ],
        [
         "2025-07-26",
         2025,
         7,
         "JULHO",
         26,
         "SABADO",
         7
        ],
        [
         "2025-07-27",
         2025,
         7,
         "JULHO",
         27,
         "DOMINGO",
         1
        ],
        [
         "2025-07-28",
         2025,
         7,
         "JULHO",
         28,
         "SEGUNDA-FEIRA",
         2
        ],
        [
         "2025-07-29",
         2025,
         7,
         "JULHO",
         29,
         "TERCA-FEIRA",
         3
        ],
        [
         "2025-07-30",
         2025,
         7,
         "JULHO",
         30,
         "QUARTA-FEIRA",
         4
        ],
        [
         "2025-07-31",
         2025,
         7,
         "JULHO",
         31,
         "QUINTA-FEIRA",
         5
        ],
        [
         "2025-08-01",
         2025,
         8,
         "AGOSTO",
         1,
         "SEXTA-FEIRA",
         6
        ],
        [
         "2025-08-02",
         2025,
         8,
         "AGOSTO",
         2,
         "SABADO",
         7
        ],
        [
         "2025-08-03",
         2025,
         8,
         "AGOSTO",
         3,
         "DOMINGO",
         1
        ],
        [
         "2025-08-04",
         2025,
         8,
         "AGOSTO",
         4,
         "SEGUNDA-FEIRA",
         2
        ],
        [
         "2025-08-05",
         2025,
         8,
         "AGOSTO",
         5,
         "TERCA-FEIRA",
         3
        ],
        [
         "2025-08-06",
         2025,
         8,
         "AGOSTO",
         6,
         "QUARTA-FEIRA",
         4
        ],
        [
         "2025-08-07",
         2025,
         8,
         "AGOSTO",
         7,
         "QUINTA-FEIRA",
         5
        ],
        [
         "2025-08-08",
         2025,
         8,
         "AGOSTO",
         8,
         "SEXTA-FEIRA",
         6
        ],
        [
         "2025-08-09",
         2025,
         8,
         "AGOSTO",
         9,
         "SABADO",
         7
        ],
        [
         "2025-08-10",
         2025,
         8,
         "AGOSTO",
         10,
         "DOMINGO",
         1
        ],
        [
         "2025-08-11",
         2025,
         8,
         "AGOSTO",
         11,
         "SEGUNDA-FEIRA",
         2
        ],
        [
         "2025-08-12",
         2025,
         8,
         "AGOSTO",
         12,
         "TERCA-FEIRA",
         3
        ],
        [
         "2025-08-13",
         2025,
         8,
         "AGOSTO",
         13,
         "QUARTA-FEIRA",
         4
        ],
        [
         "2025-08-14",
         2025,
         8,
         "AGOSTO",
         14,
         "QUINTA-FEIRA",
         5
        ],
        [
         "2025-08-15",
         2025,
         8,
         "AGOSTO",
         15,
         "SEXTA-FEIRA",
         6
        ],
        [
         "2025-08-16",
         2025,
         8,
         "AGOSTO",
         16,
         "SABADO",
         7
        ],
        [
         "2025-08-17",
         2025,
         8,
         "AGOSTO",
         17,
         "DOMINGO",
         1
        ],
        [
         "2025-08-18",
         2025,
         8,
         "AGOSTO",
         18,
         "SEGUNDA-FEIRA",
         2
        ],
        [
         "2025-08-19",
         2025,
         8,
         "AGOSTO",
         19,
         "TERCA-FEIRA",
         3
        ],
        [
         "2025-08-20",
         2025,
         8,
         "AGOSTO",
         20,
         "QUARTA-FEIRA",
         4
        ],
        [
         "2025-08-21",
         2025,
         8,
         "AGOSTO",
         21,
         "QUINTA-FEIRA",
         5
        ],
        [
         "2025-08-22",
         2025,
         8,
         "AGOSTO",
         22,
         "SEXTA-FEIRA",
         6
        ],
        [
         "2025-08-23",
         2025,
         8,
         "AGOSTO",
         23,
         "SABADO",
         7
        ],
        [
         "2025-08-24",
         2025,
         8,
         "AGOSTO",
         24,
         "DOMINGO",
         1
        ],
        [
         "2025-08-25",
         2025,
         8,
         "AGOSTO",
         25,
         "SEGUNDA-FEIRA",
         2
        ],
        [
         "2025-08-26",
         2025,
         8,
         "AGOSTO",
         26,
         "TERCA-FEIRA",
         3
        ],
        [
         "2025-08-27",
         2025,
         8,
         "AGOSTO",
         27,
         "QUARTA-FEIRA",
         4
        ],
        [
         "2025-08-28",
         2025,
         8,
         "AGOSTO",
         28,
         "QUINTA-FEIRA",
         5
        ],
        [
         "2025-08-29",
         2025,
         8,
         "AGOSTO",
         29,
         "SEXTA-FEIRA",
         6
        ],
        [
         "2025-08-30",
         2025,
         8,
         "AGOSTO",
         30,
         "SABADO",
         7
        ],
        [
         "2025-08-31",
         2025,
         8,
         "AGOSTO",
         31,
         "DOMINGO",
         1
        ],
        [
         "2025-09-01",
         2025,
         9,
         "SETEMBRO",
         1,
         "SEGUNDA-FEIRA",
         2
        ],
        [
         "2025-09-02",
         2025,
         9,
         "SETEMBRO",
         2,
         "TERCA-FEIRA",
         3
        ],
        [
         "2025-09-03",
         2025,
         9,
         "SETEMBRO",
         3,
         "QUARTA-FEIRA",
         4
        ],
        [
         "2025-09-04",
         2025,
         9,
         "SETEMBRO",
         4,
         "QUINTA-FEIRA",
         5
        ],
        [
         "2025-09-05",
         2025,
         9,
         "SETEMBRO",
         5,
         "SEXTA-FEIRA",
         6
        ],
        [
         "2025-09-06",
         2025,
         9,
         "SETEMBRO",
         6,
         "SABADO",
         7
        ],
        [
         "2025-09-07",
         2025,
         9,
         "SETEMBRO",
         7,
         "DOMINGO",
         1
        ],
        [
         "2025-09-08",
         2025,
         9,
         "SETEMBRO",
         8,
         "SEGUNDA-FEIRA",
         2
        ],
        [
         "2025-09-09",
         2025,
         9,
         "SETEMBRO",
         9,
         "TERCA-FEIRA",
         3
        ],
        [
         "2025-09-10",
         2025,
         9,
         "SETEMBRO",
         10,
         "QUARTA-FEIRA",
         4
        ],
        [
         "2025-09-11",
         2025,
         9,
         "SETEMBRO",
         11,
         "QUINTA-FEIRA",
         5
        ],
        [
         "2025-09-12",
         2025,
         9,
         "SETEMBRO",
         12,
         "SEXTA-FEIRA",
         6
        ],
        [
         "2025-09-13",
         2025,
         9,
         "SETEMBRO",
         13,
         "SABADO",
         7
        ],
        [
         "2025-09-14",
         2025,
         9,
         "SETEMBRO",
         14,
         "DOMINGO",
         1
        ],
        [
         "2025-09-15",
         2025,
         9,
         "SETEMBRO",
         15,
         "SEGUNDA-FEIRA",
         2
        ],
        [
         "2025-09-16",
         2025,
         9,
         "SETEMBRO",
         16,
         "TERCA-FEIRA",
         3
        ],
        [
         "2025-09-17",
         2025,
         9,
         "SETEMBRO",
         17,
         "QUARTA-FEIRA",
         4
        ],
        [
         "2025-09-18",
         2025,
         9,
         "SETEMBRO",
         18,
         "QUINTA-FEIRA",
         5
        ],
        [
         "2025-09-19",
         2025,
         9,
         "SETEMBRO",
         19,
         "SEXTA-FEIRA",
         6
        ],
        [
         "2025-09-20",
         2025,
         9,
         "SETEMBRO",
         20,
         "SABADO",
         7
        ],
        [
         "2025-09-21",
         2025,
         9,
         "SETEMBRO",
         21,
         "DOMINGO",
         1
        ],
        [
         "2025-09-22",
         2025,
         9,
         "SETEMBRO",
         22,
         "SEGUNDA-FEIRA",
         2
        ],
        [
         "2025-09-23",
         2025,
         9,
         "SETEMBRO",
         23,
         "TERCA-FEIRA",
         3
        ],
        [
         "2025-09-24",
         2025,
         9,
         "SETEMBRO",
         24,
         "QUARTA-FEIRA",
         4
        ],
        [
         "2025-09-25",
         2025,
         9,
         "SETEMBRO",
         25,
         "QUINTA-FEIRA",
         5
        ],
        [
         "2025-09-26",
         2025,
         9,
         "SETEMBRO",
         26,
         "SEXTA-FEIRA",
         6
        ],
        [
         "2025-09-27",
         2025,
         9,
         "SETEMBRO",
         27,
         "SABADO",
         7
        ],
        [
         "2025-09-28",
         2025,
         9,
         "SETEMBRO",
         28,
         "DOMINGO",
         1
        ],
        [
         "2025-09-29",
         2025,
         9,
         "SETEMBRO",
         29,
         "SEGUNDA-FEIRA",
         2
        ],
        [
         "2025-09-30",
         2025,
         9,
         "SETEMBRO",
         30,
         "TERCA-FEIRA",
         3
        ],
        [
         "2025-10-01",
         2025,
         10,
         "OUTUBRO",
         1,
         "QUARTA-FEIRA",
         4
        ],
        [
         "2025-10-02",
         2025,
         10,
         "OUTUBRO",
         2,
         "QUINTA-FEIRA",
         5
        ],
        [
         "2025-10-03",
         2025,
         10,
         "OUTUBRO",
         3,
         "SEXTA-FEIRA",
         6
        ],
        [
         "2025-10-04",
         2025,
         10,
         "OUTUBRO",
         4,
         "SABADO",
         7
        ],
        [
         "2025-10-05",
         2025,
         10,
         "OUTUBRO",
         5,
         "DOMINGO",
         1
        ],
        [
         "2025-10-06",
         2025,
         10,
         "OUTUBRO",
         6,
         "SEGUNDA-FEIRA",
         2
        ],
        [
         "2025-10-07",
         2025,
         10,
         "OUTUBRO",
         7,
         "TERCA-FEIRA",
         3
        ],
        [
         "2025-10-08",
         2025,
         10,
         "OUTUBRO",
         8,
         "QUARTA-FEIRA",
         4
        ],
        [
         "2025-10-09",
         2025,
         10,
         "OUTUBRO",
         9,
         "QUINTA-FEIRA",
         5
        ],
        [
         "2025-10-10",
         2025,
         10,
         "OUTUBRO",
         10,
         "SEXTA-FEIRA",
         6
        ],
        [
         "2025-10-11",
         2025,
         10,
         "OUTUBRO",
         11,
         "SABADO",
         7
        ],
        [
         "2025-10-12",
         2025,
         10,
         "OUTUBRO",
         12,
         "DOMINGO",
         1
        ],
        [
         "2025-10-13",
         2025,
         10,
         "OUTUBRO",
         13,
         "SEGUNDA-FEIRA",
         2
        ],
        [
         "2025-10-14",
         2025,
         10,
         "OUTUBRO",
         14,
         "TERCA-FEIRA",
         3
        ],
        [
         "2025-10-15",
         2025,
         10,
         "OUTUBRO",
         15,
         "QUARTA-FEIRA",
         4
        ],
        [
         "2025-10-16",
         2025,
         10,
         "OUTUBRO",
         16,
         "QUINTA-FEIRA",
         5
        ],
        [
         "2025-10-17",
         2025,
         10,
         "OUTUBRO",
         17,
         "SEXTA-FEIRA",
         6
        ],
        [
         "2025-10-18",
         2025,
         10,
         "OUTUBRO",
         18,
         "SABADO",
         7
        ],
        [
         "2025-10-19",
         2025,
         10,
         "OUTUBRO",
         19,
         "DOMINGO",
         1
        ],
        [
         "2025-10-20",
         2025,
         10,
         "OUTUBRO",
         20,
         "SEGUNDA-FEIRA",
         2
        ],
        [
         "2025-10-21",
         2025,
         10,
         "OUTUBRO",
         21,
         "TERCA-FEIRA",
         3
        ],
        [
         "2025-10-22",
         2025,
         10,
         "OUTUBRO",
         22,
         "QUARTA-FEIRA",
         4
        ],
        [
         "2025-10-23",
         2025,
         10,
         "OUTUBRO",
         23,
         "QUINTA-FEIRA",
         5
        ],
        [
         "2025-10-24",
         2025,
         10,
         "OUTUBRO",
         24,
         "SEXTA-FEIRA",
         6
        ],
        [
         "2025-10-25",
         2025,
         10,
         "OUTUBRO",
         25,
         "SABADO",
         7
        ],
        [
         "2025-10-26",
         2025,
         10,
         "OUTUBRO",
         26,
         "DOMINGO",
         1
        ],
        [
         "2025-10-27",
         2025,
         10,
         "OUTUBRO",
         27,
         "SEGUNDA-FEIRA",
         2
        ],
        [
         "2025-10-28",
         2025,
         10,
         "OUTUBRO",
         28,
         "TERCA-FEIRA",
         3
        ],
        [
         "2025-10-29",
         2025,
         10,
         "OUTUBRO",
         29,
         "QUARTA-FEIRA",
         4
        ],
        [
         "2025-10-30",
         2025,
         10,
         "OUTUBRO",
         30,
         "QUINTA-FEIRA",
         5
        ],
        [
         "2025-10-31",
         2025,
         10,
         "OUTUBRO",
         31,
         "SEXTA-FEIRA",
         6
        ],
        [
         "2025-11-01",
         2025,
         11,
         "NOVEMBRO",
         1,
         "SABADO",
         7
        ],
        [
         "2025-11-02",
         2025,
         11,
         "NOVEMBRO",
         2,
         "DOMINGO",
         1
        ],
        [
         "2025-11-03",
         2025,
         11,
         "NOVEMBRO",
         3,
         "SEGUNDA-FEIRA",
         2
        ],
        [
         "2025-11-04",
         2025,
         11,
         "NOVEMBRO",
         4,
         "TERCA-FEIRA",
         3
        ],
        [
         "2025-11-05",
         2025,
         11,
         "NOVEMBRO",
         5,
         "QUARTA-FEIRA",
         4
        ],
        [
         "2025-11-06",
         2025,
         11,
         "NOVEMBRO",
         6,
         "QUINTA-FEIRA",
         5
        ],
        [
         "2025-11-07",
         2025,
         11,
         "NOVEMBRO",
         7,
         "SEXTA-FEIRA",
         6
        ],
        [
         "2025-11-08",
         2025,
         11,
         "NOVEMBRO",
         8,
         "SABADO",
         7
        ],
        [
         "2025-11-09",
         2025,
         11,
         "NOVEMBRO",
         9,
         "DOMINGO",
         1
        ],
        [
         "2025-11-10",
         2025,
         11,
         "NOVEMBRO",
         10,
         "SEGUNDA-FEIRA",
         2
        ],
        [
         "2025-11-11",
         2025,
         11,
         "NOVEMBRO",
         11,
         "TERCA-FEIRA",
         3
        ],
        [
         "2025-11-12",
         2025,
         11,
         "NOVEMBRO",
         12,
         "QUARTA-FEIRA",
         4
        ],
        [
         "2025-11-13",
         2025,
         11,
         "NOVEMBRO",
         13,
         "QUINTA-FEIRA",
         5
        ],
        [
         "2025-11-14",
         2025,
         11,
         "NOVEMBRO",
         14,
         "SEXTA-FEIRA",
         6
        ],
        [
         "2025-11-15",
         2025,
         11,
         "NOVEMBRO",
         15,
         "SABADO",
         7
        ],
        [
         "2025-11-16",
         2025,
         11,
         "NOVEMBRO",
         16,
         "DOMINGO",
         1
        ],
        [
         "2025-11-17",
         2025,
         11,
         "NOVEMBRO",
         17,
         "SEGUNDA-FEIRA",
         2
        ],
        [
         "2025-11-18",
         2025,
         11,
         "NOVEMBRO",
         18,
         "TERCA-FEIRA",
         3
        ],
        [
         "2025-11-19",
         2025,
         11,
         "NOVEMBRO",
         19,
         "QUARTA-FEIRA",
         4
        ],
        [
         "2025-11-20",
         2025,
         11,
         "NOVEMBRO",
         20,
         "QUINTA-FEIRA",
         5
        ],
        [
         "2025-11-21",
         2025,
         11,
         "NOVEMBRO",
         21,
         "SEXTA-FEIRA",
         6
        ],
        [
         "2025-11-22",
         2025,
         11,
         "NOVEMBRO",
         22,
         "SABADO",
         7
        ],
        [
         "2025-11-23",
         2025,
         11,
         "NOVEMBRO",
         23,
         "DOMINGO",
         1
        ],
        [
         "2025-11-24",
         2025,
         11,
         "NOVEMBRO",
         24,
         "SEGUNDA-FEIRA",
         2
        ],
        [
         "2025-11-25",
         2025,
         11,
         "NOVEMBRO",
         25,
         "TERCA-FEIRA",
         3
        ],
        [
         "2025-11-26",
         2025,
         11,
         "NOVEMBRO",
         26,
         "QUARTA-FEIRA",
         4
        ],
        [
         "2025-11-27",
         2025,
         11,
         "NOVEMBRO",
         27,
         "QUINTA-FEIRA",
         5
        ],
        [
         "2025-11-28",
         2025,
         11,
         "NOVEMBRO",
         28,
         "SEXTA-FEIRA",
         6
        ],
        [
         "2025-11-29",
         2025,
         11,
         "NOVEMBRO",
         29,
         "SABADO",
         7
        ],
        [
         "2025-11-30",
         2025,
         11,
         "NOVEMBRO",
         30,
         "DOMINGO",
         1
        ],
        [
         "2025-12-01",
         2025,
         12,
         "DEZEMBRO",
         1,
         "SEGUNDA-FEIRA",
         2
        ],
        [
         "2025-12-02",
         2025,
         12,
         "DEZEMBRO",
         2,
         "TERCA-FEIRA",
         3
        ],
        [
         "2025-12-03",
         2025,
         12,
         "DEZEMBRO",
         3,
         "QUARTA-FEIRA",
         4
        ],
        [
         "2025-12-04",
         2025,
         12,
         "DEZEMBRO",
         4,
         "QUINTA-FEIRA",
         5
        ],
        [
         "2025-12-05",
         2025,
         12,
         "DEZEMBRO",
         5,
         "SEXTA-FEIRA",
         6
        ],
        [
         "2025-12-06",
         2025,
         12,
         "DEZEMBRO",
         6,
         "SABADO",
         7
        ],
        [
         "2025-12-07",
         2025,
         12,
         "DEZEMBRO",
         7,
         "DOMINGO",
         1
        ],
        [
         "2025-12-08",
         2025,
         12,
         "DEZEMBRO",
         8,
         "SEGUNDA-FEIRA",
         2
        ],
        [
         "2025-12-09",
         2025,
         12,
         "DEZEMBRO",
         9,
         "TERCA-FEIRA",
         3
        ],
        [
         "2025-12-10",
         2025,
         12,
         "DEZEMBRO",
         10,
         "QUARTA-FEIRA",
         4
        ],
        [
         "2025-12-11",
         2025,
         12,
         "DEZEMBRO",
         11,
         "QUINTA-FEIRA",
         5
        ],
        [
         "2025-12-12",
         2025,
         12,
         "DEZEMBRO",
         12,
         "SEXTA-FEIRA",
         6
        ],
        [
         "2025-12-13",
         2025,
         12,
         "DEZEMBRO",
         13,
         "SABADO",
         7
        ],
        [
         "2025-12-14",
         2025,
         12,
         "DEZEMBRO",
         14,
         "DOMINGO",
         1
        ],
        [
         "2025-12-15",
         2025,
         12,
         "DEZEMBRO",
         15,
         "SEGUNDA-FEIRA",
         2
        ],
        [
         "2025-12-16",
         2025,
         12,
         "DEZEMBRO",
         16,
         "TERCA-FEIRA",
         3
        ],
        [
         "2025-12-17",
         2025,
         12,
         "DEZEMBRO",
         17,
         "QUARTA-FEIRA",
         4
        ],
        [
         "2025-12-18",
         2025,
         12,
         "DEZEMBRO",
         18,
         "QUINTA-FEIRA",
         5
        ],
        [
         "2025-12-19",
         2025,
         12,
         "DEZEMBRO",
         19,
         "SEXTA-FEIRA",
         6
        ],
        [
         "2025-12-20",
         2025,
         12,
         "DEZEMBRO",
         20,
         "SABADO",
         7
        ],
        [
         "2025-12-21",
         2025,
         12,
         "DEZEMBRO",
         21,
         "DOMINGO",
         1
        ],
        [
         "2025-12-22",
         2025,
         12,
         "DEZEMBRO",
         22,
         "SEGUNDA-FEIRA",
         2
        ],
        [
         "2025-12-23",
         2025,
         12,
         "DEZEMBRO",
         23,
         "TERCA-FEIRA",
         3
        ],
        [
         "2025-12-24",
         2025,
         12,
         "DEZEMBRO",
         24,
         "QUARTA-FEIRA",
         4
        ],
        [
         "2025-12-25",
         2025,
         12,
         "DEZEMBRO",
         25,
         "QUINTA-FEIRA",
         5
        ],
        [
         "2025-12-26",
         2025,
         12,
         "DEZEMBRO",
         26,
         "SEXTA-FEIRA",
         6
        ],
        [
         "2025-12-27",
         2025,
         12,
         "DEZEMBRO",
         27,
         "SABADO",
         7
        ],
        [
         "2025-12-28",
         2025,
         12,
         "DEZEMBRO",
         28,
         "DOMINGO",
         1
        ],
        [
         "2025-12-29",
         2025,
         12,
         "DEZEMBRO",
         29,
         "SEGUNDA-FEIRA",
         2
        ],
        [
         "2025-12-30",
         2025,
         12,
         "DEZEMBRO",
         30,
         "TERCA-FEIRA",
         3
        ],
        [
         "2025-12-31",
         2025,
         12,
         "DEZEMBRO",
         31,
         "QUARTA-FEIRA",
         4
        ],
        [
         "2026-01-01",
         2026,
         1,
         "JANEIRO",
         1,
         "QUINTA-FEIRA",
         5
        ],
        [
         "2026-01-02",
         2026,
         1,
         "JANEIRO",
         2,
         "SEXTA-FEIRA",
         6
        ],
        [
         "2026-01-03",
         2026,
         1,
         "JANEIRO",
         3,
         "SABADO",
         7
        ],
        [
         "2026-01-04",
         2026,
         1,
         "JANEIRO",
         4,
         "DOMINGO",
         1
        ],
        [
         "2026-01-05",
         2026,
         1,
         "JANEIRO",
         5,
         "SEGUNDA-FEIRA",
         2
        ],
        [
         "2026-01-06",
         2026,
         1,
         "JANEIRO",
         6,
         "TERCA-FEIRA",
         3
        ],
        [
         "2026-01-07",
         2026,
         1,
         "JANEIRO",
         7,
         "QUARTA-FEIRA",
         4
        ],
        [
         "2026-01-08",
         2026,
         1,
         "JANEIRO",
         8,
         "QUINTA-FEIRA",
         5
        ],
        [
         "2026-01-09",
         2026,
         1,
         "JANEIRO",
         9,
         "SEXTA-FEIRA",
         6
        ],
        [
         "2026-01-10",
         2026,
         1,
         "JANEIRO",
         10,
         "SABADO",
         7
        ],
        [
         "2026-01-11",
         2026,
         1,
         "JANEIRO",
         11,
         "DOMINGO",
         1
        ],
        [
         "2026-01-12",
         2026,
         1,
         "JANEIRO",
         12,
         "SEGUNDA-FEIRA",
         2
        ],
        [
         "2026-01-13",
         2026,
         1,
         "JANEIRO",
         13,
         "TERCA-FEIRA",
         3
        ],
        [
         "2026-01-14",
         2026,
         1,
         "JANEIRO",
         14,
         "QUARTA-FEIRA",
         4
        ],
        [
         "2026-01-15",
         2026,
         1,
         "JANEIRO",
         15,
         "QUINTA-FEIRA",
         5
        ],
        [
         "2026-01-16",
         2026,
         1,
         "JANEIRO",
         16,
         "SEXTA-FEIRA",
         6
        ],
        [
         "2026-01-17",
         2026,
         1,
         "JANEIRO",
         17,
         "SABADO",
         7
        ],
        [
         "2026-01-18",
         2026,
         1,
         "JANEIRO",
         18,
         "DOMINGO",
         1
        ],
        [
         "2026-01-19",
         2026,
         1,
         "JANEIRO",
         19,
         "SEGUNDA-FEIRA",
         2
        ],
        [
         "2026-01-20",
         2026,
         1,
         "JANEIRO",
         20,
         "TERCA-FEIRA",
         3
        ],
        [
         "2026-01-21",
         2026,
         1,
         "JANEIRO",
         21,
         "QUARTA-FEIRA",
         4
        ],
        [
         "2026-01-22",
         2026,
         1,
         "JANEIRO",
         22,
         "QUINTA-FEIRA",
         5
        ],
        [
         "2026-01-23",
         2026,
         1,
         "JANEIRO",
         23,
         "SEXTA-FEIRA",
         6
        ],
        [
         "2026-01-24",
         2026,
         1,
         "JANEIRO",
         24,
         "SABADO",
         7
        ],
        [
         "2026-01-25",
         2026,
         1,
         "JANEIRO",
         25,
         "DOMINGO",
         1
        ],
        [
         "2026-01-26",
         2026,
         1,
         "JANEIRO",
         26,
         "SEGUNDA-FEIRA",
         2
        ],
        [
         "2026-01-27",
         2026,
         1,
         "JANEIRO",
         27,
         "TERCA-FEIRA",
         3
        ],
        [
         "2026-01-28",
         2026,
         1,
         "JANEIRO",
         28,
         "QUARTA-FEIRA",
         4
        ],
        [
         "2026-01-29",
         2026,
         1,
         "JANEIRO",
         29,
         "QUINTA-FEIRA",
         5
        ],
        [
         "2026-01-30",
         2026,
         1,
         "JANEIRO",
         30,
         "SEXTA-FEIRA",
         6
        ],
        [
         "2026-01-31",
         2026,
         1,
         "JANEIRO",
         31,
         "SABADO",
         7
        ],
        [
         "2026-02-01",
         2026,
         2,
         "FEVEREIRO",
         1,
         "DOMINGO",
         1
        ],
        [
         "2026-02-02",
         2026,
         2,
         "FEVEREIRO",
         2,
         "SEGUNDA-FEIRA",
         2
        ],
        [
         "2026-02-03",
         2026,
         2,
         "FEVEREIRO",
         3,
         "TERCA-FEIRA",
         3
        ],
        [
         "2026-02-04",
         2026,
         2,
         "FEVEREIRO",
         4,
         "QUARTA-FEIRA",
         4
        ],
        [
         "2026-02-05",
         2026,
         2,
         "FEVEREIRO",
         5,
         "QUINTA-FEIRA",
         5
        ],
        [
         "2026-02-06",
         2026,
         2,
         "FEVEREIRO",
         6,
         "SEXTA-FEIRA",
         6
        ],
        [
         "2026-02-07",
         2026,
         2,
         "FEVEREIRO",
         7,
         "SABADO",
         7
        ],
        [
         "2026-02-08",
         2026,
         2,
         "FEVEREIRO",
         8,
         "DOMINGO",
         1
        ],
        [
         "2026-02-09",
         2026,
         2,
         "FEVEREIRO",
         9,
         "SEGUNDA-FEIRA",
         2
        ],
        [
         "2026-02-10",
         2026,
         2,
         "FEVEREIRO",
         10,
         "TERCA-FEIRA",
         3
        ],
        [
         "2026-02-11",
         2026,
         2,
         "FEVEREIRO",
         11,
         "QUARTA-FEIRA",
         4
        ],
        [
         "2026-02-12",
         2026,
         2,
         "FEVEREIRO",
         12,
         "QUINTA-FEIRA",
         5
        ],
        [
         "2026-02-13",
         2026,
         2,
         "FEVEREIRO",
         13,
         "SEXTA-FEIRA",
         6
        ],
        [
         "2026-02-14",
         2026,
         2,
         "FEVEREIRO",
         14,
         "SABADO",
         7
        ],
        [
         "2026-02-15",
         2026,
         2,
         "FEVEREIRO",
         15,
         "DOMINGO",
         1
        ],
        [
         "2026-02-16",
         2026,
         2,
         "FEVEREIRO",
         16,
         "SEGUNDA-FEIRA",
         2
        ],
        [
         "2026-02-17",
         2026,
         2,
         "FEVEREIRO",
         17,
         "TERCA-FEIRA",
         3
        ],
        [
         "2026-02-18",
         2026,
         2,
         "FEVEREIRO",
         18,
         "QUARTA-FEIRA",
         4
        ],
        [
         "2026-02-19",
         2026,
         2,
         "FEVEREIRO",
         19,
         "QUINTA-FEIRA",
         5
        ],
        [
         "2026-02-20",
         2026,
         2,
         "FEVEREIRO",
         20,
         "SEXTA-FEIRA",
         6
        ],
        [
         "2026-02-21",
         2026,
         2,
         "FEVEREIRO",
         21,
         "SABADO",
         7
        ],
        [
         "2026-02-22",
         2026,
         2,
         "FEVEREIRO",
         22,
         "DOMINGO",
         1
        ],
        [
         "2026-02-23",
         2026,
         2,
         "FEVEREIRO",
         23,
         "SEGUNDA-FEIRA",
         2
        ],
        [
         "2026-02-24",
         2026,
         2,
         "FEVEREIRO",
         24,
         "TERCA-FEIRA",
         3
        ],
        [
         "2026-02-25",
         2026,
         2,
         "FEVEREIRO",
         25,
         "QUARTA-FEIRA",
         4
        ],
        [
         "2026-02-26",
         2026,
         2,
         "FEVEREIRO",
         26,
         "QUINTA-FEIRA",
         5
        ],
        [
         "2026-02-27",
         2026,
         2,
         "FEVEREIRO",
         27,
         "SEXTA-FEIRA",
         6
        ],
        [
         "2026-02-28",
         2026,
         2,
         "FEVEREIRO",
         28,
         "SABADO",
         7
        ],
        [
         "2026-03-01",
         2026,
         3,
         "MARCO",
         1,
         "DOMINGO",
         1
        ],
        [
         "2026-03-02",
         2026,
         3,
         "MARCO",
         2,
         "SEGUNDA-FEIRA",
         2
        ],
        [
         "2026-03-03",
         2026,
         3,
         "MARCO",
         3,
         "TERCA-FEIRA",
         3
        ],
        [
         "2026-03-04",
         2026,
         3,
         "MARCO",
         4,
         "QUARTA-FEIRA",
         4
        ],
        [
         "2026-03-05",
         2026,
         3,
         "MARCO",
         5,
         "QUINTA-FEIRA",
         5
        ],
        [
         "2026-03-06",
         2026,
         3,
         "MARCO",
         6,
         "SEXTA-FEIRA",
         6
        ],
        [
         "2026-03-07",
         2026,
         3,
         "MARCO",
         7,
         "SABADO",
         7
        ],
        [
         "2026-03-08",
         2026,
         3,
         "MARCO",
         8,
         "DOMINGO",
         1
        ],
        [
         "2026-03-09",
         2026,
         3,
         "MARCO",
         9,
         "SEGUNDA-FEIRA",
         2
        ],
        [
         "2026-03-10",
         2026,
         3,
         "MARCO",
         10,
         "TERCA-FEIRA",
         3
        ],
        [
         "2026-03-11",
         2026,
         3,
         "MARCO",
         11,
         "QUARTA-FEIRA",
         4
        ],
        [
         "2026-03-12",
         2026,
         3,
         "MARCO",
         12,
         "QUINTA-FEIRA",
         5
        ],
        [
         "2026-03-13",
         2026,
         3,
         "MARCO",
         13,
         "SEXTA-FEIRA",
         6
        ],
        [
         "2026-03-14",
         2026,
         3,
         "MARCO",
         14,
         "SABADO",
         7
        ],
        [
         "2026-03-15",
         2026,
         3,
         "MARCO",
         15,
         "DOMINGO",
         1
        ],
        [
         "2026-03-16",
         2026,
         3,
         "MARCO",
         16,
         "SEGUNDA-FEIRA",
         2
        ],
        [
         "2026-03-17",
         2026,
         3,
         "MARCO",
         17,
         "TERCA-FEIRA",
         3
        ],
        [
         "2026-03-18",
         2026,
         3,
         "MARCO",
         18,
         "QUARTA-FEIRA",
         4
        ],
        [
         "2026-03-19",
         2026,
         3,
         "MARCO",
         19,
         "QUINTA-FEIRA",
         5
        ],
        [
         "2026-03-20",
         2026,
         3,
         "MARCO",
         20,
         "SEXTA-FEIRA",
         6
        ],
        [
         "2026-03-21",
         2026,
         3,
         "MARCO",
         21,
         "SABADO",
         7
        ],
        [
         "2026-03-22",
         2026,
         3,
         "MARCO",
         22,
         "DOMINGO",
         1
        ],
        [
         "2026-03-23",
         2026,
         3,
         "MARCO",
         23,
         "SEGUNDA-FEIRA",
         2
        ],
        [
         "2026-03-24",
         2026,
         3,
         "MARCO",
         24,
         "TERCA-FEIRA",
         3
        ],
        [
         "2026-03-25",
         2026,
         3,
         "MARCO",
         25,
         "QUARTA-FEIRA",
         4
        ],
        [
         "2026-03-26",
         2026,
         3,
         "MARCO",
         26,
         "QUINTA-FEIRA",
         5
        ],
        [
         "2026-03-27",
         2026,
         3,
         "MARCO",
         27,
         "SEXTA-FEIRA",
         6
        ],
        [
         "2026-03-28",
         2026,
         3,
         "MARCO",
         28,
         "SABADO",
         7
        ],
        [
         "2026-03-29",
         2026,
         3,
         "MARCO",
         29,
         "DOMINGO",
         1
        ],
        [
         "2026-03-30",
         2026,
         3,
         "MARCO",
         30,
         "SEGUNDA-FEIRA",
         2
        ],
        [
         "2026-03-31",
         2026,
         3,
         "MARCO",
         31,
         "TERCA-FEIRA",
         3
        ],
        [
         "2026-04-01",
         2026,
         4,
         "ABRIL",
         1,
         "QUARTA-FEIRA",
         4
        ],
        [
         "2026-04-02",
         2026,
         4,
         "ABRIL",
         2,
         "QUINTA-FEIRA",
         5
        ],
        [
         "2026-04-03",
         2026,
         4,
         "ABRIL",
         3,
         "SEXTA-FEIRA",
         6
        ],
        [
         "2026-04-04",
         2026,
         4,
         "ABRIL",
         4,
         "SABADO",
         7
        ],
        [
         "2026-04-05",
         2026,
         4,
         "ABRIL",
         5,
         "DOMINGO",
         1
        ],
        [
         "2026-04-06",
         2026,
         4,
         "ABRIL",
         6,
         "SEGUNDA-FEIRA",
         2
        ],
        [
         "2026-04-07",
         2026,
         4,
         "ABRIL",
         7,
         "TERCA-FEIRA",
         3
        ],
        [
         "2026-04-08",
         2026,
         4,
         "ABRIL",
         8,
         "QUARTA-FEIRA",
         4
        ],
        [
         "2026-04-09",
         2026,
         4,
         "ABRIL",
         9,
         "QUINTA-FEIRA",
         5
        ],
        [
         "2026-04-10",
         2026,
         4,
         "ABRIL",
         10,
         "SEXTA-FEIRA",
         6
        ],
        [
         "2026-04-11",
         2026,
         4,
         "ABRIL",
         11,
         "SABADO",
         7
        ],
        [
         "2026-04-12",
         2026,
         4,
         "ABRIL",
         12,
         "DOMINGO",
         1
        ],
        [
         "2026-04-13",
         2026,
         4,
         "ABRIL",
         13,
         "SEGUNDA-FEIRA",
         2
        ],
        [
         "2026-04-14",
         2026,
         4,
         "ABRIL",
         14,
         "TERCA-FEIRA",
         3
        ],
        [
         "2026-04-15",
         2026,
         4,
         "ABRIL",
         15,
         "QUARTA-FEIRA",
         4
        ],
        [
         "2026-04-16",
         2026,
         4,
         "ABRIL",
         16,
         "QUINTA-FEIRA",
         5
        ],
        [
         "2026-04-17",
         2026,
         4,
         "ABRIL",
         17,
         "SEXTA-FEIRA",
         6
        ],
        [
         "2026-04-18",
         2026,
         4,
         "ABRIL",
         18,
         "SABADO",
         7
        ],
        [
         "2026-04-19",
         2026,
         4,
         "ABRIL",
         19,
         "DOMINGO",
         1
        ],
        [
         "2026-04-20",
         2026,
         4,
         "ABRIL",
         20,
         "SEGUNDA-FEIRA",
         2
        ],
        [
         "2026-04-21",
         2026,
         4,
         "ABRIL",
         21,
         "TERCA-FEIRA",
         3
        ],
        [
         "2026-04-22",
         2026,
         4,
         "ABRIL",
         22,
         "QUARTA-FEIRA",
         4
        ],
        [
         "2026-04-23",
         2026,
         4,
         "ABRIL",
         23,
         "QUINTA-FEIRA",
         5
        ],
        [
         "2026-04-24",
         2026,
         4,
         "ABRIL",
         24,
         "SEXTA-FEIRA",
         6
        ],
        [
         "2026-04-25",
         2026,
         4,
         "ABRIL",
         25,
         "SABADO",
         7
        ],
        [
         "2026-04-26",
         2026,
         4,
         "ABRIL",
         26,
         "DOMINGO",
         1
        ],
        [
         "2026-04-27",
         2026,
         4,
         "ABRIL",
         27,
         "SEGUNDA-FEIRA",
         2
        ],
        [
         "2026-04-28",
         2026,
         4,
         "ABRIL",
         28,
         "TERCA-FEIRA",
         3
        ],
        [
         "2026-04-29",
         2026,
         4,
         "ABRIL",
         29,
         "QUARTA-FEIRA",
         4
        ],
        [
         "2026-04-30",
         2026,
         4,
         "ABRIL",
         30,
         "QUINTA-FEIRA",
         5
        ],
        [
         "2026-05-01",
         2026,
         5,
         "MAIO",
         1,
         "SEXTA-FEIRA",
         6
        ],
        [
         "2026-05-02",
         2026,
         5,
         "MAIO",
         2,
         "SABADO",
         7
        ],
        [
         "2026-05-03",
         2026,
         5,
         "MAIO",
         3,
         "DOMINGO",
         1
        ],
        [
         "2026-05-04",
         2026,
         5,
         "MAIO",
         4,
         "SEGUNDA-FEIRA",
         2
        ],
        [
         "2026-05-05",
         2026,
         5,
         "MAIO",
         5,
         "TERCA-FEIRA",
         3
        ],
        [
         "2026-05-06",
         2026,
         5,
         "MAIO",
         6,
         "QUARTA-FEIRA",
         4
        ],
        [
         "2026-05-07",
         2026,
         5,
         "MAIO",
         7,
         "QUINTA-FEIRA",
         5
        ],
        [
         "2026-05-08",
         2026,
         5,
         "MAIO",
         8,
         "SEXTA-FEIRA",
         6
        ],
        [
         "2026-05-09",
         2026,
         5,
         "MAIO",
         9,
         "SABADO",
         7
        ],
        [
         "2026-05-10",
         2026,
         5,
         "MAIO",
         10,
         "DOMINGO",
         1
        ],
        [
         "2026-05-11",
         2026,
         5,
         "MAIO",
         11,
         "SEGUNDA-FEIRA",
         2
        ],
        [
         "2026-05-12",
         2026,
         5,
         "MAIO",
         12,
         "TERCA-FEIRA",
         3
        ],
        [
         "2026-05-13",
         2026,
         5,
         "MAIO",
         13,
         "QUARTA-FEIRA",
         4
        ],
        [
         "2026-05-14",
         2026,
         5,
         "MAIO",
         14,
         "QUINTA-FEIRA",
         5
        ],
        [
         "2026-05-15",
         2026,
         5,
         "MAIO",
         15,
         "SEXTA-FEIRA",
         6
        ],
        [
         "2026-05-16",
         2026,
         5,
         "MAIO",
         16,
         "SABADO",
         7
        ],
        [
         "2026-05-17",
         2026,
         5,
         "MAIO",
         17,
         "DOMINGO",
         1
        ],
        [
         "2026-05-18",
         2026,
         5,
         "MAIO",
         18,
         "SEGUNDA-FEIRA",
         2
        ],
        [
         "2026-05-19",
         2026,
         5,
         "MAIO",
         19,
         "TERCA-FEIRA",
         3
        ],
        [
         "2026-05-20",
         2026,
         5,
         "MAIO",
         20,
         "QUARTA-FEIRA",
         4
        ],
        [
         "2026-05-21",
         2026,
         5,
         "MAIO",
         21,
         "QUINTA-FEIRA",
         5
        ],
        [
         "2026-05-22",
         2026,
         5,
         "MAIO",
         22,
         "SEXTA-FEIRA",
         6
        ],
        [
         "2026-05-23",
         2026,
         5,
         "MAIO",
         23,
         "SABADO",
         7
        ],
        [
         "2026-05-24",
         2026,
         5,
         "MAIO",
         24,
         "DOMINGO",
         1
        ],
        [
         "2026-05-25",
         2026,
         5,
         "MAIO",
         25,
         "SEGUNDA-FEIRA",
         2
        ],
        [
         "2026-05-26",
         2026,
         5,
         "MAIO",
         26,
         "TERCA-FEIRA",
         3
        ],
        [
         "2026-05-27",
         2026,
         5,
         "MAIO",
         27,
         "QUARTA-FEIRA",
         4
        ],
        [
         "2026-05-28",
         2026,
         5,
         "MAIO",
         28,
         "QUINTA-FEIRA",
         5
        ],
        [
         "2026-05-29",
         2026,
         5,
         "MAIO",
         29,
         "SEXTA-FEIRA",
         6
        ],
        [
         "2026-05-30",
         2026,
         5,
         "MAIO",
         30,
         "SABADO",
         7
        ],
        [
         "2026-05-31",
         2026,
         5,
         "MAIO",
         31,
         "DOMINGO",
         1
        ],
        [
         "2026-06-01",
         2026,
         6,
         "JUNHO",
         1,
         "SEGUNDA-FEIRA",
         2
        ],
        [
         "2026-06-02",
         2026,
         6,
         "JUNHO",
         2,
         "TERCA-FEIRA",
         3
        ],
        [
         "2026-06-03",
         2026,
         6,
         "JUNHO",
         3,
         "QUARTA-FEIRA",
         4
        ],
        [
         "2026-06-04",
         2026,
         6,
         "JUNHO",
         4,
         "QUINTA-FEIRA",
         5
        ],
        [
         "2026-06-05",
         2026,
         6,
         "JUNHO",
         5,
         "SEXTA-FEIRA",
         6
        ],
        [
         "2026-06-06",
         2026,
         6,
         "JUNHO",
         6,
         "SABADO",
         7
        ],
        [
         "2026-06-07",
         2026,
         6,
         "JUNHO",
         7,
         "DOMINGO",
         1
        ],
        [
         "2026-06-08",
         2026,
         6,
         "JUNHO",
         8,
         "SEGUNDA-FEIRA",
         2
        ],
        [
         "2026-06-09",
         2026,
         6,
         "JUNHO",
         9,
         "TERCA-FEIRA",
         3
        ],
        [
         "2026-06-10",
         2026,
         6,
         "JUNHO",
         10,
         "QUARTA-FEIRA",
         4
        ],
        [
         "2026-06-11",
         2026,
         6,
         "JUNHO",
         11,
         "QUINTA-FEIRA",
         5
        ],
        [
         "2026-06-12",
         2026,
         6,
         "JUNHO",
         12,
         "SEXTA-FEIRA",
         6
        ],
        [
         "2026-06-13",
         2026,
         6,
         "JUNHO",
         13,
         "SABADO",
         7
        ],
        [
         "2026-06-14",
         2026,
         6,
         "JUNHO",
         14,
         "DOMINGO",
         1
        ],
        [
         "2026-06-15",
         2026,
         6,
         "JUNHO",
         15,
         "SEGUNDA-FEIRA",
         2
        ],
        [
         "2026-06-16",
         2026,
         6,
         "JUNHO",
         16,
         "TERCA-FEIRA",
         3
        ],
        [
         "2026-06-17",
         2026,
         6,
         "JUNHO",
         17,
         "QUARTA-FEIRA",
         4
        ],
        [
         "2026-06-18",
         2026,
         6,
         "JUNHO",
         18,
         "QUINTA-FEIRA",
         5
        ],
        [
         "2026-06-19",
         2026,
         6,
         "JUNHO",
         19,
         "SEXTA-FEIRA",
         6
        ],
        [
         "2026-06-20",
         2026,
         6,
         "JUNHO",
         20,
         "SABADO",
         7
        ],
        [
         "2026-06-21",
         2026,
         6,
         "JUNHO",
         21,
         "DOMINGO",
         1
        ],
        [
         "2026-06-22",
         2026,
         6,
         "JUNHO",
         22,
         "SEGUNDA-FEIRA",
         2
        ],
        [
         "2026-06-23",
         2026,
         6,
         "JUNHO",
         23,
         "TERCA-FEIRA",
         3
        ],
        [
         "2026-06-24",
         2026,
         6,
         "JUNHO",
         24,
         "QUARTA-FEIRA",
         4
        ],
        [
         "2026-06-25",
         2026,
         6,
         "JUNHO",
         25,
         "QUINTA-FEIRA",
         5
        ],
        [
         "2026-06-26",
         2026,
         6,
         "JUNHO",
         26,
         "SEXTA-FEIRA",
         6
        ],
        [
         "2026-06-27",
         2026,
         6,
         "JUNHO",
         27,
         "SABADO",
         7
        ],
        [
         "2026-06-28",
         2026,
         6,
         "JUNHO",
         28,
         "DOMINGO",
         1
        ],
        [
         "2026-06-29",
         2026,
         6,
         "JUNHO",
         29,
         "SEGUNDA-FEIRA",
         2
        ],
        [
         "2026-06-30",
         2026,
         6,
         "JUNHO",
         30,
         "TERCA-FEIRA",
         3
        ],
        [
         "2026-07-01",
         2026,
         7,
         "JULHO",
         1,
         "QUARTA-FEIRA",
         4
        ],
        [
         "2026-07-02",
         2026,
         7,
         "JULHO",
         2,
         "QUINTA-FEIRA",
         5
        ],
        [
         "2026-07-03",
         2026,
         7,
         "JULHO",
         3,
         "SEXTA-FEIRA",
         6
        ],
        [
         "2026-07-04",
         2026,
         7,
         "JULHO",
         4,
         "SABADO",
         7
        ],
        [
         "2026-07-05",
         2026,
         7,
         "JULHO",
         5,
         "DOMINGO",
         1
        ],
        [
         "2026-07-06",
         2026,
         7,
         "JULHO",
         6,
         "SEGUNDA-FEIRA",
         2
        ],
        [
         "2026-07-07",
         2026,
         7,
         "JULHO",
         7,
         "TERCA-FEIRA",
         3
        ],
        [
         "2026-07-08",
         2026,
         7,
         "JULHO",
         8,
         "QUARTA-FEIRA",
         4
        ],
        [
         "2026-07-09",
         2026,
         7,
         "JULHO",
         9,
         "QUINTA-FEIRA",
         5
        ],
        [
         "2026-07-10",
         2026,
         7,
         "JULHO",
         10,
         "SEXTA-FEIRA",
         6
        ],
        [
         "2026-07-11",
         2026,
         7,
         "JULHO",
         11,
         "SABADO",
         7
        ],
        [
         "2026-07-12",
         2026,
         7,
         "JULHO",
         12,
         "DOMINGO",
         1
        ],
        [
         "2026-07-13",
         2026,
         7,
         "JULHO",
         13,
         "SEGUNDA-FEIRA",
         2
        ],
        [
         "2026-07-14",
         2026,
         7,
         "JULHO",
         14,
         "TERCA-FEIRA",
         3
        ],
        [
         "2026-07-15",
         2026,
         7,
         "JULHO",
         15,
         "QUARTA-FEIRA",
         4
        ],
        [
         "2026-07-16",
         2026,
         7,
         "JULHO",
         16,
         "QUINTA-FEIRA",
         5
        ],
        [
         "2026-07-17",
         2026,
         7,
         "JULHO",
         17,
         "SEXTA-FEIRA",
         6
        ],
        [
         "2026-07-18",
         2026,
         7,
         "JULHO",
         18,
         "SABADO",
         7
        ],
        [
         "2026-07-19",
         2026,
         7,
         "JULHO",
         19,
         "DOMINGO",
         1
        ],
        [
         "2026-07-20",
         2026,
         7,
         "JULHO",
         20,
         "SEGUNDA-FEIRA",
         2
        ],
        [
         "2026-07-21",
         2026,
         7,
         "JULHO",
         21,
         "TERCA-FEIRA",
         3
        ],
        [
         "2026-07-22",
         2026,
         7,
         "JULHO",
         22,
         "QUARTA-FEIRA",
         4
        ],
        [
         "2026-07-23",
         2026,
         7,
         "JULHO",
         23,
         "QUINTA-FEIRA",
         5
        ],
        [
         "2026-07-24",
         2026,
         7,
         "JULHO",
         24,
         "SEXTA-FEIRA",
         6
        ],
        [
         "2026-07-25",
         2026,
         7,
         "JULHO",
         25,
         "SABADO",
         7
        ],
        [
         "2026-07-26",
         2026,
         7,
         "JULHO",
         26,
         "DOMINGO",
         1
        ],
        [
         "2026-07-27",
         2026,
         7,
         "JULHO",
         27,
         "SEGUNDA-FEIRA",
         2
        ],
        [
         "2026-07-28",
         2026,
         7,
         "JULHO",
         28,
         "TERCA-FEIRA",
         3
        ],
        [
         "2026-07-29",
         2026,
         7,
         "JULHO",
         29,
         "QUARTA-FEIRA",
         4
        ],
        [
         "2026-07-30",
         2026,
         7,
         "JULHO",
         30,
         "QUINTA-FEIRA",
         5
        ],
        [
         "2026-07-31",
         2026,
         7,
         "JULHO",
         31,
         "SEXTA-FEIRA",
         6
        ],
        [
         "2026-08-01",
         2026,
         8,
         "AGOSTO",
         1,
         "SABADO",
         7
        ],
        [
         "2026-08-02",
         2026,
         8,
         "AGOSTO",
         2,
         "DOMINGO",
         1
        ],
        [
         "2026-08-03",
         2026,
         8,
         "AGOSTO",
         3,
         "SEGUNDA-FEIRA",
         2
        ],
        [
         "2026-08-04",
         2026,
         8,
         "AGOSTO",
         4,
         "TERCA-FEIRA",
         3
        ],
        [
         "2026-08-05",
         2026,
         8,
         "AGOSTO",
         5,
         "QUARTA-FEIRA",
         4
        ],
        [
         "2026-08-06",
         2026,
         8,
         "AGOSTO",
         6,
         "QUINTA-FEIRA",
         5
        ],
        [
         "2026-08-07",
         2026,
         8,
         "AGOSTO",
         7,
         "SEXTA-FEIRA",
         6
        ],
        [
         "2026-08-08",
         2026,
         8,
         "AGOSTO",
         8,
         "SABADO",
         7
        ],
        [
         "2026-08-09",
         2026,
         8,
         "AGOSTO",
         9,
         "DOMINGO",
         1
        ],
        [
         "2026-08-10",
         2026,
         8,
         "AGOSTO",
         10,
         "SEGUNDA-FEIRA",
         2
        ],
        [
         "2026-08-11",
         2026,
         8,
         "AGOSTO",
         11,
         "TERCA-FEIRA",
         3
        ],
        [
         "2026-08-12",
         2026,
         8,
         "AGOSTO",
         12,
         "QUARTA-FEIRA",
         4
        ],
        [
         "2026-08-13",
         2026,
         8,
         "AGOSTO",
         13,
         "QUINTA-FEIRA",
         5
        ],
        [
         "2026-08-14",
         2026,
         8,
         "AGOSTO",
         14,
         "SEXTA-FEIRA",
         6
        ],
        [
         "2026-08-15",
         2026,
         8,
         "AGOSTO",
         15,
         "SABADO",
         7
        ],
        [
         "2026-08-16",
         2026,
         8,
         "AGOSTO",
         16,
         "DOMINGO",
         1
        ],
        [
         "2026-08-17",
         2026,
         8,
         "AGOSTO",
         17,
         "SEGUNDA-FEIRA",
         2
        ],
        [
         "2026-08-18",
         2026,
         8,
         "AGOSTO",
         18,
         "TERCA-FEIRA",
         3
        ],
        [
         "2026-08-19",
         2026,
         8,
         "AGOSTO",
         19,
         "QUARTA-FEIRA",
         4
        ],
        [
         "2026-08-20",
         2026,
         8,
         "AGOSTO",
         20,
         "QUINTA-FEIRA",
         5
        ],
        [
         "2026-08-21",
         2026,
         8,
         "AGOSTO",
         21,
         "SEXTA-FEIRA",
         6
        ],
        [
         "2026-08-22",
         2026,
         8,
         "AGOSTO",
         22,
         "SABADO",
         7
        ],
        [
         "2026-08-23",
         2026,
         8,
         "AGOSTO",
         23,
         "DOMINGO",
         1
        ],
        [
         "2026-08-24",
         2026,
         8,
         "AGOSTO",
         24,
         "SEGUNDA-FEIRA",
         2
        ],
        [
         "2026-08-25",
         2026,
         8,
         "AGOSTO",
         25,
         "TERCA-FEIRA",
         3
        ],
        [
         "2026-08-26",
         2026,
         8,
         "AGOSTO",
         26,
         "QUARTA-FEIRA",
         4
        ],
        [
         "2026-08-27",
         2026,
         8,
         "AGOSTO",
         27,
         "QUINTA-FEIRA",
         5
        ],
        [
         "2026-08-28",
         2026,
         8,
         "AGOSTO",
         28,
         "SEXTA-FEIRA",
         6
        ],
        [
         "2026-08-29",
         2026,
         8,
         "AGOSTO",
         29,
         "SABADO",
         7
        ],
        [
         "2026-08-30",
         2026,
         8,
         "AGOSTO",
         30,
         "DOMINGO",
         1
        ],
        [
         "2026-08-31",
         2026,
         8,
         "AGOSTO",
         31,
         "SEGUNDA-FEIRA",
         2
        ],
        [
         "2026-09-01",
         2026,
         9,
         "SETEMBRO",
         1,
         "TERCA-FEIRA",
         3
        ],
        [
         "2026-09-02",
         2026,
         9,
         "SETEMBRO",
         2,
         "QUARTA-FEIRA",
         4
        ],
        [
         "2026-09-03",
         2026,
         9,
         "SETEMBRO",
         3,
         "QUINTA-FEIRA",
         5
        ],
        [
         "2026-09-04",
         2026,
         9,
         "SETEMBRO",
         4,
         "SEXTA-FEIRA",
         6
        ],
        [
         "2026-09-05",
         2026,
         9,
         "SETEMBRO",
         5,
         "SABADO",
         7
        ],
        [
         "2026-09-06",
         2026,
         9,
         "SETEMBRO",
         6,
         "DOMINGO",
         1
        ],
        [
         "2026-09-07",
         2026,
         9,
         "SETEMBRO",
         7,
         "SEGUNDA-FEIRA",
         2
        ],
        [
         "2026-09-08",
         2026,
         9,
         "SETEMBRO",
         8,
         "TERCA-FEIRA",
         3
        ],
        [
         "2026-09-09",
         2026,
         9,
         "SETEMBRO",
         9,
         "QUARTA-FEIRA",
         4
        ],
        [
         "2026-09-10",
         2026,
         9,
         "SETEMBRO",
         10,
         "QUINTA-FEIRA",
         5
        ],
        [
         "2026-09-11",
         2026,
         9,
         "SETEMBRO",
         11,
         "SEXTA-FEIRA",
         6
        ],
        [
         "2026-09-12",
         2026,
         9,
         "SETEMBRO",
         12,
         "SABADO",
         7
        ],
        [
         "2026-09-13",
         2026,
         9,
         "SETEMBRO",
         13,
         "DOMINGO",
         1
        ],
        [
         "2026-09-14",
         2026,
         9,
         "SETEMBRO",
         14,
         "SEGUNDA-FEIRA",
         2
        ],
        [
         "2026-09-15",
         2026,
         9,
         "SETEMBRO",
         15,
         "TERCA-FEIRA",
         3
        ],
        [
         "2026-09-16",
         2026,
         9,
         "SETEMBRO",
         16,
         "QUARTA-FEIRA",
         4
        ],
        [
         "2026-09-17",
         2026,
         9,
         "SETEMBRO",
         17,
         "QUINTA-FEIRA",
         5
        ],
        [
         "2026-09-18",
         2026,
         9,
         "SETEMBRO",
         18,
         "SEXTA-FEIRA",
         6
        ],
        [
         "2026-09-19",
         2026,
         9,
         "SETEMBRO",
         19,
         "SABADO",
         7
        ],
        [
         "2026-09-20",
         2026,
         9,
         "SETEMBRO",
         20,
         "DOMINGO",
         1
        ],
        [
         "2026-09-21",
         2026,
         9,
         "SETEMBRO",
         21,
         "SEGUNDA-FEIRA",
         2
        ],
        [
         "2026-09-22",
         2026,
         9,
         "SETEMBRO",
         22,
         "TERCA-FEIRA",
         3
        ],
        [
         "2026-09-23",
         2026,
         9,
         "SETEMBRO",
         23,
         "QUARTA-FEIRA",
         4
        ],
        [
         "2026-09-24",
         2026,
         9,
         "SETEMBRO",
         24,
         "QUINTA-FEIRA",
         5
        ],
        [
         "2026-09-25",
         2026,
         9,
         "SETEMBRO",
         25,
         "SEXTA-FEIRA",
         6
        ],
        [
         "2026-09-26",
         2026,
         9,
         "SETEMBRO",
         26,
         "SABADO",
         7
        ],
        [
         "2026-09-27",
         2026,
         9,
         "SETEMBRO",
         27,
         "DOMINGO",
         1
        ],
        [
         "2026-09-28",
         2026,
         9,
         "SETEMBRO",
         28,
         "SEGUNDA-FEIRA",
         2
        ],
        [
         "2026-09-29",
         2026,
         9,
         "SETEMBRO",
         29,
         "TERCA-FEIRA",
         3
        ],
        [
         "2026-09-30",
         2026,
         9,
         "SETEMBRO",
         30,
         "QUARTA-FEIRA",
         4
        ],
        [
         "2026-10-01",
         2026,
         10,
         "OUTUBRO",
         1,
         "QUINTA-FEIRA",
         5
        ],
        [
         "2026-10-02",
         2026,
         10,
         "OUTUBRO",
         2,
         "SEXTA-FEIRA",
         6
        ],
        [
         "2026-10-03",
         2026,
         10,
         "OUTUBRO",
         3,
         "SABADO",
         7
        ],
        [
         "2026-10-04",
         2026,
         10,
         "OUTUBRO",
         4,
         "DOMINGO",
         1
        ],
        [
         "2026-10-05",
         2026,
         10,
         "OUTUBRO",
         5,
         "SEGUNDA-FEIRA",
         2
        ],
        [
         "2026-10-06",
         2026,
         10,
         "OUTUBRO",
         6,
         "TERCA-FEIRA",
         3
        ],
        [
         "2026-10-07",
         2026,
         10,
         "OUTUBRO",
         7,
         "QUARTA-FEIRA",
         4
        ],
        [
         "2026-10-08",
         2026,
         10,
         "OUTUBRO",
         8,
         "QUINTA-FEIRA",
         5
        ],
        [
         "2026-10-09",
         2026,
         10,
         "OUTUBRO",
         9,
         "SEXTA-FEIRA",
         6
        ],
        [
         "2026-10-10",
         2026,
         10,
         "OUTUBRO",
         10,
         "SABADO",
         7
        ],
        [
         "2026-10-11",
         2026,
         10,
         "OUTUBRO",
         11,
         "DOMINGO",
         1
        ],
        [
         "2026-10-12",
         2026,
         10,
         "OUTUBRO",
         12,
         "SEGUNDA-FEIRA",
         2
        ],
        [
         "2026-10-13",
         2026,
         10,
         "OUTUBRO",
         13,
         "TERCA-FEIRA",
         3
        ],
        [
         "2026-10-14",
         2026,
         10,
         "OUTUBRO",
         14,
         "QUARTA-FEIRA",
         4
        ],
        [
         "2026-10-15",
         2026,
         10,
         "OUTUBRO",
         15,
         "QUINTA-FEIRA",
         5
        ],
        [
         "2026-10-16",
         2026,
         10,
         "OUTUBRO",
         16,
         "SEXTA-FEIRA",
         6
        ],
        [
         "2026-10-17",
         2026,
         10,
         "OUTUBRO",
         17,
         "SABADO",
         7
        ],
        [
         "2026-10-18",
         2026,
         10,
         "OUTUBRO",
         18,
         "DOMINGO",
         1
        ],
        [
         "2026-10-19",
         2026,
         10,
         "OUTUBRO",
         19,
         "SEGUNDA-FEIRA",
         2
        ],
        [
         "2026-10-20",
         2026,
         10,
         "OUTUBRO",
         20,
         "TERCA-FEIRA",
         3
        ],
        [
         "2026-10-21",
         2026,
         10,
         "OUTUBRO",
         21,
         "QUARTA-FEIRA",
         4
        ],
        [
         "2026-10-22",
         2026,
         10,
         "OUTUBRO",
         22,
         "QUINTA-FEIRA",
         5
        ],
        [
         "2026-10-23",
         2026,
         10,
         "OUTUBRO",
         23,
         "SEXTA-FEIRA",
         6
        ],
        [
         "2026-10-24",
         2026,
         10,
         "OUTUBRO",
         24,
         "SABADO",
         7
        ],
        [
         "2026-10-25",
         2026,
         10,
         "OUTUBRO",
         25,
         "DOMINGO",
         1
        ],
        [
         "2026-10-26",
         2026,
         10,
         "OUTUBRO",
         26,
         "SEGUNDA-FEIRA",
         2
        ],
        [
         "2026-10-27",
         2026,
         10,
         "OUTUBRO",
         27,
         "TERCA-FEIRA",
         3
        ],
        [
         "2026-10-28",
         2026,
         10,
         "OUTUBRO",
         28,
         "QUARTA-FEIRA",
         4
        ],
        [
         "2026-10-29",
         2026,
         10,
         "OUTUBRO",
         29,
         "QUINTA-FEIRA",
         5
        ],
        [
         "2026-10-30",
         2026,
         10,
         "OUTUBRO",
         30,
         "SEXTA-FEIRA",
         6
        ],
        [
         "2026-10-31",
         2026,
         10,
         "OUTUBRO",
         31,
         "SABADO",
         7
        ],
        [
         "2026-11-01",
         2026,
         11,
         "NOVEMBRO",
         1,
         "DOMINGO",
         1
        ],
        [
         "2026-11-02",
         2026,
         11,
         "NOVEMBRO",
         2,
         "SEGUNDA-FEIRA",
         2
        ],
        [
         "2026-11-03",
         2026,
         11,
         "NOVEMBRO",
         3,
         "TERCA-FEIRA",
         3
        ],
        [
         "2026-11-04",
         2026,
         11,
         "NOVEMBRO",
         4,
         "QUARTA-FEIRA",
         4
        ],
        [
         "2026-11-05",
         2026,
         11,
         "NOVEMBRO",
         5,
         "QUINTA-FEIRA",
         5
        ],
        [
         "2026-11-06",
         2026,
         11,
         "NOVEMBRO",
         6,
         "SEXTA-FEIRA",
         6
        ],
        [
         "2026-11-07",
         2026,
         11,
         "NOVEMBRO",
         7,
         "SABADO",
         7
        ],
        [
         "2026-11-08",
         2026,
         11,
         "NOVEMBRO",
         8,
         "DOMINGO",
         1
        ],
        [
         "2026-11-09",
         2026,
         11,
         "NOVEMBRO",
         9,
         "SEGUNDA-FEIRA",
         2
        ],
        [
         "2026-11-10",
         2026,
         11,
         "NOVEMBRO",
         10,
         "TERCA-FEIRA",
         3
        ],
        [
         "2026-11-11",
         2026,
         11,
         "NOVEMBRO",
         11,
         "QUARTA-FEIRA",
         4
        ],
        [
         "2026-11-12",
         2026,
         11,
         "NOVEMBRO",
         12,
         "QUINTA-FEIRA",
         5
        ],
        [
         "2026-11-13",
         2026,
         11,
         "NOVEMBRO",
         13,
         "SEXTA-FEIRA",
         6
        ],
        [
         "2026-11-14",
         2026,
         11,
         "NOVEMBRO",
         14,
         "SABADO",
         7
        ],
        [
         "2026-11-15",
         2026,
         11,
         "NOVEMBRO",
         15,
         "DOMINGO",
         1
        ],
        [
         "2026-11-16",
         2026,
         11,
         "NOVEMBRO",
         16,
         "SEGUNDA-FEIRA",
         2
        ],
        [
         "2026-11-17",
         2026,
         11,
         "NOVEMBRO",
         17,
         "TERCA-FEIRA",
         3
        ],
        [
         "2026-11-18",
         2026,
         11,
         "NOVEMBRO",
         18,
         "QUARTA-FEIRA",
         4
        ],
        [
         "2026-11-19",
         2026,
         11,
         "NOVEMBRO",
         19,
         "QUINTA-FEIRA",
         5
        ],
        [
         "2026-11-20",
         2026,
         11,
         "NOVEMBRO",
         20,
         "SEXTA-FEIRA",
         6
        ],
        [
         "2026-11-21",
         2026,
         11,
         "NOVEMBRO",
         21,
         "SABADO",
         7
        ],
        [
         "2026-11-22",
         2026,
         11,
         "NOVEMBRO",
         22,
         "DOMINGO",
         1
        ],
        [
         "2026-11-23",
         2026,
         11,
         "NOVEMBRO",
         23,
         "SEGUNDA-FEIRA",
         2
        ],
        [
         "2026-11-24",
         2026,
         11,
         "NOVEMBRO",
         24,
         "TERCA-FEIRA",
         3
        ],
        [
         "2026-11-25",
         2026,
         11,
         "NOVEMBRO",
         25,
         "QUARTA-FEIRA",
         4
        ],
        [
         "2026-11-26",
         2026,
         11,
         "NOVEMBRO",
         26,
         "QUINTA-FEIRA",
         5
        ],
        [
         "2026-11-27",
         2026,
         11,
         "NOVEMBRO",
         27,
         "SEXTA-FEIRA",
         6
        ],
        [
         "2026-11-28",
         2026,
         11,
         "NOVEMBRO",
         28,
         "SABADO",
         7
        ],
        [
         "2026-11-29",
         2026,
         11,
         "NOVEMBRO",
         29,
         "DOMINGO",
         1
        ],
        [
         "2026-11-30",
         2026,
         11,
         "NOVEMBRO",
         30,
         "SEGUNDA-FEIRA",
         2
        ],
        [
         "2026-12-01",
         2026,
         12,
         "DEZEMBRO",
         1,
         "TERCA-FEIRA",
         3
        ],
        [
         "2026-12-02",
         2026,
         12,
         "DEZEMBRO",
         2,
         "QUARTA-FEIRA",
         4
        ],
        [
         "2026-12-03",
         2026,
         12,
         "DEZEMBRO",
         3,
         "QUINTA-FEIRA",
         5
        ],
        [
         "2026-12-04",
         2026,
         12,
         "DEZEMBRO",
         4,
         "SEXTA-FEIRA",
         6
        ],
        [
         "2026-12-05",
         2026,
         12,
         "DEZEMBRO",
         5,
         "SABADO",
         7
        ],
        [
         "2026-12-06",
         2026,
         12,
         "DEZEMBRO",
         6,
         "DOMINGO",
         1
        ],
        [
         "2026-12-07",
         2026,
         12,
         "DEZEMBRO",
         7,
         "SEGUNDA-FEIRA",
         2
        ],
        [
         "2026-12-08",
         2026,
         12,
         "DEZEMBRO",
         8,
         "TERCA-FEIRA",
         3
        ],
        [
         "2026-12-09",
         2026,
         12,
         "DEZEMBRO",
         9,
         "QUARTA-FEIRA",
         4
        ],
        [
         "2026-12-10",
         2026,
         12,
         "DEZEMBRO",
         10,
         "QUINTA-FEIRA",
         5
        ],
        [
         "2026-12-11",
         2026,
         12,
         "DEZEMBRO",
         11,
         "SEXTA-FEIRA",
         6
        ],
        [
         "2026-12-12",
         2026,
         12,
         "DEZEMBRO",
         12,
         "SABADO",
         7
        ],
        [
         "2026-12-13",
         2026,
         12,
         "DEZEMBRO",
         13,
         "DOMINGO",
         1
        ],
        [
         "2026-12-14",
         2026,
         12,
         "DEZEMBRO",
         14,
         "SEGUNDA-FEIRA",
         2
        ],
        [
         "2026-12-15",
         2026,
         12,
         "DEZEMBRO",
         15,
         "TERCA-FEIRA",
         3
        ],
        [
         "2026-12-16",
         2026,
         12,
         "DEZEMBRO",
         16,
         "QUARTA-FEIRA",
         4
        ],
        [
         "2026-12-17",
         2026,
         12,
         "DEZEMBRO",
         17,
         "QUINTA-FEIRA",
         5
        ],
        [
         "2026-12-18",
         2026,
         12,
         "DEZEMBRO",
         18,
         "SEXTA-FEIRA",
         6
        ],
        [
         "2026-12-19",
         2026,
         12,
         "DEZEMBRO",
         19,
         "SABADO",
         7
        ],
        [
         "2026-12-20",
         2026,
         12,
         "DEZEMBRO",
         20,
         "DOMINGO",
         1
        ],
        [
         "2026-12-21",
         2026,
         12,
         "DEZEMBRO",
         21,
         "SEGUNDA-FEIRA",
         2
        ],
        [
         "2026-12-22",
         2026,
         12,
         "DEZEMBRO",
         22,
         "TERCA-FEIRA",
         3
        ],
        [
         "2026-12-23",
         2026,
         12,
         "DEZEMBRO",
         23,
         "QUARTA-FEIRA",
         4
        ],
        [
         "2026-12-24",
         2026,
         12,
         "DEZEMBRO",
         24,
         "QUINTA-FEIRA",
         5
        ],
        [
         "2026-12-25",
         2026,
         12,
         "DEZEMBRO",
         25,
         "SEXTA-FEIRA",
         6
        ],
        [
         "2026-12-26",
         2026,
         12,
         "DEZEMBRO",
         26,
         "SABADO",
         7
        ],
        [
         "2026-12-27",
         2026,
         12,
         "DEZEMBRO",
         27,
         "DOMINGO",
         1
        ],
        [
         "2026-12-28",
         2026,
         12,
         "DEZEMBRO",
         28,
         "SEGUNDA-FEIRA",
         2
        ],
        [
         "2026-12-29",
         2026,
         12,
         "DEZEMBRO",
         29,
         "TERCA-FEIRA",
         3
        ],
        [
         "2026-12-30",
         2026,
         12,
         "DEZEMBRO",
         30,
         "QUARTA-FEIRA",
         4
        ],
        [
         "2026-12-31",
         2026,
         12,
         "DEZEMBRO",
         31,
         "QUINTA-FEIRA",
         5
        ]
       ],
       "datasetInfos": [],
       "dbfsResultPath": null,
       "isJsonSchema": true,
       "metadata": {},
       "overflow": false,
       "plotOptions": {
        "customPlotOptions": {},
        "displayType": "table",
        "pivotAggregation": null,
        "pivotColumns": null,
        "xColumns": null,
        "yColumns": null
       },
       "removedWidgets": [],
       "schema": [
        {
         "metadata": "{}",
         "name": "Data",
         "type": "\"date\""
        },
        {
         "metadata": "{}",
         "name": "Ano",
         "type": "\"integer\""
        },
        {
         "metadata": "{}",
         "name": "Mes",
         "type": "\"integer\""
        },
        {
         "metadata": "{}",
         "name": "NomeMes",
         "type": "\"string\""
        },
        {
         "metadata": "{}",
         "name": "Dia",
         "type": "\"integer\""
        },
        {
         "metadata": "{}",
         "name": "NomeDiaSemana",
         "type": "\"string\""
        },
        {
         "metadata": "{}",
         "name": "NumeroDiaSemana",
         "type": "\"integer\""
        }
       ],
       "type": "table"
      }
     },
     "output_type": "display_data"
    }
   ],
   "source": [
    "from pyspark.sql.functions import expr, date_format\n",
    "\n",
    "# Define o intervalo de datas desejado\n",
    "data_inicial = \"2023-01-01\"\n",
    "data_final = \"2026-12-31\"\n",
    "\n",
    "# Calcula o número de dias no intervalo\n",
    "num_dias = spark.sql(f\"SELECT datediff('{data_final}', '{data_inicial}')\").collect()[0][0]\n",
    "\n",
    "# Cria um DataFrame com uma coluna contendo uma sequência de datas\n",
    "df_calendario = spark.range(0, num_dias + 1) \\\n",
    "    .selectExpr(f\"date_add(to_date('{data_inicial}'), CAST(id AS INT)) AS Data\")\n",
    "\n",
    "# Extrai os componentes de data\n",
    "df_tempo = df_calendario.selectExpr(\n",
    "    \"Data\",\n",
    "    \"year(Data) AS Ano\",\n",
    "    \"month(Data) AS Mes\",\n",
    "       \"(CASE month(Data) \\\n",
    "        WHEN 1 THEN 'JANEIRO' \\\n",
    "        WHEN 2 THEN 'FEVEREIRO' \\\n",
    "        WHEN 3 THEN 'MARCO' \\\n",
    "        WHEN 4 THEN 'ABRIL' \\\n",
    "        WHEN 5 THEN 'MAIO' \\\n",
    "        WHEN 6 THEN 'JUNHO' \\\n",
    "        WHEN 7 THEN 'JULHO' \\\n",
    "        WHEN 8 THEN 'AGOSTO' \\\n",
    "        WHEN 9 THEN 'SETEMBRO' \\\n",
    "        WHEN 10 THEN 'OUTUBRO' \\\n",
    "        WHEN 11 THEN 'NOVEMBRO' \\\n",
    "        WHEN 12 THEN 'DEZEMBRO' \\\n",
    "    END) AS NomeMes\",\n",
    "    \"day(Data) AS Dia\",\n",
    "    \"(CASE dayofweek(Data) \\\n",
    "        WHEN 1 THEN 'DOMINGO' \\\n",
    "        WHEN 2 THEN 'SEGUNDA-FEIRA' \\\n",
    "        WHEN 3 THEN 'TERCA-FEIRA' \\\n",
    "        WHEN 4 THEN 'QUARTA-FEIRA' \\\n",
    "        WHEN 5 THEN 'QUINTA-FEIRA' \\\n",
    "        WHEN 6 THEN 'SEXTA-FEIRA' \\\n",
    "        WHEN 7 THEN 'SABADO' \\\n",
    "    END) AS NomeDiaSemana\",\n",
    "    \"dayofweek(Data) AS NumeroDiaSemana\"\n",
    ")\n",
    "\n",
    "# Exibe o DataFrame resultante\n",
    "df_tempo.display()\n",
    "\n",
    "df_tempo.write.option(\"path\", f\"/mnt/{storageAccountName}/gold/dim_tempo\").saveAsTable(\"dim_tempo\", format=\"delta\")"
   ]
  },
  {
   "cell_type": "code",
   "execution_count": 0,
   "metadata": {
    "application/vnd.databricks.v1+cell": {
     "cellMetadata": {
      "byteLimit": 2048000,
      "implicitDf": true,
      "rowLimit": 10000
     },
     "inputWidgets": {},
     "nuid": "5aa08765-a29e-4638-9323-fb8c87759f78",
     "showTitle": false,
     "tableResultSettingsMap": {},
     "title": ""
    }
   },
   "outputs": [
    {
     "data": {
      "text/html": [
       "<style scoped>\n",
       "  .table-result-container {\n",
       "    max-height: 300px;\n",
       "    overflow: auto;\n",
       "  }\n",
       "  table, th, td {\n",
       "    border: 1px solid black;\n",
       "    border-collapse: collapse;\n",
       "  }\n",
       "  th, td {\n",
       "    padding: 5px;\n",
       "  }\n",
       "  th {\n",
       "    text-align: left;\n",
       "  }\n",
       "</style><div class='table-result-container'><table class='table-result'><thead style='background-color: white'><tr></tr></thead><tbody></tbody></table></div>"
      ]
     },
     "metadata": {
      "application/vnd.databricks.v1+output": {
       "addedWidgets": {},
       "aggData": [],
       "aggError": "",
       "aggOverflow": false,
       "aggSchema": [],
       "aggSeriesLimitReached": false,
       "aggType": "",
       "arguments": {},
       "columnCustomDisplayInfos": {},
       "data": [],
       "datasetInfos": [],
       "dbfsResultPath": null,
       "isJsonSchema": true,
       "metadata": {},
       "overflow": false,
       "plotOptions": {
        "customPlotOptions": {},
        "displayType": "table",
        "pivotAggregation": null,
        "pivotColumns": null,
        "xColumns": null,
        "yColumns": null
       },
       "removedWidgets": [],
       "schema": [],
       "type": "table"
      }
     },
     "output_type": "display_data"
    }
   ],
   "source": [
    "%sql\n",
    "drop table if exists dim_cliente"
   ]
  },
  {
   "cell_type": "code",
   "execution_count": 0,
   "metadata": {
    "application/vnd.databricks.v1+cell": {
     "cellMetadata": {
      "byteLimit": 2048000,
      "implicitDf": true,
      "rowLimit": 10000
     },
     "inputWidgets": {},
     "nuid": "2268db73-c13f-472f-a329-cf8aeface5a7",
     "showTitle": false,
     "tableResultSettingsMap": {},
     "title": ""
    }
   },
   "outputs": [
    {
     "data": {
      "text/html": [
       "<style scoped>\n",
       "  .table-result-container {\n",
       "    max-height: 300px;\n",
       "    overflow: auto;\n",
       "  }\n",
       "  table, th, td {\n",
       "    border: 1px solid black;\n",
       "    border-collapse: collapse;\n",
       "  }\n",
       "  th, td {\n",
       "    padding: 5px;\n",
       "  }\n",
       "  th {\n",
       "    text-align: left;\n",
       "  }\n",
       "</style><div class='table-result-container'><table class='table-result'><thead style='background-color: white'><tr></tr></thead><tbody></tbody></table></div>"
      ]
     },
     "metadata": {
      "application/vnd.databricks.v1+output": {
       "addedWidgets": {},
       "aggData": [],
       "aggError": "",
       "aggOverflow": false,
       "aggSchema": [],
       "aggSeriesLimitReached": false,
       "aggType": "",
       "arguments": {},
       "columnCustomDisplayInfos": {},
       "data": [],
       "datasetInfos": [],
       "dbfsResultPath": null,
       "isJsonSchema": true,
       "metadata": {},
       "overflow": false,
       "plotOptions": {
        "customPlotOptions": {},
        "displayType": "table",
        "pivotAggregation": null,
        "pivotColumns": null,
        "xColumns": null,
        "yColumns": null
       },
       "removedWidgets": [],
       "schema": [],
       "type": "table"
      }
     },
     "output_type": "display_data"
    }
   ],
   "source": [
    "%sql\n",
    "create table dim_cliente (\n",
    "   SK_CLIENTE           bigint generated by default as identity,\n",
    "   CODIGO_CLIENTE       int,\n",
    "   NOME                 varchar(50),\n",
    "   CPF                  varchar(11),\n",
    "   SEXO                 char(1),\n",
    "   ENDERECO             varchar(200),\n",
    "   TELEFONE_FIXO        varchar(10),\n",
    "   TELEFONE_CELULAR     varchar(11)\n",
    ")\n",
    "USING delta\n",
    "LOCATION '/mnt/datalake4f4de806e56e47cc/gold/dim_cliente'\n"
   ]
  },
  {
   "cell_type": "code",
   "execution_count": 0,
   "metadata": {
    "application/vnd.databricks.v1+cell": {
     "cellMetadata": {
      "byteLimit": 2048000,
      "rowLimit": 10000
     },
     "inputWidgets": {},
     "nuid": "6773906a-0b5e-4f2b-bd31-2b7f15f4ea4e",
     "showTitle": false,
     "tableResultSettingsMap": {},
     "title": ""
    }
   },
   "outputs": [],
   "source": [
    "df_cliente.createOrReplaceTempView(\"cliente\")"
   ]
  },
  {
   "cell_type": "code",
   "execution_count": 0,
   "metadata": {
    "application/vnd.databricks.v1+cell": {
     "cellMetadata": {
      "byteLimit": 2048000,
      "implicitDf": true,
      "rowLimit": 10000
     },
     "inputWidgets": {},
     "nuid": "e5b9267f-fa72-4021-9984-f22a82dc707d",
     "showTitle": false,
     "tableResultSettingsMap": {},
     "title": ""
    }
   },
   "outputs": [
    {
     "data": {
      "text/html": [
       "<style scoped>\n",
       "  .table-result-container {\n",
       "    max-height: 300px;\n",
       "    overflow: auto;\n",
       "  }\n",
       "  table, th, td {\n",
       "    border: 1px solid black;\n",
       "    border-collapse: collapse;\n",
       "  }\n",
       "  th, td {\n",
       "    padding: 5px;\n",
       "  }\n",
       "  th {\n",
       "    text-align: left;\n",
       "  }\n",
       "</style><div class='table-result-container'><table class='table-result'><thead style='background-color: white'><tr><th>cod_cliente</th><th>nome</th><th>cpf</th><th>sexo</th><th>endereco</th><th>telefone_fixo</th><th>telefone_celular</th><th>data_hora_bronze</th><th>nome_arquivo</th><th>data_hora_silver</th></tr></thead><tbody><tr><td>1</td><td>MARISA MELO OLIVEIRA</td><td>11111111111</td><td>F</td><td>RUA JOS  WOSCH SOBRINHO, 1938</td><td>4150964117</td><td>4150964117</td><td>2025-05-14T00:48:53.722+0000</td><td>cliente</td><td>2025-05-14T00:57:10.821+0000</td></tr><tr><td>2</td><td>MURILO CARVALHO CARDOSO</td><td>22222222222</td><td>M</td><td>RUA GEORGE BERNANOS, 122800</td><td>2139445385</td><td>null</td><td>2025-05-14T00:48:53.722+0000</td><td>cliente</td><td>2025-05-14T00:57:10.821+0000</td></tr><tr><td>3</td><td>VINICIUS ROCHA RODRIGUES</td><td>33333333333</td><td>M</td><td>null</td><td>null</td><td>null</td><td>2025-05-14T00:48:53.722+0000</td><td>cliente</td><td>2025-05-14T00:57:10.821+0000</td></tr><tr><td>4</td><td>CAROLINA ROCHA GOMES</td><td>44444444444</td><td>F</td><td>null</td><td>null</td><td>null</td><td>2025-05-14T00:48:53.722+0000</td><td>cliente</td><td>2025-05-14T00:57:10.821+0000</td></tr><tr><td>5</td><td>ALINE SANTOS CASTRO</td><td>55555555555</td><td>F</td><td>RUA ARMANDO PACAGNELLA, 1259</td><td>1972872893</td><td>1972872893</td><td>2025-05-14T00:48:53.722+0000</td><td>cliente</td><td>2025-05-14T00:57:10.821+0000</td></tr><tr><td>6</td><td>LEILA CORREIA CAVALCANTI</td><td>66666666666</td><td>F</td><td>RUA FRANCISCO D'ARAGE, 930</td><td>null</td><td>null</td><td>2025-05-14T00:48:53.722+0000</td><td>cliente</td><td>2025-05-14T00:57:10.821+0000</td></tr><tr><td>7</td><td>SOPHIA CORREIA SANTOS</td><td>77777777777</td><td>F</td><td>RUA JO O FORTES, 372</td><td>4982696660</td><td>4982696660</td><td>2025-05-14T00:48:53.722+0000</td><td>cliente</td><td>2025-05-14T00:57:10.821+0000</td></tr><tr><td>8</td><td>JO O CORREIA COSTA</td><td>88888888888</td><td>M</td><td>RUA PARAGU , 526</td><td>5177742809</td><td>5177742809</td><td>2025-05-14T00:48:53.722+0000</td><td>cliente</td><td>2025-05-14T00:57:10.821+0000</td></tr><tr><td>9</td><td>RAFAEL DIAS SOUZA</td><td>99999999999</td><td>M</td><td>RUA MARIA MARCHI VISSALI, 74</td><td>1674593139</td><td>1674593139</td><td>2025-05-14T00:48:53.722+0000</td><td>cliente</td><td>2025-05-14T00:57:10.821+0000</td></tr></tbody></table></div>"
      ]
     },
     "metadata": {
      "application/vnd.databricks.v1+output": {
       "addedWidgets": {},
       "aggData": [],
       "aggError": "",
       "aggOverflow": false,
       "aggSchema": [],
       "aggSeriesLimitReached": false,
       "aggType": "",
       "arguments": {},
       "columnCustomDisplayInfos": {},
       "data": [
        [
         "1",
         "MARISA MELO OLIVEIRA",
         "11111111111",
         "F",
         "RUA JOS  WOSCH SOBRINHO, 1938",
         "4150964117",
         "4150964117",
         "2025-05-14T00:48:53.722+0000",
         "cliente",
         "2025-05-14T00:57:10.821+0000"
        ],
        [
         "2",
         "MURILO CARVALHO CARDOSO",
         "22222222222",
         "M",
         "RUA GEORGE BERNANOS, 122800",
         "2139445385",
         null,
         "2025-05-14T00:48:53.722+0000",
         "cliente",
         "2025-05-14T00:57:10.821+0000"
        ],
        [
         "3",
         "VINICIUS ROCHA RODRIGUES",
         "33333333333",
         "M",
         null,
         null,
         null,
         "2025-05-14T00:48:53.722+0000",
         "cliente",
         "2025-05-14T00:57:10.821+0000"
        ],
        [
         "4",
         "CAROLINA ROCHA GOMES",
         "44444444444",
         "F",
         null,
         null,
         null,
         "2025-05-14T00:48:53.722+0000",
         "cliente",
         "2025-05-14T00:57:10.821+0000"
        ],
        [
         "5",
         "ALINE SANTOS CASTRO",
         "55555555555",
         "F",
         "RUA ARMANDO PACAGNELLA, 1259",
         "1972872893",
         "1972872893",
         "2025-05-14T00:48:53.722+0000",
         "cliente",
         "2025-05-14T00:57:10.821+0000"
        ],
        [
         "6",
         "LEILA CORREIA CAVALCANTI",
         "66666666666",
         "F",
         "RUA FRANCISCO D'ARAGE, 930",
         null,
         null,
         "2025-05-14T00:48:53.722+0000",
         "cliente",
         "2025-05-14T00:57:10.821+0000"
        ],
        [
         "7",
         "SOPHIA CORREIA SANTOS",
         "77777777777",
         "F",
         "RUA JO O FORTES, 372",
         "4982696660",
         "4982696660",
         "2025-05-14T00:48:53.722+0000",
         "cliente",
         "2025-05-14T00:57:10.821+0000"
        ],
        [
         "8",
         "JO O CORREIA COSTA",
         "88888888888",
         "M",
         "RUA PARAGU , 526",
         "5177742809",
         "5177742809",
         "2025-05-14T00:48:53.722+0000",
         "cliente",
         "2025-05-14T00:57:10.821+0000"
        ],
        [
         "9",
         "RAFAEL DIAS SOUZA",
         "99999999999",
         "M",
         "RUA MARIA MARCHI VISSALI, 74",
         "1674593139",
         "1674593139",
         "2025-05-14T00:48:53.722+0000",
         "cliente",
         "2025-05-14T00:57:10.821+0000"
        ]
       ],
       "datasetInfos": [],
       "dbfsResultPath": null,
       "isJsonSchema": true,
       "metadata": {},
       "overflow": false,
       "plotOptions": {
        "customPlotOptions": {},
        "displayType": "table",
        "pivotAggregation": null,
        "pivotColumns": null,
        "xColumns": null,
        "yColumns": null
       },
       "removedWidgets": [],
       "schema": [
        {
         "metadata": "{}",
         "name": "cod_cliente",
         "type": "\"string\""
        },
        {
         "metadata": "{}",
         "name": "nome",
         "type": "\"string\""
        },
        {
         "metadata": "{}",
         "name": "cpf",
         "type": "\"string\""
        },
        {
         "metadata": "{}",
         "name": "sexo",
         "type": "\"string\""
        },
        {
         "metadata": "{}",
         "name": "endereco",
         "type": "\"string\""
        },
        {
         "metadata": "{}",
         "name": "telefone_fixo",
         "type": "\"string\""
        },
        {
         "metadata": "{}",
         "name": "telefone_celular",
         "type": "\"string\""
        },
        {
         "metadata": "{}",
         "name": "data_hora_bronze",
         "type": "\"timestamp\""
        },
        {
         "metadata": "{}",
         "name": "nome_arquivo",
         "type": "\"string\""
        },
        {
         "metadata": "{}",
         "name": "data_hora_silver",
         "type": "\"timestamp\""
        }
       ],
       "type": "table"
      }
     },
     "output_type": "display_data"
    }
   ],
   "source": [
    "%sql\n",
    "select * from cliente"
   ]
  },
  {
   "cell_type": "code",
   "execution_count": 0,
   "metadata": {
    "application/vnd.databricks.v1+cell": {
     "cellMetadata": {
      "byteLimit": 2048000,
      "implicitDf": true,
      "rowLimit": 10000
     },
     "inputWidgets": {},
     "nuid": "72183b46-5401-4e61-b135-c242c32e380f",
     "showTitle": false,
     "tableResultSettingsMap": {},
     "title": ""
    }
   },
   "outputs": [
    {
     "data": {
      "text/html": [
       "<style scoped>\n",
       "  .table-result-container {\n",
       "    max-height: 300px;\n",
       "    overflow: auto;\n",
       "  }\n",
       "  table, th, td {\n",
       "    border: 1px solid black;\n",
       "    border-collapse: collapse;\n",
       "  }\n",
       "  th, td {\n",
       "    padding: 5px;\n",
       "  }\n",
       "  th {\n",
       "    text-align: left;\n",
       "  }\n",
       "</style><div class='table-result-container'><table class='table-result'><thead style='background-color: white'><tr><th>num_affected_rows</th><th>num_updated_rows</th><th>num_deleted_rows</th><th>num_inserted_rows</th></tr></thead><tbody><tr><td>9</td><td>0</td><td>0</td><td>9</td></tr></tbody></table></div>"
      ]
     },
     "metadata": {
      "application/vnd.databricks.v1+output": {
       "addedWidgets": {},
       "aggData": [],
       "aggError": "",
       "aggOverflow": false,
       "aggSchema": [],
       "aggSeriesLimitReached": false,
       "aggType": "",
       "arguments": {},
       "columnCustomDisplayInfos": {},
       "data": [
        [
         9,
         0,
         0,
         9
        ]
       ],
       "datasetInfos": [],
       "dbfsResultPath": null,
       "isJsonSchema": true,
       "metadata": {},
       "overflow": false,
       "plotOptions": {
        "customPlotOptions": {},
        "displayType": "table",
        "pivotAggregation": null,
        "pivotColumns": null,
        "xColumns": null,
        "yColumns": null
       },
       "removedWidgets": [],
       "schema": [
        {
         "metadata": "{}",
         "name": "num_affected_rows",
         "type": "\"long\""
        },
        {
         "metadata": "{}",
         "name": "num_updated_rows",
         "type": "\"long\""
        },
        {
         "metadata": "{}",
         "name": "num_deleted_rows",
         "type": "\"long\""
        },
        {
         "metadata": "{}",
         "name": "num_inserted_rows",
         "type": "\"long\""
        }
       ],
       "type": "table"
      }
     },
     "output_type": "display_data"
    }
   ],
   "source": [
    "%sql\n",
    "--v3a (COM CTE) prevendo atualizacao SCD1\n",
    "WITH cliente_relacional AS (\n",
    "\tSELECT cod_cliente,\n",
    "\tnome,\n",
    "\tcpf,\n",
    "\tsexo,\n",
    "\tendereco,\n",
    "\ttelefone_fixo,\n",
    "\ttelefone_celular\n",
    "\t  FROM cliente\n",
    ")\n",
    "MERGE INTO\n",
    "\tdim_cliente AS d\n",
    "USING\n",
    "\tcliente_relacional AS r\n",
    "ON r.cod_cliente = d.codigo_cliente   \n",
    "\n",
    "WHEN MATCHED AND (r.cod_cliente <> d.codigo_cliente OR r.nome <> d.nome OR r.cpf <> d.cpf OR r.sexo <> d.sexo OR r.endereco <> d.endereco OR r.telefone_fixo <> d.telefone_fixo OR r.telefone_celular <> d.telefone_celular) THEN\n",
    "\n",
    "\tUPDATE SET codigo_cliente    = r.cod_cliente,\n",
    "\t           nome         \t\t = r.nome,\n",
    "\t\t\t\t\t\t cpf          \t\t = r.cpf,\n",
    "\t\t\t\t\t\t sexo        \t\t   = r.sexo,\n",
    "\t\t\t\t\t\t endereco\t\t\t\t\t = r.endereco,\n",
    "\t\t\t\t\t\t telefone_fixo\t\t = r.telefone_fixo,\n",
    "\t\t\t\t\t\t telefone_celular  = r.telefone_celular\n",
    "\n",
    "WHEN NOT MATCHED THEN\n",
    "\n",
    "\tINSERT (codigo_cliente, nome, cpf, sexo, endereco, telefone_fixo, telefone_celular)\n",
    "\tVALUES (r.cod_cliente, r.nome, r.cpf, r.sexo, r.endereco, r.telefone_fixo, r.telefone_celular)\n",
    "\n"
   ]
  },
  {
   "cell_type": "code",
   "execution_count": 0,
   "metadata": {
    "application/vnd.databricks.v1+cell": {
     "cellMetadata": {
      "byteLimit": 2048000,
      "implicitDf": true,
      "rowLimit": 10000
     },
     "inputWidgets": {},
     "nuid": "3e0422aa-4f44-434d-865f-b7f78c3766c4",
     "showTitle": false,
     "tableResultSettingsMap": {},
     "title": ""
    }
   },
   "outputs": [
    {
     "data": {
      "text/html": [
       "<style scoped>\n",
       "  .table-result-container {\n",
       "    max-height: 300px;\n",
       "    overflow: auto;\n",
       "  }\n",
       "  table, th, td {\n",
       "    border: 1px solid black;\n",
       "    border-collapse: collapse;\n",
       "  }\n",
       "  th, td {\n",
       "    padding: 5px;\n",
       "  }\n",
       "  th {\n",
       "    text-align: left;\n",
       "  }\n",
       "</style><div class='table-result-container'><table class='table-result'><thead style='background-color: white'><tr><th>SK_CLIENTE</th><th>CODIGO_CLIENTE</th><th>NOME</th><th>CPF</th><th>SEXO</th><th>ENDERECO</th><th>TELEFONE_FIXO</th><th>TELEFONE_CELULAR</th></tr></thead><tbody><tr><td>1</td><td>1</td><td>MARISA MELO OLIVEIRA</td><td>11111111111</td><td>F</td><td>RUA JOS  WOSCH SOBRINHO, 1938</td><td>4150964117</td><td>4150964117</td></tr><tr><td>2</td><td>2</td><td>MURILO CARVALHO CARDOSO</td><td>22222222222</td><td>M</td><td>RUA GEORGE BERNANOS, 122800</td><td>2139445385</td><td>null</td></tr><tr><td>3</td><td>3</td><td>VINICIUS ROCHA RODRIGUES</td><td>33333333333</td><td>M</td><td>null</td><td>null</td><td>null</td></tr><tr><td>4</td><td>4</td><td>CAROLINA ROCHA GOMES</td><td>44444444444</td><td>F</td><td>null</td><td>null</td><td>null</td></tr><tr><td>5</td><td>5</td><td>ALINE SANTOS CASTRO</td><td>55555555555</td><td>F</td><td>RUA ARMANDO PACAGNELLA, 1259</td><td>1972872893</td><td>1972872893</td></tr><tr><td>6</td><td>6</td><td>LEILA CORREIA CAVALCANTI</td><td>66666666666</td><td>F</td><td>RUA FRANCISCO D'ARAGE, 930</td><td>null</td><td>null</td></tr><tr><td>7</td><td>7</td><td>SOPHIA CORREIA SANTOS</td><td>77777777777</td><td>F</td><td>RUA JO O FORTES, 372</td><td>4982696660</td><td>4982696660</td></tr><tr><td>8</td><td>8</td><td>JO O CORREIA COSTA</td><td>88888888888</td><td>M</td><td>RUA PARAGU , 526</td><td>5177742809</td><td>5177742809</td></tr><tr><td>9</td><td>9</td><td>RAFAEL DIAS SOUZA</td><td>99999999999</td><td>M</td><td>RUA MARIA MARCHI VISSALI, 74</td><td>1674593139</td><td>1674593139</td></tr></tbody></table></div>"
      ]
     },
     "metadata": {
      "application/vnd.databricks.v1+output": {
       "addedWidgets": {},
       "aggData": [],
       "aggError": "",
       "aggOverflow": false,
       "aggSchema": [],
       "aggSeriesLimitReached": false,
       "aggType": "",
       "arguments": {},
       "columnCustomDisplayInfos": {},
       "data": [
        [
         1,
         1,
         "MARISA MELO OLIVEIRA",
         "11111111111",
         "F",
         "RUA JOS  WOSCH SOBRINHO, 1938",
         "4150964117",
         "4150964117"
        ],
        [
         2,
         2,
         "MURILO CARVALHO CARDOSO",
         "22222222222",
         "M",
         "RUA GEORGE BERNANOS, 122800",
         "2139445385",
         null
        ],
        [
         3,
         3,
         "VINICIUS ROCHA RODRIGUES",
         "33333333333",
         "M",
         null,
         null,
         null
        ],
        [
         4,
         4,
         "CAROLINA ROCHA GOMES",
         "44444444444",
         "F",
         null,
         null,
         null
        ],
        [
         5,
         5,
         "ALINE SANTOS CASTRO",
         "55555555555",
         "F",
         "RUA ARMANDO PACAGNELLA, 1259",
         "1972872893",
         "1972872893"
        ],
        [
         6,
         6,
         "LEILA CORREIA CAVALCANTI",
         "66666666666",
         "F",
         "RUA FRANCISCO D'ARAGE, 930",
         null,
         null
        ],
        [
         7,
         7,
         "SOPHIA CORREIA SANTOS",
         "77777777777",
         "F",
         "RUA JO O FORTES, 372",
         "4982696660",
         "4982696660"
        ],
        [
         8,
         8,
         "JO O CORREIA COSTA",
         "88888888888",
         "M",
         "RUA PARAGU , 526",
         "5177742809",
         "5177742809"
        ],
        [
         9,
         9,
         "RAFAEL DIAS SOUZA",
         "99999999999",
         "M",
         "RUA MARIA MARCHI VISSALI, 74",
         "1674593139",
         "1674593139"
        ]
       ],
       "datasetInfos": [],
       "dbfsResultPath": null,
       "isJsonSchema": true,
       "metadata": {},
       "overflow": false,
       "plotOptions": {
        "customPlotOptions": {},
        "displayType": "table",
        "pivotAggregation": null,
        "pivotColumns": null,
        "xColumns": null,
        "yColumns": null
       },
       "removedWidgets": [],
       "schema": [
        {
         "metadata": "{}",
         "name": "SK_CLIENTE",
         "type": "\"long\""
        },
        {
         "metadata": "{}",
         "name": "CODIGO_CLIENTE",
         "type": "\"integer\""
        },
        {
         "metadata": "{\"__CHAR_VARCHAR_TYPE_STRING\":\"varchar(50)\"}",
         "name": "NOME",
         "type": "\"string\""
        },
        {
         "metadata": "{\"__CHAR_VARCHAR_TYPE_STRING\":\"varchar(11)\"}",
         "name": "CPF",
         "type": "\"string\""
        },
        {
         "metadata": "{\"__CHAR_VARCHAR_TYPE_STRING\":\"char(1)\"}",
         "name": "SEXO",
         "type": "\"string\""
        },
        {
         "metadata": "{\"__CHAR_VARCHAR_TYPE_STRING\":\"varchar(200)\"}",
         "name": "ENDERECO",
         "type": "\"string\""
        },
        {
         "metadata": "{\"__CHAR_VARCHAR_TYPE_STRING\":\"varchar(10)\"}",
         "name": "TELEFONE_FIXO",
         "type": "\"string\""
        },
        {
         "metadata": "{\"__CHAR_VARCHAR_TYPE_STRING\":\"varchar(11)\"}",
         "name": "TELEFONE_CELULAR",
         "type": "\"string\""
        }
       ],
       "type": "table"
      }
     },
     "output_type": "display_data"
    }
   ],
   "source": [
    "%sql\n",
    "select * from dim_cliente"
   ]
  },
  {
   "cell_type": "code",
   "execution_count": 0,
   "metadata": {
    "application/vnd.databricks.v1+cell": {
     "cellMetadata": {
      "byteLimit": 2048000,
      "implicitDf": true,
      "rowLimit": 10000
     },
     "inputWidgets": {},
     "nuid": "c5d5d55d-8d15-4081-9b7d-4e7503f9b017",
     "showTitle": false,
     "tableResultSettingsMap": {},
     "title": ""
    }
   },
   "outputs": [
    {
     "data": {
      "text/html": [
       "<style scoped>\n",
       "  .table-result-container {\n",
       "    max-height: 300px;\n",
       "    overflow: auto;\n",
       "  }\n",
       "  table, th, td {\n",
       "    border: 1px solid black;\n",
       "    border-collapse: collapse;\n",
       "  }\n",
       "  th, td {\n",
       "    padding: 5px;\n",
       "  }\n",
       "  th {\n",
       "    text-align: left;\n",
       "  }\n",
       "</style><div class='table-result-container'><table class='table-result'><thead style='background-color: white'><tr></tr></thead><tbody></tbody></table></div>"
      ]
     },
     "metadata": {
      "application/vnd.databricks.v1+output": {
       "addedWidgets": {},
       "aggData": [],
       "aggError": "",
       "aggOverflow": false,
       "aggSchema": [],
       "aggSeriesLimitReached": false,
       "aggType": "",
       "arguments": {},
       "columnCustomDisplayInfos": {},
       "data": [],
       "datasetInfos": [],
       "dbfsResultPath": null,
       "isJsonSchema": true,
       "metadata": {},
       "overflow": false,
       "plotOptions": {
        "customPlotOptions": {},
        "displayType": "table",
        "pivotAggregation": null,
        "pivotColumns": null,
        "xColumns": null,
        "yColumns": null
       },
       "removedWidgets": [],
       "schema": [],
       "type": "table"
      }
     },
     "output_type": "display_data"
    }
   ],
   "source": [
    "%sql\n",
    "drop table if exists fato_sinistro"
   ]
  },
  {
   "cell_type": "code",
   "execution_count": 0,
   "metadata": {
    "application/vnd.databricks.v1+cell": {
     "cellMetadata": {
      "byteLimit": 2048000,
      "implicitDf": true,
      "rowLimit": 10000
     },
     "inputWidgets": {},
     "nuid": "635b9633-3663-414a-92f1-128e76404325",
     "showTitle": false,
     "tableResultSettingsMap": {},
     "title": ""
    }
   },
   "outputs": [
    {
     "data": {
      "text/html": [
       "<style scoped>\n",
       "  .table-result-container {\n",
       "    max-height: 300px;\n",
       "    overflow: auto;\n",
       "  }\n",
       "  table, th, td {\n",
       "    border: 1px solid black;\n",
       "    border-collapse: collapse;\n",
       "  }\n",
       "  th, td {\n",
       "    padding: 5px;\n",
       "  }\n",
       "  th {\n",
       "    text-align: left;\n",
       "  }\n",
       "</style><div class='table-result-container'><table class='table-result'><thead style='background-color: white'><tr></tr></thead><tbody></tbody></table></div>"
      ]
     },
     "metadata": {
      "application/vnd.databricks.v1+output": {
       "addedWidgets": {},
       "aggData": [],
       "aggError": "",
       "aggOverflow": false,
       "aggSchema": [],
       "aggSeriesLimitReached": false,
       "aggType": "",
       "arguments": {},
       "columnCustomDisplayInfos": {},
       "data": [],
       "datasetInfos": [],
       "dbfsResultPath": null,
       "isJsonSchema": true,
       "metadata": {},
       "overflow": false,
       "plotOptions": {
        "customPlotOptions": {},
        "displayType": "table",
        "pivotAggregation": null,
        "pivotColumns": null,
        "xColumns": null,
        "yColumns": null
       },
       "removedWidgets": [],
       "schema": [],
       "type": "table"
      }
     },
     "output_type": "display_data"
    }
   ],
   "source": [
    "%sql\n",
    "create table fato_sinistro (\n",
    "   FK_TEMPO             date,\n",
    "   FK_CARRO             int,\n",
    "   FK_CLIENTE           int,\n",
    "   QTDE_SINISTRO        int\n",
    ")\n",
    "USING delta\n",
    "LOCATION '/mnt/datalake4f4de806e56e47cc/gold/fato_sinistro'"
   ]
  },
  {
   "cell_type": "code",
   "execution_count": 0,
   "metadata": {
    "application/vnd.databricks.v1+cell": {
     "cellMetadata": {
      "byteLimit": 2048000,
      "rowLimit": 10000
     },
     "inputWidgets": {},
     "nuid": "89e8fbe2-6d37-4e00-9f9f-19d66a8f8154",
     "showTitle": false,
     "tableResultSettingsMap": {},
     "title": ""
    }
   },
   "outputs": [],
   "source": [
    "df_apolice.createOrReplaceTempView(\"apolice\")\n",
    "df_sinistro.createOrReplaceTempView(\"sinistro\")"
   ]
  },
  {
   "cell_type": "code",
   "execution_count": 0,
   "metadata": {
    "application/vnd.databricks.v1+cell": {
     "cellMetadata": {
      "byteLimit": 2048000,
      "implicitDf": true,
      "rowLimit": 10000
     },
     "inputWidgets": {},
     "nuid": "246e0146-8d0a-43c0-a87e-e7cc0b15432a",
     "showTitle": false,
     "tableResultSettingsMap": {},
     "title": ""
    }
   },
   "outputs": [
    {
     "data": {
      "text/html": [
       "<style scoped>\n",
       "  .table-result-container {\n",
       "    max-height: 300px;\n",
       "    overflow: auto;\n",
       "  }\n",
       "  table, th, td {\n",
       "    border: 1px solid black;\n",
       "    border-collapse: collapse;\n",
       "  }\n",
       "  th, td {\n",
       "    padding: 5px;\n",
       "  }\n",
       "  th {\n",
       "    text-align: left;\n",
       "  }\n",
       "</style><div class='table-result-container'><table class='table-result'><thead style='background-color: white'><tr><th>cod_cliente</th><th>nome</th><th>cpf</th><th>sexo</th><th>endereco</th><th>telefone_fixo</th><th>telefone_celular</th><th>data_hora_bronze</th><th>nome_arquivo</th><th>data_hora_silver</th></tr></thead><tbody><tr><td>1</td><td>MARISA MELO OLIVEIRA</td><td>11111111111</td><td>F</td><td>RUA JOS  WOSCH SOBRINHO, 1938</td><td>4150964117</td><td>4150964117</td><td>2025-05-14T00:48:53.722+0000</td><td>cliente</td><td>2025-05-14T00:57:10.821+0000</td></tr><tr><td>2</td><td>MURILO CARVALHO CARDOSO</td><td>22222222222</td><td>M</td><td>RUA GEORGE BERNANOS, 122800</td><td>2139445385</td><td>null</td><td>2025-05-14T00:48:53.722+0000</td><td>cliente</td><td>2025-05-14T00:57:10.821+0000</td></tr><tr><td>3</td><td>VINICIUS ROCHA RODRIGUES</td><td>33333333333</td><td>M</td><td>null</td><td>null</td><td>null</td><td>2025-05-14T00:48:53.722+0000</td><td>cliente</td><td>2025-05-14T00:57:10.821+0000</td></tr><tr><td>4</td><td>CAROLINA ROCHA GOMES</td><td>44444444444</td><td>F</td><td>null</td><td>null</td><td>null</td><td>2025-05-14T00:48:53.722+0000</td><td>cliente</td><td>2025-05-14T00:57:10.821+0000</td></tr><tr><td>5</td><td>ALINE SANTOS CASTRO</td><td>55555555555</td><td>F</td><td>RUA ARMANDO PACAGNELLA, 1259</td><td>1972872893</td><td>1972872893</td><td>2025-05-14T00:48:53.722+0000</td><td>cliente</td><td>2025-05-14T00:57:10.821+0000</td></tr><tr><td>6</td><td>LEILA CORREIA CAVALCANTI</td><td>66666666666</td><td>F</td><td>RUA FRANCISCO D'ARAGE, 930</td><td>null</td><td>null</td><td>2025-05-14T00:48:53.722+0000</td><td>cliente</td><td>2025-05-14T00:57:10.821+0000</td></tr><tr><td>7</td><td>SOPHIA CORREIA SANTOS</td><td>77777777777</td><td>F</td><td>RUA JO O FORTES, 372</td><td>4982696660</td><td>4982696660</td><td>2025-05-14T00:48:53.722+0000</td><td>cliente</td><td>2025-05-14T00:57:10.821+0000</td></tr><tr><td>8</td><td>JO O CORREIA COSTA</td><td>88888888888</td><td>M</td><td>RUA PARAGU , 526</td><td>5177742809</td><td>5177742809</td><td>2025-05-14T00:48:53.722+0000</td><td>cliente</td><td>2025-05-14T00:57:10.821+0000</td></tr><tr><td>9</td><td>RAFAEL DIAS SOUZA</td><td>99999999999</td><td>M</td><td>RUA MARIA MARCHI VISSALI, 74</td><td>1674593139</td><td>1674593139</td><td>2025-05-14T00:48:53.722+0000</td><td>cliente</td><td>2025-05-14T00:57:10.821+0000</td></tr></tbody></table></div>"
      ]
     },
     "metadata": {
      "application/vnd.databricks.v1+output": {
       "addedWidgets": {},
       "aggData": [],
       "aggError": "",
       "aggOverflow": false,
       "aggSchema": [],
       "aggSeriesLimitReached": false,
       "aggType": "",
       "arguments": {},
       "columnCustomDisplayInfos": {},
       "data": [
        [
         "1",
         "MARISA MELO OLIVEIRA",
         "11111111111",
         "F",
         "RUA JOS  WOSCH SOBRINHO, 1938",
         "4150964117",
         "4150964117",
         "2025-05-14T00:48:53.722+0000",
         "cliente",
         "2025-05-14T00:57:10.821+0000"
        ],
        [
         "2",
         "MURILO CARVALHO CARDOSO",
         "22222222222",
         "M",
         "RUA GEORGE BERNANOS, 122800",
         "2139445385",
         null,
         "2025-05-14T00:48:53.722+0000",
         "cliente",
         "2025-05-14T00:57:10.821+0000"
        ],
        [
         "3",
         "VINICIUS ROCHA RODRIGUES",
         "33333333333",
         "M",
         null,
         null,
         null,
         "2025-05-14T00:48:53.722+0000",
         "cliente",
         "2025-05-14T00:57:10.821+0000"
        ],
        [
         "4",
         "CAROLINA ROCHA GOMES",
         "44444444444",
         "F",
         null,
         null,
         null,
         "2025-05-14T00:48:53.722+0000",
         "cliente",
         "2025-05-14T00:57:10.821+0000"
        ],
        [
         "5",
         "ALINE SANTOS CASTRO",
         "55555555555",
         "F",
         "RUA ARMANDO PACAGNELLA, 1259",
         "1972872893",
         "1972872893",
         "2025-05-14T00:48:53.722+0000",
         "cliente",
         "2025-05-14T00:57:10.821+0000"
        ],
        [
         "6",
         "LEILA CORREIA CAVALCANTI",
         "66666666666",
         "F",
         "RUA FRANCISCO D'ARAGE, 930",
         null,
         null,
         "2025-05-14T00:48:53.722+0000",
         "cliente",
         "2025-05-14T00:57:10.821+0000"
        ],
        [
         "7",
         "SOPHIA CORREIA SANTOS",
         "77777777777",
         "F",
         "RUA JO O FORTES, 372",
         "4982696660",
         "4982696660",
         "2025-05-14T00:48:53.722+0000",
         "cliente",
         "2025-05-14T00:57:10.821+0000"
        ],
        [
         "8",
         "JO O CORREIA COSTA",
         "88888888888",
         "M",
         "RUA PARAGU , 526",
         "5177742809",
         "5177742809",
         "2025-05-14T00:48:53.722+0000",
         "cliente",
         "2025-05-14T00:57:10.821+0000"
        ],
        [
         "9",
         "RAFAEL DIAS SOUZA",
         "99999999999",
         "M",
         "RUA MARIA MARCHI VISSALI, 74",
         "1674593139",
         "1674593139",
         "2025-05-14T00:48:53.722+0000",
         "cliente",
         "2025-05-14T00:57:10.821+0000"
        ]
       ],
       "datasetInfos": [],
       "dbfsResultPath": null,
       "isJsonSchema": true,
       "metadata": {},
       "overflow": false,
       "plotOptions": {
        "customPlotOptions": {},
        "displayType": "table",
        "pivotAggregation": null,
        "pivotColumns": null,
        "xColumns": null,
        "yColumns": null
       },
       "removedWidgets": [],
       "schema": [
        {
         "metadata": "{}",
         "name": "cod_cliente",
         "type": "\"string\""
        },
        {
         "metadata": "{}",
         "name": "nome",
         "type": "\"string\""
        },
        {
         "metadata": "{}",
         "name": "cpf",
         "type": "\"string\""
        },
        {
         "metadata": "{}",
         "name": "sexo",
         "type": "\"string\""
        },
        {
         "metadata": "{}",
         "name": "endereco",
         "type": "\"string\""
        },
        {
         "metadata": "{}",
         "name": "telefone_fixo",
         "type": "\"string\""
        },
        {
         "metadata": "{}",
         "name": "telefone_celular",
         "type": "\"string\""
        },
        {
         "metadata": "{}",
         "name": "data_hora_bronze",
         "type": "\"timestamp\""
        },
        {
         "metadata": "{}",
         "name": "nome_arquivo",
         "type": "\"string\""
        },
        {
         "metadata": "{}",
         "name": "data_hora_silver",
         "type": "\"timestamp\""
        }
       ],
       "type": "table"
      }
     },
     "output_type": "display_data"
    }
   ],
   "source": [
    "%sql\n",
    "select * from cliente"
   ]
  },
  {
   "cell_type": "code",
   "execution_count": 0,
   "metadata": {
    "application/vnd.databricks.v1+cell": {
     "cellMetadata": {
      "byteLimit": 2048000,
      "implicitDf": true,
      "rowLimit": 10000
     },
     "inputWidgets": {},
     "nuid": "7d6c2471-4f9e-4532-aeab-a873a72f453e",
     "showTitle": false,
     "tableResultSettingsMap": {},
     "title": ""
    }
   },
   "outputs": [
    {
     "data": {
      "text/html": [
       "<style scoped>\n",
       "  .table-result-container {\n",
       "    max-height: 300px;\n",
       "    overflow: auto;\n",
       "  }\n",
       "  table, th, td {\n",
       "    border: 1px solid black;\n",
       "    border-collapse: collapse;\n",
       "  }\n",
       "  th, td {\n",
       "    padding: 5px;\n",
       "  }\n",
       "  th {\n",
       "    text-align: left;\n",
       "  }\n",
       "</style><div class='table-result-container'><table class='table-result'><thead style='background-color: white'><tr><th>num_affected_rows</th><th>num_inserted_rows</th></tr></thead><tbody><tr><td>3</td><td>3</td></tr></tbody></table></div>"
      ]
     },
     "metadata": {
      "application/vnd.databricks.v1+output": {
       "addedWidgets": {},
       "aggData": [],
       "aggError": "",
       "aggOverflow": false,
       "aggSchema": [],
       "aggSeriesLimitReached": false,
       "aggType": "",
       "arguments": {},
       "columnCustomDisplayInfos": {},
       "data": [
        [
         3,
         3
        ]
       ],
       "datasetInfos": [],
       "dbfsResultPath": null,
       "isJsonSchema": true,
       "metadata": {},
       "overflow": false,
       "plotOptions": {
        "customPlotOptions": {},
        "displayType": "table",
        "pivotAggregation": null,
        "pivotColumns": null,
        "xColumns": null,
        "yColumns": null
       },
       "removedWidgets": [],
       "schema": [
        {
         "metadata": "{}",
         "name": "num_affected_rows",
         "type": "\"long\""
        },
        {
         "metadata": "{}",
         "name": "num_inserted_rows",
         "type": "\"long\""
        }
       ],
       "type": "table"
      }
     },
     "output_type": "display_data"
    }
   ],
   "source": [
    "%sql\n",
    "with apolice_cliente as (\n",
    "\tselect a.cod_cliente, a.placa from apolice a inner join cliente c on a.cod_cliente = c.cod_cliente\n",
    ")\n",
    "insert into fato_sinistro\n",
    "select data,\n",
    "\t   sk_carro,\n",
    "\t   sk_cliente,\n",
    "\t   count(1) as qtde_sinistro\n",
    "from sinistro r\n",
    "       inner join dim_carro dcar\n",
    "\t     on r.placa = dcar.placa\n",
    "\t   inner join apolice_cliente ac\n",
    "\t     on ac.placa = r.placa\n",
    "\t   inner join dim_cliente dcli\n",
    "\t     on ac.cod_cliente = dcli.codigo_cliente\n",
    "\t   inner join dim_tempo dtem\n",
    "\t     on r.data_sinistro = dtem.data\n",
    "group by data,\n",
    "\t   sk_carro,\n",
    "\t   sk_cliente"
   ]
  },
  {
   "cell_type": "code",
   "execution_count": 0,
   "metadata": {
    "application/vnd.databricks.v1+cell": {
     "cellMetadata": {
      "byteLimit": 2048000,
      "implicitDf": true,
      "rowLimit": 10000
     },
     "inputWidgets": {},
     "nuid": "832452b9-6e01-4d6f-9275-74a50f7fe79a",
     "showTitle": false,
     "tableResultSettingsMap": {},
     "title": ""
    }
   },
   "outputs": [
    {
     "data": {
      "text/html": [
       "<style scoped>\n",
       "  .table-result-container {\n",
       "    max-height: 300px;\n",
       "    overflow: auto;\n",
       "  }\n",
       "  table, th, td {\n",
       "    border: 1px solid black;\n",
       "    border-collapse: collapse;\n",
       "  }\n",
       "  th, td {\n",
       "    padding: 5px;\n",
       "  }\n",
       "  th {\n",
       "    text-align: left;\n",
       "  }\n",
       "</style><div class='table-result-container'><table class='table-result'><thead style='background-color: white'><tr><th>FK_TEMPO</th><th>FK_CARRO</th><th>FK_CLIENTE</th><th>QTDE_SINISTRO</th></tr></thead><tbody><tr><td>2024-03-27</td><td>12</td><td>1</td><td>1</td></tr><tr><td>2023-01-25</td><td>10</td><td>3</td><td>1</td></tr><tr><td>2023-10-20</td><td>12</td><td>1</td><td>1</td></tr></tbody></table></div>"
      ]
     },
     "metadata": {
      "application/vnd.databricks.v1+output": {
       "addedWidgets": {},
       "aggData": [],
       "aggError": "",
       "aggOverflow": false,
       "aggSchema": [],
       "aggSeriesLimitReached": false,
       "aggType": "",
       "arguments": {},
       "columnCustomDisplayInfos": {},
       "data": [
        [
         "2024-03-27",
         12,
         1,
         1
        ],
        [
         "2023-01-25",
         10,
         3,
         1
        ],
        [
         "2023-10-20",
         12,
         1,
         1
        ]
       ],
       "datasetInfos": [],
       "dbfsResultPath": null,
       "isJsonSchema": true,
       "metadata": {},
       "overflow": false,
       "plotOptions": {
        "customPlotOptions": {},
        "displayType": "table",
        "pivotAggregation": null,
        "pivotColumns": null,
        "xColumns": null,
        "yColumns": null
       },
       "removedWidgets": [],
       "schema": [
        {
         "metadata": "{}",
         "name": "FK_TEMPO",
         "type": "\"date\""
        },
        {
         "metadata": "{}",
         "name": "FK_CARRO",
         "type": "\"integer\""
        },
        {
         "metadata": "{}",
         "name": "FK_CLIENTE",
         "type": "\"integer\""
        },
        {
         "metadata": "{}",
         "name": "QTDE_SINISTRO",
         "type": "\"integer\""
        }
       ],
       "type": "table"
      }
     },
     "output_type": "display_data"
    }
   ],
   "source": [
    "%sql\n",
    "select * from fato_sinistro"
   ]
  }
 ],
 "metadata": {
  "application/vnd.databricks.v1+notebook": {
   "computePreferences": null,
   "dashboards": [],
   "environmentMetadata": null,
   "inputWidgetPreferences": null,
   "language": "python",
   "notebookMetadata": {
    "mostRecentlyExecutedCommandWithImplicitDF": {
     "commandId": 2362898230313057,
     "dataframes": [
      "_sqldf"
     ]
    },
    "pythonIndentUnit": 4
   },
   "notebookName": "Gold",
   "widgets": {}
  },
  "language_info": {
   "name": "python"
  }
 },
 "nbformat": 4,
 "nbformat_minor": 0
}
